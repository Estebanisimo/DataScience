{
 "cells": [
  {
   "attachments": {},
   "cell_type": "markdown",
   "id": "2dd15555",
   "metadata": {
    "lang": "ca"
   },
   "source": [
    "# Introducció a Pandas\n",
    "\n",
    "Pandas és una biblioteca Python de codi obert amb llicència BSD que ofereix estructures de dades d'alt rendiment i fàcils d'utilitzar i eines d'anàlisi de dades per al llenguatge de programació Python. Python with Pandas s'utilitza en una àmplia gamma d'àmbits, inclosos dominis acadèmics i comercials, com ara finances, economia, estadístiques, anàlisi, etc. En aquest tutorial, aprendrem les diferents característiques de Python Pandas i com utilitzar-les a la pràctica."
   ]
  },
  {
   "attachments": {},
   "cell_type": "markdown",
   "id": "788ee317",
   "metadata": {
    "lang": "ca"
   },
   "source": [
    "El nom Pandas deriva de la paraula Panel Data, una econometria de dades multidimensionals.\n",
    "\n",
    "El 2008, el desenvolupador Wes McKinney va començar a desenvolupar pandas quan necessitava una eina flexible i d'alt rendiment per a l'anàlisi de dades.\n",
    "\n",
    "Abans de Pandas, Python s'utilitzava principalment per a la recopilació i la preparació de dades. Va tenir molt poca contribució a l'anàlisi de dades. Els pandes van resoldre aquest problema. Amb Pandas, podem realitzar cinc passos típics en el processament i l'anàlisi de dades, independentment de l'origen de les dades: carregar, preparar, manipular, modelar i analitzar.\n",
    "\n",
    "Python amb Pandas s'utilitza en una àmplia gamma d'àmbits, com ara dominis acadèmics i comercials, com ara finances, economia, estadístiques, analítiques, etc.\n",
    "\n",
    "Característiques principals de Pandas:\n",
    "\n",
    "* Objecte DataFrame ràpid i eficient amb indexació predeterminada i personalitzada.\n",
    "* Eines per carregar dades en objectes de dades en memòria de diferents formats de fitxer.\n",
    "* Alineació de dades i tractament integrat de les dades que falten.\n",
    "* Reforma i gir dels conjunts de dates.\n",
    "* Seccionament, indexació i subconjunt basats en etiquetes de grans conjunts de dades.\n",
    "* Les columnes d'una estructura de dades es poden suprimir o inserir.\n",
    "* Agrupa per dades per a l'agregació i transformacions.\n",
    "* Combinació i unió de dades d'alt rendiment.\n",
    "* Funcionalitat de sèrie temporal.\n",
    "\n",
    "Habitualment, importem pandes i numpy de la següent manera:"
   ]
  },
  {
   "cell_type": "code",
   "execution_count": null,
   "id": "36d0396a",
   "metadata": {},
   "outputs": [],
   "source": [
    "import pandas as pd\n",
    "import numpy as np"
   ]
  },
  {
   "attachments": {},
   "cell_type": "markdown",
   "id": "a92b3589",
   "metadata": {
    "lang": "ca"
   },
   "source": [
    "Pandas tracta les tres estructures de dades següents:\n",
    "\n",
    "Series\n",
    "DataFrame\n",
    "Panel\n",
    "\n",
    "Aquestes estructures de dades es construeixen a la part superior de la matriu Numpy, el que significa que són ràpides.\n",
    "\n",
    "## Dimensió i descripció\n",
    "\n",
    "La millor manera de pensar en aquestes estructures de dades és que l'estructura de dades de dimensions superiors és un contenidor de la seva estructura de dades de dimensions inferiors. Per exemple, DataFrame és un contenidor de Series, Panel és un contenidor de DataFrame\n",
    "\n",
    "|Data Structure |Dimensions|Description|\n",
    "|:---------------|:----------:|:-----------|\n",
    "|Series|1|1D labeled homogeneous array, sizeimmutable.|\n",
    "|Data Frames|2|General 2D labeled, size-mutable tabular structure with potentially heterogeneously typed columns.|\n",
    "|Panel|3|General 3D labeled, size-mutable array.|\n",
    "\n",
    "Construir i manejar matrius de dues o més dimensions és una tasca tediosa, l'usuari té la càrrega de tenir en compte l'orientació del conjunt de dades quan escriu funcions. Però utilitzant estructures de dades Pandas, l'esforç mental de l'usuari es redueix.\n",
    "\n",
    "Per exemple, amb dades tabulars (DataFrame) és més útil semànticament pensar en l'índex (les files) i les columnes en lloc de l'eix 0 i l'eix 1.\n",
    "\n",
    "## Mutabilitat\n",
    "\n",
    "Totes les estructures de dades de Pandas són de valor mutable (es poden canviar) i, excepte el tipus Series, totes són modificables de mida. La mida del tipus Series és immutable.\n",
    "\n",
    "Nota − DataFrame s'utilitza àmpliament i és una de les estructures de dades més importants. **El panell s'utilitza molt menys.**"
   ]
  },
  {
   "attachments": {},
   "cell_type": "markdown",
   "id": "1857d6e5",
   "metadata": {
    "lang": "ca"
   },
   "source": [
    "## Series\n",
    "\n",
    "El tipus Series (sèrie) és una estructura semblant a una matriu unidimensional amb dades homogènies.\n",
    "\n",
    "\n",
    "### Punts clau:\n",
    "\n",
    "* Dades homogènies\n",
    "* Mida immutable\n",
    "* Valors de dades mutables\n",
    "\n",
    "Creació d'una sèrie passant una llista de valors, deixant que Pandas creïn un índex enter predeterminat:"
   ]
  },
  {
   "cell_type": "code",
   "execution_count": null,
   "id": "d56e4a7c",
   "metadata": {},
   "outputs": [
    {
     "data": {
      "text/plain": [
       "0    1.0\n",
       "1    3.0\n",
       "2    5.0\n",
       "3    NaN\n",
       "4    6.0\n",
       "5    8.0\n",
       "dtype: float64"
      ]
     },
     "execution_count": 2,
     "metadata": {},
     "output_type": "execute_result"
    }
   ],
   "source": [
    "s = pd.Series([1, 3, 5, np.nan, 6, 8])\n",
    "\n",
    "s"
   ]
  },
  {
   "attachments": {},
   "cell_type": "markdown",
   "id": "53290fc9",
   "metadata": {
    "lang": "ca"
   },
   "source": [
    "## DataFrame\n",
    "DataFrame és una matriu bidimensional amb dades heterogènies.\n",
    "\n",
    "Per exemple:\n",
    "\n",
    "|Name|Age|Gender|Rating|\n",
    "|----|---|------|------|\n",
    "|Steve|\t32|\tMale|\t3.45|\n",
    "|Lia|\t28|\tFemale|\t4.6|\n",
    "|Vin|\t45\t|Male\t|3.9|\n",
    "|Katie|\t38\t|Female\t|2.78|\n",
    "\n",
    "\n",
    "La taula representa les dades d'un equip de vendes d'una organització amb la seva puntuació de rendiment global. Les dades es representen en files i columnes. Cada columna representa un atribut i cada fila representa una persona.\n",
    "\n",
    "### Punts clau\n",
    "\n",
    "* Dades heterogènies\n",
    "* Mida variable\n",
    "* Dades mutables\n",
    "\n",
    "\n",
    "Creació d'un DataFrame passant una matriu NumPy, amb un índex de datetime i columnes etiquetades:"
   ]
  },
  {
   "cell_type": "code",
   "execution_count": null,
   "id": "6e7bc1a5",
   "metadata": {},
   "outputs": [
    {
     "data": {
      "text/plain": [
       "DatetimeIndex(['2013-01-01', '2013-01-02', '2013-01-03', '2013-01-04',\n",
       "               '2013-01-05', '2013-01-06'],\n",
       "              dtype='datetime64[ns]', freq='D')"
      ]
     },
     "execution_count": 3,
     "metadata": {},
     "output_type": "execute_result"
    }
   ],
   "source": [
    "dates = pd.date_range(\"20130101\", periods=6)\n",
    "dates"
   ]
  },
  {
   "cell_type": "code",
   "execution_count": null,
   "id": "804a74a6",
   "metadata": {},
   "outputs": [
    {
     "data": {
      "text/html": [
       "<div>\n",
       "<style scoped>\n",
       "    .dataframe tbody tr th:only-of-type {\n",
       "        vertical-align: middle;\n",
       "    }\n",
       "\n",
       "    .dataframe tbody tr th {\n",
       "        vertical-align: top;\n",
       "    }\n",
       "\n",
       "    .dataframe thead th {\n",
       "        text-align: right;\n",
       "    }\n",
       "</style>\n",
       "<table border=\"1\" class=\"dataframe\">\n",
       "  <thead>\n",
       "    <tr style=\"text-align: right;\">\n",
       "      <th></th>\n",
       "      <th>A</th>\n",
       "      <th>B</th>\n",
       "      <th>C</th>\n",
       "      <th>D</th>\n",
       "    </tr>\n",
       "  </thead>\n",
       "  <tbody>\n",
       "    <tr>\n",
       "      <th>2013-01-01</th>\n",
       "      <td>0.092405</td>\n",
       "      <td>-0.546274</td>\n",
       "      <td>-1.707632</td>\n",
       "      <td>-0.183000</td>\n",
       "    </tr>\n",
       "    <tr>\n",
       "      <th>2013-01-02</th>\n",
       "      <td>-0.412236</td>\n",
       "      <td>0.401610</td>\n",
       "      <td>-2.308682</td>\n",
       "      <td>0.204420</td>\n",
       "    </tr>\n",
       "    <tr>\n",
       "      <th>2013-01-03</th>\n",
       "      <td>-0.893205</td>\n",
       "      <td>0.392038</td>\n",
       "      <td>0.016025</td>\n",
       "      <td>-0.311677</td>\n",
       "    </tr>\n",
       "    <tr>\n",
       "      <th>2013-01-04</th>\n",
       "      <td>0.831329</td>\n",
       "      <td>0.911946</td>\n",
       "      <td>-0.176265</td>\n",
       "      <td>-0.486721</td>\n",
       "    </tr>\n",
       "    <tr>\n",
       "      <th>2013-01-05</th>\n",
       "      <td>-0.494127</td>\n",
       "      <td>-0.934698</td>\n",
       "      <td>0.013642</td>\n",
       "      <td>1.951216</td>\n",
       "    </tr>\n",
       "    <tr>\n",
       "      <th>2013-01-06</th>\n",
       "      <td>-0.706218</td>\n",
       "      <td>-1.207046</td>\n",
       "      <td>-0.405042</td>\n",
       "      <td>0.287028</td>\n",
       "    </tr>\n",
       "  </tbody>\n",
       "</table>\n",
       "</div>"
      ],
      "text/plain": [
       "                   A         B         C         D\n",
       "2013-01-01  0.092405 -0.546274 -1.707632 -0.183000\n",
       "2013-01-02 -0.412236  0.401610 -2.308682  0.204420\n",
       "2013-01-03 -0.893205  0.392038  0.016025 -0.311677\n",
       "2013-01-04  0.831329  0.911946 -0.176265 -0.486721\n",
       "2013-01-05 -0.494127 -0.934698  0.013642  1.951216\n",
       "2013-01-06 -0.706218 -1.207046 -0.405042  0.287028"
      ]
     },
     "execution_count": 4,
     "metadata": {},
     "output_type": "execute_result"
    }
   ],
   "source": [
    "df = pd.DataFrame(np.random.randn(6, 4), index=dates, columns=list(\"ABCD\"))\n",
    "df"
   ]
  },
  {
   "attachments": {},
   "cell_type": "markdown",
   "id": "13a413f6",
   "metadata": {
    "lang": "ca"
   },
   "source": [
    "## Panel\n",
    "Panel és una estructura de dades tridimensional amb dades heterogènies. És difícil representar el panell de manera gràfica, però un panell es pot il·lustrar com un contenidor de DataFrames.\n",
    "\n",
    "### Punts clau\n",
    "\n",
    "* Dades heterogènies\n",
    "* Mida variable\n",
    "* Dades mutables"
   ]
  },
  {
   "attachments": {},
   "cell_type": "markdown",
   "id": "95037d6e",
   "metadata": {
    "lang": "ca"
   },
   "source": [
    "## Treballant amb els DataFrames"
   ]
  },
  {
   "attachments": {
    "image.png": {
     "image/png": "[encoded data removed]"
    }
   },
   "cell_type": "markdown",
   "id": "9598a968",
   "metadata": {
    "lang": "ca"
   },
   "source": [
    "![image.png](attachment:image.png)\n",
    "\n",
    "També és possible crear un DataFrame passant un diccionari d'objectes que es poden convertir en una estructura semblant a una sèrie:"
   ]
  },
  {
   "cell_type": "code",
   "execution_count": null,
   "id": "4c5dd80b",
   "metadata": {},
   "outputs": [
    {
     "data": {
      "text/html": [
       "<div>\n",
       "<style scoped>\n",
       "    .dataframe tbody tr th:only-of-type {\n",
       "        vertical-align: middle;\n",
       "    }\n",
       "\n",
       "    .dataframe tbody tr th {\n",
       "        vertical-align: top;\n",
       "    }\n",
       "\n",
       "    .dataframe thead th {\n",
       "        text-align: right;\n",
       "    }\n",
       "</style>\n",
       "<table border=\"1\" class=\"dataframe\">\n",
       "  <thead>\n",
       "    <tr style=\"text-align: right;\">\n",
       "      <th></th>\n",
       "      <th>A</th>\n",
       "      <th>B</th>\n",
       "      <th>C</th>\n",
       "      <th>D</th>\n",
       "      <th>E</th>\n",
       "      <th>F</th>\n",
       "    </tr>\n",
       "  </thead>\n",
       "  <tbody>\n",
       "    <tr>\n",
       "      <th>0</th>\n",
       "      <td>1.0</td>\n",
       "      <td>2013-01-02</td>\n",
       "      <td>1.0</td>\n",
       "      <td>3</td>\n",
       "      <td>test</td>\n",
       "      <td>foo</td>\n",
       "    </tr>\n",
       "    <tr>\n",
       "      <th>1</th>\n",
       "      <td>1.0</td>\n",
       "      <td>2013-01-02</td>\n",
       "      <td>1.0</td>\n",
       "      <td>3</td>\n",
       "      <td>train</td>\n",
       "      <td>foo</td>\n",
       "    </tr>\n",
       "    <tr>\n",
       "      <th>2</th>\n",
       "      <td>1.0</td>\n",
       "      <td>2013-01-02</td>\n",
       "      <td>1.0</td>\n",
       "      <td>3</td>\n",
       "      <td>test</td>\n",
       "      <td>foo</td>\n",
       "    </tr>\n",
       "    <tr>\n",
       "      <th>3</th>\n",
       "      <td>1.0</td>\n",
       "      <td>2013-01-02</td>\n",
       "      <td>1.0</td>\n",
       "      <td>3</td>\n",
       "      <td>train</td>\n",
       "      <td>foo</td>\n",
       "    </tr>\n",
       "  </tbody>\n",
       "</table>\n",
       "</div>"
      ],
      "text/plain": [
       "     A          B    C  D      E    F\n",
       "0  1.0 2013-01-02  1.0  3   test  foo\n",
       "1  1.0 2013-01-02  1.0  3  train  foo\n",
       "2  1.0 2013-01-02  1.0  3   test  foo\n",
       "3  1.0 2013-01-02  1.0  3  train  foo"
      ]
     },
     "execution_count": 5,
     "metadata": {},
     "output_type": "execute_result"
    }
   ],
   "source": [
    "df2 = pd.DataFrame(\n",
    "    {\n",
    "        \"A\": 1.0,\n",
    "        \"B\": pd.Timestamp(\"20130102\"),\n",
    "        \"C\": pd.Series(1, index=list(range(4)), dtype=\"float32\"),\n",
    "        \"D\": np.array([3] * 4, dtype=\"int32\"),\n",
    "        \"E\": pd.Categorical([\"test\", \"train\", \"test\", \"train\"]),\n",
    "        \"F\": \"foo\",\n",
    "    }\n",
    ")\n",
    "df2"
   ]
  },
  {
   "attachments": {},
   "cell_type": "markdown",
   "id": "625ad3a6",
   "metadata": {
    "lang": "ca"
   },
   "source": [
    "Les columnes del DataFrame resultant tenen diferents tipus de dades:"
   ]
  },
  {
   "cell_type": "code",
   "execution_count": null,
   "id": "eff09694",
   "metadata": {},
   "outputs": [
    {
     "data": {
      "text/plain": [
       "A           float64\n",
       "B    datetime64[ns]\n",
       "C           float32\n",
       "D             int32\n",
       "E          category\n",
       "F            object\n",
       "dtype: object"
      ]
     },
     "execution_count": 6,
     "metadata": {},
     "output_type": "execute_result"
    }
   ],
   "source": [
    "df2.dtypes"
   ]
  },
  {
   "attachments": {},
   "cell_type": "markdown",
   "id": "3ed4fb2a",
   "metadata": {
    "lang": "ca"
   },
   "source": [
    "Si utilitzeu IPython, s'habilitarà automàticament la finalització dels noms de columnes (així com per als atributs públics)."
   ]
  },
  {
   "cell_type": "code",
   "execution_count": null,
   "id": "1cbf7840",
   "metadata": {},
   "outputs": [
    {
     "data": {
      "text/plain": [
       "<bound method DataFrame.__init__ of      A          B    C  D      E    F\n",
       "0  1.0 2013-01-02  1.0  3   test  foo\n",
       "1  1.0 2013-01-02  1.0  3  train  foo\n",
       "2  1.0 2013-01-02  1.0  3   test  foo\n",
       "3  1.0 2013-01-02  1.0  3  train  foo>"
      ]
     },
     "execution_count": 7,
     "metadata": {},
     "output_type": "execute_result"
    }
   ],
   "source": [
    "# Try to write df2. and press tab immediatly after the \".\" and wait.\n",
    "df2.__init__"
   ]
  },
  {
   "attachments": {},
   "cell_type": "markdown",
   "id": "7b24abd4",
   "metadata": {
    "lang": "ca"
   },
   "source": [
    "## Visualització de dades\n",
    "\n",
    "A continuació es mostra com veure les files superior i inferior del marc:"
   ]
  },
  {
   "cell_type": "code",
   "execution_count": null,
   "id": "a731d23a",
   "metadata": {},
   "outputs": [],
   "source": [
    "pd.set_option(\"display.max.rows\", None)"
   ]
  },
  {
   "cell_type": "code",
   "execution_count": null,
   "id": "6edebf05",
   "metadata": {},
   "outputs": [
    {
     "data": {
      "text/html": [
       "<div>\n",
       "<style scoped>\n",
       "    .dataframe tbody tr th:only-of-type {\n",
       "        vertical-align: middle;\n",
       "    }\n",
       "\n",
       "    .dataframe tbody tr th {\n",
       "        vertical-align: top;\n",
       "    }\n",
       "\n",
       "    .dataframe thead th {\n",
       "        text-align: right;\n",
       "    }\n",
       "</style>\n",
       "<table border=\"1\" class=\"dataframe\">\n",
       "  <thead>\n",
       "    <tr style=\"text-align: right;\">\n",
       "      <th></th>\n",
       "      <th>A</th>\n",
       "      <th>B</th>\n",
       "      <th>C</th>\n",
       "      <th>D</th>\n",
       "    </tr>\n",
       "  </thead>\n",
       "  <tbody>\n",
       "    <tr>\n",
       "      <th>2013-01-01</th>\n",
       "      <td>-1.544294</td>\n",
       "      <td>0.167442</td>\n",
       "      <td>-1.465829</td>\n",
       "      <td>-0.092591</td>\n",
       "    </tr>\n",
       "    <tr>\n",
       "      <th>2013-01-02</th>\n",
       "      <td>0.990642</td>\n",
       "      <td>-0.944053</td>\n",
       "      <td>0.465763</td>\n",
       "      <td>-0.117636</td>\n",
       "    </tr>\n",
       "    <tr>\n",
       "      <th>2013-01-03</th>\n",
       "      <td>-0.273182</td>\n",
       "      <td>1.614548</td>\n",
       "      <td>1.304146</td>\n",
       "      <td>1.152775</td>\n",
       "    </tr>\n",
       "    <tr>\n",
       "      <th>2013-01-04</th>\n",
       "      <td>-0.566921</td>\n",
       "      <td>-1.499165</td>\n",
       "      <td>-0.952987</td>\n",
       "      <td>-1.312171</td>\n",
       "    </tr>\n",
       "    <tr>\n",
       "      <th>2013-01-05</th>\n",
       "      <td>1.854532</td>\n",
       "      <td>-0.030637</td>\n",
       "      <td>0.268291</td>\n",
       "      <td>-0.402365</td>\n",
       "    </tr>\n",
       "  </tbody>\n",
       "</table>\n",
       "</div>"
      ],
      "text/plain": [
       "                   A         B         C         D\n",
       "2013-01-01 -1.544294  0.167442 -1.465829 -0.092591\n",
       "2013-01-02  0.990642 -0.944053  0.465763 -0.117636\n",
       "2013-01-03 -0.273182  1.614548  1.304146  1.152775\n",
       "2013-01-04 -0.566921 -1.499165 -0.952987 -1.312171\n",
       "2013-01-05  1.854532 -0.030637  0.268291 -0.402365"
      ]
     },
     "execution_count": 15,
     "metadata": {},
     "output_type": "execute_result"
    }
   ],
   "source": [
    "df.head()"
   ]
  },
  {
   "cell_type": "code",
   "execution_count": null,
   "id": "0be0b9d7",
   "metadata": {},
   "outputs": [
    {
     "data": {
      "text/html": [
       "<div>\n",
       "<style scoped>\n",
       "    .dataframe tbody tr th:only-of-type {\n",
       "        vertical-align: middle;\n",
       "    }\n",
       "\n",
       "    .dataframe tbody tr th {\n",
       "        vertical-align: top;\n",
       "    }\n",
       "\n",
       "    .dataframe thead th {\n",
       "        text-align: right;\n",
       "    }\n",
       "</style>\n",
       "<table border=\"1\" class=\"dataframe\">\n",
       "  <thead>\n",
       "    <tr style=\"text-align: right;\">\n",
       "      <th></th>\n",
       "      <th>A</th>\n",
       "      <th>B</th>\n",
       "      <th>C</th>\n",
       "      <th>D</th>\n",
       "    </tr>\n",
       "  </thead>\n",
       "  <tbody>\n",
       "    <tr>\n",
       "      <th>2013-01-04</th>\n",
       "      <td>-0.570405</td>\n",
       "      <td>0.548516</td>\n",
       "      <td>1.208919</td>\n",
       "      <td>2.318862</td>\n",
       "    </tr>\n",
       "    <tr>\n",
       "      <th>2013-01-05</th>\n",
       "      <td>0.293895</td>\n",
       "      <td>-1.271813</td>\n",
       "      <td>0.095362</td>\n",
       "      <td>0.416804</td>\n",
       "    </tr>\n",
       "    <tr>\n",
       "      <th>2013-01-06</th>\n",
       "      <td>-0.771720</td>\n",
       "      <td>-1.425466</td>\n",
       "      <td>-1.303242</td>\n",
       "      <td>0.556113</td>\n",
       "    </tr>\n",
       "  </tbody>\n",
       "</table>\n",
       "</div>"
      ],
      "text/plain": [
       "                   A         B         C         D\n",
       "2013-01-04 -0.570405  0.548516  1.208919  2.318862\n",
       "2013-01-05  0.293895 -1.271813  0.095362  0.416804\n",
       "2013-01-06 -0.771720 -1.425466 -1.303242  0.556113"
      ]
     },
     "execution_count": 16,
     "metadata": {},
     "output_type": "execute_result"
    }
   ],
   "source": [
    "df.tail(3)"
   ]
  },
  {
   "cell_type": "code",
   "execution_count": null,
   "id": "f4d81024",
   "metadata": {},
   "outputs": [
    {
     "data": {
      "text/html": [
       "<div>\n",
       "<style scoped>\n",
       "    .dataframe tbody tr th:only-of-type {\n",
       "        vertical-align: middle;\n",
       "    }\n",
       "\n",
       "    .dataframe tbody tr th {\n",
       "        vertical-align: top;\n",
       "    }\n",
       "\n",
       "    .dataframe thead th {\n",
       "        text-align: right;\n",
       "    }\n",
       "</style>\n",
       "<table border=\"1\" class=\"dataframe\">\n",
       "  <thead>\n",
       "    <tr style=\"text-align: right;\">\n",
       "      <th></th>\n",
       "      <th>A</th>\n",
       "      <th>B</th>\n",
       "      <th>C</th>\n",
       "      <th>D</th>\n",
       "    </tr>\n",
       "  </thead>\n",
       "  <tbody>\n",
       "    <tr>\n",
       "      <th>2013-01-03</th>\n",
       "      <td>0.598211</td>\n",
       "      <td>0.157975</td>\n",
       "      <td>1.502701</td>\n",
       "      <td>1.467109</td>\n",
       "    </tr>\n",
       "    <tr>\n",
       "      <th>2013-01-04</th>\n",
       "      <td>-0.570405</td>\n",
       "      <td>0.548516</td>\n",
       "      <td>1.208919</td>\n",
       "      <td>2.318862</td>\n",
       "    </tr>\n",
       "  </tbody>\n",
       "</table>\n",
       "</div>"
      ],
      "text/plain": [
       "                   A         B         C         D\n",
       "2013-01-03  0.598211  0.157975  1.502701  1.467109\n",
       "2013-01-04 -0.570405  0.548516  1.208919  2.318862"
      ]
     },
     "execution_count": 17,
     "metadata": {},
     "output_type": "execute_result"
    }
   ],
   "source": [
    "df.sample(2)"
   ]
  },
  {
   "attachments": {},
   "cell_type": "markdown",
   "id": "3e1ef4eb",
   "metadata": {},
   "source": [
    "#### `to_numpy()`"
   ]
  },
  {
   "attachments": {},
   "cell_type": "markdown",
   "id": "05659db0",
   "metadata": {
    "lang": "ca"
   },
   "source": [
    "`DataFrame.to_numpy()` dóna una representació NumPy de les dades subjacents. Tingueu en compte que aquesta pot ser una operació costosa quan el vostre DataFrame té columnes amb diferents tipus de dades, la qual cosa es redueix a una diferència fonamental entre pandas i NumPy: les matrius NumPy tenen un dtype per a tota la matriu, mentre que pandas DataFrames tenen un dtype per columna. Quan truqueu a `DataFrame.to_numpy()`, Pandas trobaran el tipus de dades de NumPy que pot contenir tots els tipus d del DataFrame. Això pot acabar sent un objecte, cosa que requereix canviar tots els valors de la taula a un objecte Python.\n",
    "\n",
    "Per a df, el nostre DataFrame de tots els valors de coma flotant, `DataFrame.to_numpy()` és ràpid i no requereix copiar dades:"
   ]
  },
  {
   "cell_type": "code",
   "execution_count": null,
   "id": "3c250077",
   "metadata": {},
   "outputs": [
    {
     "data": {
      "text/plain": [
       "array([[ 0.72644456,  1.73588212, -1.30237614, -0.09690044],\n",
       "       [-0.58881314,  0.14834172, -1.31497094, -1.17250883],\n",
       "       [ 0.59821107,  0.15797476,  1.50270132,  1.46710905],\n",
       "       [-0.57040531,  0.54851561,  1.20891928,  2.31886206],\n",
       "       [ 0.29389512, -1.27181314,  0.09536185,  0.41680444],\n",
       "       [-0.77172049, -1.42546624, -1.30324182,  0.55611301]])"
      ]
     },
     "execution_count": 18,
     "metadata": {},
     "output_type": "execute_result"
    }
   ],
   "source": [
    "df.to_numpy()"
   ]
  },
  {
   "attachments": {},
   "cell_type": "markdown",
   "id": "6a73a2b2",
   "metadata": {},
   "source": [
    "For df2, the DataFrame with multiple dtypes, DataFrame.to_numpy() is relatively **expensive**:"
   ]
  },
  {
   "cell_type": "code",
   "execution_count": null,
   "id": "e1bc0ff4",
   "metadata": {},
   "outputs": [
    {
     "data": {
      "text/plain": [
       "array([[1.0, Timestamp('2013-01-02 00:00:00'), 1.0, 3, 'test', 'foo'],\n",
       "       [1.0, Timestamp('2013-01-02 00:00:00'), 1.0, 3, 'train', 'foo'],\n",
       "       [1.0, Timestamp('2013-01-02 00:00:00'), 1.0, 3, 'test', 'foo'],\n",
       "       [1.0, Timestamp('2013-01-02 00:00:00'), 1.0, 3, 'train', 'foo']],\n",
       "      dtype=object)"
      ]
     },
     "execution_count": 19,
     "metadata": {},
     "output_type": "execute_result"
    }
   ],
   "source": [
    "df2.to_numpy()"
   ]
  },
  {
   "attachments": {},
   "cell_type": "markdown",
   "id": "dd5b2699",
   "metadata": {
    "lang": "ca"
   },
   "source": [
    "`DataFrame.to_numpy()` no inclou les etiquetes del l'índex ni de columna a la sortida."
   ]
  },
  {
   "attachments": {},
   "cell_type": "markdown",
   "id": "0881c04d",
   "metadata": {},
   "source": [
    "#### `describe()`"
   ]
  },
  {
   "attachments": {},
   "cell_type": "markdown",
   "id": "9441c1ff",
   "metadata": {
    "lang": "ca"
   },
   "source": [
    "describe() mostra un resum estadístic ràpid de les teves dades:"
   ]
  },
  {
   "cell_type": "code",
   "execution_count": null,
   "id": "07e245fd",
   "metadata": {},
   "outputs": [
    {
     "data": {
      "text/html": [
       "<div>\n",
       "<style scoped>\n",
       "    .dataframe tbody tr th:only-of-type {\n",
       "        vertical-align: middle;\n",
       "    }\n",
       "\n",
       "    .dataframe tbody tr th {\n",
       "        vertical-align: top;\n",
       "    }\n",
       "\n",
       "    .dataframe thead th {\n",
       "        text-align: right;\n",
       "    }\n",
       "</style>\n",
       "<table border=\"1\" class=\"dataframe\">\n",
       "  <thead>\n",
       "    <tr style=\"text-align: right;\">\n",
       "      <th></th>\n",
       "      <th>A</th>\n",
       "      <th>B</th>\n",
       "      <th>C</th>\n",
       "      <th>D</th>\n",
       "    </tr>\n",
       "  </thead>\n",
       "  <tbody>\n",
       "    <tr>\n",
       "      <th>count</th>\n",
       "      <td>6.000000</td>\n",
       "      <td>6.000000</td>\n",
       "      <td>6.000000</td>\n",
       "      <td>6.000000</td>\n",
       "    </tr>\n",
       "    <tr>\n",
       "      <th>mean</th>\n",
       "      <td>-0.052065</td>\n",
       "      <td>-0.017761</td>\n",
       "      <td>-0.185601</td>\n",
       "      <td>0.581580</td>\n",
       "    </tr>\n",
       "    <tr>\n",
       "      <th>std</th>\n",
       "      <td>0.666829</td>\n",
       "      <td>1.183950</td>\n",
       "      <td>1.314973</td>\n",
       "      <td>1.213859</td>\n",
       "    </tr>\n",
       "    <tr>\n",
       "      <th>min</th>\n",
       "      <td>-0.771720</td>\n",
       "      <td>-1.425466</td>\n",
       "      <td>-1.314971</td>\n",
       "      <td>-1.172509</td>\n",
       "    </tr>\n",
       "    <tr>\n",
       "      <th>25%</th>\n",
       "      <td>-0.584211</td>\n",
       "      <td>-0.916774</td>\n",
       "      <td>-1.303025</td>\n",
       "      <td>0.031526</td>\n",
       "    </tr>\n",
       "    <tr>\n",
       "      <th>50%</th>\n",
       "      <td>-0.138255</td>\n",
       "      <td>0.153158</td>\n",
       "      <td>-0.603507</td>\n",
       "      <td>0.486459</td>\n",
       "    </tr>\n",
       "    <tr>\n",
       "      <th>75%</th>\n",
       "      <td>0.522132</td>\n",
       "      <td>0.450880</td>\n",
       "      <td>0.930530</td>\n",
       "      <td>1.239360</td>\n",
       "    </tr>\n",
       "    <tr>\n",
       "      <th>max</th>\n",
       "      <td>0.726445</td>\n",
       "      <td>1.735882</td>\n",
       "      <td>1.502701</td>\n",
       "      <td>2.318862</td>\n",
       "    </tr>\n",
       "  </tbody>\n",
       "</table>\n",
       "</div>"
      ],
      "text/plain": [
       "              A         B         C         D\n",
       "count  6.000000  6.000000  6.000000  6.000000\n",
       "mean  -0.052065 -0.017761 -0.185601  0.581580\n",
       "std    0.666829  1.183950  1.314973  1.213859\n",
       "min   -0.771720 -1.425466 -1.314971 -1.172509\n",
       "25%   -0.584211 -0.916774 -1.303025  0.031526\n",
       "50%   -0.138255  0.153158 -0.603507  0.486459\n",
       "75%    0.522132  0.450880  0.930530  1.239360\n",
       "max    0.726445  1.735882  1.502701  2.318862"
      ]
     },
     "execution_count": 21,
     "metadata": {},
     "output_type": "execute_result"
    }
   ],
   "source": [
    "df.describe()"
   ]
  },
  {
   "attachments": {},
   "cell_type": "markdown",
   "id": "6cfe1acc",
   "metadata": {
    "lang": "ca"
   },
   "source": [
    "#### `T`\n",
    "Transposició de les teves dades:"
   ]
  },
  {
   "cell_type": "code",
   "execution_count": null,
   "id": "17da8783",
   "metadata": {},
   "outputs": [
    {
     "data": {
      "text/html": [
       "<div>\n",
       "<style scoped>\n",
       "    .dataframe tbody tr th:only-of-type {\n",
       "        vertical-align: middle;\n",
       "    }\n",
       "\n",
       "    .dataframe tbody tr th {\n",
       "        vertical-align: top;\n",
       "    }\n",
       "\n",
       "    .dataframe thead th {\n",
       "        text-align: right;\n",
       "    }\n",
       "</style>\n",
       "<table border=\"1\" class=\"dataframe\">\n",
       "  <thead>\n",
       "    <tr style=\"text-align: right;\">\n",
       "      <th></th>\n",
       "      <th>2013-01-01</th>\n",
       "      <th>2013-01-02</th>\n",
       "      <th>2013-01-03</th>\n",
       "      <th>2013-01-04</th>\n",
       "      <th>2013-01-05</th>\n",
       "      <th>2013-01-06</th>\n",
       "    </tr>\n",
       "  </thead>\n",
       "  <tbody>\n",
       "    <tr>\n",
       "      <th>A</th>\n",
       "      <td>0.726445</td>\n",
       "      <td>-0.588813</td>\n",
       "      <td>0.598211</td>\n",
       "      <td>-0.570405</td>\n",
       "      <td>0.293895</td>\n",
       "      <td>-0.771720</td>\n",
       "    </tr>\n",
       "    <tr>\n",
       "      <th>B</th>\n",
       "      <td>1.735882</td>\n",
       "      <td>0.148342</td>\n",
       "      <td>0.157975</td>\n",
       "      <td>0.548516</td>\n",
       "      <td>-1.271813</td>\n",
       "      <td>-1.425466</td>\n",
       "    </tr>\n",
       "    <tr>\n",
       "      <th>C</th>\n",
       "      <td>-1.302376</td>\n",
       "      <td>-1.314971</td>\n",
       "      <td>1.502701</td>\n",
       "      <td>1.208919</td>\n",
       "      <td>0.095362</td>\n",
       "      <td>-1.303242</td>\n",
       "    </tr>\n",
       "    <tr>\n",
       "      <th>D</th>\n",
       "      <td>-0.096900</td>\n",
       "      <td>-1.172509</td>\n",
       "      <td>1.467109</td>\n",
       "      <td>2.318862</td>\n",
       "      <td>0.416804</td>\n",
       "      <td>0.556113</td>\n",
       "    </tr>\n",
       "  </tbody>\n",
       "</table>\n",
       "</div>"
      ],
      "text/plain": [
       "   2013-01-01  2013-01-02  2013-01-03  2013-01-04  2013-01-05  2013-01-06\n",
       "A    0.726445   -0.588813    0.598211   -0.570405    0.293895   -0.771720\n",
       "B    1.735882    0.148342    0.157975    0.548516   -1.271813   -1.425466\n",
       "C   -1.302376   -1.314971    1.502701    1.208919    0.095362   -1.303242\n",
       "D   -0.096900   -1.172509    1.467109    2.318862    0.416804    0.556113"
      ]
     },
     "execution_count": 22,
     "metadata": {},
     "output_type": "execute_result"
    }
   ],
   "source": [
    "df.T"
   ]
  },
  {
   "attachments": {},
   "cell_type": "markdown",
   "id": "e04e5ced",
   "metadata": {
    "lang": "ca"
   },
   "source": [
    "#### `sort_index`\n",
    "\n",
    "Ordenació per eix:"
   ]
  },
  {
   "cell_type": "code",
   "execution_count": null,
   "id": "7916275c",
   "metadata": {},
   "outputs": [
    {
     "data": {
      "text/html": [
       "<div>\n",
       "<style scoped>\n",
       "    .dataframe tbody tr th:only-of-type {\n",
       "        vertical-align: middle;\n",
       "    }\n",
       "\n",
       "    .dataframe tbody tr th {\n",
       "        vertical-align: top;\n",
       "    }\n",
       "\n",
       "    .dataframe thead th {\n",
       "        text-align: right;\n",
       "    }\n",
       "</style>\n",
       "<table border=\"1\" class=\"dataframe\">\n",
       "  <thead>\n",
       "    <tr style=\"text-align: right;\">\n",
       "      <th></th>\n",
       "      <th>D</th>\n",
       "      <th>C</th>\n",
       "      <th>B</th>\n",
       "      <th>A</th>\n",
       "    </tr>\n",
       "  </thead>\n",
       "  <tbody>\n",
       "    <tr>\n",
       "      <th>2013-01-01</th>\n",
       "      <td>-0.096900</td>\n",
       "      <td>-1.302376</td>\n",
       "      <td>1.735882</td>\n",
       "      <td>0.726445</td>\n",
       "    </tr>\n",
       "    <tr>\n",
       "      <th>2013-01-02</th>\n",
       "      <td>-1.172509</td>\n",
       "      <td>-1.314971</td>\n",
       "      <td>0.148342</td>\n",
       "      <td>-0.588813</td>\n",
       "    </tr>\n",
       "    <tr>\n",
       "      <th>2013-01-03</th>\n",
       "      <td>1.467109</td>\n",
       "      <td>1.502701</td>\n",
       "      <td>0.157975</td>\n",
       "      <td>0.598211</td>\n",
       "    </tr>\n",
       "    <tr>\n",
       "      <th>2013-01-04</th>\n",
       "      <td>2.318862</td>\n",
       "      <td>1.208919</td>\n",
       "      <td>0.548516</td>\n",
       "      <td>-0.570405</td>\n",
       "    </tr>\n",
       "    <tr>\n",
       "      <th>2013-01-05</th>\n",
       "      <td>0.416804</td>\n",
       "      <td>0.095362</td>\n",
       "      <td>-1.271813</td>\n",
       "      <td>0.293895</td>\n",
       "    </tr>\n",
       "    <tr>\n",
       "      <th>2013-01-06</th>\n",
       "      <td>0.556113</td>\n",
       "      <td>-1.303242</td>\n",
       "      <td>-1.425466</td>\n",
       "      <td>-0.771720</td>\n",
       "    </tr>\n",
       "  </tbody>\n",
       "</table>\n",
       "</div>"
      ],
      "text/plain": [
       "                   D         C         B         A\n",
       "2013-01-01 -0.096900 -1.302376  1.735882  0.726445\n",
       "2013-01-02 -1.172509 -1.314971  0.148342 -0.588813\n",
       "2013-01-03  1.467109  1.502701  0.157975  0.598211\n",
       "2013-01-04  2.318862  1.208919  0.548516 -0.570405\n",
       "2013-01-05  0.416804  0.095362 -1.271813  0.293895\n",
       "2013-01-06  0.556113 -1.303242 -1.425466 -0.771720"
      ]
     },
     "execution_count": 24,
     "metadata": {},
     "output_type": "execute_result"
    }
   ],
   "source": [
    "df.sort_index(axis=1, ascending=False)"
   ]
  },
  {
   "attachments": {},
   "cell_type": "markdown",
   "id": "aed6bd1f",
   "metadata": {
    "lang": "ca"
   },
   "source": [
    "Ordenació per valors:"
   ]
  },
  {
   "cell_type": "code",
   "execution_count": null,
   "id": "689a8012",
   "metadata": {},
   "outputs": [
    {
     "data": {
      "text/html": [
       "<div>\n",
       "<style scoped>\n",
       "    .dataframe tbody tr th:only-of-type {\n",
       "        vertical-align: middle;\n",
       "    }\n",
       "\n",
       "    .dataframe tbody tr th {\n",
       "        vertical-align: top;\n",
       "    }\n",
       "\n",
       "    .dataframe thead th {\n",
       "        text-align: right;\n",
       "    }\n",
       "</style>\n",
       "<table border=\"1\" class=\"dataframe\">\n",
       "  <thead>\n",
       "    <tr style=\"text-align: right;\">\n",
       "      <th></th>\n",
       "      <th>A</th>\n",
       "      <th>B</th>\n",
       "      <th>C</th>\n",
       "      <th>D</th>\n",
       "    </tr>\n",
       "  </thead>\n",
       "  <tbody>\n",
       "    <tr>\n",
       "      <th>2013-01-06</th>\n",
       "      <td>-0.771720</td>\n",
       "      <td>-1.425466</td>\n",
       "      <td>-1.303242</td>\n",
       "      <td>0.556113</td>\n",
       "    </tr>\n",
       "    <tr>\n",
       "      <th>2013-01-05</th>\n",
       "      <td>0.293895</td>\n",
       "      <td>-1.271813</td>\n",
       "      <td>0.095362</td>\n",
       "      <td>0.416804</td>\n",
       "    </tr>\n",
       "    <tr>\n",
       "      <th>2013-01-02</th>\n",
       "      <td>-0.588813</td>\n",
       "      <td>0.148342</td>\n",
       "      <td>-1.314971</td>\n",
       "      <td>-1.172509</td>\n",
       "    </tr>\n",
       "    <tr>\n",
       "      <th>2013-01-03</th>\n",
       "      <td>0.598211</td>\n",
       "      <td>0.157975</td>\n",
       "      <td>1.502701</td>\n",
       "      <td>1.467109</td>\n",
       "    </tr>\n",
       "    <tr>\n",
       "      <th>2013-01-04</th>\n",
       "      <td>-0.570405</td>\n",
       "      <td>0.548516</td>\n",
       "      <td>1.208919</td>\n",
       "      <td>2.318862</td>\n",
       "    </tr>\n",
       "    <tr>\n",
       "      <th>2013-01-01</th>\n",
       "      <td>0.726445</td>\n",
       "      <td>1.735882</td>\n",
       "      <td>-1.302376</td>\n",
       "      <td>-0.096900</td>\n",
       "    </tr>\n",
       "  </tbody>\n",
       "</table>\n",
       "</div>"
      ],
      "text/plain": [
       "                   A         B         C         D\n",
       "2013-01-06 -0.771720 -1.425466 -1.303242  0.556113\n",
       "2013-01-05  0.293895 -1.271813  0.095362  0.416804\n",
       "2013-01-02 -0.588813  0.148342 -1.314971 -1.172509\n",
       "2013-01-03  0.598211  0.157975  1.502701  1.467109\n",
       "2013-01-04 -0.570405  0.548516  1.208919  2.318862\n",
       "2013-01-01  0.726445  1.735882 -1.302376 -0.096900"
      ]
     },
     "execution_count": 25,
     "metadata": {},
     "output_type": "execute_result"
    }
   ],
   "source": [
    "df.sort_values(by=\"B\")"
   ]
  },
  {
   "attachments": {},
   "cell_type": "markdown",
   "id": "3206999f",
   "metadata": {
    "lang": "ca"
   },
   "source": [
    "## Selecció"
   ]
  },
  {
   "attachments": {},
   "cell_type": "markdown",
   "id": "bcc1cd77",
   "metadata": {
    "lang": "ca"
   },
   "source": [
    "Tot i que les expressions estàndard de Python / NumPy per seleccionar i configurar són intuïtives i són útils per al treball interactiu, per al codi de producció, es recomana els mètodes d'accés a dades optimitzats de pandas, **.at, .iat, .loc i .iloc.**"
   ]
  },
  {
   "attachments": {},
   "cell_type": "markdown",
   "id": "af461878",
   "metadata": {
    "lang": "en"
   },
   "source": [
    "### Getting\n",
    "\n",
    "Seleccionant una sola columna, que produeix una sèrie, equivalent a df.A:"
   ]
  },
  {
   "cell_type": "code",
   "execution_count": null,
   "id": "30039728",
   "metadata": {},
   "outputs": [
    {
     "data": {
      "text/html": [
       "<div>\n",
       "<style scoped>\n",
       "    .dataframe tbody tr th:only-of-type {\n",
       "        vertical-align: middle;\n",
       "    }\n",
       "\n",
       "    .dataframe tbody tr th {\n",
       "        vertical-align: top;\n",
       "    }\n",
       "\n",
       "    .dataframe thead th {\n",
       "        text-align: right;\n",
       "    }\n",
       "</style>\n",
       "<table border=\"1\" class=\"dataframe\">\n",
       "  <thead>\n",
       "    <tr style=\"text-align: right;\">\n",
       "      <th></th>\n",
       "      <th>A</th>\n",
       "      <th>B</th>\n",
       "      <th>C</th>\n",
       "      <th>D</th>\n",
       "    </tr>\n",
       "  </thead>\n",
       "  <tbody>\n",
       "    <tr>\n",
       "      <th>2013-01-01</th>\n",
       "      <td>-1.544294</td>\n",
       "      <td>0.167442</td>\n",
       "      <td>-1.465829</td>\n",
       "      <td>-0.092591</td>\n",
       "    </tr>\n",
       "    <tr>\n",
       "      <th>2013-01-02</th>\n",
       "      <td>0.990642</td>\n",
       "      <td>-0.944053</td>\n",
       "      <td>0.465763</td>\n",
       "      <td>-0.117636</td>\n",
       "    </tr>\n",
       "    <tr>\n",
       "      <th>2013-01-03</th>\n",
       "      <td>-0.273182</td>\n",
       "      <td>1.614548</td>\n",
       "      <td>1.304146</td>\n",
       "      <td>1.152775</td>\n",
       "    </tr>\n",
       "    <tr>\n",
       "      <th>2013-01-04</th>\n",
       "      <td>-0.566921</td>\n",
       "      <td>-1.499165</td>\n",
       "      <td>-0.952987</td>\n",
       "      <td>-1.312171</td>\n",
       "    </tr>\n",
       "    <tr>\n",
       "      <th>2013-01-05</th>\n",
       "      <td>1.854532</td>\n",
       "      <td>-0.030637</td>\n",
       "      <td>0.268291</td>\n",
       "      <td>-0.402365</td>\n",
       "    </tr>\n",
       "    <tr>\n",
       "      <th>2013-01-06</th>\n",
       "      <td>-0.050516</td>\n",
       "      <td>-0.763955</td>\n",
       "      <td>-1.601032</td>\n",
       "      <td>0.754585</td>\n",
       "    </tr>\n",
       "  </tbody>\n",
       "</table>\n",
       "</div>"
      ],
      "text/plain": [
       "                   A         B         C         D\n",
       "2013-01-01 -1.544294  0.167442 -1.465829 -0.092591\n",
       "2013-01-02  0.990642 -0.944053  0.465763 -0.117636\n",
       "2013-01-03 -0.273182  1.614548  1.304146  1.152775\n",
       "2013-01-04 -0.566921 -1.499165 -0.952987 -1.312171\n",
       "2013-01-05  1.854532 -0.030637  0.268291 -0.402365\n",
       "2013-01-06 -0.050516 -0.763955 -1.601032  0.754585"
      ]
     },
     "execution_count": 18,
     "metadata": {},
     "output_type": "execute_result"
    }
   ],
   "source": [
    "df"
   ]
  },
  {
   "cell_type": "code",
   "execution_count": null,
   "id": "6005dfad",
   "metadata": {},
   "outputs": [
    {
     "data": {
      "text/plain": [
       "2013-01-01    0.726445\n",
       "2013-01-02   -0.588813\n",
       "2013-01-03    0.598211\n",
       "2013-01-04   -0.570405\n",
       "2013-01-05    0.293895\n",
       "2013-01-06   -0.771720\n",
       "Freq: D, Name: A, dtype: float64"
      ]
     },
     "execution_count": 26,
     "metadata": {},
     "output_type": "execute_result"
    }
   ],
   "source": [
    "df[\"A\"]"
   ]
  },
  {
   "attachments": {},
   "cell_type": "markdown",
   "id": "d36d5fde",
   "metadata": {
    "lang": "ca"
   },
   "source": [
    "Seleccionant mitjançant [ ], que talla les files:"
   ]
  },
  {
   "cell_type": "code",
   "execution_count": null,
   "id": "22f157a4",
   "metadata": {},
   "outputs": [
    {
     "data": {
      "text/html": [
       "<div>\n",
       "<style scoped>\n",
       "    .dataframe tbody tr th:only-of-type {\n",
       "        vertical-align: middle;\n",
       "    }\n",
       "\n",
       "    .dataframe tbody tr th {\n",
       "        vertical-align: top;\n",
       "    }\n",
       "\n",
       "    .dataframe thead th {\n",
       "        text-align: right;\n",
       "    }\n",
       "</style>\n",
       "<table border=\"1\" class=\"dataframe\">\n",
       "  <thead>\n",
       "    <tr style=\"text-align: right;\">\n",
       "      <th></th>\n",
       "      <th>A</th>\n",
       "      <th>B</th>\n",
       "      <th>C</th>\n",
       "      <th>D</th>\n",
       "    </tr>\n",
       "  </thead>\n",
       "  <tbody>\n",
       "    <tr>\n",
       "      <th>2013-01-01</th>\n",
       "      <td>0.726445</td>\n",
       "      <td>1.735882</td>\n",
       "      <td>-1.302376</td>\n",
       "      <td>-0.096900</td>\n",
       "    </tr>\n",
       "    <tr>\n",
       "      <th>2013-01-02</th>\n",
       "      <td>-0.588813</td>\n",
       "      <td>0.148342</td>\n",
       "      <td>-1.314971</td>\n",
       "      <td>-1.172509</td>\n",
       "    </tr>\n",
       "    <tr>\n",
       "      <th>2013-01-03</th>\n",
       "      <td>0.598211</td>\n",
       "      <td>0.157975</td>\n",
       "      <td>1.502701</td>\n",
       "      <td>1.467109</td>\n",
       "    </tr>\n",
       "  </tbody>\n",
       "</table>\n",
       "</div>"
      ],
      "text/plain": [
       "                   A         B         C         D\n",
       "2013-01-01  0.726445  1.735882 -1.302376 -0.096900\n",
       "2013-01-02 -0.588813  0.148342 -1.314971 -1.172509\n",
       "2013-01-03  0.598211  0.157975  1.502701  1.467109"
      ]
     },
     "execution_count": 27,
     "metadata": {},
     "output_type": "execute_result"
    }
   ],
   "source": [
    "df[0:3]"
   ]
  },
  {
   "cell_type": "code",
   "execution_count": null,
   "id": "6cc88f5c",
   "metadata": {},
   "outputs": [
    {
     "data": {
      "text/html": [
       "<div>\n",
       "<style scoped>\n",
       "    .dataframe tbody tr th:only-of-type {\n",
       "        vertical-align: middle;\n",
       "    }\n",
       "\n",
       "    .dataframe tbody tr th {\n",
       "        vertical-align: top;\n",
       "    }\n",
       "\n",
       "    .dataframe thead th {\n",
       "        text-align: right;\n",
       "    }\n",
       "</style>\n",
       "<table border=\"1\" class=\"dataframe\">\n",
       "  <thead>\n",
       "    <tr style=\"text-align: right;\">\n",
       "      <th></th>\n",
       "      <th>A</th>\n",
       "      <th>B</th>\n",
       "      <th>C</th>\n",
       "      <th>D</th>\n",
       "    </tr>\n",
       "  </thead>\n",
       "  <tbody>\n",
       "    <tr>\n",
       "      <th>2013-01-02</th>\n",
       "      <td>-0.588813</td>\n",
       "      <td>0.148342</td>\n",
       "      <td>-1.314971</td>\n",
       "      <td>-1.172509</td>\n",
       "    </tr>\n",
       "    <tr>\n",
       "      <th>2013-01-03</th>\n",
       "      <td>0.598211</td>\n",
       "      <td>0.157975</td>\n",
       "      <td>1.502701</td>\n",
       "      <td>1.467109</td>\n",
       "    </tr>\n",
       "    <tr>\n",
       "      <th>2013-01-04</th>\n",
       "      <td>-0.570405</td>\n",
       "      <td>0.548516</td>\n",
       "      <td>1.208919</td>\n",
       "      <td>2.318862</td>\n",
       "    </tr>\n",
       "  </tbody>\n",
       "</table>\n",
       "</div>"
      ],
      "text/plain": [
       "                   A         B         C         D\n",
       "2013-01-02 -0.588813  0.148342 -1.314971 -1.172509\n",
       "2013-01-03  0.598211  0.157975  1.502701  1.467109\n",
       "2013-01-04 -0.570405  0.548516  1.208919  2.318862"
      ]
     },
     "execution_count": 28,
     "metadata": {},
     "output_type": "execute_result"
    }
   ],
   "source": [
    "df[\"20130102\":\"20130104\"]"
   ]
  },
  {
   "attachments": {},
   "cell_type": "markdown",
   "id": "ee6e63e8",
   "metadata": {
    "lang": "ca"
   },
   "source": [
    "### Selecció per etiqueta\n",
    "\n",
    "Per obtenir una secció transversal mitjançant una etiqueta:"
   ]
  },
  {
   "cell_type": "code",
   "execution_count": null,
   "id": "2307e0f8",
   "metadata": {},
   "outputs": [
    {
     "data": {
      "text/plain": [
       "Timestamp('2013-01-01 00:00:00')"
      ]
     },
     "execution_count": 20,
     "metadata": {},
     "output_type": "execute_result"
    }
   ],
   "source": [
    "dates[0]"
   ]
  },
  {
   "cell_type": "code",
   "execution_count": null,
   "id": "75867848",
   "metadata": {},
   "outputs": [
    {
     "data": {
      "text/plain": [
       "A    0.726445\n",
       "B    1.735882\n",
       "C   -1.302376\n",
       "D   -0.096900\n",
       "Name: 2013-01-01 00:00:00, dtype: float64"
      ]
     },
     "execution_count": 29,
     "metadata": {},
     "output_type": "execute_result"
    }
   ],
   "source": [
    "df.loc[dates[0]]"
   ]
  },
  {
   "attachments": {},
   "cell_type": "markdown",
   "id": "6e94b7c7",
   "metadata": {
    "lang": "ca"
   },
   "source": [
    "Selecció en un eix múltiple per etiqueta:"
   ]
  },
  {
   "cell_type": "code",
   "execution_count": null,
   "id": "6ec463f8",
   "metadata": {},
   "outputs": [
    {
     "data": {
      "text/html": [
       "<div>\n",
       "<style scoped>\n",
       "    .dataframe tbody tr th:only-of-type {\n",
       "        vertical-align: middle;\n",
       "    }\n",
       "\n",
       "    .dataframe tbody tr th {\n",
       "        vertical-align: top;\n",
       "    }\n",
       "\n",
       "    .dataframe thead th {\n",
       "        text-align: right;\n",
       "    }\n",
       "</style>\n",
       "<table border=\"1\" class=\"dataframe\">\n",
       "  <thead>\n",
       "    <tr style=\"text-align: right;\">\n",
       "      <th></th>\n",
       "      <th>A</th>\n",
       "      <th>B</th>\n",
       "    </tr>\n",
       "  </thead>\n",
       "  <tbody>\n",
       "    <tr>\n",
       "      <th>2013-01-01</th>\n",
       "      <td>0.726445</td>\n",
       "      <td>1.735882</td>\n",
       "    </tr>\n",
       "    <tr>\n",
       "      <th>2013-01-02</th>\n",
       "      <td>-0.588813</td>\n",
       "      <td>0.148342</td>\n",
       "    </tr>\n",
       "    <tr>\n",
       "      <th>2013-01-03</th>\n",
       "      <td>0.598211</td>\n",
       "      <td>0.157975</td>\n",
       "    </tr>\n",
       "    <tr>\n",
       "      <th>2013-01-04</th>\n",
       "      <td>-0.570405</td>\n",
       "      <td>0.548516</td>\n",
       "    </tr>\n",
       "    <tr>\n",
       "      <th>2013-01-05</th>\n",
       "      <td>0.293895</td>\n",
       "      <td>-1.271813</td>\n",
       "    </tr>\n",
       "    <tr>\n",
       "      <th>2013-01-06</th>\n",
       "      <td>-0.771720</td>\n",
       "      <td>-1.425466</td>\n",
       "    </tr>\n",
       "  </tbody>\n",
       "</table>\n",
       "</div>"
      ],
      "text/plain": [
       "                   A         B\n",
       "2013-01-01  0.726445  1.735882\n",
       "2013-01-02 -0.588813  0.148342\n",
       "2013-01-03  0.598211  0.157975\n",
       "2013-01-04 -0.570405  0.548516\n",
       "2013-01-05  0.293895 -1.271813\n",
       "2013-01-06 -0.771720 -1.425466"
      ]
     },
     "execution_count": 30,
     "metadata": {},
     "output_type": "execute_result"
    }
   ],
   "source": [
    "df.loc[:, [\"A\", \"B\"]]"
   ]
  },
  {
   "attachments": {},
   "cell_type": "markdown",
   "id": "bc14cce6",
   "metadata": {
    "lang": "ca"
   },
   "source": [
    "Mostrant el slice mitjançant etiquetes, s'inclouen els dos punts finals:"
   ]
  },
  {
   "cell_type": "code",
   "execution_count": null,
   "id": "1cd74379",
   "metadata": {},
   "outputs": [
    {
     "data": {
      "text/html": [
       "<div>\n",
       "<style scoped>\n",
       "    .dataframe tbody tr th:only-of-type {\n",
       "        vertical-align: middle;\n",
       "    }\n",
       "\n",
       "    .dataframe tbody tr th {\n",
       "        vertical-align: top;\n",
       "    }\n",
       "\n",
       "    .dataframe thead th {\n",
       "        text-align: right;\n",
       "    }\n",
       "</style>\n",
       "<table border=\"1\" class=\"dataframe\">\n",
       "  <thead>\n",
       "    <tr style=\"text-align: right;\">\n",
       "      <th></th>\n",
       "      <th>A</th>\n",
       "      <th>B</th>\n",
       "    </tr>\n",
       "  </thead>\n",
       "  <tbody>\n",
       "    <tr>\n",
       "      <th>2013-01-02</th>\n",
       "      <td>-0.588813</td>\n",
       "      <td>0.148342</td>\n",
       "    </tr>\n",
       "    <tr>\n",
       "      <th>2013-01-03</th>\n",
       "      <td>0.598211</td>\n",
       "      <td>0.157975</td>\n",
       "    </tr>\n",
       "    <tr>\n",
       "      <th>2013-01-04</th>\n",
       "      <td>-0.570405</td>\n",
       "      <td>0.548516</td>\n",
       "    </tr>\n",
       "  </tbody>\n",
       "</table>\n",
       "</div>"
      ],
      "text/plain": [
       "                   A         B\n",
       "2013-01-02 -0.588813  0.148342\n",
       "2013-01-03  0.598211  0.157975\n",
       "2013-01-04 -0.570405  0.548516"
      ]
     },
     "execution_count": 31,
     "metadata": {},
     "output_type": "execute_result"
    }
   ],
   "source": [
    "df.loc[\"20130102\":\"20130104\", [\"A\", \"B\"]]"
   ]
  },
  {
   "attachments": {},
   "cell_type": "markdown",
   "id": "67e1ee5a",
   "metadata": {
    "lang": "ca"
   },
   "source": [
    "Reducció de les dimensions de l'objecte retornat:"
   ]
  },
  {
   "cell_type": "code",
   "execution_count": null,
   "id": "e334917f",
   "metadata": {},
   "outputs": [
    {
     "data": {
      "text/plain": [
       "A   -0.588813\n",
       "B    0.148342\n",
       "Name: 2013-01-02 00:00:00, dtype: float64"
      ]
     },
     "execution_count": 32,
     "metadata": {},
     "output_type": "execute_result"
    }
   ],
   "source": [
    "df.loc[\"20130102\", [\"A\", \"B\"]]"
   ]
  },
  {
   "attachments": {},
   "cell_type": "markdown",
   "id": "784323a6",
   "metadata": {
    "lang": "ca"
   },
   "source": [
    "Per obtenir un valor escalar:"
   ]
  },
  {
   "cell_type": "code",
   "execution_count": null,
   "id": "42ec2768",
   "metadata": {},
   "outputs": [
    {
     "data": {
      "text/plain": [
       "0.7264445598892636"
      ]
     },
     "execution_count": 33,
     "metadata": {},
     "output_type": "execute_result"
    }
   ],
   "source": [
    "df.loc[dates[0], \"A\"]"
   ]
  },
  {
   "attachments": {},
   "cell_type": "markdown",
   "id": "42b890f8",
   "metadata": {
    "lang": "ca"
   },
   "source": [
    "Per obtenir un accés ràpid a un escalar (equivalent al mètode anterior):"
   ]
  },
  {
   "cell_type": "code",
   "execution_count": null,
   "id": "d1c25732",
   "metadata": {},
   "outputs": [
    {
     "data": {
      "text/plain": [
       "0.7264445598892636"
      ]
     },
     "execution_count": 34,
     "metadata": {},
     "output_type": "execute_result"
    }
   ],
   "source": [
    "df.at[dates[0], \"A\"]"
   ]
  },
  {
   "attachments": {},
   "cell_type": "markdown",
   "id": "c2c52948",
   "metadata": {
    "lang": "ca"
   },
   "source": [
    "## Selecció per posició\n",
    "\n",
    "Pandas ofereix un conjunt de mètodes per aconseguir una indexació basada purament en nombres enters. La semàntica segueix de prop el slice de Python i NumPy. Es tracta d'indexació basada en 0. Quan fem un slice, s'inclou el límit inicial, mentre que s'exclou el límit superior. Si intenteu utilitzar un nombre que no sigui enter, fins i tot una etiqueta vàlida generarà un IndexError.\n",
    "\n",
    "L'atribut .iloc és el mètode d'accés principal. Les entrades següents són vàlides:\n",
    "\n",
    "* Un nombre enter p. ex. 5.\n",
    "\n",
    "* Una llista o matriu de nombres enters `[4, 3, 0]`.\n",
    "\n",
    "* Un objecte tall amb int 1:7.\n",
    "\n",
    "* Una matriu booleana.\n",
    "\n",
    "* Un callable, per exemple, `df1.loc[lambda df: df['A'] > 0, :]`."
   ]
  },
  {
   "cell_type": "code",
   "execution_count": null,
   "id": "a930596b",
   "metadata": {},
   "outputs": [
    {
     "data": {
      "text/html": [
       "<div>\n",
       "<style scoped>\n",
       "    .dataframe tbody tr th:only-of-type {\n",
       "        vertical-align: middle;\n",
       "    }\n",
       "\n",
       "    .dataframe tbody tr th {\n",
       "        vertical-align: top;\n",
       "    }\n",
       "\n",
       "    .dataframe thead th {\n",
       "        text-align: right;\n",
       "    }\n",
       "</style>\n",
       "<table border=\"1\" class=\"dataframe\">\n",
       "  <thead>\n",
       "    <tr style=\"text-align: right;\">\n",
       "      <th></th>\n",
       "      <th>A</th>\n",
       "      <th>B</th>\n",
       "      <th>C</th>\n",
       "      <th>D</th>\n",
       "    </tr>\n",
       "  </thead>\n",
       "  <tbody>\n",
       "    <tr>\n",
       "      <th>2013-01-01</th>\n",
       "      <td>-1.397802</td>\n",
       "      <td>-0.903217</td>\n",
       "      <td>-0.305947</td>\n",
       "      <td>0.191437</td>\n",
       "    </tr>\n",
       "    <tr>\n",
       "      <th>2013-01-02</th>\n",
       "      <td>-0.361313</td>\n",
       "      <td>0.356437</td>\n",
       "      <td>1.025573</td>\n",
       "      <td>0.705445</td>\n",
       "    </tr>\n",
       "    <tr>\n",
       "      <th>2013-01-03</th>\n",
       "      <td>-0.981388</td>\n",
       "      <td>0.463933</td>\n",
       "      <td>-0.536539</td>\n",
       "      <td>-0.327819</td>\n",
       "    </tr>\n",
       "    <tr>\n",
       "      <th>2013-01-04</th>\n",
       "      <td>0.392953</td>\n",
       "      <td>-1.283478</td>\n",
       "      <td>-0.948796</td>\n",
       "      <td>-1.497212</td>\n",
       "    </tr>\n",
       "    <tr>\n",
       "      <th>2013-01-05</th>\n",
       "      <td>-0.687504</td>\n",
       "      <td>0.994843</td>\n",
       "      <td>-0.467672</td>\n",
       "      <td>0.119136</td>\n",
       "    </tr>\n",
       "    <tr>\n",
       "      <th>2013-01-06</th>\n",
       "      <td>-0.120559</td>\n",
       "      <td>-1.017698</td>\n",
       "      <td>-1.304440</td>\n",
       "      <td>-0.107369</td>\n",
       "    </tr>\n",
       "  </tbody>\n",
       "</table>\n",
       "</div>"
      ],
      "text/plain": [
       "                   A         B         C         D\n",
       "2013-01-01 -1.397802 -0.903217 -0.305947  0.191437\n",
       "2013-01-02 -0.361313  0.356437  1.025573  0.705445\n",
       "2013-01-03 -0.981388  0.463933 -0.536539 -0.327819\n",
       "2013-01-04  0.392953 -1.283478 -0.948796 -1.497212\n",
       "2013-01-05 -0.687504  0.994843 -0.467672  0.119136\n",
       "2013-01-06 -0.120559 -1.017698 -1.304440 -0.107369"
      ]
     },
     "execution_count": 9,
     "metadata": {},
     "output_type": "execute_result"
    }
   ],
   "source": [
    "df"
   ]
  },
  {
   "cell_type": "code",
   "execution_count": null,
   "id": "c2905f8e",
   "metadata": {},
   "outputs": [
    {
     "data": {
      "text/plain": [
       "2013-01-02    1.025573\n",
       "2013-01-03   -0.536539\n",
       "2013-01-04   -0.948796\n",
       "Freq: D, Name: C, dtype: float64"
      ]
     },
     "execution_count": 12,
     "metadata": {},
     "output_type": "execute_result"
    }
   ],
   "source": [
    "df.iloc[1:4, 2]"
   ]
  },
  {
   "cell_type": "code",
   "execution_count": null,
   "id": "ccb031aa",
   "metadata": {},
   "outputs": [
    {
     "data": {
      "text/plain": [
       "A   -1.397802\n",
       "B   -0.903217\n",
       "C   -0.305947\n",
       "D    0.191437\n",
       "Name: 2013-01-01 00:00:00, dtype: float64"
      ]
     },
     "execution_count": 10,
     "metadata": {},
     "output_type": "execute_result"
    }
   ],
   "source": [
    "df.loc[\"2013-01-01\"]"
   ]
  },
  {
   "cell_type": "code",
   "execution_count": null,
   "id": "0b006bbf",
   "metadata": {},
   "outputs": [
    {
     "data": {
      "text/plain": [
       "A    0.392953\n",
       "B   -1.283478\n",
       "C   -0.948796\n",
       "D   -1.497212\n",
       "Name: 2013-01-04 00:00:00, dtype: float64"
      ]
     },
     "execution_count": 11,
     "metadata": {},
     "output_type": "execute_result"
    }
   ],
   "source": [
    "df.iloc[3]"
   ]
  },
  {
   "attachments": {},
   "cell_type": "markdown",
   "id": "341ef01a",
   "metadata": {
    "lang": "en"
   },
   "source": [
    "By integer slices, acting similar to NumPy/Python:"
   ]
  },
  {
   "attachments": {},
   "cell_type": "markdown",
   "id": "631787e7",
   "metadata": {
    "lang": "ca"
   },
   "source": [
    "Per slices de nombres enters, actuant de manera semblant a NumPy/Python:"
   ]
  },
  {
   "cell_type": "code",
   "execution_count": null,
   "id": "a03eabdd",
   "metadata": {},
   "outputs": [
    {
     "data": {
      "text/html": [
       "<div>\n",
       "<style scoped>\n",
       "    .dataframe tbody tr th:only-of-type {\n",
       "        vertical-align: middle;\n",
       "    }\n",
       "\n",
       "    .dataframe tbody tr th {\n",
       "        vertical-align: top;\n",
       "    }\n",
       "\n",
       "    .dataframe thead th {\n",
       "        text-align: right;\n",
       "    }\n",
       "</style>\n",
       "<table border=\"1\" class=\"dataframe\">\n",
       "  <thead>\n",
       "    <tr style=\"text-align: right;\">\n",
       "      <th></th>\n",
       "      <th>A</th>\n",
       "      <th>B</th>\n",
       "    </tr>\n",
       "  </thead>\n",
       "  <tbody>\n",
       "    <tr>\n",
       "      <th>2013-01-04</th>\n",
       "      <td>-0.570405</td>\n",
       "      <td>0.548516</td>\n",
       "    </tr>\n",
       "    <tr>\n",
       "      <th>2013-01-05</th>\n",
       "      <td>0.293895</td>\n",
       "      <td>-1.271813</td>\n",
       "    </tr>\n",
       "  </tbody>\n",
       "</table>\n",
       "</div>"
      ],
      "text/plain": [
       "                   A         B\n",
       "2013-01-04 -0.570405  0.548516\n",
       "2013-01-05  0.293895 -1.271813"
      ]
     },
     "execution_count": 36,
     "metadata": {},
     "output_type": "execute_result"
    }
   ],
   "source": [
    "df.iloc[3:5, 0:2]"
   ]
  },
  {
   "attachments": {},
   "cell_type": "markdown",
   "id": "324f3503",
   "metadata": {},
   "source": [
    "By lists of integer position locations, similar to the NumPy/Python style:\n",
    "\n"
   ]
  },
  {
   "cell_type": "code",
   "execution_count": null,
   "id": "771a2dd3",
   "metadata": {},
   "outputs": [
    {
     "data": {
      "text/html": [
       "<div>\n",
       "<style scoped>\n",
       "    .dataframe tbody tr th:only-of-type {\n",
       "        vertical-align: middle;\n",
       "    }\n",
       "\n",
       "    .dataframe tbody tr th {\n",
       "        vertical-align: top;\n",
       "    }\n",
       "\n",
       "    .dataframe thead th {\n",
       "        text-align: right;\n",
       "    }\n",
       "</style>\n",
       "<table border=\"1\" class=\"dataframe\">\n",
       "  <thead>\n",
       "    <tr style=\"text-align: right;\">\n",
       "      <th></th>\n",
       "      <th>A</th>\n",
       "      <th>C</th>\n",
       "    </tr>\n",
       "  </thead>\n",
       "  <tbody>\n",
       "    <tr>\n",
       "      <th>2013-01-02</th>\n",
       "      <td>-0.588813</td>\n",
       "      <td>-1.314971</td>\n",
       "    </tr>\n",
       "    <tr>\n",
       "      <th>2013-01-03</th>\n",
       "      <td>0.598211</td>\n",
       "      <td>1.502701</td>\n",
       "    </tr>\n",
       "    <tr>\n",
       "      <th>2013-01-05</th>\n",
       "      <td>0.293895</td>\n",
       "      <td>0.095362</td>\n",
       "    </tr>\n",
       "  </tbody>\n",
       "</table>\n",
       "</div>"
      ],
      "text/plain": [
       "                   A         C\n",
       "2013-01-02 -0.588813 -1.314971\n",
       "2013-01-03  0.598211  1.502701\n",
       "2013-01-05  0.293895  0.095362"
      ]
     },
     "execution_count": 38,
     "metadata": {},
     "output_type": "execute_result"
    }
   ],
   "source": [
    "df.iloc[[1, 2, 4], [0, 2]]"
   ]
  },
  {
   "attachments": {},
   "cell_type": "markdown",
   "id": "fbfc62fb",
   "metadata": {},
   "source": [
    "For slicing rows explicitly:"
   ]
  },
  {
   "cell_type": "code",
   "execution_count": null,
   "id": "722d46fe",
   "metadata": {},
   "outputs": [
    {
     "data": {
      "text/html": [
       "<div>\n",
       "<style scoped>\n",
       "    .dataframe tbody tr th:only-of-type {\n",
       "        vertical-align: middle;\n",
       "    }\n",
       "\n",
       "    .dataframe tbody tr th {\n",
       "        vertical-align: top;\n",
       "    }\n",
       "\n",
       "    .dataframe thead th {\n",
       "        text-align: right;\n",
       "    }\n",
       "</style>\n",
       "<table border=\"1\" class=\"dataframe\">\n",
       "  <thead>\n",
       "    <tr style=\"text-align: right;\">\n",
       "      <th></th>\n",
       "      <th>A</th>\n",
       "      <th>B</th>\n",
       "      <th>C</th>\n",
       "      <th>D</th>\n",
       "    </tr>\n",
       "  </thead>\n",
       "  <tbody>\n",
       "    <tr>\n",
       "      <th>2013-01-02</th>\n",
       "      <td>-0.588813</td>\n",
       "      <td>0.148342</td>\n",
       "      <td>-1.314971</td>\n",
       "      <td>-1.172509</td>\n",
       "    </tr>\n",
       "    <tr>\n",
       "      <th>2013-01-03</th>\n",
       "      <td>0.598211</td>\n",
       "      <td>0.157975</td>\n",
       "      <td>1.502701</td>\n",
       "      <td>1.467109</td>\n",
       "    </tr>\n",
       "  </tbody>\n",
       "</table>\n",
       "</div>"
      ],
      "text/plain": [
       "                   A         B         C         D\n",
       "2013-01-02 -0.588813  0.148342 -1.314971 -1.172509\n",
       "2013-01-03  0.598211  0.157975  1.502701  1.467109"
      ]
     },
     "execution_count": 39,
     "metadata": {},
     "output_type": "execute_result"
    }
   ],
   "source": [
    "df.iloc[1:3, :]"
   ]
  },
  {
   "attachments": {},
   "cell_type": "markdown",
   "id": "dc68496a",
   "metadata": {},
   "source": [
    "For slicing columns explicitly:\n",
    "\n"
   ]
  },
  {
   "cell_type": "code",
   "execution_count": null,
   "id": "165f7a19",
   "metadata": {},
   "outputs": [
    {
     "data": {
      "text/html": [
       "<div>\n",
       "<style scoped>\n",
       "    .dataframe tbody tr th:only-of-type {\n",
       "        vertical-align: middle;\n",
       "    }\n",
       "\n",
       "    .dataframe tbody tr th {\n",
       "        vertical-align: top;\n",
       "    }\n",
       "\n",
       "    .dataframe thead th {\n",
       "        text-align: right;\n",
       "    }\n",
       "</style>\n",
       "<table border=\"1\" class=\"dataframe\">\n",
       "  <thead>\n",
       "    <tr style=\"text-align: right;\">\n",
       "      <th></th>\n",
       "      <th>B</th>\n",
       "      <th>C</th>\n",
       "    </tr>\n",
       "  </thead>\n",
       "  <tbody>\n",
       "    <tr>\n",
       "      <th>2013-01-01</th>\n",
       "      <td>1.735882</td>\n",
       "      <td>-1.302376</td>\n",
       "    </tr>\n",
       "    <tr>\n",
       "      <th>2013-01-02</th>\n",
       "      <td>0.148342</td>\n",
       "      <td>-1.314971</td>\n",
       "    </tr>\n",
       "    <tr>\n",
       "      <th>2013-01-03</th>\n",
       "      <td>0.157975</td>\n",
       "      <td>1.502701</td>\n",
       "    </tr>\n",
       "    <tr>\n",
       "      <th>2013-01-04</th>\n",
       "      <td>0.548516</td>\n",
       "      <td>1.208919</td>\n",
       "    </tr>\n",
       "    <tr>\n",
       "      <th>2013-01-05</th>\n",
       "      <td>-1.271813</td>\n",
       "      <td>0.095362</td>\n",
       "    </tr>\n",
       "    <tr>\n",
       "      <th>2013-01-06</th>\n",
       "      <td>-1.425466</td>\n",
       "      <td>-1.303242</td>\n",
       "    </tr>\n",
       "  </tbody>\n",
       "</table>\n",
       "</div>"
      ],
      "text/plain": [
       "                   B         C\n",
       "2013-01-01  1.735882 -1.302376\n",
       "2013-01-02  0.148342 -1.314971\n",
       "2013-01-03  0.157975  1.502701\n",
       "2013-01-04  0.548516  1.208919\n",
       "2013-01-05 -1.271813  0.095362\n",
       "2013-01-06 -1.425466 -1.303242"
      ]
     },
     "execution_count": 40,
     "metadata": {},
     "output_type": "execute_result"
    }
   ],
   "source": [
    "df.iloc[:, 1:3]"
   ]
  },
  {
   "attachments": {},
   "cell_type": "markdown",
   "id": "50828c30",
   "metadata": {
    "tags": []
   },
   "source": [
    "For getting a value explicitly:"
   ]
  },
  {
   "cell_type": "code",
   "execution_count": null,
   "id": "6c89ab52",
   "metadata": {},
   "outputs": [
    {
     "data": {
      "text/plain": [
       "0.14834171950963598"
      ]
     },
     "execution_count": 41,
     "metadata": {},
     "output_type": "execute_result"
    }
   ],
   "source": [
    "df.iloc[1, 1]"
   ]
  },
  {
   "attachments": {},
   "cell_type": "markdown",
   "id": "b229d505",
   "metadata": {},
   "source": [
    "For getting fast access to a scalar (equivalent to the prior method):"
   ]
  },
  {
   "cell_type": "code",
   "execution_count": null,
   "id": "a99d2ce0",
   "metadata": {},
   "outputs": [
    {
     "data": {
      "text/plain": [
       "0.14834171950963598"
      ]
     },
     "execution_count": 42,
     "metadata": {},
     "output_type": "execute_result"
    }
   ],
   "source": [
    "df.iat[1, 1] # iat sirve para acceder a índices númericos y at a índices con etiqueta"
   ]
  },
  {
   "attachments": {},
   "cell_type": "markdown",
   "id": "b4ec9210",
   "metadata": {
    "lang": "ca"
   },
   "source": [
    "## Indexació booleana\n",
    "Ús dels valors d'una sola columna per seleccionar dades:"
   ]
  },
  {
   "cell_type": "code",
   "execution_count": null,
   "id": "2145caea",
   "metadata": {},
   "outputs": [
    {
     "data": {
      "text/html": [
       "<div>\n",
       "<style scoped>\n",
       "    .dataframe tbody tr th:only-of-type {\n",
       "        vertical-align: middle;\n",
       "    }\n",
       "\n",
       "    .dataframe tbody tr th {\n",
       "        vertical-align: top;\n",
       "    }\n",
       "\n",
       "    .dataframe thead th {\n",
       "        text-align: right;\n",
       "    }\n",
       "</style>\n",
       "<table border=\"1\" class=\"dataframe\">\n",
       "  <thead>\n",
       "    <tr style=\"text-align: right;\">\n",
       "      <th></th>\n",
       "      <th>A</th>\n",
       "      <th>B</th>\n",
       "      <th>C</th>\n",
       "      <th>D</th>\n",
       "    </tr>\n",
       "  </thead>\n",
       "  <tbody>\n",
       "    <tr>\n",
       "      <th>2013-01-02</th>\n",
       "      <td>0.990642</td>\n",
       "      <td>-0.944053</td>\n",
       "      <td>0.465763</td>\n",
       "      <td>-0.117636</td>\n",
       "    </tr>\n",
       "    <tr>\n",
       "      <th>2013-01-05</th>\n",
       "      <td>1.854532</td>\n",
       "      <td>-0.030637</td>\n",
       "      <td>0.268291</td>\n",
       "      <td>-0.402365</td>\n",
       "    </tr>\n",
       "  </tbody>\n",
       "</table>\n",
       "</div>"
      ],
      "text/plain": [
       "                   A         B         C         D\n",
       "2013-01-02  0.990642 -0.944053  0.465763 -0.117636\n",
       "2013-01-05  1.854532 -0.030637  0.268291 -0.402365"
      ]
     },
     "execution_count": 21,
     "metadata": {},
     "output_type": "execute_result"
    }
   ],
   "source": [
    "df[df[\"A\"] > 0]"
   ]
  },
  {
   "attachments": {},
   "cell_type": "markdown",
   "id": "fada66d6",
   "metadata": {
    "lang": "ca"
   },
   "source": [
    "Seleccionar valors d'un DataFrame on es compleix una condició booleana:"
   ]
  },
  {
   "cell_type": "code",
   "execution_count": null,
   "id": "6250c3a2",
   "metadata": {},
   "outputs": [
    {
     "data": {
      "text/html": [
       "<div>\n",
       "<style scoped>\n",
       "    .dataframe tbody tr th:only-of-type {\n",
       "        vertical-align: middle;\n",
       "    }\n",
       "\n",
       "    .dataframe tbody tr th {\n",
       "        vertical-align: top;\n",
       "    }\n",
       "\n",
       "    .dataframe thead th {\n",
       "        text-align: right;\n",
       "    }\n",
       "</style>\n",
       "<table border=\"1\" class=\"dataframe\">\n",
       "  <thead>\n",
       "    <tr style=\"text-align: right;\">\n",
       "      <th></th>\n",
       "      <th>A</th>\n",
       "      <th>B</th>\n",
       "      <th>C</th>\n",
       "      <th>D</th>\n",
       "    </tr>\n",
       "  </thead>\n",
       "  <tbody>\n",
       "    <tr>\n",
       "      <th>2013-01-01</th>\n",
       "      <td>0.726445</td>\n",
       "      <td>1.735882</td>\n",
       "      <td>NaN</td>\n",
       "      <td>NaN</td>\n",
       "    </tr>\n",
       "    <tr>\n",
       "      <th>2013-01-02</th>\n",
       "      <td>NaN</td>\n",
       "      <td>0.148342</td>\n",
       "      <td>NaN</td>\n",
       "      <td>NaN</td>\n",
       "    </tr>\n",
       "    <tr>\n",
       "      <th>2013-01-03</th>\n",
       "      <td>0.598211</td>\n",
       "      <td>0.157975</td>\n",
       "      <td>1.502701</td>\n",
       "      <td>1.467109</td>\n",
       "    </tr>\n",
       "    <tr>\n",
       "      <th>2013-01-04</th>\n",
       "      <td>NaN</td>\n",
       "      <td>0.548516</td>\n",
       "      <td>1.208919</td>\n",
       "      <td>2.318862</td>\n",
       "    </tr>\n",
       "    <tr>\n",
       "      <th>2013-01-05</th>\n",
       "      <td>0.293895</td>\n",
       "      <td>NaN</td>\n",
       "      <td>0.095362</td>\n",
       "      <td>0.416804</td>\n",
       "    </tr>\n",
       "    <tr>\n",
       "      <th>2013-01-06</th>\n",
       "      <td>NaN</td>\n",
       "      <td>NaN</td>\n",
       "      <td>NaN</td>\n",
       "      <td>0.556113</td>\n",
       "    </tr>\n",
       "  </tbody>\n",
       "</table>\n",
       "</div>"
      ],
      "text/plain": [
       "                   A         B         C         D\n",
       "2013-01-01  0.726445  1.735882       NaN       NaN\n",
       "2013-01-02       NaN  0.148342       NaN       NaN\n",
       "2013-01-03  0.598211  0.157975  1.502701  1.467109\n",
       "2013-01-04       NaN  0.548516  1.208919  2.318862\n",
       "2013-01-05  0.293895       NaN  0.095362  0.416804\n",
       "2013-01-06       NaN       NaN       NaN  0.556113"
      ]
     },
     "execution_count": 44,
     "metadata": {},
     "output_type": "execute_result"
    }
   ],
   "source": [
    "df[df > 0]"
   ]
  },
  {
   "attachments": {},
   "cell_type": "markdown",
   "id": "c5a416f1",
   "metadata": {
    "lang": "ca"
   },
   "source": [
    "Utilitzant el mètode isin() per filtrar:"
   ]
  },
  {
   "cell_type": "code",
   "execution_count": null,
   "id": "96bf165e",
   "metadata": {},
   "outputs": [
    {
     "data": {
      "text/html": [
       "<div>\n",
       "<style scoped>\n",
       "    .dataframe tbody tr th:only-of-type {\n",
       "        vertical-align: middle;\n",
       "    }\n",
       "\n",
       "    .dataframe tbody tr th {\n",
       "        vertical-align: top;\n",
       "    }\n",
       "\n",
       "    .dataframe thead th {\n",
       "        text-align: right;\n",
       "    }\n",
       "</style>\n",
       "<table border=\"1\" class=\"dataframe\">\n",
       "  <thead>\n",
       "    <tr style=\"text-align: right;\">\n",
       "      <th></th>\n",
       "      <th>A</th>\n",
       "      <th>B</th>\n",
       "      <th>C</th>\n",
       "      <th>D</th>\n",
       "      <th>E</th>\n",
       "    </tr>\n",
       "  </thead>\n",
       "  <tbody>\n",
       "    <tr>\n",
       "      <th>2013-01-01</th>\n",
       "      <td>0.726445</td>\n",
       "      <td>1.735882</td>\n",
       "      <td>-1.302376</td>\n",
       "      <td>-0.096900</td>\n",
       "      <td>one</td>\n",
       "    </tr>\n",
       "    <tr>\n",
       "      <th>2013-01-02</th>\n",
       "      <td>-0.588813</td>\n",
       "      <td>0.148342</td>\n",
       "      <td>-1.314971</td>\n",
       "      <td>-1.172509</td>\n",
       "      <td>one</td>\n",
       "    </tr>\n",
       "    <tr>\n",
       "      <th>2013-01-03</th>\n",
       "      <td>0.598211</td>\n",
       "      <td>0.157975</td>\n",
       "      <td>1.502701</td>\n",
       "      <td>1.467109</td>\n",
       "      <td>two</td>\n",
       "    </tr>\n",
       "    <tr>\n",
       "      <th>2013-01-04</th>\n",
       "      <td>-0.570405</td>\n",
       "      <td>0.548516</td>\n",
       "      <td>1.208919</td>\n",
       "      <td>2.318862</td>\n",
       "      <td>three</td>\n",
       "    </tr>\n",
       "    <tr>\n",
       "      <th>2013-01-05</th>\n",
       "      <td>0.293895</td>\n",
       "      <td>-1.271813</td>\n",
       "      <td>0.095362</td>\n",
       "      <td>0.416804</td>\n",
       "      <td>four</td>\n",
       "    </tr>\n",
       "    <tr>\n",
       "      <th>2013-01-06</th>\n",
       "      <td>-0.771720</td>\n",
       "      <td>-1.425466</td>\n",
       "      <td>-1.303242</td>\n",
       "      <td>0.556113</td>\n",
       "      <td>three</td>\n",
       "    </tr>\n",
       "  </tbody>\n",
       "</table>\n",
       "</div>"
      ],
      "text/plain": [
       "                   A         B         C         D      E\n",
       "2013-01-01  0.726445  1.735882 -1.302376 -0.096900    one\n",
       "2013-01-02 -0.588813  0.148342 -1.314971 -1.172509    one\n",
       "2013-01-03  0.598211  0.157975  1.502701  1.467109    two\n",
       "2013-01-04 -0.570405  0.548516  1.208919  2.318862  three\n",
       "2013-01-05  0.293895 -1.271813  0.095362  0.416804   four\n",
       "2013-01-06 -0.771720 -1.425466 -1.303242  0.556113  three"
      ]
     },
     "execution_count": 45,
     "metadata": {},
     "output_type": "execute_result"
    }
   ],
   "source": [
    "df2 = df.copy()\n",
    "\n",
    "df2[\"E\"] = [\"one\", \"one\", \"two\", \"three\", \"four\", \"three\"]\n",
    "\n",
    "df2"
   ]
  },
  {
   "cell_type": "code",
   "execution_count": null,
   "id": "40220d66",
   "metadata": {},
   "outputs": [
    {
     "data": {
      "text/html": [
       "<div>\n",
       "<style scoped>\n",
       "    .dataframe tbody tr th:only-of-type {\n",
       "        vertical-align: middle;\n",
       "    }\n",
       "\n",
       "    .dataframe tbody tr th {\n",
       "        vertical-align: top;\n",
       "    }\n",
       "\n",
       "    .dataframe thead th {\n",
       "        text-align: right;\n",
       "    }\n",
       "</style>\n",
       "<table border=\"1\" class=\"dataframe\">\n",
       "  <thead>\n",
       "    <tr style=\"text-align: right;\">\n",
       "      <th></th>\n",
       "      <th>A</th>\n",
       "      <th>B</th>\n",
       "      <th>C</th>\n",
       "      <th>D</th>\n",
       "      <th>E</th>\n",
       "    </tr>\n",
       "  </thead>\n",
       "  <tbody>\n",
       "    <tr>\n",
       "      <th>2013-01-03</th>\n",
       "      <td>0.598211</td>\n",
       "      <td>0.157975</td>\n",
       "      <td>1.502701</td>\n",
       "      <td>1.467109</td>\n",
       "      <td>two</td>\n",
       "    </tr>\n",
       "    <tr>\n",
       "      <th>2013-01-05</th>\n",
       "      <td>0.293895</td>\n",
       "      <td>-1.271813</td>\n",
       "      <td>0.095362</td>\n",
       "      <td>0.416804</td>\n",
       "      <td>four</td>\n",
       "    </tr>\n",
       "  </tbody>\n",
       "</table>\n",
       "</div>"
      ],
      "text/plain": [
       "                   A         B         C         D     E\n",
       "2013-01-03  0.598211  0.157975  1.502701  1.467109   two\n",
       "2013-01-05  0.293895 -1.271813  0.095362  0.416804  four"
      ]
     },
     "execution_count": 46,
     "metadata": {},
     "output_type": "execute_result"
    }
   ],
   "source": [
    "df2[df2[\"E\"].isin([\"two\", \"four\"])]"
   ]
  },
  {
   "attachments": {},
   "cell_type": "markdown",
   "id": "34c9b5ec",
   "metadata": {
    "lang": "ca"
   },
   "source": [
    "## Setting\n",
    "\n",
    "L'establiment d'una nova columna s'alinea automàticament les dades segons els índexs:"
   ]
  },
  {
   "cell_type": "code",
   "execution_count": null,
   "id": "ea53de76",
   "metadata": {},
   "outputs": [
    {
     "data": {
      "text/plain": [
       "2013-01-02    1\n",
       "2013-01-03    2\n",
       "2013-01-04    3\n",
       "2013-01-05    4\n",
       "2013-01-06    5\n",
       "2013-01-07    6\n",
       "Freq: D, dtype: int64"
      ]
     },
     "execution_count": 47,
     "metadata": {},
     "output_type": "execute_result"
    }
   ],
   "source": [
    "s1 = pd.Series([1, 2, 3, 4, 5, 6], index=pd.date_range(\"20130102\", periods=6))\n",
    "\n",
    "s1 "
   ]
  },
  {
   "cell_type": "code",
   "execution_count": null,
   "id": "3ddb0710",
   "metadata": {},
   "outputs": [
    {
     "data": {
      "text/html": [
       "<div>\n",
       "<style scoped>\n",
       "    .dataframe tbody tr th:only-of-type {\n",
       "        vertical-align: middle;\n",
       "    }\n",
       "\n",
       "    .dataframe tbody tr th {\n",
       "        vertical-align: top;\n",
       "    }\n",
       "\n",
       "    .dataframe thead th {\n",
       "        text-align: right;\n",
       "    }\n",
       "</style>\n",
       "<table border=\"1\" class=\"dataframe\">\n",
       "  <thead>\n",
       "    <tr style=\"text-align: right;\">\n",
       "      <th></th>\n",
       "      <th>A</th>\n",
       "      <th>B</th>\n",
       "      <th>C</th>\n",
       "      <th>D</th>\n",
       "    </tr>\n",
       "  </thead>\n",
       "  <tbody>\n",
       "    <tr>\n",
       "      <th>2013-01-01</th>\n",
       "      <td>-1.544294</td>\n",
       "      <td>0.167442</td>\n",
       "      <td>-1.465829</td>\n",
       "      <td>-0.092591</td>\n",
       "    </tr>\n",
       "    <tr>\n",
       "      <th>2013-01-02</th>\n",
       "      <td>0.990642</td>\n",
       "      <td>-0.944053</td>\n",
       "      <td>0.465763</td>\n",
       "      <td>-0.117636</td>\n",
       "    </tr>\n",
       "    <tr>\n",
       "      <th>2013-01-03</th>\n",
       "      <td>-0.273182</td>\n",
       "      <td>1.614548</td>\n",
       "      <td>1.304146</td>\n",
       "      <td>1.152775</td>\n",
       "    </tr>\n",
       "    <tr>\n",
       "      <th>2013-01-04</th>\n",
       "      <td>-0.566921</td>\n",
       "      <td>-1.499165</td>\n",
       "      <td>-0.952987</td>\n",
       "      <td>-1.312171</td>\n",
       "    </tr>\n",
       "    <tr>\n",
       "      <th>2013-01-05</th>\n",
       "      <td>1.854532</td>\n",
       "      <td>-0.030637</td>\n",
       "      <td>0.268291</td>\n",
       "      <td>-0.402365</td>\n",
       "    </tr>\n",
       "    <tr>\n",
       "      <th>2013-01-06</th>\n",
       "      <td>-0.050516</td>\n",
       "      <td>-0.763955</td>\n",
       "      <td>-1.601032</td>\n",
       "      <td>0.754585</td>\n",
       "    </tr>\n",
       "  </tbody>\n",
       "</table>\n",
       "</div>"
      ],
      "text/plain": [
       "                   A         B         C         D\n",
       "2013-01-01 -1.544294  0.167442 -1.465829 -0.092591\n",
       "2013-01-02  0.990642 -0.944053  0.465763 -0.117636\n",
       "2013-01-03 -0.273182  1.614548  1.304146  1.152775\n",
       "2013-01-04 -0.566921 -1.499165 -0.952987 -1.312171\n",
       "2013-01-05  1.854532 -0.030637  0.268291 -0.402365\n",
       "2013-01-06 -0.050516 -0.763955 -1.601032  0.754585"
      ]
     },
     "execution_count": 22,
     "metadata": {},
     "output_type": "execute_result"
    }
   ],
   "source": [
    "df"
   ]
  },
  {
   "cell_type": "code",
   "execution_count": null,
   "id": "082f15cc",
   "metadata": {},
   "outputs": [],
   "source": [
    "dict_frame = {\n",
    "    \"A\": [0.256, 1312, 1, 132, 424]\n",
    "    \n",
    "}"
   ]
  },
  {
   "cell_type": "code",
   "execution_count": null,
   "id": "759e1c8c",
   "metadata": {},
   "outputs": [],
   "source": [
    "dict_frame[\"B\"] = [1, 2, 3, 4, 5]"
   ]
  },
  {
   "cell_type": "code",
   "execution_count": null,
   "id": "f0ff9871",
   "metadata": {},
   "outputs": [
    {
     "data": {
      "text/plain": [
       "{'A': [0.256, 1312, 1, 132, 424], 'B': [1, 2, 3, 4, 5]}"
      ]
     },
     "execution_count": 28,
     "metadata": {},
     "output_type": "execute_result"
    }
   ],
   "source": [
    "dict_frame"
   ]
  },
  {
   "cell_type": "code",
   "execution_count": null,
   "id": "29ec949f",
   "metadata": {},
   "outputs": [],
   "source": [
    "df[\"F\"] = s1"
   ]
  },
  {
   "attachments": {},
   "cell_type": "markdown",
   "id": "ba2b9c92",
   "metadata": {
    "lang": "ca"
   },
   "source": [
    "Establiment de valors per etiqueta:"
   ]
  },
  {
   "cell_type": "code",
   "execution_count": null,
   "id": "a20504d2",
   "metadata": {},
   "outputs": [],
   "source": [
    "df.at[dates[0], \"A\"] = 0"
   ]
  },
  {
   "attachments": {},
   "cell_type": "markdown",
   "id": "d005819f",
   "metadata": {
    "lang": "ca"
   },
   "source": [
    "Establiment de valors per posició:"
   ]
  },
  {
   "cell_type": "code",
   "execution_count": null,
   "id": "9ebac335",
   "metadata": {},
   "outputs": [],
   "source": [
    "df.iat[0, 1] = 0"
   ]
  },
  {
   "attachments": {},
   "cell_type": "markdown",
   "id": "299157c3",
   "metadata": {
    "lang": "ca"
   },
   "source": [
    "Establiment de valors mitjançant l'assignació amb una matriu NumPy:"
   ]
  },
  {
   "cell_type": "code",
   "execution_count": null,
   "id": "56f0d596",
   "metadata": {},
   "outputs": [],
   "source": [
    "df.loc[:, \"D\"] = np.array([5] * len(df))"
   ]
  },
  {
   "attachments": {},
   "cell_type": "markdown",
   "id": "3742dc70",
   "metadata": {
    "lang": "ca"
   },
   "source": [
    "El resultat de les operacions de configuració anteriors:"
   ]
  },
  {
   "cell_type": "code",
   "execution_count": null,
   "id": "21f2f0f4",
   "metadata": {},
   "outputs": [
    {
     "data": {
      "text/html": [
       "<div>\n",
       "<style scoped>\n",
       "    .dataframe tbody tr th:only-of-type {\n",
       "        vertical-align: middle;\n",
       "    }\n",
       "\n",
       "    .dataframe tbody tr th {\n",
       "        vertical-align: top;\n",
       "    }\n",
       "\n",
       "    .dataframe thead th {\n",
       "        text-align: right;\n",
       "    }\n",
       "</style>\n",
       "<table border=\"1\" class=\"dataframe\">\n",
       "  <thead>\n",
       "    <tr style=\"text-align: right;\">\n",
       "      <th></th>\n",
       "      <th>A</th>\n",
       "      <th>B</th>\n",
       "      <th>C</th>\n",
       "      <th>D</th>\n",
       "      <th>F</th>\n",
       "    </tr>\n",
       "  </thead>\n",
       "  <tbody>\n",
       "    <tr>\n",
       "      <th>2013-01-01</th>\n",
       "      <td>0.000000</td>\n",
       "      <td>0.000000</td>\n",
       "      <td>-1.302376</td>\n",
       "      <td>5</td>\n",
       "      <td>NaN</td>\n",
       "    </tr>\n",
       "    <tr>\n",
       "      <th>2013-01-02</th>\n",
       "      <td>-0.588813</td>\n",
       "      <td>0.148342</td>\n",
       "      <td>-1.314971</td>\n",
       "      <td>5</td>\n",
       "      <td>1.0</td>\n",
       "    </tr>\n",
       "    <tr>\n",
       "      <th>2013-01-03</th>\n",
       "      <td>0.598211</td>\n",
       "      <td>0.157975</td>\n",
       "      <td>1.502701</td>\n",
       "      <td>5</td>\n",
       "      <td>2.0</td>\n",
       "    </tr>\n",
       "    <tr>\n",
       "      <th>2013-01-04</th>\n",
       "      <td>-0.570405</td>\n",
       "      <td>0.548516</td>\n",
       "      <td>1.208919</td>\n",
       "      <td>5</td>\n",
       "      <td>3.0</td>\n",
       "    </tr>\n",
       "    <tr>\n",
       "      <th>2013-01-05</th>\n",
       "      <td>0.293895</td>\n",
       "      <td>-1.271813</td>\n",
       "      <td>0.095362</td>\n",
       "      <td>5</td>\n",
       "      <td>4.0</td>\n",
       "    </tr>\n",
       "    <tr>\n",
       "      <th>2013-01-06</th>\n",
       "      <td>-0.771720</td>\n",
       "      <td>-1.425466</td>\n",
       "      <td>-1.303242</td>\n",
       "      <td>5</td>\n",
       "      <td>5.0</td>\n",
       "    </tr>\n",
       "  </tbody>\n",
       "</table>\n",
       "</div>"
      ],
      "text/plain": [
       "                   A         B         C  D    F\n",
       "2013-01-01  0.000000  0.000000 -1.302376  5  NaN\n",
       "2013-01-02 -0.588813  0.148342 -1.314971  5  1.0\n",
       "2013-01-03  0.598211  0.157975  1.502701  5  2.0\n",
       "2013-01-04 -0.570405  0.548516  1.208919  5  3.0\n",
       "2013-01-05  0.293895 -1.271813  0.095362  5  4.0\n",
       "2013-01-06 -0.771720 -1.425466 -1.303242  5  5.0"
      ]
     },
     "execution_count": 53,
     "metadata": {},
     "output_type": "execute_result"
    }
   ],
   "source": [
    "df"
   ]
  },
  {
   "attachments": {},
   "cell_type": "markdown",
   "id": "b5481fa4",
   "metadata": {
    "lang": "ca"
   },
   "source": [
    "Una operació `where` amb assignament:"
   ]
  },
  {
   "cell_type": "code",
   "execution_count": null,
   "id": "53a6b5fd",
   "metadata": {},
   "outputs": [
    {
     "data": {
      "text/html": [
       "<div>\n",
       "<style scoped>\n",
       "    .dataframe tbody tr th:only-of-type {\n",
       "        vertical-align: middle;\n",
       "    }\n",
       "\n",
       "    .dataframe tbody tr th {\n",
       "        vertical-align: top;\n",
       "    }\n",
       "\n",
       "    .dataframe thead th {\n",
       "        text-align: right;\n",
       "    }\n",
       "</style>\n",
       "<table border=\"1\" class=\"dataframe\">\n",
       "  <thead>\n",
       "    <tr style=\"text-align: right;\">\n",
       "      <th></th>\n",
       "      <th>A</th>\n",
       "      <th>B</th>\n",
       "      <th>C</th>\n",
       "      <th>D</th>\n",
       "      <th>F</th>\n",
       "    </tr>\n",
       "  </thead>\n",
       "  <tbody>\n",
       "    <tr>\n",
       "      <th>2013-01-01</th>\n",
       "      <td>0.000000</td>\n",
       "      <td>0.000000</td>\n",
       "      <td>-1.302376</td>\n",
       "      <td>-5</td>\n",
       "      <td>NaN</td>\n",
       "    </tr>\n",
       "    <tr>\n",
       "      <th>2013-01-02</th>\n",
       "      <td>-0.588813</td>\n",
       "      <td>-0.148342</td>\n",
       "      <td>-1.314971</td>\n",
       "      <td>-5</td>\n",
       "      <td>-1.0</td>\n",
       "    </tr>\n",
       "    <tr>\n",
       "      <th>2013-01-03</th>\n",
       "      <td>-0.598211</td>\n",
       "      <td>-0.157975</td>\n",
       "      <td>-1.502701</td>\n",
       "      <td>-5</td>\n",
       "      <td>-2.0</td>\n",
       "    </tr>\n",
       "    <tr>\n",
       "      <th>2013-01-04</th>\n",
       "      <td>-0.570405</td>\n",
       "      <td>-0.548516</td>\n",
       "      <td>-1.208919</td>\n",
       "      <td>-5</td>\n",
       "      <td>-3.0</td>\n",
       "    </tr>\n",
       "    <tr>\n",
       "      <th>2013-01-05</th>\n",
       "      <td>-0.293895</td>\n",
       "      <td>-1.271813</td>\n",
       "      <td>-0.095362</td>\n",
       "      <td>-5</td>\n",
       "      <td>-4.0</td>\n",
       "    </tr>\n",
       "    <tr>\n",
       "      <th>2013-01-06</th>\n",
       "      <td>-0.771720</td>\n",
       "      <td>-1.425466</td>\n",
       "      <td>-1.303242</td>\n",
       "      <td>-5</td>\n",
       "      <td>-5.0</td>\n",
       "    </tr>\n",
       "  </tbody>\n",
       "</table>\n",
       "</div>"
      ],
      "text/plain": [
       "                   A         B         C  D    F\n",
       "2013-01-01  0.000000  0.000000 -1.302376 -5  NaN\n",
       "2013-01-02 -0.588813 -0.148342 -1.314971 -5 -1.0\n",
       "2013-01-03 -0.598211 -0.157975 -1.502701 -5 -2.0\n",
       "2013-01-04 -0.570405 -0.548516 -1.208919 -5 -3.0\n",
       "2013-01-05 -0.293895 -1.271813 -0.095362 -5 -4.0\n",
       "2013-01-06 -0.771720 -1.425466 -1.303242 -5 -5.0"
      ]
     },
     "execution_count": 54,
     "metadata": {},
     "output_type": "execute_result"
    }
   ],
   "source": [
    "df2 = df.copy()\n",
    "\n",
    "df2[df2 > 0] = -df2\n",
    "\n",
    "df2"
   ]
  },
  {
   "attachments": {},
   "cell_type": "markdown",
   "id": "aeb3d68b",
   "metadata": {
    "lang": "ca"
   },
   "source": [
    "## Missing data\n",
    "\n",
    "Pandas utilitza principalment el valor np.nan per representar les dades que falten. Per defecte no s'inclou en els càlculs.\n",
    "\n",
    "La reindexació us permet canviar/afegir/suprimir l'índex en un eix especificat. Això retorna una còpia de les dades:"
   ]
  },
  {
   "cell_type": "code",
   "execution_count": null,
   "id": "9dd187eb",
   "metadata": {},
   "outputs": [
    {
     "data": {
      "text/html": [
       "<div>\n",
       "<style scoped>\n",
       "    .dataframe tbody tr th:only-of-type {\n",
       "        vertical-align: middle;\n",
       "    }\n",
       "\n",
       "    .dataframe tbody tr th {\n",
       "        vertical-align: top;\n",
       "    }\n",
       "\n",
       "    .dataframe thead th {\n",
       "        text-align: right;\n",
       "    }\n",
       "</style>\n",
       "<table border=\"1\" class=\"dataframe\">\n",
       "  <thead>\n",
       "    <tr style=\"text-align: right;\">\n",
       "      <th></th>\n",
       "      <th>A</th>\n",
       "      <th>B</th>\n",
       "      <th>C</th>\n",
       "      <th>D</th>\n",
       "      <th>E</th>\n",
       "    </tr>\n",
       "  </thead>\n",
       "  <tbody>\n",
       "    <tr>\n",
       "      <th>2013-01-01</th>\n",
       "      <td>-1.397802</td>\n",
       "      <td>-0.903217</td>\n",
       "      <td>-0.305947</td>\n",
       "      <td>0.191437</td>\n",
       "      <td>1.0</td>\n",
       "    </tr>\n",
       "    <tr>\n",
       "      <th>2013-01-02</th>\n",
       "      <td>-0.361313</td>\n",
       "      <td>0.356437</td>\n",
       "      <td>1.025573</td>\n",
       "      <td>0.705445</td>\n",
       "      <td>1.0</td>\n",
       "    </tr>\n",
       "    <tr>\n",
       "      <th>2013-01-03</th>\n",
       "      <td>-0.981388</td>\n",
       "      <td>0.463933</td>\n",
       "      <td>-0.536539</td>\n",
       "      <td>-0.327819</td>\n",
       "      <td>NaN</td>\n",
       "    </tr>\n",
       "    <tr>\n",
       "      <th>2013-01-04</th>\n",
       "      <td>0.392953</td>\n",
       "      <td>-1.283478</td>\n",
       "      <td>-0.948796</td>\n",
       "      <td>-1.497212</td>\n",
       "      <td>NaN</td>\n",
       "    </tr>\n",
       "  </tbody>\n",
       "</table>\n",
       "</div>"
      ],
      "text/plain": [
       "                   A         B         C         D    E\n",
       "2013-01-01 -1.397802 -0.903217 -0.305947  0.191437  1.0\n",
       "2013-01-02 -0.361313  0.356437  1.025573  0.705445  1.0\n",
       "2013-01-03 -0.981388  0.463933 -0.536539 -0.327819  NaN\n",
       "2013-01-04  0.392953 -1.283478 -0.948796 -1.497212  NaN"
      ]
     },
     "execution_count": 13,
     "metadata": {},
     "output_type": "execute_result"
    }
   ],
   "source": [
    "df1 = df.reindex(index=dates[0:4], columns=list(df.columns) + [\"E\"])\n",
    "\n",
    "df1.loc[dates[0] : dates[1], \"E\"] = 1\n",
    "\n",
    "df1"
   ]
  },
  {
   "attachments": {},
   "cell_type": "markdown",
   "id": "d2742964",
   "metadata": {
    "lang": "ca"
   },
   "source": [
    "Per eliminar les files a les quals falten dades:"
   ]
  },
  {
   "cell_type": "code",
   "execution_count": null,
   "id": "04f0f7c3",
   "metadata": {
    "scrolled": true
   },
   "outputs": [
    {
     "data": {
      "text/html": [
       "<div>\n",
       "<style scoped>\n",
       "    .dataframe tbody tr th:only-of-type {\n",
       "        vertical-align: middle;\n",
       "    }\n",
       "\n",
       "    .dataframe tbody tr th {\n",
       "        vertical-align: top;\n",
       "    }\n",
       "\n",
       "    .dataframe thead th {\n",
       "        text-align: right;\n",
       "    }\n",
       "</style>\n",
       "<table border=\"1\" class=\"dataframe\">\n",
       "  <thead>\n",
       "    <tr style=\"text-align: right;\">\n",
       "      <th></th>\n",
       "      <th>A</th>\n",
       "      <th>B</th>\n",
       "      <th>C</th>\n",
       "      <th>D</th>\n",
       "      <th>E</th>\n",
       "    </tr>\n",
       "  </thead>\n",
       "  <tbody>\n",
       "    <tr>\n",
       "      <th>2013-01-01</th>\n",
       "      <td>-1.397802</td>\n",
       "      <td>-0.903217</td>\n",
       "      <td>-0.305947</td>\n",
       "      <td>0.191437</td>\n",
       "      <td>1.0</td>\n",
       "    </tr>\n",
       "    <tr>\n",
       "      <th>2013-01-02</th>\n",
       "      <td>-0.361313</td>\n",
       "      <td>0.356437</td>\n",
       "      <td>1.025573</td>\n",
       "      <td>0.705445</td>\n",
       "      <td>1.0</td>\n",
       "    </tr>\n",
       "  </tbody>\n",
       "</table>\n",
       "</div>"
      ],
      "text/plain": [
       "                   A         B         C         D    E\n",
       "2013-01-01 -1.397802 -0.903217 -0.305947  0.191437  1.0\n",
       "2013-01-02 -0.361313  0.356437  1.025573  0.705445  1.0"
      ]
     },
     "execution_count": 14,
     "metadata": {},
     "output_type": "execute_result"
    }
   ],
   "source": [
    "df1.dropna(how=\"any\")\n",
    "#filas donde había un NaN han desaparecido"
   ]
  },
  {
   "cell_type": "code",
   "execution_count": null,
   "id": "9a08a6ca",
   "metadata": {},
   "outputs": [
    {
     "data": {
      "text/html": [
       "<div>\n",
       "<style scoped>\n",
       "    .dataframe tbody tr th:only-of-type {\n",
       "        vertical-align: middle;\n",
       "    }\n",
       "\n",
       "    .dataframe tbody tr th {\n",
       "        vertical-align: top;\n",
       "    }\n",
       "\n",
       "    .dataframe thead th {\n",
       "        text-align: right;\n",
       "    }\n",
       "</style>\n",
       "<table border=\"1\" class=\"dataframe\">\n",
       "  <thead>\n",
       "    <tr style=\"text-align: right;\">\n",
       "      <th></th>\n",
       "      <th>A</th>\n",
       "      <th>B</th>\n",
       "      <th>C</th>\n",
       "      <th>D</th>\n",
       "      <th>E</th>\n",
       "    </tr>\n",
       "  </thead>\n",
       "  <tbody>\n",
       "    <tr>\n",
       "      <th>2013-01-01</th>\n",
       "      <td>-1.397802</td>\n",
       "      <td>-0.903217</td>\n",
       "      <td>-0.305947</td>\n",
       "      <td>0.191437</td>\n",
       "      <td>1.0</td>\n",
       "    </tr>\n",
       "    <tr>\n",
       "      <th>2013-01-02</th>\n",
       "      <td>-0.361313</td>\n",
       "      <td>0.356437</td>\n",
       "      <td>1.025573</td>\n",
       "      <td>0.705445</td>\n",
       "      <td>1.0</td>\n",
       "    </tr>\n",
       "    <tr>\n",
       "      <th>2013-01-03</th>\n",
       "      <td>-0.981388</td>\n",
       "      <td>0.463933</td>\n",
       "      <td>-0.536539</td>\n",
       "      <td>-0.327819</td>\n",
       "      <td>NaN</td>\n",
       "    </tr>\n",
       "    <tr>\n",
       "      <th>2013-01-04</th>\n",
       "      <td>0.392953</td>\n",
       "      <td>-1.283478</td>\n",
       "      <td>-0.948796</td>\n",
       "      <td>-1.497212</td>\n",
       "      <td>NaN</td>\n",
       "    </tr>\n",
       "  </tbody>\n",
       "</table>\n",
       "</div>"
      ],
      "text/plain": [
       "                   A         B         C         D    E\n",
       "2013-01-01 -1.397802 -0.903217 -0.305947  0.191437  1.0\n",
       "2013-01-02 -0.361313  0.356437  1.025573  0.705445  1.0\n",
       "2013-01-03 -0.981388  0.463933 -0.536539 -0.327819  NaN\n",
       "2013-01-04  0.392953 -1.283478 -0.948796 -1.497212  NaN"
      ]
     },
     "execution_count": 15,
     "metadata": {},
     "output_type": "execute_result"
    }
   ],
   "source": [
    "df1.dropna(how=\"all\")\n"
   ]
  },
  {
   "attachments": {},
   "cell_type": "markdown",
   "id": "afe1131e",
   "metadata": {
    "lang": "ca"
   },
   "source": [
    "Omplint les dades que falten:"
   ]
  },
  {
   "cell_type": "code",
   "execution_count": null,
   "id": "ea52dd91",
   "metadata": {},
   "outputs": [
    {
     "data": {
      "text/html": [
       "<div>\n",
       "<style scoped>\n",
       "    .dataframe tbody tr th:only-of-type {\n",
       "        vertical-align: middle;\n",
       "    }\n",
       "\n",
       "    .dataframe tbody tr th {\n",
       "        vertical-align: top;\n",
       "    }\n",
       "\n",
       "    .dataframe thead th {\n",
       "        text-align: right;\n",
       "    }\n",
       "</style>\n",
       "<table border=\"1\" class=\"dataframe\">\n",
       "  <thead>\n",
       "    <tr style=\"text-align: right;\">\n",
       "      <th></th>\n",
       "      <th>A</th>\n",
       "      <th>B</th>\n",
       "      <th>C</th>\n",
       "      <th>D</th>\n",
       "      <th>E</th>\n",
       "    </tr>\n",
       "  </thead>\n",
       "  <tbody>\n",
       "    <tr>\n",
       "      <th>2013-01-01</th>\n",
       "      <td>-1.397802</td>\n",
       "      <td>-0.903217</td>\n",
       "      <td>-0.305947</td>\n",
       "      <td>0.191437</td>\n",
       "      <td>1.0</td>\n",
       "    </tr>\n",
       "    <tr>\n",
       "      <th>2013-01-02</th>\n",
       "      <td>-0.361313</td>\n",
       "      <td>0.356437</td>\n",
       "      <td>1.025573</td>\n",
       "      <td>0.705445</td>\n",
       "      <td>1.0</td>\n",
       "    </tr>\n",
       "    <tr>\n",
       "      <th>2013-01-03</th>\n",
       "      <td>-0.981388</td>\n",
       "      <td>0.463933</td>\n",
       "      <td>-0.536539</td>\n",
       "      <td>-0.327819</td>\n",
       "      <td>5.0</td>\n",
       "    </tr>\n",
       "    <tr>\n",
       "      <th>2013-01-04</th>\n",
       "      <td>0.392953</td>\n",
       "      <td>-1.283478</td>\n",
       "      <td>-0.948796</td>\n",
       "      <td>-1.497212</td>\n",
       "      <td>5.0</td>\n",
       "    </tr>\n",
       "  </tbody>\n",
       "</table>\n",
       "</div>"
      ],
      "text/plain": [
       "                   A         B         C         D    E\n",
       "2013-01-01 -1.397802 -0.903217 -0.305947  0.191437  1.0\n",
       "2013-01-02 -0.361313  0.356437  1.025573  0.705445  1.0\n",
       "2013-01-03 -0.981388  0.463933 -0.536539 -0.327819  5.0\n",
       "2013-01-04  0.392953 -1.283478 -0.948796 -1.497212  5.0"
      ]
     },
     "execution_count": 16,
     "metadata": {},
     "output_type": "execute_result"
    }
   ],
   "source": [
    "df1.fillna(value=5)\n",
    "#en este caso se ha añadido 5, pero se pueden añadir dataframes, diccionarios, etc"
   ]
  },
  {
   "attachments": {},
   "cell_type": "markdown",
   "id": "180b26f0",
   "metadata": {
    "lang": "ca"
   },
   "source": [
    "Per obtenir la màscara booleana on els valors són `nan`:"
   ]
  },
  {
   "cell_type": "code",
   "execution_count": null,
   "id": "7ffc5ab3",
   "metadata": {},
   "outputs": [
    {
     "data": {
      "text/plain": [
       "True"
      ]
     },
     "execution_count": 17,
     "metadata": {},
     "output_type": "execute_result"
    }
   ],
   "source": [
    "a = None\n",
    "a is None"
   ]
  },
  {
   "cell_type": "code",
   "execution_count": null,
   "id": "28cd0f6c",
   "metadata": {},
   "outputs": [
    {
     "data": {
      "text/html": [
       "<div>\n",
       "<style scoped>\n",
       "    .dataframe tbody tr th:only-of-type {\n",
       "        vertical-align: middle;\n",
       "    }\n",
       "\n",
       "    .dataframe tbody tr th {\n",
       "        vertical-align: top;\n",
       "    }\n",
       "\n",
       "    .dataframe thead th {\n",
       "        text-align: right;\n",
       "    }\n",
       "</style>\n",
       "<table border=\"1\" class=\"dataframe\">\n",
       "  <thead>\n",
       "    <tr style=\"text-align: right;\">\n",
       "      <th></th>\n",
       "      <th>A</th>\n",
       "      <th>B</th>\n",
       "      <th>C</th>\n",
       "      <th>D</th>\n",
       "      <th>E</th>\n",
       "    </tr>\n",
       "  </thead>\n",
       "  <tbody>\n",
       "    <tr>\n",
       "      <th>2013-01-01</th>\n",
       "      <td>False</td>\n",
       "      <td>False</td>\n",
       "      <td>False</td>\n",
       "      <td>False</td>\n",
       "      <td>False</td>\n",
       "    </tr>\n",
       "    <tr>\n",
       "      <th>2013-01-02</th>\n",
       "      <td>False</td>\n",
       "      <td>False</td>\n",
       "      <td>False</td>\n",
       "      <td>False</td>\n",
       "      <td>False</td>\n",
       "    </tr>\n",
       "    <tr>\n",
       "      <th>2013-01-03</th>\n",
       "      <td>False</td>\n",
       "      <td>False</td>\n",
       "      <td>False</td>\n",
       "      <td>False</td>\n",
       "      <td>True</td>\n",
       "    </tr>\n",
       "    <tr>\n",
       "      <th>2013-01-04</th>\n",
       "      <td>False</td>\n",
       "      <td>False</td>\n",
       "      <td>False</td>\n",
       "      <td>False</td>\n",
       "      <td>True</td>\n",
       "    </tr>\n",
       "  </tbody>\n",
       "</table>\n",
       "</div>"
      ],
      "text/plain": [
       "                A      B      C      D      E\n",
       "2013-01-01  False  False  False  False  False\n",
       "2013-01-02  False  False  False  False  False\n",
       "2013-01-03  False  False  False  False   True\n",
       "2013-01-04  False  False  False  False   True"
      ]
     },
     "execution_count": 18,
     "metadata": {},
     "output_type": "execute_result"
    }
   ],
   "source": [
    "df1.isna()"
   ]
  },
  {
   "cell_type": "code",
   "execution_count": null,
   "id": "f66c012f",
   "metadata": {},
   "outputs": [
    {
     "data": {
      "text/html": [
       "<div>\n",
       "<style scoped>\n",
       "    .dataframe tbody tr th:only-of-type {\n",
       "        vertical-align: middle;\n",
       "    }\n",
       "\n",
       "    .dataframe tbody tr th {\n",
       "        vertical-align: top;\n",
       "    }\n",
       "\n",
       "    .dataframe thead th {\n",
       "        text-align: right;\n",
       "    }\n",
       "</style>\n",
       "<table border=\"1\" class=\"dataframe\">\n",
       "  <thead>\n",
       "    <tr style=\"text-align: right;\">\n",
       "      <th></th>\n",
       "      <th>A</th>\n",
       "      <th>B</th>\n",
       "      <th>C</th>\n",
       "      <th>D</th>\n",
       "      <th>F</th>\n",
       "      <th>E</th>\n",
       "    </tr>\n",
       "  </thead>\n",
       "  <tbody>\n",
       "    <tr>\n",
       "      <th>2013-01-01</th>\n",
       "      <td>False</td>\n",
       "      <td>False</td>\n",
       "      <td>False</td>\n",
       "      <td>False</td>\n",
       "      <td>True</td>\n",
       "      <td>False</td>\n",
       "    </tr>\n",
       "    <tr>\n",
       "      <th>2013-01-02</th>\n",
       "      <td>False</td>\n",
       "      <td>False</td>\n",
       "      <td>False</td>\n",
       "      <td>False</td>\n",
       "      <td>False</td>\n",
       "      <td>False</td>\n",
       "    </tr>\n",
       "    <tr>\n",
       "      <th>2013-01-03</th>\n",
       "      <td>False</td>\n",
       "      <td>False</td>\n",
       "      <td>False</td>\n",
       "      <td>False</td>\n",
       "      <td>False</td>\n",
       "      <td>True</td>\n",
       "    </tr>\n",
       "    <tr>\n",
       "      <th>2013-01-04</th>\n",
       "      <td>False</td>\n",
       "      <td>False</td>\n",
       "      <td>False</td>\n",
       "      <td>False</td>\n",
       "      <td>False</td>\n",
       "      <td>True</td>\n",
       "    </tr>\n",
       "  </tbody>\n",
       "</table>\n",
       "</div>"
      ],
      "text/plain": [
       "                A      B      C      D      F      E\n",
       "2013-01-01  False  False  False  False   True  False\n",
       "2013-01-02  False  False  False  False  False  False\n",
       "2013-01-03  False  False  False  False  False   True\n",
       "2013-01-04  False  False  False  False  False   True"
      ]
     },
     "execution_count": 58,
     "metadata": {},
     "output_type": "execute_result"
    }
   ],
   "source": [
    "pd.isna(df1)"
   ]
  },
  {
   "attachments": {},
   "cell_type": "markdown",
   "id": "06858412",
   "metadata": {
    "lang": "ca"
   },
   "source": [
    "## Operacions\n",
    "\n",
    "### Estadístiques\n",
    "\n",
    "Les operacions en general exclouen les dades que falten.\n",
    "\n",
    "Realització d'una estadística descriptiva:"
   ]
  },
  {
   "cell_type": "code",
   "execution_count": null,
   "id": "0df7bd34",
   "metadata": {},
   "outputs": [
    {
     "data": {
      "text/plain": [
       "A   -0.525935\n",
       "B   -0.231530\n",
       "C   -0.422970\n",
       "D   -0.152731\n",
       "dtype: float64"
      ]
     },
     "execution_count": 24,
     "metadata": {},
     "output_type": "execute_result"
    }
   ],
   "source": [
    "df.mean()"
   ]
  },
  {
   "attachments": {},
   "cell_type": "markdown",
   "id": "053d2cab",
   "metadata": {
    "lang": "ca"
   },
   "source": [
    "La mateixa operació a l'altre eix:"
   ]
  },
  {
   "cell_type": "code",
   "execution_count": null,
   "id": "6fcb0feb",
   "metadata": {},
   "outputs": [
    {
     "data": {
      "text/plain": [
       "2013-01-01    0.924406\n",
       "2013-01-02    0.848912\n",
       "2013-01-03    1.851777\n",
       "2013-01-04    1.837406\n",
       "2013-01-05    1.623489\n",
       "2013-01-06    1.299914\n",
       "Freq: D, dtype: float64"
      ]
     },
     "execution_count": 61,
     "metadata": {},
     "output_type": "execute_result"
    }
   ],
   "source": [
    "df.mean(1)\n"
   ]
  },
  {
   "attachments": {},
   "cell_type": "markdown",
   "id": "65b6ac13",
   "metadata": {
    "lang": "ca"
   },
   "source": [
    "Operar amb objectes que tenen diferents dimensionalitats i necessiten alineació. A més, Pandas fa broadcasting automàticament al llarg de la dimensió especificada"
   ]
  },
  {
   "cell_type": "code",
   "execution_count": null,
   "id": "30a75b0e",
   "metadata": {},
   "outputs": [
    {
     "data": {
      "text/plain": [
       "2013-01-01    NaN\n",
       "2013-01-02    NaN\n",
       "2013-01-03    1.0\n",
       "2013-01-04    3.0\n",
       "2013-01-05    5.0\n",
       "2013-01-06    NaN\n",
       "Freq: D, dtype: float64"
      ]
     },
     "execution_count": 62,
     "metadata": {},
     "output_type": "execute_result"
    }
   ],
   "source": [
    "s = pd.Series([1, 3, 5, np.nan, 6, 8], index=dates).shift(2)\n",
    "\n",
    "s"
   ]
  },
  {
   "cell_type": "code",
   "execution_count": null,
   "id": "1fe862fd",
   "metadata": {},
   "outputs": [
    {
     "data": {
      "text/html": [
       "<div>\n",
       "<style scoped>\n",
       "    .dataframe tbody tr th:only-of-type {\n",
       "        vertical-align: middle;\n",
       "    }\n",
       "\n",
       "    .dataframe tbody tr th {\n",
       "        vertical-align: top;\n",
       "    }\n",
       "\n",
       "    .dataframe thead th {\n",
       "        text-align: right;\n",
       "    }\n",
       "</style>\n",
       "<table border=\"1\" class=\"dataframe\">\n",
       "  <thead>\n",
       "    <tr style=\"text-align: right;\">\n",
       "      <th></th>\n",
       "      <th>A</th>\n",
       "      <th>B</th>\n",
       "      <th>C</th>\n",
       "      <th>D</th>\n",
       "      <th>F</th>\n",
       "    </tr>\n",
       "  </thead>\n",
       "  <tbody>\n",
       "    <tr>\n",
       "      <th>2013-01-01</th>\n",
       "      <td>NaN</td>\n",
       "      <td>NaN</td>\n",
       "      <td>NaN</td>\n",
       "      <td>NaN</td>\n",
       "      <td>NaN</td>\n",
       "    </tr>\n",
       "    <tr>\n",
       "      <th>2013-01-02</th>\n",
       "      <td>NaN</td>\n",
       "      <td>NaN</td>\n",
       "      <td>NaN</td>\n",
       "      <td>NaN</td>\n",
       "      <td>NaN</td>\n",
       "    </tr>\n",
       "    <tr>\n",
       "      <th>2013-01-03</th>\n",
       "      <td>-0.401789</td>\n",
       "      <td>-0.842025</td>\n",
       "      <td>0.502701</td>\n",
       "      <td>4.0</td>\n",
       "      <td>1.0</td>\n",
       "    </tr>\n",
       "    <tr>\n",
       "      <th>2013-01-04</th>\n",
       "      <td>-3.570405</td>\n",
       "      <td>-2.451484</td>\n",
       "      <td>-1.791081</td>\n",
       "      <td>2.0</td>\n",
       "      <td>0.0</td>\n",
       "    </tr>\n",
       "    <tr>\n",
       "      <th>2013-01-05</th>\n",
       "      <td>-4.706105</td>\n",
       "      <td>-6.271813</td>\n",
       "      <td>-4.904638</td>\n",
       "      <td>0.0</td>\n",
       "      <td>-1.0</td>\n",
       "    </tr>\n",
       "    <tr>\n",
       "      <th>2013-01-06</th>\n",
       "      <td>NaN</td>\n",
       "      <td>NaN</td>\n",
       "      <td>NaN</td>\n",
       "      <td>NaN</td>\n",
       "      <td>NaN</td>\n",
       "    </tr>\n",
       "  </tbody>\n",
       "</table>\n",
       "</div>"
      ],
      "text/plain": [
       "                   A         B         C    D    F\n",
       "2013-01-01       NaN       NaN       NaN  NaN  NaN\n",
       "2013-01-02       NaN       NaN       NaN  NaN  NaN\n",
       "2013-01-03 -0.401789 -0.842025  0.502701  4.0  1.0\n",
       "2013-01-04 -3.570405 -2.451484 -1.791081  2.0  0.0\n",
       "2013-01-05 -4.706105 -6.271813 -4.904638  0.0 -1.0\n",
       "2013-01-06       NaN       NaN       NaN  NaN  NaN"
      ]
     },
     "execution_count": 63,
     "metadata": {},
     "output_type": "execute_result"
    }
   ],
   "source": [
    "df.sub(s, axis=\"index\")"
   ]
  },
  {
   "attachments": {},
   "cell_type": "markdown",
   "id": "5bb1f67b",
   "metadata": {
    "lang": "ca"
   },
   "source": [
    "### Apply\n",
    "\n",
    "Aplicació de funcions a les dades:"
   ]
  },
  {
   "cell_type": "code",
   "execution_count": null,
   "id": "5fee5d2a",
   "metadata": {},
   "outputs": [
    {
     "data": {
      "text/html": [
       "<div>\n",
       "<style scoped>\n",
       "    .dataframe tbody tr th:only-of-type {\n",
       "        vertical-align: middle;\n",
       "    }\n",
       "\n",
       "    .dataframe tbody tr th {\n",
       "        vertical-align: top;\n",
       "    }\n",
       "\n",
       "    .dataframe thead th {\n",
       "        text-align: right;\n",
       "    }\n",
       "</style>\n",
       "<table border=\"1\" class=\"dataframe\">\n",
       "  <thead>\n",
       "    <tr style=\"text-align: right;\">\n",
       "      <th></th>\n",
       "      <th>A</th>\n",
       "      <th>B</th>\n",
       "      <th>C</th>\n",
       "      <th>D</th>\n",
       "    </tr>\n",
       "  </thead>\n",
       "  <tbody>\n",
       "    <tr>\n",
       "      <th>2013-01-01</th>\n",
       "      <td>0.092405</td>\n",
       "      <td>-0.546274</td>\n",
       "      <td>-1.707632</td>\n",
       "      <td>-0.183000</td>\n",
       "    </tr>\n",
       "    <tr>\n",
       "      <th>2013-01-02</th>\n",
       "      <td>-0.319831</td>\n",
       "      <td>-0.144664</td>\n",
       "      <td>-4.016314</td>\n",
       "      <td>0.021420</td>\n",
       "    </tr>\n",
       "    <tr>\n",
       "      <th>2013-01-03</th>\n",
       "      <td>-1.213035</td>\n",
       "      <td>0.247374</td>\n",
       "      <td>-4.000289</td>\n",
       "      <td>-0.290257</td>\n",
       "    </tr>\n",
       "    <tr>\n",
       "      <th>2013-01-04</th>\n",
       "      <td>-0.381706</td>\n",
       "      <td>1.159319</td>\n",
       "      <td>-4.176553</td>\n",
       "      <td>-0.776978</td>\n",
       "    </tr>\n",
       "    <tr>\n",
       "      <th>2013-01-05</th>\n",
       "      <td>-0.875833</td>\n",
       "      <td>0.224621</td>\n",
       "      <td>-4.162911</td>\n",
       "      <td>1.174238</td>\n",
       "    </tr>\n",
       "    <tr>\n",
       "      <th>2013-01-06</th>\n",
       "      <td>-1.582051</td>\n",
       "      <td>-0.982425</td>\n",
       "      <td>-4.567953</td>\n",
       "      <td>1.461266</td>\n",
       "    </tr>\n",
       "  </tbody>\n",
       "</table>\n",
       "</div>"
      ],
      "text/plain": [
       "                   A         B         C         D\n",
       "2013-01-01  0.092405 -0.546274 -1.707632 -0.183000\n",
       "2013-01-02 -0.319831 -0.144664 -4.016314  0.021420\n",
       "2013-01-03 -1.213035  0.247374 -4.000289 -0.290257\n",
       "2013-01-04 -0.381706  1.159319 -4.176553 -0.776978\n",
       "2013-01-05 -0.875833  0.224621 -4.162911  1.174238\n",
       "2013-01-06 -1.582051 -0.982425 -4.567953  1.461266"
      ]
     },
     "execution_count": 9,
     "metadata": {},
     "output_type": "execute_result"
    }
   ],
   "source": [
    "df.apply(np.cumsum)"
   ]
  },
  {
   "cell_type": "code",
   "execution_count": null,
   "id": "231c251e",
   "metadata": {},
   "outputs": [],
   "source": [
    "def value_range(row):\n",
    "    return row.max() - row.min()"
   ]
  },
  {
   "cell_type": "code",
   "execution_count": null,
   "id": "6233ebe3",
   "metadata": {},
   "outputs": [
    {
     "data": {
      "text/plain": [
       "2013-01-01    1.800037\n",
       "2013-01-02    2.710292\n",
       "2013-01-03    1.285242\n",
       "2013-01-04    1.398667\n",
       "2013-01-05    2.885915\n",
       "2013-01-06    1.494074\n",
       "Freq: D, dtype: float64"
      ]
     },
     "execution_count": 13,
     "metadata": {},
     "output_type": "execute_result"
    }
   ],
   "source": [
    "df.apply(value_range, axis=1)"
   ]
  },
  {
   "cell_type": "code",
   "execution_count": null,
   "id": "900a11d9",
   "metadata": {},
   "outputs": [
    {
     "data": {
      "text/plain": [
       "2013-01-01    1.800037\n",
       "2013-01-02    2.710292\n",
       "2013-01-03    1.285242\n",
       "2013-01-04    1.398667\n",
       "2013-01-05    2.885915\n",
       "2013-01-06    1.494074\n",
       "Freq: D, dtype: float64"
      ]
     },
     "execution_count": 14,
     "metadata": {},
     "output_type": "execute_result"
    }
   ],
   "source": [
    "df.apply(lambda x: x.max() - x.min(), axis=1)\n"
   ]
  },
  {
   "attachments": {},
   "cell_type": "markdown",
   "id": "f4ba9f87",
   "metadata": {
    "lang": "ca"
   },
   "source": [
    "## Histogramming\n",
    "\n",
    "El mètode value_counts() de Series i la funció de nivell superior calcula un histograma d'una matriu 1D de valors. També es pot utilitzar com a funció en matrius normals:"
   ]
  },
  {
   "cell_type": "code",
   "execution_count": null,
   "id": "b935810e",
   "metadata": {},
   "outputs": [
    {
     "data": {
      "text/plain": [
       "0    0\n",
       "1    0\n",
       "2    3\n",
       "3    0\n",
       "4    1\n",
       "5    0\n",
       "6    4\n",
       "7    5\n",
       "8    6\n",
       "9    1\n",
       "dtype: int64"
      ]
     },
     "execution_count": 66,
     "metadata": {},
     "output_type": "execute_result"
    }
   ],
   "source": [
    "s = pd.Series(np.random.randint(0, 7, size=10))\n",
    "\n",
    "s"
   ]
  },
  {
   "cell_type": "code",
   "execution_count": null,
   "id": "952f17ca",
   "metadata": {},
   "outputs": [
    {
     "data": {
      "text/plain": [
       "0    4\n",
       "1    2\n",
       "3    1\n",
       "4    1\n",
       "5    1\n",
       "6    1\n",
       "dtype: int64"
      ]
     },
     "execution_count": 67,
     "metadata": {},
     "output_type": "execute_result"
    }
   ],
   "source": [
    "s.value_counts()"
   ]
  },
  {
   "attachments": {},
   "cell_type": "markdown",
   "id": "900dbdda",
   "metadata": {
    "lang": "ca"
   },
   "source": [
    "El mètode value_counts() es pot utilitzar per comptar combinacions en diverses columnes. Per defecte s'utilitzen totes les columnes, però es pot seleccionar un subconjunt mitjançant l'argument subconjunt."
   ]
  },
  {
   "cell_type": "code",
   "execution_count": null,
   "id": "d37d64ee",
   "metadata": {},
   "outputs": [
    {
     "data": {
      "text/plain": [
       "a  b\n",
       "1  x    1\n",
       "2  x    1\n",
       "3  y    1\n",
       "4  y    1\n",
       "Name: count, dtype: int64"
      ]
     },
     "execution_count": 28,
     "metadata": {},
     "output_type": "execute_result"
    }
   ],
   "source": [
    "data = {\"a\": [1, 2, 3, 4], \"b\": [\"x\", \"x\", \"y\", \"y\"]}\n",
    "\n",
    "frame = pd.DataFrame(data)\n",
    "\n",
    "frame.value_counts()"
   ]
  },
  {
   "attachments": {},
   "cell_type": "markdown",
   "id": "cda7c6d9",
   "metadata": {
    "lang": "en"
   },
   "source": [
    "Similarly, you can get the most frequently occurring value(s), i.e. the mode, of the values in a Series or DataFrame:"
   ]
  },
  {
   "attachments": {},
   "cell_type": "markdown",
   "id": "c2f9c5ed",
   "metadata": {
    "lang": "ca"
   },
   "source": [
    "De la mateixa manera, podeu obtenir els valors més freqüents, és a dir, el mode, dels valors d'una sèrie o un DataFrame:"
   ]
  },
  {
   "cell_type": "code",
   "execution_count": null,
   "id": "30b2518b",
   "metadata": {},
   "outputs": [
    {
     "data": {
      "text/plain": [
       "0    3\n",
       "1    7\n",
       "dtype: int64"
      ]
     },
     "execution_count": 27,
     "metadata": {},
     "output_type": "execute_result"
    }
   ],
   "source": [
    "s5 = pd.Series([1, 1, 3, 3, 3, 5, 5, 7, 7, 7])\n",
    "\n",
    "s5.mode()"
   ]
  },
  {
   "cell_type": "code",
   "execution_count": null,
   "id": "7aaf855b",
   "metadata": {},
   "outputs": [
    {
     "data": {
      "text/html": [
       "<div>\n",
       "<style scoped>\n",
       "    .dataframe tbody tr th:only-of-type {\n",
       "        vertical-align: middle;\n",
       "    }\n",
       "\n",
       "    .dataframe tbody tr th {\n",
       "        vertical-align: top;\n",
       "    }\n",
       "\n",
       "    .dataframe thead th {\n",
       "        text-align: right;\n",
       "    }\n",
       "</style>\n",
       "<table border=\"1\" class=\"dataframe\">\n",
       "  <thead>\n",
       "    <tr style=\"text-align: right;\">\n",
       "      <th></th>\n",
       "      <th>A</th>\n",
       "      <th>B</th>\n",
       "    </tr>\n",
       "  </thead>\n",
       "  <tbody>\n",
       "    <tr>\n",
       "      <th>0</th>\n",
       "      <td>6</td>\n",
       "      <td>1</td>\n",
       "    </tr>\n",
       "    <tr>\n",
       "      <th>1</th>\n",
       "      <td>5</td>\n",
       "      <td>12</td>\n",
       "    </tr>\n",
       "    <tr>\n",
       "      <th>2</th>\n",
       "      <td>1</td>\n",
       "      <td>14</td>\n",
       "    </tr>\n",
       "    <tr>\n",
       "      <th>3</th>\n",
       "      <td>6</td>\n",
       "      <td>-2</td>\n",
       "    </tr>\n",
       "    <tr>\n",
       "      <th>4</th>\n",
       "      <td>1</td>\n",
       "      <td>-6</td>\n",
       "    </tr>\n",
       "    <tr>\n",
       "      <th>5</th>\n",
       "      <td>6</td>\n",
       "      <td>-9</td>\n",
       "    </tr>\n",
       "    <tr>\n",
       "      <th>6</th>\n",
       "      <td>5</td>\n",
       "      <td>0</td>\n",
       "    </tr>\n",
       "    <tr>\n",
       "      <th>7</th>\n",
       "      <td>6</td>\n",
       "      <td>-5</td>\n",
       "    </tr>\n",
       "    <tr>\n",
       "      <th>8</th>\n",
       "      <td>0</td>\n",
       "      <td>-7</td>\n",
       "    </tr>\n",
       "    <tr>\n",
       "      <th>9</th>\n",
       "      <td>3</td>\n",
       "      <td>-10</td>\n",
       "    </tr>\n",
       "    <tr>\n",
       "      <th>10</th>\n",
       "      <td>0</td>\n",
       "      <td>-6</td>\n",
       "    </tr>\n",
       "    <tr>\n",
       "      <th>11</th>\n",
       "      <td>3</td>\n",
       "      <td>2</td>\n",
       "    </tr>\n",
       "    <tr>\n",
       "      <th>12</th>\n",
       "      <td>1</td>\n",
       "      <td>-7</td>\n",
       "    </tr>\n",
       "    <tr>\n",
       "      <th>13</th>\n",
       "      <td>3</td>\n",
       "      <td>0</td>\n",
       "    </tr>\n",
       "    <tr>\n",
       "      <th>14</th>\n",
       "      <td>5</td>\n",
       "      <td>3</td>\n",
       "    </tr>\n",
       "  </tbody>\n",
       "</table>\n",
       "</div>"
      ],
      "text/plain": [
       "    A   B\n",
       "0   6   1\n",
       "1   5  12\n",
       "2   1  14\n",
       "3   6  -2\n",
       "4   1  -6\n",
       "5   6  -9\n",
       "6   5   0\n",
       "7   6  -5\n",
       "8   0  -7\n",
       "9   3 -10\n",
       "10  0  -6\n",
       "11  3   2\n",
       "12  1  -7\n",
       "13  3   0\n",
       "14  5   3"
      ]
     },
     "execution_count": 25,
     "metadata": {},
     "output_type": "execute_result"
    }
   ],
   "source": [
    "df5 = pd.DataFrame(\n",
    "    {\n",
    "        \"A\": np.random.randint(0, 7, size=15),\n",
    "        \"B\": np.random.randint(-10, 15, size=15),\n",
    "    }\n",
    ")\n",
    "\n",
    "df5\n"
   ]
  },
  {
   "cell_type": "code",
   "execution_count": null,
   "id": "2d56ba3e",
   "metadata": {},
   "outputs": [
    {
     "data": {
      "text/html": [
       "<div>\n",
       "<style scoped>\n",
       "    .dataframe tbody tr th:only-of-type {\n",
       "        vertical-align: middle;\n",
       "    }\n",
       "\n",
       "    .dataframe tbody tr th {\n",
       "        vertical-align: top;\n",
       "    }\n",
       "\n",
       "    .dataframe thead th {\n",
       "        text-align: right;\n",
       "    }\n",
       "</style>\n",
       "<table border=\"1\" class=\"dataframe\">\n",
       "  <thead>\n",
       "    <tr style=\"text-align: right;\">\n",
       "      <th></th>\n",
       "      <th>A</th>\n",
       "      <th>B</th>\n",
       "    </tr>\n",
       "  </thead>\n",
       "  <tbody>\n",
       "    <tr>\n",
       "      <th>0</th>\n",
       "      <td>6.0</td>\n",
       "      <td>-7</td>\n",
       "    </tr>\n",
       "    <tr>\n",
       "      <th>1</th>\n",
       "      <td>NaN</td>\n",
       "      <td>-6</td>\n",
       "    </tr>\n",
       "    <tr>\n",
       "      <th>2</th>\n",
       "      <td>NaN</td>\n",
       "      <td>0</td>\n",
       "    </tr>\n",
       "  </tbody>\n",
       "</table>\n",
       "</div>"
      ],
      "text/plain": [
       "     A  B\n",
       "0  6.0 -7\n",
       "1  NaN -6\n",
       "2  NaN  0"
      ]
     },
     "execution_count": 26,
     "metadata": {},
     "output_type": "execute_result"
    }
   ],
   "source": [
    "df5.mode()"
   ]
  },
  {
   "attachments": {},
   "cell_type": "markdown",
   "id": "540a9e9f",
   "metadata": {
    "lang": "ca"
   },
   "source": [
    "## Mètodes de String\n",
    "\n",
    "La sèrie i l'índex estan equipats amb un conjunt de mètodes de processament de cadenes que faciliten l'operació amb cada element de la matriu. Potser el més important és que aquests mètodes exclouen automàticament els valors que falten/NA. S'hi accedeix mitjançant l'atribut str i generalment tenen noms que coincideixen amb els mètodes de cadena integrats equivalents (escalars):"
   ]
  },
  {
   "cell_type": "code",
   "execution_count": null,
   "id": "ee33e72e",
   "metadata": {},
   "outputs": [
    {
     "data": {
      "text/plain": [
       "0       a\n",
       "1       b\n",
       "2       c\n",
       "3    aaba\n",
       "4    baca\n",
       "5     NaN\n",
       "6    caba\n",
       "7     dog\n",
       "8     cat\n",
       "dtype: object"
      ]
     },
     "execution_count": 75,
     "metadata": {},
     "output_type": "execute_result"
    }
   ],
   "source": [
    "s = pd.Series([\"A\", \"B\", \"C\", \"Aaba\", \"Baca\", np.nan, \"CABA\", \"dog\", \"cat\"])\n",
    "\n",
    "s.str.lower()"
   ]
  },
  {
   "cell_type": "code",
   "execution_count": null,
   "id": "ddd54274",
   "metadata": {},
   "outputs": [
    {
     "data": {
      "text/plain": [
       "0       A\n",
       "1       B\n",
       "2       C\n",
       "3    AABA\n",
       "4    BACA\n",
       "5     NaN\n",
       "6    CABA\n",
       "7     DOG\n",
       "8     CAT\n",
       "dtype: object"
      ]
     },
     "execution_count": 76,
     "metadata": {},
     "output_type": "execute_result"
    }
   ],
   "source": [
    "s.str.upper()"
   ]
  },
  {
   "cell_type": "code",
   "execution_count": null,
   "id": "7a4edb3e",
   "metadata": {},
   "outputs": [
    {
     "data": {
      "text/plain": [
       "0    1.0\n",
       "1    1.0\n",
       "2    1.0\n",
       "3    4.0\n",
       "4    4.0\n",
       "5    NaN\n",
       "6    4.0\n",
       "7    3.0\n",
       "8    3.0\n",
       "dtype: float64"
      ]
     },
     "execution_count": 77,
     "metadata": {},
     "output_type": "execute_result"
    }
   ],
   "source": [
    "s.str.len()"
   ]
  },
  {
   "cell_type": "code",
   "execution_count": null,
   "id": "694c15a3",
   "metadata": {},
   "outputs": [
    {
     "data": {
      "text/plain": [
       "Index(['jack', 'jill', 'jesse', 'frank'], dtype='object')"
      ]
     },
     "execution_count": 15,
     "metadata": {},
     "output_type": "execute_result"
    }
   ],
   "source": [
    "idx = pd.Index([\" jack\", \"jill \", \" jesse \", \"frank\"])\n",
    "\n",
    "idx.str.strip()"
   ]
  },
  {
   "cell_type": "code",
   "execution_count": null,
   "id": "57ff5ac0",
   "metadata": {},
   "outputs": [
    {
     "data": {
      "text/plain": [
       "Index(['jack', 'jill ', 'jesse ', 'frank'], dtype='object')"
      ]
     },
     "execution_count": 79,
     "metadata": {},
     "output_type": "execute_result"
    }
   ],
   "source": [
    "idx.str.lstrip()"
   ]
  },
  {
   "cell_type": "code",
   "execution_count": null,
   "id": "beacfc9e",
   "metadata": {},
   "outputs": [
    {
     "data": {
      "text/plain": [
       "Index([' jack', 'jill', ' jesse', 'frank'], dtype='object')"
      ]
     },
     "execution_count": 80,
     "metadata": {},
     "output_type": "execute_result"
    }
   ],
   "source": [
    "idx.str.rstrip()"
   ]
  },
  {
   "attachments": {},
   "cell_type": "markdown",
   "id": "76a2181a",
   "metadata": {
    "lang": "ca"
   },
   "source": [
    "Els mètodes de cadena a Index són especialment útils per netejar o transformar columnes de DataFrame. Per exemple, podeu tenir columnes amb espais en blanc inicials o finals:"
   ]
  },
  {
   "cell_type": "code",
   "execution_count": null,
   "id": "d26202c5",
   "metadata": {},
   "outputs": [
    {
     "data": {
      "text/html": [
       "<div>\n",
       "<style scoped>\n",
       "    .dataframe tbody tr th:only-of-type {\n",
       "        vertical-align: middle;\n",
       "    }\n",
       "\n",
       "    .dataframe tbody tr th {\n",
       "        vertical-align: top;\n",
       "    }\n",
       "\n",
       "    .dataframe thead th {\n",
       "        text-align: right;\n",
       "    }\n",
       "</style>\n",
       "<table border=\"1\" class=\"dataframe\">\n",
       "  <thead>\n",
       "    <tr style=\"text-align: right;\">\n",
       "      <th></th>\n",
       "      <th>Column A</th>\n",
       "      <th>Column B</th>\n",
       "    </tr>\n",
       "  </thead>\n",
       "  <tbody>\n",
       "    <tr>\n",
       "      <th>0</th>\n",
       "      <td>0.789120</td>\n",
       "      <td>-2.102965</td>\n",
       "    </tr>\n",
       "    <tr>\n",
       "      <th>1</th>\n",
       "      <td>-0.857748</td>\n",
       "      <td>1.278160</td>\n",
       "    </tr>\n",
       "    <tr>\n",
       "      <th>2</th>\n",
       "      <td>0.745399</td>\n",
       "      <td>1.251670</td>\n",
       "    </tr>\n",
       "  </tbody>\n",
       "</table>\n",
       "</div>"
      ],
      "text/plain": [
       "    Column A    Column B \n",
       "0    0.789120   -2.102965\n",
       "1   -0.857748    1.278160\n",
       "2    0.745399    1.251670"
      ]
     },
     "execution_count": 20,
     "metadata": {},
     "output_type": "execute_result"
    }
   ],
   "source": [
    "df = pd.DataFrame(\n",
    "    np.random.randn(3, 2), columns=[\" Column A \", \" Column B \"], index=range(3)\n",
    ")\n",
    "\n",
    "\n",
    "df"
   ]
  },
  {
   "attachments": {},
   "cell_type": "markdown",
   "id": "2864177a",
   "metadata": {
    "lang": "ca"
   },
   "source": [
    "Com que df.columns és un objecte Index, podem utilitzar l'accessor .str"
   ]
  },
  {
   "cell_type": "code",
   "execution_count": null,
   "id": "16f1ac1f",
   "metadata": {},
   "outputs": [
    {
     "data": {
      "text/plain": [
       "Index(['Column A', 'Column B'], dtype='object')"
      ]
     },
     "execution_count": 82,
     "metadata": {},
     "output_type": "execute_result"
    }
   ],
   "source": [
    "df.columns.str.strip()"
   ]
  },
  {
   "cell_type": "code",
   "execution_count": null,
   "id": "a2754708",
   "metadata": {},
   "outputs": [
    {
     "data": {
      "text/plain": [
       "0    0.789120\n",
       "1   -0.857748\n",
       "2    0.745399\n",
       "Name:  Column A , dtype: float64"
      ]
     },
     "execution_count": 23,
     "metadata": {},
     "output_type": "execute_result"
    }
   ],
   "source": [
    "df[\" Column A \"] #funciona"
   ]
  },
  {
   "cell_type": "code",
   "execution_count": null,
   "id": "329a04ec",
   "metadata": {},
   "outputs": [
    {
     "ename": "KeyError",
     "evalue": "'Column A'",
     "output_type": "error",
     "traceback": [
      "\u001b[1;31m---------------------------------------------------------------------------\u001b[0m",
      "\u001b[1;31mKeyError\u001b[0m                                  Traceback (most recent call last)",
      "File \u001b[1;32mc:\\Users\\esteb\\AppData\\Local\\Programs\\Python\\Python310\\lib\\site-packages\\pandas\\core\\indexes\\base.py:3652\u001b[0m, in \u001b[0;36mIndex.get_loc\u001b[1;34m(self, key)\u001b[0m\n\u001b[0;32m   3651\u001b[0m \u001b[39mtry\u001b[39;00m:\n\u001b[1;32m-> 3652\u001b[0m     \u001b[39mreturn\u001b[39;00m \u001b[39mself\u001b[39;49m\u001b[39m.\u001b[39;49m_engine\u001b[39m.\u001b[39;49mget_loc(casted_key)\n\u001b[0;32m   3653\u001b[0m \u001b[39mexcept\u001b[39;00m \u001b[39mKeyError\u001b[39;00m \u001b[39mas\u001b[39;00m err:\n",
      "File \u001b[1;32mc:\\Users\\esteb\\AppData\\Local\\Programs\\Python\\Python310\\lib\\site-packages\\pandas\\_libs\\index.pyx:147\u001b[0m, in \u001b[0;36mpandas._libs.index.IndexEngine.get_loc\u001b[1;34m()\u001b[0m\n",
      "File \u001b[1;32mc:\\Users\\esteb\\AppData\\Local\\Programs\\Python\\Python310\\lib\\site-packages\\pandas\\_libs\\index.pyx:176\u001b[0m, in \u001b[0;36mpandas._libs.index.IndexEngine.get_loc\u001b[1;34m()\u001b[0m\n",
      "File \u001b[1;32mpandas\\_libs\\hashtable_class_helper.pxi:7080\u001b[0m, in \u001b[0;36mpandas._libs.hashtable.PyObjectHashTable.get_item\u001b[1;34m()\u001b[0m\n",
      "File \u001b[1;32mpandas\\_libs\\hashtable_class_helper.pxi:7088\u001b[0m, in \u001b[0;36mpandas._libs.hashtable.PyObjectHashTable.get_item\u001b[1;34m()\u001b[0m\n",
      "\u001b[1;31mKeyError\u001b[0m: 'Column A'",
      "\nThe above exception was the direct cause of the following exception:\n",
      "\u001b[1;31mKeyError\u001b[0m                                  Traceback (most recent call last)",
      "Cell \u001b[1;32mIn[24], line 1\u001b[0m\n\u001b[1;32m----> 1\u001b[0m df[\u001b[39m\"\u001b[39;49m\u001b[39mColumn A\u001b[39;49m\u001b[39m\"\u001b[39;49m]\n",
      "File \u001b[1;32mc:\\Users\\esteb\\AppData\\Local\\Programs\\Python\\Python310\\lib\\site-packages\\pandas\\core\\frame.py:3761\u001b[0m, in \u001b[0;36mDataFrame.__getitem__\u001b[1;34m(self, key)\u001b[0m\n\u001b[0;32m   3759\u001b[0m \u001b[39mif\u001b[39;00m \u001b[39mself\u001b[39m\u001b[39m.\u001b[39mcolumns\u001b[39m.\u001b[39mnlevels \u001b[39m>\u001b[39m \u001b[39m1\u001b[39m:\n\u001b[0;32m   3760\u001b[0m     \u001b[39mreturn\u001b[39;00m \u001b[39mself\u001b[39m\u001b[39m.\u001b[39m_getitem_multilevel(key)\n\u001b[1;32m-> 3761\u001b[0m indexer \u001b[39m=\u001b[39m \u001b[39mself\u001b[39;49m\u001b[39m.\u001b[39;49mcolumns\u001b[39m.\u001b[39;49mget_loc(key)\n\u001b[0;32m   3762\u001b[0m \u001b[39mif\u001b[39;00m is_integer(indexer):\n\u001b[0;32m   3763\u001b[0m     indexer \u001b[39m=\u001b[39m [indexer]\n",
      "File \u001b[1;32mc:\\Users\\esteb\\AppData\\Local\\Programs\\Python\\Python310\\lib\\site-packages\\pandas\\core\\indexes\\base.py:3654\u001b[0m, in \u001b[0;36mIndex.get_loc\u001b[1;34m(self, key)\u001b[0m\n\u001b[0;32m   3652\u001b[0m     \u001b[39mreturn\u001b[39;00m \u001b[39mself\u001b[39m\u001b[39m.\u001b[39m_engine\u001b[39m.\u001b[39mget_loc(casted_key)\n\u001b[0;32m   3653\u001b[0m \u001b[39mexcept\u001b[39;00m \u001b[39mKeyError\u001b[39;00m \u001b[39mas\u001b[39;00m err:\n\u001b[1;32m-> 3654\u001b[0m     \u001b[39mraise\u001b[39;00m \u001b[39mKeyError\u001b[39;00m(key) \u001b[39mfrom\u001b[39;00m \u001b[39merr\u001b[39;00m\n\u001b[0;32m   3655\u001b[0m \u001b[39mexcept\u001b[39;00m \u001b[39mTypeError\u001b[39;00m:\n\u001b[0;32m   3656\u001b[0m     \u001b[39m# If we have a listlike key, _check_indexing_error will raise\u001b[39;00m\n\u001b[0;32m   3657\u001b[0m     \u001b[39m#  InvalidIndexError. Otherwise we fall through and re-raise\u001b[39;00m\n\u001b[0;32m   3658\u001b[0m     \u001b[39m#  the TypeError.\u001b[39;00m\n\u001b[0;32m   3659\u001b[0m     \u001b[39mself\u001b[39m\u001b[39m.\u001b[39m_check_indexing_error(key)\n",
      "\u001b[1;31mKeyError\u001b[0m: 'Column A'"
     ]
    }
   ],
   "source": [
    "df[\"Column A\"]\n",
    "#no funciona porque ese \" Column A \" que se quiere llamar tiene un espacio delante y detrás"
   ]
  },
  {
   "cell_type": "code",
   "execution_count": null,
   "id": "48ce3d02",
   "metadata": {
    "lang": "en",
    "scrolled": true
   },
   "outputs": [
    {
     "data": {
      "text/plain": [
       "Index([' column a ', ' column b '], dtype='object')"
      ]
     },
     "execution_count": 84,
     "metadata": {},
     "output_type": "execute_result"
    }
   ],
   "source": [
    "df.columns.str.lower()"
   ]
  },
  {
   "attachments": {},
   "cell_type": "markdown",
   "id": "fd47f78c",
   "metadata": {
    "lang": "ca"
   },
   "source": [
    "Aquests mètodes de string es poden utilitzar per netejar les columnes segons sigui necessari. Aquí estem eliminant els espais en blanc inicials i finals, tots els noms amb minúscules i minúscules i substituint els espais en blanc restants per guions baixos:"
   ]
  },
  {
   "cell_type": "code",
   "execution_count": null,
   "id": "e0825a4b",
   "metadata": {},
   "outputs": [
    {
     "data": {
      "text/html": [
       "<div>\n",
       "<style scoped>\n",
       "    .dataframe tbody tr th:only-of-type {\n",
       "        vertical-align: middle;\n",
       "    }\n",
       "\n",
       "    .dataframe tbody tr th {\n",
       "        vertical-align: top;\n",
       "    }\n",
       "\n",
       "    .dataframe thead th {\n",
       "        text-align: right;\n",
       "    }\n",
       "</style>\n",
       "<table border=\"1\" class=\"dataframe\">\n",
       "  <thead>\n",
       "    <tr style=\"text-align: right;\">\n",
       "      <th></th>\n",
       "      <th>column_a</th>\n",
       "      <th>column_b</th>\n",
       "    </tr>\n",
       "  </thead>\n",
       "  <tbody>\n",
       "    <tr>\n",
       "      <th>0</th>\n",
       "      <td>2.254934</td>\n",
       "      <td>0.653868</td>\n",
       "    </tr>\n",
       "    <tr>\n",
       "      <th>1</th>\n",
       "      <td>-0.231809</td>\n",
       "      <td>0.934265</td>\n",
       "    </tr>\n",
       "    <tr>\n",
       "      <th>2</th>\n",
       "      <td>-0.136653</td>\n",
       "      <td>-0.745930</td>\n",
       "    </tr>\n",
       "  </tbody>\n",
       "</table>\n",
       "</div>"
      ],
      "text/plain": [
       "   column_a  column_b\n",
       "0  2.254934  0.653868\n",
       "1 -0.231809  0.934265\n",
       "2 -0.136653 -0.745930"
      ]
     },
     "execution_count": 85,
     "metadata": {},
     "output_type": "execute_result"
    }
   ],
   "source": [
    "df.columns = df.columns.str.strip().str.lower().str.replace(\" \", \"_\")\n",
    "\n",
    "df"
   ]
  },
  {
   "attachments": {},
   "cell_type": "markdown",
   "id": "97aebf76",
   "metadata": {
    "lang": "en"
   },
   "source": [
    "## Merge\n",
    "### Concat\n",
    "pandas provides various facilities for easily combining together Series and DataFrame objects with various kinds of set logic for the indexes and relational algebra functionality in the case of join / merge-type operations.\n",
    "\n",
    "See the Merging section.\n",
    "\n",
    "Concatenating pandas objects together with concat():"
   ]
  },
  {
   "attachments": {},
   "cell_type": "markdown",
   "id": "9cf17ddf",
   "metadata": {
    "lang": "ca"
   },
   "source": [
    "## Merge\n",
    "### Concat\n",
    "\n",
    "Pandas ofereix diverses facilitats per combinar fàcilment objectes Series i DataFrame amb diversos tipus de lògica conjunta per als índexs i la funcionalitat d'àlgebra relacional en el cas d'operacions de tipus unió / fusió.\n",
    "\n",
    "\n",
    "Concatenació d'objectes pandas juntament amb concat():"
   ]
  },
  {
   "cell_type": "code",
   "execution_count": null,
   "id": "9f0cd8bb",
   "metadata": {},
   "outputs": [
    {
     "data": {
      "text/html": [
       "<div>\n",
       "<style scoped>\n",
       "    .dataframe tbody tr th:only-of-type {\n",
       "        vertical-align: middle;\n",
       "    }\n",
       "\n",
       "    .dataframe tbody tr th {\n",
       "        vertical-align: top;\n",
       "    }\n",
       "\n",
       "    .dataframe thead th {\n",
       "        text-align: right;\n",
       "    }\n",
       "</style>\n",
       "<table border=\"1\" class=\"dataframe\">\n",
       "  <thead>\n",
       "    <tr style=\"text-align: right;\">\n",
       "      <th></th>\n",
       "      <th>0</th>\n",
       "      <th>1</th>\n",
       "      <th>2</th>\n",
       "      <th>3</th>\n",
       "    </tr>\n",
       "  </thead>\n",
       "  <tbody>\n",
       "    <tr>\n",
       "      <th>0</th>\n",
       "      <td>-0.904661</td>\n",
       "      <td>0.150164</td>\n",
       "      <td>1.094153</td>\n",
       "      <td>0.135365</td>\n",
       "    </tr>\n",
       "    <tr>\n",
       "      <th>1</th>\n",
       "      <td>-0.002489</td>\n",
       "      <td>-1.494007</td>\n",
       "      <td>0.632209</td>\n",
       "      <td>0.580954</td>\n",
       "    </tr>\n",
       "    <tr>\n",
       "      <th>2</th>\n",
       "      <td>-0.117835</td>\n",
       "      <td>0.737791</td>\n",
       "      <td>-0.299559</td>\n",
       "      <td>0.791720</td>\n",
       "    </tr>\n",
       "    <tr>\n",
       "      <th>3</th>\n",
       "      <td>-0.144557</td>\n",
       "      <td>-0.314532</td>\n",
       "      <td>-0.054663</td>\n",
       "      <td>-1.478647</td>\n",
       "    </tr>\n",
       "    <tr>\n",
       "      <th>4</th>\n",
       "      <td>0.520376</td>\n",
       "      <td>0.310629</td>\n",
       "      <td>1.232666</td>\n",
       "      <td>-2.256229</td>\n",
       "    </tr>\n",
       "    <tr>\n",
       "      <th>5</th>\n",
       "      <td>0.429625</td>\n",
       "      <td>-0.911894</td>\n",
       "      <td>1.358843</td>\n",
       "      <td>-1.050467</td>\n",
       "    </tr>\n",
       "    <tr>\n",
       "      <th>6</th>\n",
       "      <td>0.255385</td>\n",
       "      <td>1.498919</td>\n",
       "      <td>0.163404</td>\n",
       "      <td>1.026323</td>\n",
       "    </tr>\n",
       "    <tr>\n",
       "      <th>7</th>\n",
       "      <td>-0.132183</td>\n",
       "      <td>-0.761147</td>\n",
       "      <td>1.205595</td>\n",
       "      <td>-1.011534</td>\n",
       "    </tr>\n",
       "    <tr>\n",
       "      <th>8</th>\n",
       "      <td>-1.493892</td>\n",
       "      <td>1.256845</td>\n",
       "      <td>1.715826</td>\n",
       "      <td>0.741289</td>\n",
       "    </tr>\n",
       "    <tr>\n",
       "      <th>9</th>\n",
       "      <td>0.032290</td>\n",
       "      <td>-0.662400</td>\n",
       "      <td>1.800700</td>\n",
       "      <td>1.305182</td>\n",
       "    </tr>\n",
       "  </tbody>\n",
       "</table>\n",
       "</div>"
      ],
      "text/plain": [
       "          0         1         2         3\n",
       "0 -0.904661  0.150164  1.094153  0.135365\n",
       "1 -0.002489 -1.494007  0.632209  0.580954\n",
       "2 -0.117835  0.737791 -0.299559  0.791720\n",
       "3 -0.144557 -0.314532 -0.054663 -1.478647\n",
       "4  0.520376  0.310629  1.232666 -2.256229\n",
       "5  0.429625 -0.911894  1.358843 -1.050467\n",
       "6  0.255385  1.498919  0.163404  1.026323\n",
       "7 -0.132183 -0.761147  1.205595 -1.011534\n",
       "8 -1.493892  1.256845  1.715826  0.741289\n",
       "9  0.032290 -0.662400  1.800700  1.305182"
      ]
     },
     "execution_count": 86,
     "metadata": {},
     "output_type": "execute_result"
    }
   ],
   "source": [
    "df = pd.DataFrame(np.random.randn(10, 4))\n",
    "\n",
    "df"
   ]
  },
  {
   "cell_type": "code",
   "execution_count": null,
   "id": "d012e618",
   "metadata": {},
   "outputs": [
    {
     "data": {
      "text/html": [
       "<div>\n",
       "<style scoped>\n",
       "    .dataframe tbody tr th:only-of-type {\n",
       "        vertical-align: middle;\n",
       "    }\n",
       "\n",
       "    .dataframe tbody tr th {\n",
       "        vertical-align: top;\n",
       "    }\n",
       "\n",
       "    .dataframe thead th {\n",
       "        text-align: right;\n",
       "    }\n",
       "</style>\n",
       "<table border=\"1\" class=\"dataframe\">\n",
       "  <thead>\n",
       "    <tr style=\"text-align: right;\">\n",
       "      <th></th>\n",
       "      <th>0</th>\n",
       "      <th>1</th>\n",
       "      <th>2</th>\n",
       "      <th>3</th>\n",
       "    </tr>\n",
       "  </thead>\n",
       "  <tbody>\n",
       "    <tr>\n",
       "      <th>0</th>\n",
       "      <td>-0.904661</td>\n",
       "      <td>0.150164</td>\n",
       "      <td>1.094153</td>\n",
       "      <td>0.135365</td>\n",
       "    </tr>\n",
       "    <tr>\n",
       "      <th>1</th>\n",
       "      <td>-0.002489</td>\n",
       "      <td>-1.494007</td>\n",
       "      <td>0.632209</td>\n",
       "      <td>0.580954</td>\n",
       "    </tr>\n",
       "    <tr>\n",
       "      <th>2</th>\n",
       "      <td>-0.117835</td>\n",
       "      <td>0.737791</td>\n",
       "      <td>-0.299559</td>\n",
       "      <td>0.791720</td>\n",
       "    </tr>\n",
       "    <tr>\n",
       "      <th>3</th>\n",
       "      <td>-0.144557</td>\n",
       "      <td>-0.314532</td>\n",
       "      <td>-0.054663</td>\n",
       "      <td>-1.478647</td>\n",
       "    </tr>\n",
       "    <tr>\n",
       "      <th>4</th>\n",
       "      <td>0.520376</td>\n",
       "      <td>0.310629</td>\n",
       "      <td>1.232666</td>\n",
       "      <td>-2.256229</td>\n",
       "    </tr>\n",
       "    <tr>\n",
       "      <th>5</th>\n",
       "      <td>0.429625</td>\n",
       "      <td>-0.911894</td>\n",
       "      <td>1.358843</td>\n",
       "      <td>-1.050467</td>\n",
       "    </tr>\n",
       "    <tr>\n",
       "      <th>6</th>\n",
       "      <td>0.255385</td>\n",
       "      <td>1.498919</td>\n",
       "      <td>0.163404</td>\n",
       "      <td>1.026323</td>\n",
       "    </tr>\n",
       "    <tr>\n",
       "      <th>7</th>\n",
       "      <td>-0.132183</td>\n",
       "      <td>-0.761147</td>\n",
       "      <td>1.205595</td>\n",
       "      <td>-1.011534</td>\n",
       "    </tr>\n",
       "    <tr>\n",
       "      <th>8</th>\n",
       "      <td>-1.493892</td>\n",
       "      <td>1.256845</td>\n",
       "      <td>1.715826</td>\n",
       "      <td>0.741289</td>\n",
       "    </tr>\n",
       "    <tr>\n",
       "      <th>9</th>\n",
       "      <td>0.032290</td>\n",
       "      <td>-0.662400</td>\n",
       "      <td>1.800700</td>\n",
       "      <td>1.305182</td>\n",
       "    </tr>\n",
       "  </tbody>\n",
       "</table>\n",
       "</div>"
      ],
      "text/plain": [
       "          0         1         2         3\n",
       "0 -0.904661  0.150164  1.094153  0.135365\n",
       "1 -0.002489 -1.494007  0.632209  0.580954\n",
       "2 -0.117835  0.737791 -0.299559  0.791720\n",
       "3 -0.144557 -0.314532 -0.054663 -1.478647\n",
       "4  0.520376  0.310629  1.232666 -2.256229\n",
       "5  0.429625 -0.911894  1.358843 -1.050467\n",
       "6  0.255385  1.498919  0.163404  1.026323\n",
       "7 -0.132183 -0.761147  1.205595 -1.011534\n",
       "8 -1.493892  1.256845  1.715826  0.741289\n",
       "9  0.032290 -0.662400  1.800700  1.305182"
      ]
     },
     "execution_count": 87,
     "metadata": {},
     "output_type": "execute_result"
    }
   ],
   "source": [
    "pieces = [df[:3], df[3:7], df[7:]]\n",
    "\n",
    "pd.concat(pieces)"
   ]
  },
  {
   "attachments": {},
   "cell_type": "markdown",
   "id": "d14c2935",
   "metadata": {
    "lang": "ca"
   },
   "source": [
    "### Join\n",
    "Merge de l'estil SQL"
   ]
  },
  {
   "cell_type": "code",
   "execution_count": null,
   "id": "cdea3618",
   "metadata": {},
   "outputs": [
    {
     "data": {
      "text/html": [
       "<div>\n",
       "<style scoped>\n",
       "    .dataframe tbody tr th:only-of-type {\n",
       "        vertical-align: middle;\n",
       "    }\n",
       "\n",
       "    .dataframe tbody tr th {\n",
       "        vertical-align: top;\n",
       "    }\n",
       "\n",
       "    .dataframe thead th {\n",
       "        text-align: right;\n",
       "    }\n",
       "</style>\n",
       "<table border=\"1\" class=\"dataframe\">\n",
       "  <thead>\n",
       "    <tr style=\"text-align: right;\">\n",
       "      <th></th>\n",
       "      <th>key</th>\n",
       "      <th>lval</th>\n",
       "    </tr>\n",
       "  </thead>\n",
       "  <tbody>\n",
       "    <tr>\n",
       "      <th>0</th>\n",
       "      <td>foo</td>\n",
       "      <td>1</td>\n",
       "    </tr>\n",
       "    <tr>\n",
       "      <th>1</th>\n",
       "      <td>foo</td>\n",
       "      <td>2</td>\n",
       "    </tr>\n",
       "  </tbody>\n",
       "</table>\n",
       "</div>"
      ],
      "text/plain": [
       "   key  lval\n",
       "0  foo     1\n",
       "1  foo     2"
      ]
     },
     "execution_count": 88,
     "metadata": {},
     "output_type": "execute_result"
    }
   ],
   "source": [
    "left = pd.DataFrame({\"key\": [\"foo\", \"foo\"], \"lval\": [1, 2]})\n",
    "\n",
    "right = pd.DataFrame({\"key\": [\"foo\", \"foo\"], \"rval\": [4, 5]})\n",
    "\n",
    "left"
   ]
  },
  {
   "cell_type": "code",
   "execution_count": null,
   "id": "b132d86b",
   "metadata": {},
   "outputs": [
    {
     "data": {
      "text/html": [
       "<div>\n",
       "<style scoped>\n",
       "    .dataframe tbody tr th:only-of-type {\n",
       "        vertical-align: middle;\n",
       "    }\n",
       "\n",
       "    .dataframe tbody tr th {\n",
       "        vertical-align: top;\n",
       "    }\n",
       "\n",
       "    .dataframe thead th {\n",
       "        text-align: right;\n",
       "    }\n",
       "</style>\n",
       "<table border=\"1\" class=\"dataframe\">\n",
       "  <thead>\n",
       "    <tr style=\"text-align: right;\">\n",
       "      <th></th>\n",
       "      <th>key</th>\n",
       "      <th>rval</th>\n",
       "    </tr>\n",
       "  </thead>\n",
       "  <tbody>\n",
       "    <tr>\n",
       "      <th>0</th>\n",
       "      <td>foo</td>\n",
       "      <td>4</td>\n",
       "    </tr>\n",
       "    <tr>\n",
       "      <th>1</th>\n",
       "      <td>foo</td>\n",
       "      <td>5</td>\n",
       "    </tr>\n",
       "  </tbody>\n",
       "</table>\n",
       "</div>"
      ],
      "text/plain": [
       "   key  rval\n",
       "0  foo     4\n",
       "1  foo     5"
      ]
     },
     "execution_count": 89,
     "metadata": {},
     "output_type": "execute_result"
    }
   ],
   "source": [
    "right"
   ]
  },
  {
   "cell_type": "code",
   "execution_count": null,
   "id": "5e513e90",
   "metadata": {},
   "outputs": [
    {
     "data": {
      "text/html": [
       "<div>\n",
       "<style scoped>\n",
       "    .dataframe tbody tr th:only-of-type {\n",
       "        vertical-align: middle;\n",
       "    }\n",
       "\n",
       "    .dataframe tbody tr th {\n",
       "        vertical-align: top;\n",
       "    }\n",
       "\n",
       "    .dataframe thead th {\n",
       "        text-align: right;\n",
       "    }\n",
       "</style>\n",
       "<table border=\"1\" class=\"dataframe\">\n",
       "  <thead>\n",
       "    <tr style=\"text-align: right;\">\n",
       "      <th></th>\n",
       "      <th>key</th>\n",
       "      <th>lval</th>\n",
       "      <th>rval</th>\n",
       "    </tr>\n",
       "  </thead>\n",
       "  <tbody>\n",
       "    <tr>\n",
       "      <th>0</th>\n",
       "      <td>foo</td>\n",
       "      <td>1</td>\n",
       "      <td>4</td>\n",
       "    </tr>\n",
       "    <tr>\n",
       "      <th>1</th>\n",
       "      <td>foo</td>\n",
       "      <td>1</td>\n",
       "      <td>5</td>\n",
       "    </tr>\n",
       "    <tr>\n",
       "      <th>2</th>\n",
       "      <td>foo</td>\n",
       "      <td>2</td>\n",
       "      <td>4</td>\n",
       "    </tr>\n",
       "    <tr>\n",
       "      <th>3</th>\n",
       "      <td>foo</td>\n",
       "      <td>2</td>\n",
       "      <td>5</td>\n",
       "    </tr>\n",
       "  </tbody>\n",
       "</table>\n",
       "</div>"
      ],
      "text/plain": [
       "   key  lval  rval\n",
       "0  foo     1     4\n",
       "1  foo     1     5\n",
       "2  foo     2     4\n",
       "3  foo     2     5"
      ]
     },
     "execution_count": 90,
     "metadata": {},
     "output_type": "execute_result"
    }
   ],
   "source": [
    "pd.merge(left, right, on=\"key\")"
   ]
  },
  {
   "attachments": {},
   "cell_type": "markdown",
   "id": "7dec4c8a",
   "metadata": {
    "lang": "ca"
   },
   "source": [
    "## Agrupació\n",
    "Per \"group by\" ens referim a un procés que implica un o més dels passos següents:\n",
    "\n",
    "> * Dividir les dades en grups en funció d'alguns criteris\n",
    "> * Aplicar una funció a cada grup de manera independent\n",
    "> * Combinació dels resultats en una estructura de dades"
   ]
  },
  {
   "cell_type": "code",
   "execution_count": null,
   "id": "cd38b963",
   "metadata": {},
   "outputs": [
    {
     "data": {
      "text/html": [
       "<div>\n",
       "<style scoped>\n",
       "    .dataframe tbody tr th:only-of-type {\n",
       "        vertical-align: middle;\n",
       "    }\n",
       "\n",
       "    .dataframe tbody tr th {\n",
       "        vertical-align: top;\n",
       "    }\n",
       "\n",
       "    .dataframe thead th {\n",
       "        text-align: right;\n",
       "    }\n",
       "</style>\n",
       "<table border=\"1\" class=\"dataframe\">\n",
       "  <thead>\n",
       "    <tr style=\"text-align: right;\">\n",
       "      <th></th>\n",
       "      <th>A</th>\n",
       "      <th>B</th>\n",
       "      <th>C</th>\n",
       "      <th>D</th>\n",
       "    </tr>\n",
       "  </thead>\n",
       "  <tbody>\n",
       "    <tr>\n",
       "      <th>0</th>\n",
       "      <td>foo</td>\n",
       "      <td>one</td>\n",
       "      <td>0.756097</td>\n",
       "      <td>0.535497</td>\n",
       "    </tr>\n",
       "    <tr>\n",
       "      <th>1</th>\n",
       "      <td>bar</td>\n",
       "      <td>one</td>\n",
       "      <td>0.693637</td>\n",
       "      <td>-1.033536</td>\n",
       "    </tr>\n",
       "    <tr>\n",
       "      <th>2</th>\n",
       "      <td>foo</td>\n",
       "      <td>two</td>\n",
       "      <td>0.419497</td>\n",
       "      <td>0.243544</td>\n",
       "    </tr>\n",
       "    <tr>\n",
       "      <th>3</th>\n",
       "      <td>bar</td>\n",
       "      <td>three</td>\n",
       "      <td>0.181957</td>\n",
       "      <td>-0.316590</td>\n",
       "    </tr>\n",
       "    <tr>\n",
       "      <th>4</th>\n",
       "      <td>foo</td>\n",
       "      <td>two</td>\n",
       "      <td>0.663216</td>\n",
       "      <td>0.854475</td>\n",
       "    </tr>\n",
       "    <tr>\n",
       "      <th>5</th>\n",
       "      <td>bar</td>\n",
       "      <td>two</td>\n",
       "      <td>0.107244</td>\n",
       "      <td>-1.503820</td>\n",
       "    </tr>\n",
       "    <tr>\n",
       "      <th>6</th>\n",
       "      <td>foo</td>\n",
       "      <td>one</td>\n",
       "      <td>-0.452784</td>\n",
       "      <td>-0.860243</td>\n",
       "    </tr>\n",
       "    <tr>\n",
       "      <th>7</th>\n",
       "      <td>foo</td>\n",
       "      <td>three</td>\n",
       "      <td>0.900339</td>\n",
       "      <td>0.279834</td>\n",
       "    </tr>\n",
       "  </tbody>\n",
       "</table>\n",
       "</div>"
      ],
      "text/plain": [
       "     A      B         C         D\n",
       "0  foo    one  0.756097  0.535497\n",
       "1  bar    one  0.693637 -1.033536\n",
       "2  foo    two  0.419497  0.243544\n",
       "3  bar  three  0.181957 -0.316590\n",
       "4  foo    two  0.663216  0.854475\n",
       "5  bar    two  0.107244 -1.503820\n",
       "6  foo    one -0.452784 -0.860243\n",
       "7  foo  three  0.900339  0.279834"
      ]
     },
     "execution_count": 25,
     "metadata": {},
     "output_type": "execute_result"
    }
   ],
   "source": [
    "df = pd.DataFrame(\n",
    "    {\n",
    "        \"A\": [\"foo\", \"bar\", \"foo\", \"bar\", \"foo\", \"bar\", \"foo\", \"foo\"],\n",
    "        \"B\": [\"one\", \"one\", \"two\", \"three\", \"two\", \"two\", \"one\", \"three\"],\n",
    "        \"C\": np.random.randn(8),\n",
    "        \"D\": np.random.randn(8),\n",
    "    }\n",
    ")\n",
    "\n",
    "df"
   ]
  },
  {
   "attachments": {},
   "cell_type": "markdown",
   "id": "9903118b",
   "metadata": {
    "lang": "ca"
   },
   "source": [
    "Agrupant i aplicant la funció sum() als grups resultants:"
   ]
  },
  {
   "cell_type": "code",
   "execution_count": null,
   "id": "b390e7b0",
   "metadata": {},
   "outputs": [
    {
     "data": {
      "text/html": [
       "<div>\n",
       "<style scoped>\n",
       "    .dataframe tbody tr th:only-of-type {\n",
       "        vertical-align: middle;\n",
       "    }\n",
       "\n",
       "    .dataframe tbody tr th {\n",
       "        vertical-align: top;\n",
       "    }\n",
       "\n",
       "    .dataframe thead th {\n",
       "        text-align: right;\n",
       "    }\n",
       "</style>\n",
       "<table border=\"1\" class=\"dataframe\">\n",
       "  <thead>\n",
       "    <tr style=\"text-align: right;\">\n",
       "      <th></th>\n",
       "      <th>B</th>\n",
       "      <th>C</th>\n",
       "      <th>D</th>\n",
       "    </tr>\n",
       "    <tr>\n",
       "      <th>A</th>\n",
       "      <th></th>\n",
       "      <th></th>\n",
       "      <th></th>\n",
       "    </tr>\n",
       "  </thead>\n",
       "  <tbody>\n",
       "    <tr>\n",
       "      <th>bar</th>\n",
       "      <td>onethreetwo</td>\n",
       "      <td>0.982838</td>\n",
       "      <td>-2.853947</td>\n",
       "    </tr>\n",
       "    <tr>\n",
       "      <th>foo</th>\n",
       "      <td>onetwotwoonethree</td>\n",
       "      <td>2.286365</td>\n",
       "      <td>1.053108</td>\n",
       "    </tr>\n",
       "  </tbody>\n",
       "</table>\n",
       "</div>"
      ],
      "text/plain": [
       "                     B         C         D\n",
       "A                                         \n",
       "bar        onethreetwo  0.982838 -2.853947\n",
       "foo  onetwotwoonethree  2.286365  1.053108"
      ]
     },
     "execution_count": 27,
     "metadata": {},
     "output_type": "execute_result"
    }
   ],
   "source": [
    "df.groupby(\"A\").sum()"
   ]
  },
  {
   "attachments": {},
   "cell_type": "markdown",
   "id": "d24b01f9",
   "metadata": {
    "lang": "ca"
   },
   "source": [
    "L'agrupació per múltiples columnes forma un índex jeràrquic i, de nou, podem aplicar la funció sum():"
   ]
  },
  {
   "cell_type": "code",
   "execution_count": null,
   "id": "63268241",
   "metadata": {},
   "outputs": [
    {
     "data": {
      "text/html": [
       "<div>\n",
       "<style scoped>\n",
       "    .dataframe tbody tr th:only-of-type {\n",
       "        vertical-align: middle;\n",
       "    }\n",
       "\n",
       "    .dataframe tbody tr th {\n",
       "        vertical-align: top;\n",
       "    }\n",
       "\n",
       "    .dataframe thead th {\n",
       "        text-align: right;\n",
       "    }\n",
       "</style>\n",
       "<table border=\"1\" class=\"dataframe\">\n",
       "  <thead>\n",
       "    <tr style=\"text-align: right;\">\n",
       "      <th></th>\n",
       "      <th></th>\n",
       "      <th>C</th>\n",
       "      <th>D</th>\n",
       "    </tr>\n",
       "    <tr>\n",
       "      <th>A</th>\n",
       "      <th>B</th>\n",
       "      <th></th>\n",
       "      <th></th>\n",
       "    </tr>\n",
       "  </thead>\n",
       "  <tbody>\n",
       "    <tr>\n",
       "      <th rowspan=\"3\" valign=\"top\">bar</th>\n",
       "      <th>one</th>\n",
       "      <td>0.839548</td>\n",
       "      <td>0.309499</td>\n",
       "    </tr>\n",
       "    <tr>\n",
       "      <th>three</th>\n",
       "      <td>1.261844</td>\n",
       "      <td>1.680116</td>\n",
       "    </tr>\n",
       "    <tr>\n",
       "      <th>two</th>\n",
       "      <td>-0.497293</td>\n",
       "      <td>0.442007</td>\n",
       "    </tr>\n",
       "    <tr>\n",
       "      <th rowspan=\"3\" valign=\"top\">foo</th>\n",
       "      <th>one</th>\n",
       "      <td>2.574336</td>\n",
       "      <td>0.180889</td>\n",
       "    </tr>\n",
       "    <tr>\n",
       "      <th>three</th>\n",
       "      <td>0.944365</td>\n",
       "      <td>0.810927</td>\n",
       "    </tr>\n",
       "    <tr>\n",
       "      <th>two</th>\n",
       "      <td>-2.461904</td>\n",
       "      <td>2.088564</td>\n",
       "    </tr>\n",
       "  </tbody>\n",
       "</table>\n",
       "</div>"
      ],
      "text/plain": [
       "                  C         D\n",
       "A   B                        \n",
       "bar one    0.839548  0.309499\n",
       "    three  1.261844  1.680116\n",
       "    two   -0.497293  0.442007\n",
       "foo one    2.574336  0.180889\n",
       "    three  0.944365  0.810927\n",
       "    two   -2.461904  2.088564"
      ]
     },
     "execution_count": 94,
     "metadata": {},
     "output_type": "execute_result"
    }
   ],
   "source": [
    "df.groupby([\"A\", \"B\"]).sum()"
   ]
  },
  {
   "attachments": {
    "image.png": {
     "image/png": "[encoded data removed]"
    }
   },
   "cell_type": "markdown",
   "id": "da0b79af",
   "metadata": {
    "lang": "ca"
   },
   "source": [
    "## Reforma per apilar i desapilar\n",
    "### Stack\n",
    "\n",
    "Molt relacionats amb el mètode pivot() hi ha els mètodes stack() i unstack() relacionats disponibles a Series i DataFrame. Aquests mètodes estan dissenyats per treballar conjuntament amb objectes MultiIndex. Això és bàsicament el què fan aquests mètodes:\n",
    "\n",
    "* **stack()**: \"pivota\" un nivell de les etiquetes de columna (possiblement jeràrquica), retornant un DataFrame amb un índex amb un nou nivell interior d'etiquetes de fila.\n",
    "\n",
    "![image.png](attachment:image.png)"
   ]
  },
  {
   "attachments": {
    "image.png": {
     "image/png": "[encoded data removed]"
    }
   },
   "cell_type": "markdown",
   "id": "cf82f2bb",
   "metadata": {},
   "source": [
    "* **unstack()**: (operació inversa de stack()) \"pivota\" un nivell de l'índex de fila (possiblement jeràrquic) a l'eix de la columna, produint un DataFrame remodelat amb un nou nivell interior d'etiquetes de columna.\n",
    "\n",
    "![image.png](attachment:image.png)\n",
    "\n",
    "La manera més clara d'explicar és amb un exemple. Prenem un exemple de conjunt de dades anterior de la secció d'indexació jeràrquica:"
   ]
  },
  {
   "cell_type": "code",
   "execution_count": null,
   "id": "435fca5a",
   "metadata": {},
   "outputs": [
    {
     "data": {
      "text/html": [
       "<div>\n",
       "<style scoped>\n",
       "    .dataframe tbody tr th:only-of-type {\n",
       "        vertical-align: middle;\n",
       "    }\n",
       "\n",
       "    .dataframe tbody tr th {\n",
       "        vertical-align: top;\n",
       "    }\n",
       "\n",
       "    .dataframe thead th {\n",
       "        text-align: right;\n",
       "    }\n",
       "</style>\n",
       "<table border=\"1\" class=\"dataframe\">\n",
       "  <thead>\n",
       "    <tr style=\"text-align: right;\">\n",
       "      <th></th>\n",
       "      <th></th>\n",
       "      <th>A</th>\n",
       "      <th>B</th>\n",
       "    </tr>\n",
       "    <tr>\n",
       "      <th>first</th>\n",
       "      <th>second</th>\n",
       "      <th></th>\n",
       "      <th></th>\n",
       "    </tr>\n",
       "  </thead>\n",
       "  <tbody>\n",
       "    <tr>\n",
       "      <th rowspan=\"2\" valign=\"top\">bar</th>\n",
       "      <th>one</th>\n",
       "      <td>-0.700890</td>\n",
       "      <td>0.260240</td>\n",
       "    </tr>\n",
       "    <tr>\n",
       "      <th>two</th>\n",
       "      <td>0.373212</td>\n",
       "      <td>0.868714</td>\n",
       "    </tr>\n",
       "    <tr>\n",
       "      <th rowspan=\"2\" valign=\"top\">baz</th>\n",
       "      <th>one</th>\n",
       "      <td>-1.866837</td>\n",
       "      <td>0.997726</td>\n",
       "    </tr>\n",
       "    <tr>\n",
       "      <th>two</th>\n",
       "      <td>0.035747</td>\n",
       "      <td>0.471401</td>\n",
       "    </tr>\n",
       "  </tbody>\n",
       "</table>\n",
       "</div>"
      ],
      "text/plain": [
       "                     A         B\n",
       "first second                    \n",
       "bar   one    -0.700890  0.260240\n",
       "      two     0.373212  0.868714\n",
       "baz   one    -1.866837  0.997726\n",
       "      two     0.035747  0.471401"
      ]
     },
     "execution_count": 95,
     "metadata": {},
     "output_type": "execute_result"
    }
   ],
   "source": [
    "tuples = list(\n",
    "    zip(\n",
    "        *[\n",
    "            [\"bar\", \"bar\", \"baz\", \"baz\", \"foo\", \"foo\", \"qux\", \"qux\"],\n",
    "            [\"one\", \"two\", \"one\", \"two\", \"one\", \"two\", \"one\", \"two\"],\n",
    "        ]\n",
    "    )\n",
    ")\n",
    "\n",
    "\n",
    "index = pd.MultiIndex.from_tuples(tuples, names=[\"first\", \"second\"])\n",
    "\n",
    "df = pd.DataFrame(np.random.randn(8, 2), index=index, columns=[\"A\", \"B\"])\n",
    "\n",
    "df2 = df[:4]\n",
    "\n",
    "df2"
   ]
  },
  {
   "attachments": {},
   "cell_type": "markdown",
   "id": "7029aad4",
   "metadata": {
    "lang": "en"
   },
   "source": [
    "The stack() function “compresses” a level in the DataFrame columns to produce either:\n",
    "\n",
    "* A Series, in the case of a simple column Index.\n",
    "\n",
    "* A DataFrame, in the case of a MultiIndex in the columns.\n",
    "\n",
    "If the columns have a MultiIndex, you can choose which level to stack. The stacked level becomes the new lowest level in a MultiIndex on the columns:"
   ]
  },
  {
   "attachments": {},
   "cell_type": "markdown",
   "id": "23a6c4c8",
   "metadata": {
    "lang": "ca"
   },
   "source": [
    "La funció stack() \"comprimeix\" un nivell a les columnes DataFrame per produir:\n",
    "\n",
    "* Una Sèrie , en el cas d'una columna simple Índex.\n",
    "\n",
    "* Un DataFrame, en el cas d'un MultiIndex a les columnes.\n",
    "\n",
    "Si les columnes tenen un MultiIndex, podeu triar quin nivell voleu apilar. El nivell apilat es converteix en el nou nivell més baix en un MultiIndex a les columnes:"
   ]
  },
  {
   "cell_type": "code",
   "execution_count": null,
   "id": "f6a18a17",
   "metadata": {},
   "outputs": [
    {
     "data": {
      "text/plain": [
       "first  second   \n",
       "bar    one     A   -0.700890\n",
       "               B    0.260240\n",
       "       two     A    0.373212\n",
       "               B    0.868714\n",
       "baz    one     A   -1.866837\n",
       "               B    0.997726\n",
       "       two     A    0.035747\n",
       "               B    0.471401\n",
       "dtype: float64"
      ]
     },
     "execution_count": 96,
     "metadata": {},
     "output_type": "execute_result"
    }
   ],
   "source": [
    "stacked = df2.stack()\n",
    "\n",
    "stacked"
   ]
  },
  {
   "attachments": {},
   "cell_type": "markdown",
   "id": "99d356ff",
   "metadata": {
    "lang": "ca"
   },
   "source": [
    "Amb un DataFrame o Sèrie \"stacked\" (que té un MultiIndex com a índex), l'operació inversa de stack() és unstack(), que per defecte \"desapila\" l'últim nivell:"
   ]
  },
  {
   "cell_type": "code",
   "execution_count": null,
   "id": "33c0b159",
   "metadata": {},
   "outputs": [
    {
     "data": {
      "text/html": [
       "<div>\n",
       "<style scoped>\n",
       "    .dataframe tbody tr th:only-of-type {\n",
       "        vertical-align: middle;\n",
       "    }\n",
       "\n",
       "    .dataframe tbody tr th {\n",
       "        vertical-align: top;\n",
       "    }\n",
       "\n",
       "    .dataframe thead th {\n",
       "        text-align: right;\n",
       "    }\n",
       "</style>\n",
       "<table border=\"1\" class=\"dataframe\">\n",
       "  <thead>\n",
       "    <tr style=\"text-align: right;\">\n",
       "      <th></th>\n",
       "      <th></th>\n",
       "      <th>A</th>\n",
       "      <th>B</th>\n",
       "    </tr>\n",
       "    <tr>\n",
       "      <th>first</th>\n",
       "      <th>second</th>\n",
       "      <th></th>\n",
       "      <th></th>\n",
       "    </tr>\n",
       "  </thead>\n",
       "  <tbody>\n",
       "    <tr>\n",
       "      <th rowspan=\"2\" valign=\"top\">bar</th>\n",
       "      <th>one</th>\n",
       "      <td>-0.700890</td>\n",
       "      <td>0.260240</td>\n",
       "    </tr>\n",
       "    <tr>\n",
       "      <th>two</th>\n",
       "      <td>0.373212</td>\n",
       "      <td>0.868714</td>\n",
       "    </tr>\n",
       "    <tr>\n",
       "      <th rowspan=\"2\" valign=\"top\">baz</th>\n",
       "      <th>one</th>\n",
       "      <td>-1.866837</td>\n",
       "      <td>0.997726</td>\n",
       "    </tr>\n",
       "    <tr>\n",
       "      <th>two</th>\n",
       "      <td>0.035747</td>\n",
       "      <td>0.471401</td>\n",
       "    </tr>\n",
       "  </tbody>\n",
       "</table>\n",
       "</div>"
      ],
      "text/plain": [
       "                     A         B\n",
       "first second                    \n",
       "bar   one    -0.700890  0.260240\n",
       "      two     0.373212  0.868714\n",
       "baz   one    -1.866837  0.997726\n",
       "      two     0.035747  0.471401"
      ]
     },
     "execution_count": 97,
     "metadata": {},
     "output_type": "execute_result"
    }
   ],
   "source": [
    "stacked.unstack()"
   ]
  },
  {
   "cell_type": "code",
   "execution_count": null,
   "id": "9098ac85",
   "metadata": {},
   "outputs": [
    {
     "data": {
      "text/html": [
       "<div>\n",
       "<style scoped>\n",
       "    .dataframe tbody tr th:only-of-type {\n",
       "        vertical-align: middle;\n",
       "    }\n",
       "\n",
       "    .dataframe tbody tr th {\n",
       "        vertical-align: top;\n",
       "    }\n",
       "\n",
       "    .dataframe thead th {\n",
       "        text-align: right;\n",
       "    }\n",
       "</style>\n",
       "<table border=\"1\" class=\"dataframe\">\n",
       "  <thead>\n",
       "    <tr style=\"text-align: right;\">\n",
       "      <th></th>\n",
       "      <th>second</th>\n",
       "      <th>one</th>\n",
       "      <th>two</th>\n",
       "    </tr>\n",
       "    <tr>\n",
       "      <th>first</th>\n",
       "      <th></th>\n",
       "      <th></th>\n",
       "      <th></th>\n",
       "    </tr>\n",
       "  </thead>\n",
       "  <tbody>\n",
       "    <tr>\n",
       "      <th rowspan=\"2\" valign=\"top\">bar</th>\n",
       "      <th>A</th>\n",
       "      <td>-0.700890</td>\n",
       "      <td>0.373212</td>\n",
       "    </tr>\n",
       "    <tr>\n",
       "      <th>B</th>\n",
       "      <td>0.260240</td>\n",
       "      <td>0.868714</td>\n",
       "    </tr>\n",
       "    <tr>\n",
       "      <th rowspan=\"2\" valign=\"top\">baz</th>\n",
       "      <th>A</th>\n",
       "      <td>-1.866837</td>\n",
       "      <td>0.035747</td>\n",
       "    </tr>\n",
       "    <tr>\n",
       "      <th>B</th>\n",
       "      <td>0.997726</td>\n",
       "      <td>0.471401</td>\n",
       "    </tr>\n",
       "  </tbody>\n",
       "</table>\n",
       "</div>"
      ],
      "text/plain": [
       "second        one       two\n",
       "first                      \n",
       "bar   A -0.700890  0.373212\n",
       "      B  0.260240  0.868714\n",
       "baz   A -1.866837  0.035747\n",
       "      B  0.997726  0.471401"
      ]
     },
     "execution_count": 98,
     "metadata": {},
     "output_type": "execute_result"
    }
   ],
   "source": [
    "stacked.unstack(1)"
   ]
  },
  {
   "cell_type": "code",
   "execution_count": null,
   "id": "29427259",
   "metadata": {},
   "outputs": [
    {
     "data": {
      "text/html": [
       "<div>\n",
       "<style scoped>\n",
       "    .dataframe tbody tr th:only-of-type {\n",
       "        vertical-align: middle;\n",
       "    }\n",
       "\n",
       "    .dataframe tbody tr th {\n",
       "        vertical-align: top;\n",
       "    }\n",
       "\n",
       "    .dataframe thead th {\n",
       "        text-align: right;\n",
       "    }\n",
       "</style>\n",
       "<table border=\"1\" class=\"dataframe\">\n",
       "  <thead>\n",
       "    <tr style=\"text-align: right;\">\n",
       "      <th></th>\n",
       "      <th>first</th>\n",
       "      <th>bar</th>\n",
       "      <th>baz</th>\n",
       "    </tr>\n",
       "    <tr>\n",
       "      <th>second</th>\n",
       "      <th></th>\n",
       "      <th></th>\n",
       "      <th></th>\n",
       "    </tr>\n",
       "  </thead>\n",
       "  <tbody>\n",
       "    <tr>\n",
       "      <th rowspan=\"2\" valign=\"top\">one</th>\n",
       "      <th>A</th>\n",
       "      <td>-0.700890</td>\n",
       "      <td>-1.866837</td>\n",
       "    </tr>\n",
       "    <tr>\n",
       "      <th>B</th>\n",
       "      <td>0.260240</td>\n",
       "      <td>0.997726</td>\n",
       "    </tr>\n",
       "    <tr>\n",
       "      <th rowspan=\"2\" valign=\"top\">two</th>\n",
       "      <th>A</th>\n",
       "      <td>0.373212</td>\n",
       "      <td>0.035747</td>\n",
       "    </tr>\n",
       "    <tr>\n",
       "      <th>B</th>\n",
       "      <td>0.868714</td>\n",
       "      <td>0.471401</td>\n",
       "    </tr>\n",
       "  </tbody>\n",
       "</table>\n",
       "</div>"
      ],
      "text/plain": [
       "first          bar       baz\n",
       "second                      \n",
       "one    A -0.700890 -1.866837\n",
       "       B  0.260240  0.997726\n",
       "two    A  0.373212  0.035747\n",
       "       B  0.868714  0.471401"
      ]
     },
     "execution_count": 99,
     "metadata": {},
     "output_type": "execute_result"
    }
   ],
   "source": [
    "stacked.unstack(0)"
   ]
  },
  {
   "attachments": {},
   "cell_type": "markdown",
   "id": "740ad5ff",
   "metadata": {
    "lang": "ca"
   },
   "source": [
    "Si els índexs tenen noms, podeu utilitzar els noms de nivell en lloc d'especificar els números de nivell:"
   ]
  },
  {
   "cell_type": "code",
   "execution_count": null,
   "id": "332875dc",
   "metadata": {},
   "outputs": [
    {
     "data": {
      "text/html": [
       "<div>\n",
       "<style scoped>\n",
       "    .dataframe tbody tr th:only-of-type {\n",
       "        vertical-align: middle;\n",
       "    }\n",
       "\n",
       "    .dataframe tbody tr th {\n",
       "        vertical-align: top;\n",
       "    }\n",
       "\n",
       "    .dataframe thead th {\n",
       "        text-align: right;\n",
       "    }\n",
       "</style>\n",
       "<table border=\"1\" class=\"dataframe\">\n",
       "  <thead>\n",
       "    <tr style=\"text-align: right;\">\n",
       "      <th></th>\n",
       "      <th>second</th>\n",
       "      <th>one</th>\n",
       "      <th>two</th>\n",
       "    </tr>\n",
       "    <tr>\n",
       "      <th>first</th>\n",
       "      <th></th>\n",
       "      <th></th>\n",
       "      <th></th>\n",
       "    </tr>\n",
       "  </thead>\n",
       "  <tbody>\n",
       "    <tr>\n",
       "      <th rowspan=\"2\" valign=\"top\">bar</th>\n",
       "      <th>A</th>\n",
       "      <td>-0.700890</td>\n",
       "      <td>0.373212</td>\n",
       "    </tr>\n",
       "    <tr>\n",
       "      <th>B</th>\n",
       "      <td>0.260240</td>\n",
       "      <td>0.868714</td>\n",
       "    </tr>\n",
       "    <tr>\n",
       "      <th rowspan=\"2\" valign=\"top\">baz</th>\n",
       "      <th>A</th>\n",
       "      <td>-1.866837</td>\n",
       "      <td>0.035747</td>\n",
       "    </tr>\n",
       "    <tr>\n",
       "      <th>B</th>\n",
       "      <td>0.997726</td>\n",
       "      <td>0.471401</td>\n",
       "    </tr>\n",
       "  </tbody>\n",
       "</table>\n",
       "</div>"
      ],
      "text/plain": [
       "second        one       two\n",
       "first                      \n",
       "bar   A -0.700890  0.373212\n",
       "      B  0.260240  0.868714\n",
       "baz   A -1.866837  0.035747\n",
       "      B  0.997726  0.471401"
      ]
     },
     "execution_count": 100,
     "metadata": {},
     "output_type": "execute_result"
    }
   ],
   "source": [
    "stacked.unstack(\"second\")"
   ]
  },
  {
   "cell_type": "code",
   "execution_count": null,
   "id": "7cd244d6",
   "metadata": {},
   "outputs": [
    {
     "data": {
      "text/html": [
       "<div>\n",
       "<style scoped>\n",
       "    .dataframe tbody tr th:only-of-type {\n",
       "        vertical-align: middle;\n",
       "    }\n",
       "\n",
       "    .dataframe tbody tr th {\n",
       "        vertical-align: top;\n",
       "    }\n",
       "\n",
       "    .dataframe thead th {\n",
       "        text-align: right;\n",
       "    }\n",
       "</style>\n",
       "<table border=\"1\" class=\"dataframe\">\n",
       "  <thead>\n",
       "    <tr style=\"text-align: right;\">\n",
       "      <th></th>\n",
       "      <th>second</th>\n",
       "      <th>one</th>\n",
       "      <th>two</th>\n",
       "    </tr>\n",
       "    <tr>\n",
       "      <th>first</th>\n",
       "      <th></th>\n",
       "      <th></th>\n",
       "      <th></th>\n",
       "    </tr>\n",
       "  </thead>\n",
       "  <tbody>\n",
       "    <tr>\n",
       "      <th rowspan=\"2\" valign=\"top\">bar</th>\n",
       "      <th>A</th>\n",
       "      <td>-0.700890</td>\n",
       "      <td>0.373212</td>\n",
       "    </tr>\n",
       "    <tr>\n",
       "      <th>B</th>\n",
       "      <td>0.260240</td>\n",
       "      <td>0.868714</td>\n",
       "    </tr>\n",
       "    <tr>\n",
       "      <th rowspan=\"2\" valign=\"top\">baz</th>\n",
       "      <th>A</th>\n",
       "      <td>-1.866837</td>\n",
       "      <td>0.035747</td>\n",
       "    </tr>\n",
       "    <tr>\n",
       "      <th>B</th>\n",
       "      <td>0.997726</td>\n",
       "      <td>0.471401</td>\n",
       "    </tr>\n",
       "  </tbody>\n",
       "</table>\n",
       "</div>"
      ],
      "text/plain": [
       "second        one       two\n",
       "first                      \n",
       "bar   A -0.700890  0.373212\n",
       "      B  0.260240  0.868714\n",
       "baz   A -1.866837  0.035747\n",
       "      B  0.997726  0.471401"
      ]
     },
     "execution_count": 101,
     "metadata": {},
     "output_type": "execute_result"
    }
   ],
   "source": [
    "stacked.unstack(\"second\")"
   ]
  },
  {
   "attachments": {},
   "cell_type": "markdown",
   "id": "2185f79c",
   "metadata": {
    "lang": "ca"
   },
   "source": [
    "Observeu que els mètodes stack() i unstack() ordenen implícitament els nivells d'índex implicats. Per tant, una crida a stack() i després unstack(), o viceversa, donarà lloc a una còpia ordenada del DataFrame o Series original:"
   ]
  },
  {
   "cell_type": "code",
   "execution_count": null,
   "id": "dda16a01",
   "metadata": {},
   "outputs": [
    {
     "data": {
      "text/html": [
       "<div>\n",
       "<style scoped>\n",
       "    .dataframe tbody tr th:only-of-type {\n",
       "        vertical-align: middle;\n",
       "    }\n",
       "\n",
       "    .dataframe tbody tr th {\n",
       "        vertical-align: top;\n",
       "    }\n",
       "\n",
       "    .dataframe thead th {\n",
       "        text-align: right;\n",
       "    }\n",
       "</style>\n",
       "<table border=\"1\" class=\"dataframe\">\n",
       "  <thead>\n",
       "    <tr style=\"text-align: right;\">\n",
       "      <th></th>\n",
       "      <th></th>\n",
       "      <th>A</th>\n",
       "    </tr>\n",
       "  </thead>\n",
       "  <tbody>\n",
       "    <tr>\n",
       "      <th rowspan=\"2\" valign=\"top\">2</th>\n",
       "      <th>a</th>\n",
       "      <td>0.810817</td>\n",
       "    </tr>\n",
       "    <tr>\n",
       "      <th>b</th>\n",
       "      <td>-1.588610</td>\n",
       "    </tr>\n",
       "    <tr>\n",
       "      <th rowspan=\"2\" valign=\"top\">1</th>\n",
       "      <th>a</th>\n",
       "      <td>0.677500</td>\n",
       "    </tr>\n",
       "    <tr>\n",
       "      <th>b</th>\n",
       "      <td>-0.669666</td>\n",
       "    </tr>\n",
       "  </tbody>\n",
       "</table>\n",
       "</div>"
      ],
      "text/plain": [
       "            A\n",
       "2 a  0.810817\n",
       "  b -1.588610\n",
       "1 a  0.677500\n",
       "  b -0.669666"
      ]
     },
     "execution_count": 102,
     "metadata": {},
     "output_type": "execute_result"
    }
   ],
   "source": [
    "index = pd.MultiIndex.from_product([[2, 1], [\"a\", \"b\"]])\n",
    "\n",
    "df = pd.DataFrame(np.random.randn(4), index=index, columns=[\"A\"])\n",
    "\n",
    "df"
   ]
  },
  {
   "cell_type": "code",
   "execution_count": null,
   "id": "5f954558",
   "metadata": {},
   "outputs": [
    {
     "data": {
      "text/plain": [
       "True"
      ]
     },
     "execution_count": 103,
     "metadata": {},
     "output_type": "execute_result"
    }
   ],
   "source": [
    "all(df.unstack().stack() == df.sort_index())"
   ]
  },
  {
   "attachments": {},
   "cell_type": "markdown",
   "id": "f437115f",
   "metadata": {},
   "source": [
    "## Pivot tables"
   ]
  },
  {
   "cell_type": "code",
   "execution_count": null,
   "id": "e9fffb55",
   "metadata": {},
   "outputs": [
    {
     "data": {
      "text/html": [
       "<div>\n",
       "<style scoped>\n",
       "    .dataframe tbody tr th:only-of-type {\n",
       "        vertical-align: middle;\n",
       "    }\n",
       "\n",
       "    .dataframe tbody tr th {\n",
       "        vertical-align: top;\n",
       "    }\n",
       "\n",
       "    .dataframe thead th {\n",
       "        text-align: right;\n",
       "    }\n",
       "</style>\n",
       "<table border=\"1\" class=\"dataframe\">\n",
       "  <thead>\n",
       "    <tr style=\"text-align: right;\">\n",
       "      <th></th>\n",
       "      <th>A</th>\n",
       "      <th>B</th>\n",
       "      <th>C</th>\n",
       "      <th>D</th>\n",
       "      <th>E</th>\n",
       "    </tr>\n",
       "  </thead>\n",
       "  <tbody>\n",
       "    <tr>\n",
       "      <th>0</th>\n",
       "      <td>one</td>\n",
       "      <td>A</td>\n",
       "      <td>foo</td>\n",
       "      <td>0.846569</td>\n",
       "      <td>2.463205</td>\n",
       "    </tr>\n",
       "    <tr>\n",
       "      <th>1</th>\n",
       "      <td>one</td>\n",
       "      <td>B</td>\n",
       "      <td>foo</td>\n",
       "      <td>0.322907</td>\n",
       "      <td>-2.545340</td>\n",
       "    </tr>\n",
       "    <tr>\n",
       "      <th>2</th>\n",
       "      <td>two</td>\n",
       "      <td>C</td>\n",
       "      <td>foo</td>\n",
       "      <td>3.768474</td>\n",
       "      <td>0.427848</td>\n",
       "    </tr>\n",
       "    <tr>\n",
       "      <th>3</th>\n",
       "      <td>three</td>\n",
       "      <td>A</td>\n",
       "      <td>bar</td>\n",
       "      <td>-0.189419</td>\n",
       "      <td>0.611912</td>\n",
       "    </tr>\n",
       "    <tr>\n",
       "      <th>4</th>\n",
       "      <td>one</td>\n",
       "      <td>B</td>\n",
       "      <td>bar</td>\n",
       "      <td>0.061081</td>\n",
       "      <td>0.111042</td>\n",
       "    </tr>\n",
       "    <tr>\n",
       "      <th>5</th>\n",
       "      <td>one</td>\n",
       "      <td>C</td>\n",
       "      <td>bar</td>\n",
       "      <td>0.737039</td>\n",
       "      <td>0.275232</td>\n",
       "    </tr>\n",
       "    <tr>\n",
       "      <th>6</th>\n",
       "      <td>two</td>\n",
       "      <td>A</td>\n",
       "      <td>foo</td>\n",
       "      <td>1.174081</td>\n",
       "      <td>1.997007</td>\n",
       "    </tr>\n",
       "    <tr>\n",
       "      <th>7</th>\n",
       "      <td>three</td>\n",
       "      <td>B</td>\n",
       "      <td>foo</td>\n",
       "      <td>2.335352</td>\n",
       "      <td>-0.800816</td>\n",
       "    </tr>\n",
       "    <tr>\n",
       "      <th>8</th>\n",
       "      <td>one</td>\n",
       "      <td>C</td>\n",
       "      <td>foo</td>\n",
       "      <td>-1.401818</td>\n",
       "      <td>0.590451</td>\n",
       "    </tr>\n",
       "    <tr>\n",
       "      <th>9</th>\n",
       "      <td>one</td>\n",
       "      <td>A</td>\n",
       "      <td>bar</td>\n",
       "      <td>0.558135</td>\n",
       "      <td>1.817718</td>\n",
       "    </tr>\n",
       "    <tr>\n",
       "      <th>10</th>\n",
       "      <td>two</td>\n",
       "      <td>B</td>\n",
       "      <td>bar</td>\n",
       "      <td>1.531527</td>\n",
       "      <td>-0.835063</td>\n",
       "    </tr>\n",
       "    <tr>\n",
       "      <th>11</th>\n",
       "      <td>three</td>\n",
       "      <td>C</td>\n",
       "      <td>bar</td>\n",
       "      <td>-0.425604</td>\n",
       "      <td>0.652985</td>\n",
       "    </tr>\n",
       "  </tbody>\n",
       "</table>\n",
       "</div>"
      ],
      "text/plain": [
       "        A  B    C         D         E\n",
       "0     one  A  foo  0.846569  2.463205\n",
       "1     one  B  foo  0.322907 -2.545340\n",
       "2     two  C  foo  3.768474  0.427848\n",
       "3   three  A  bar -0.189419  0.611912\n",
       "4     one  B  bar  0.061081  0.111042\n",
       "5     one  C  bar  0.737039  0.275232\n",
       "6     two  A  foo  1.174081  1.997007\n",
       "7   three  B  foo  2.335352 -0.800816\n",
       "8     one  C  foo -1.401818  0.590451\n",
       "9     one  A  bar  0.558135  1.817718\n",
       "10    two  B  bar  1.531527 -0.835063\n",
       "11  three  C  bar -0.425604  0.652985"
      ]
     },
     "execution_count": 104,
     "metadata": {},
     "output_type": "execute_result"
    }
   ],
   "source": [
    "df = pd.DataFrame(\n",
    "    {\n",
    "        \"A\": [\"one\", \"one\", \"two\", \"three\"] * 3,\n",
    "        \"B\": [\"A\", \"B\", \"C\"] * 4,\n",
    "        \"C\": [\"foo\", \"foo\", \"foo\", \"bar\", \"bar\", \"bar\"] * 2,\n",
    "        \"D\": np.random.randn(12),\n",
    "        \"E\": np.random.randn(12),\n",
    "    }\n",
    ")\n",
    "\n",
    "\n",
    "df"
   ]
  },
  {
   "attachments": {},
   "cell_type": "markdown",
   "id": "f92c02d6",
   "metadata": {
    "lang": "ca"
   },
   "source": [
    "Podem produir taules dinàmiques a partir d'aquestes dades molt fàcilment:"
   ]
  },
  {
   "cell_type": "code",
   "execution_count": null,
   "id": "6f46bd80",
   "metadata": {},
   "outputs": [
    {
     "data": {
      "text/html": [
       "<div>\n",
       "<style scoped>\n",
       "    .dataframe tbody tr th:only-of-type {\n",
       "        vertical-align: middle;\n",
       "    }\n",
       "\n",
       "    .dataframe tbody tr th {\n",
       "        vertical-align: top;\n",
       "    }\n",
       "\n",
       "    .dataframe thead th {\n",
       "        text-align: right;\n",
       "    }\n",
       "</style>\n",
       "<table border=\"1\" class=\"dataframe\">\n",
       "  <thead>\n",
       "    <tr style=\"text-align: right;\">\n",
       "      <th></th>\n",
       "      <th>C</th>\n",
       "      <th>bar</th>\n",
       "      <th>foo</th>\n",
       "    </tr>\n",
       "    <tr>\n",
       "      <th>A</th>\n",
       "      <th>B</th>\n",
       "      <th></th>\n",
       "      <th></th>\n",
       "    </tr>\n",
       "  </thead>\n",
       "  <tbody>\n",
       "    <tr>\n",
       "      <th rowspan=\"3\" valign=\"top\">one</th>\n",
       "      <th>A</th>\n",
       "      <td>0.558135</td>\n",
       "      <td>0.846569</td>\n",
       "    </tr>\n",
       "    <tr>\n",
       "      <th>B</th>\n",
       "      <td>0.061081</td>\n",
       "      <td>0.322907</td>\n",
       "    </tr>\n",
       "    <tr>\n",
       "      <th>C</th>\n",
       "      <td>0.737039</td>\n",
       "      <td>-1.401818</td>\n",
       "    </tr>\n",
       "    <tr>\n",
       "      <th rowspan=\"3\" valign=\"top\">three</th>\n",
       "      <th>A</th>\n",
       "      <td>-0.189419</td>\n",
       "      <td>NaN</td>\n",
       "    </tr>\n",
       "    <tr>\n",
       "      <th>B</th>\n",
       "      <td>NaN</td>\n",
       "      <td>2.335352</td>\n",
       "    </tr>\n",
       "    <tr>\n",
       "      <th>C</th>\n",
       "      <td>-0.425604</td>\n",
       "      <td>NaN</td>\n",
       "    </tr>\n",
       "    <tr>\n",
       "      <th rowspan=\"3\" valign=\"top\">two</th>\n",
       "      <th>A</th>\n",
       "      <td>NaN</td>\n",
       "      <td>1.174081</td>\n",
       "    </tr>\n",
       "    <tr>\n",
       "      <th>B</th>\n",
       "      <td>1.531527</td>\n",
       "      <td>NaN</td>\n",
       "    </tr>\n",
       "    <tr>\n",
       "      <th>C</th>\n",
       "      <td>NaN</td>\n",
       "      <td>3.768474</td>\n",
       "    </tr>\n",
       "  </tbody>\n",
       "</table>\n",
       "</div>"
      ],
      "text/plain": [
       "C             bar       foo\n",
       "A     B                    \n",
       "one   A  0.558135  0.846569\n",
       "      B  0.061081  0.322907\n",
       "      C  0.737039 -1.401818\n",
       "three A -0.189419       NaN\n",
       "      B       NaN  2.335352\n",
       "      C -0.425604       NaN\n",
       "two   A       NaN  1.174081\n",
       "      B  1.531527       NaN\n",
       "      C       NaN  3.768474"
      ]
     },
     "execution_count": 105,
     "metadata": {},
     "output_type": "execute_result"
    }
   ],
   "source": [
    "pd.pivot_table(df, values=\"D\", index=[\"A\", \"B\"], columns=[\"C\"])"
   ]
  },
  {
   "attachments": {},
   "cell_type": "markdown",
   "id": "89fc8c9a",
   "metadata": {
    "lang": "ca"
   },
   "source": [
    "## Sèries temporals\n",
    "pandas té una funcionalitat senzilla, potent i eficient per realitzar operacions de remuestreig durant la conversió de freqüència (p. ex., convertir dades de segon en dades de 5 minuts). Això és extremadament comú,però no limitat a, aplicacions financeres."
   ]
  },
  {
   "cell_type": "code",
   "execution_count": null,
   "id": "525f9b9d",
   "metadata": {},
   "outputs": [
    {
     "data": {
      "text/plain": [
       "2012-01-01    25429\n",
       "Freq: 5T, dtype: int64"
      ]
     },
     "execution_count": 106,
     "metadata": {},
     "output_type": "execute_result"
    }
   ],
   "source": [
    "rng = pd.date_range(\"1/1/2012\", periods=100, freq=\"S\")\n",
    "\n",
    "ts = pd.Series(np.random.randint(0, 500, len(rng)), index=rng)\n",
    "\n",
    "ts.resample(\"5Min\").sum()"
   ]
  },
  {
   "attachments": {},
   "cell_type": "markdown",
   "id": "bb5dd2eb",
   "metadata": {
    "lang": "ca"
   },
   "source": [
    "Representació de la zona horària:"
   ]
  },
  {
   "cell_type": "code",
   "execution_count": null,
   "id": "6f621205",
   "metadata": {},
   "outputs": [
    {
     "data": {
      "text/plain": [
       "2012-03-06    1.270647\n",
       "2012-03-07    0.268113\n",
       "2012-03-08    0.816701\n",
       "2012-03-09    0.338851\n",
       "2012-03-10    0.149219\n",
       "Freq: D, dtype: float64"
      ]
     },
     "execution_count": 29,
     "metadata": {},
     "output_type": "execute_result"
    }
   ],
   "source": [
    "rng = pd.date_range(\"3/6/2012 00:00\", periods=5, freq=\"D\")\n",
    "\n",
    "ts = pd.Series(np.random.randn(len(rng)), rng)\n",
    "\n",
    "ts"
   ]
  },
  {
   "cell_type": "code",
   "execution_count": null,
   "id": "f2422128",
   "metadata": {},
   "outputs": [
    {
     "data": {
      "text/plain": [
       "2012-03-06 00:00:00+00:00    0.257030\n",
       "2012-03-07 00:00:00+00:00   -0.402319\n",
       "2012-03-08 00:00:00+00:00   -0.681449\n",
       "2012-03-09 00:00:00+00:00   -0.489192\n",
       "2012-03-10 00:00:00+00:00    0.236979\n",
       "Freq: D, dtype: float64"
      ]
     },
     "execution_count": 108,
     "metadata": {},
     "output_type": "execute_result"
    }
   ],
   "source": [
    "ts_utc = ts.tz_localize(\"UTC\")\n",
    "\n",
    "ts_utc"
   ]
  },
  {
   "attachments": {},
   "cell_type": "markdown",
   "id": "002652ee",
   "metadata": {
    "lang": "ca"
   },
   "source": [
    "Convertir a una altra zona horària:"
   ]
  },
  {
   "cell_type": "code",
   "execution_count": null,
   "id": "fc0ccbcf",
   "metadata": {},
   "outputs": [
    {
     "data": {
      "text/plain": [
       "2012-01-31    0.096931\n",
       "2012-02-29    0.617219\n",
       "2012-03-31   -1.314062\n",
       "2012-04-30    0.070249\n",
       "2012-05-31    0.078913\n",
       "Freq: M, dtype: float64"
      ]
     },
     "execution_count": 109,
     "metadata": {},
     "output_type": "execute_result"
    }
   ],
   "source": [
    "rng = pd.date_range(\"1/1/2012\", periods=5, freq=\"M\")\n",
    "\n",
    "ts = pd.Series(np.random.randn(len(rng)), index=rng)\n",
    "\n",
    "ts"
   ]
  },
  {
   "cell_type": "code",
   "execution_count": null,
   "id": "2df22a8b",
   "metadata": {},
   "outputs": [
    {
     "data": {
      "text/plain": [
       "2012-01    0.096931\n",
       "2012-02    0.617219\n",
       "2012-03   -1.314062\n",
       "2012-04    0.070249\n",
       "2012-05    0.078913\n",
       "Freq: M, dtype: float64"
      ]
     },
     "execution_count": 110,
     "metadata": {},
     "output_type": "execute_result"
    }
   ],
   "source": [
    "ps = ts.to_period()\n",
    "\n",
    "ps"
   ]
  },
  {
   "cell_type": "code",
   "execution_count": null,
   "id": "9e12a79c",
   "metadata": {},
   "outputs": [
    {
     "data": {
      "text/plain": [
       "2012-01-01    0.096931\n",
       "2012-02-01    0.617219\n",
       "2012-03-01   -1.314062\n",
       "2012-04-01    0.070249\n",
       "2012-05-01    0.078913\n",
       "Freq: MS, dtype: float64"
      ]
     },
     "execution_count": 111,
     "metadata": {},
     "output_type": "execute_result"
    }
   ],
   "source": [
    "ps.to_timestamp()"
   ]
  },
  {
   "attachments": {},
   "cell_type": "markdown",
   "id": "1c7242a7",
   "metadata": {
    "lang": "ca"
   },
   "source": [
    "La conversió entre període i marca de temps permet utilitzar algunes funcions aritmètiques convenients. A l'exemple següent, convertim una freqüència trimestral amb l'any que acaba al novembre a les 9:00 del final del mes següent al final del trimestre:"
   ]
  },
  {
   "cell_type": "code",
   "execution_count": null,
   "id": "81193723",
   "metadata": {},
   "outputs": [
    {
     "data": {
      "text/plain": [
       "1990-03-01 09:00    0.423758\n",
       "1990-06-01 09:00    1.063910\n",
       "1990-09-01 09:00   -0.426689\n",
       "1990-12-01 09:00   -0.298398\n",
       "1991-03-01 09:00   -0.504643\n",
       "Freq: H, dtype: float64"
      ]
     },
     "execution_count": 112,
     "metadata": {},
     "output_type": "execute_result"
    }
   ],
   "source": [
    "prng = pd.period_range(\"1990Q1\", \"2000Q4\", freq=\"Q-NOV\")\n",
    "\n",
    "ts = pd.Series(np.random.randn(len(prng)), prng)\n",
    "\n",
    "ts.index = (prng.asfreq(\"M\", \"e\") + 1).asfreq(\"H\", \"s\") + 9\n",
    "\n",
    "ts.head()"
   ]
  },
  {
   "attachments": {},
   "cell_type": "markdown",
   "id": "ce258a12",
   "metadata": {
    "lang": "en"
   },
   "source": [
    "## Categoricals\n",
    "\n",
    "pandas can include categorical data in a DataFrame. \n",
    "\n",
    "Categoricals are a pandas data type corresponding to categorical variables in statistics. A categorical variable takes on a limited, and usually fixed, number of possible values (categories; levels in R). Examples are gender, social class, blood type, country affiliation, observation time or rating via Likert scales.\n",
    "\n",
    "In contrast to statistical categorical variables, categorical data might have an order (e.g. ‘strongly agree’ vs ‘agree’ or ‘first observation’ vs. ‘second observation’), but numerical operations (additions, divisions, …) are not possible.\n",
    "\n",
    "All values of categorical data are either in categories or np.nan. Order is defined by the order of categories, not lexical order of the values. Internally, the data structure consists of a categories array and an integer array of codes which point to the real value in the categories array.\n",
    "\n",
    "The categorical data type is useful in the following cases:\n",
    "\n",
    "* A string variable consisting of only a few different values. Converting such a string variable to a categorical variable will save some memory, see here.\n",
    "\n",
    "* The lexical order of a variable is not the same as the logical order (“one”, “two”, “three”). By converting to a categorical and specifying an order on the categories, sorting and min/max will use the logical order instead of the lexical order, see here.\n",
    "\n",
    "* As a signal to other Python libraries that this column should be treated as a categorical variable (e.g. to use suitable statistical methods or plot types)."
   ]
  },
  {
   "attachments": {},
   "cell_type": "markdown",
   "id": "6f32c274",
   "metadata": {
    "lang": "ca"
   },
   "source": [
    "## Categories\n",
    "\n",
    "Pandas poden incloure dades categòriques en un DataFrame.\n",
    "\n",
    "Les categòriques són un tipus de dades de Pandas corresponents a variables categòriques en estadístiques. Una variable categòrica pren un nombre limitat, i normalment fix, de valors possibles. Alguns exemples són el gènere, la classe social, el grup sanguini, la filiació del país, el temps d'observació o la valoració mitjançant escales Likert.\n",
    "\n",
    "A diferència de les variables categòriques estadístiques, les dades categòriques poden tenir un ordre (per exemple, \"molt d'acord\" vs \"d'acord\" o \"primera observació\" vs. \"segona observació\"), però les operacions numèriques (sumas, divisions, ...) no són possibles.\n",
    "\n",
    "Tots els valors de les dades categòriques es troben en categories o np.nan. L'ordre es defineix per l'ordre de les categories, no per l'ordre lèxic dels valors. Internament, l'estructura de dades consta d'una matriu de categories i una matriu d'enters de codis que apunten al valor real de la matriu de categories.\n",
    "\n",
    "El tipus de dades categòriques és útil en els casos següents:\n",
    "\n",
    "* Una variable de string que consta només d'uns quants valors diferents. Convertir aquesta variable de cadena en una variable categòrica estalviarà una mica de memòria\n",
    "\n",
    "* L'ordre lèxic d'una variable no és el mateix que l'ordre lògic (“un”, “dos”, “tres”). En convertir-lo en categòric i especificar un ordre a les categories, l'ordenació i min/max utilitzaran l'ordre lògic en lloc de l'ordre lèxic.\n",
    "\n",
    "* Com a senyal per a altres biblioteques de Python que aquesta columna s'ha de tractar com una variable categòrica (per exemple, per utilitzar mètodes estadístics o tipus de traçat adequats)."
   ]
  },
  {
   "cell_type": "code",
   "execution_count": null,
   "id": "8a54f25a",
   "metadata": {},
   "outputs": [
    {
     "data": {
      "text/html": [
       "<div>\n",
       "<style scoped>\n",
       "    .dataframe tbody tr th:only-of-type {\n",
       "        vertical-align: middle;\n",
       "    }\n",
       "\n",
       "    .dataframe tbody tr th {\n",
       "        vertical-align: top;\n",
       "    }\n",
       "\n",
       "    .dataframe thead th {\n",
       "        text-align: right;\n",
       "    }\n",
       "</style>\n",
       "<table border=\"1\" class=\"dataframe\">\n",
       "  <thead>\n",
       "    <tr style=\"text-align: right;\">\n",
       "      <th></th>\n",
       "      <th>id</th>\n",
       "      <th>raw_grade</th>\n",
       "    </tr>\n",
       "  </thead>\n",
       "  <tbody>\n",
       "    <tr>\n",
       "      <th>0</th>\n",
       "      <td>1</td>\n",
       "      <td>a</td>\n",
       "    </tr>\n",
       "    <tr>\n",
       "      <th>1</th>\n",
       "      <td>2</td>\n",
       "      <td>b</td>\n",
       "    </tr>\n",
       "    <tr>\n",
       "      <th>2</th>\n",
       "      <td>3</td>\n",
       "      <td>b</td>\n",
       "    </tr>\n",
       "    <tr>\n",
       "      <th>3</th>\n",
       "      <td>4</td>\n",
       "      <td>a</td>\n",
       "    </tr>\n",
       "    <tr>\n",
       "      <th>4</th>\n",
       "      <td>5</td>\n",
       "      <td>a</td>\n",
       "    </tr>\n",
       "    <tr>\n",
       "      <th>5</th>\n",
       "      <td>6</td>\n",
       "      <td>e</td>\n",
       "    </tr>\n",
       "  </tbody>\n",
       "</table>\n",
       "</div>"
      ],
      "text/plain": [
       "   id raw_grade\n",
       "0   1         a\n",
       "1   2         b\n",
       "2   3         b\n",
       "3   4         a\n",
       "4   5         a\n",
       "5   6         e"
      ]
     },
     "execution_count": 114,
     "metadata": {},
     "output_type": "execute_result"
    }
   ],
   "source": [
    "df = pd.DataFrame(\n",
    "    {\"id\": [1, 2, 3, 4, 5, 6], \"raw_grade\": [\"a\", \"b\", \"b\", \"a\", \"a\", \"e\"]}\n",
    ")\n",
    "df "
   ]
  },
  {
   "cell_type": "code",
   "execution_count": null,
   "id": "ea607c6a",
   "metadata": {},
   "outputs": [
    {
     "data": {
      "text/plain": [
       "0    a\n",
       "1    b\n",
       "2    b\n",
       "3    a\n",
       "4    a\n",
       "5    e\n",
       "Name: grade, dtype: category\n",
       "Categories (3, object): ['a', 'b', 'e']"
      ]
     },
     "execution_count": 115,
     "metadata": {},
     "output_type": "execute_result"
    }
   ],
   "source": [
    "df[\"grade\"] = df[\"raw_grade\"].astype(\"category\")\n",
    "\n",
    "df[\"grade\"]"
   ]
  },
  {
   "attachments": {},
   "cell_type": "markdown",
   "id": "02f430dd",
   "metadata": {
    "lang": "ca"
   },
   "source": [
    "Canvieu el nom de les categories a noms més significatius (l'assignació a Series.cat.categories() està al seu lloc!):"
   ]
  },
  {
   "cell_type": "code",
   "execution_count": null,
   "id": "5d032876",
   "metadata": {},
   "outputs": [],
   "source": [
    "df[\"grade\"].cat.categories = [\"very good\", \"good\", \"very bad\"]"
   ]
  },
  {
   "attachments": {},
   "cell_type": "markdown",
   "id": "a4575827",
   "metadata": {
    "lang": "ca"
   },
   "source": [
    "Reordena les categories i afegiu simultàniament les categories que falten (els mètodes de Series.cat() retornen una sèrie nova per defecte):"
   ]
  },
  {
   "cell_type": "code",
   "execution_count": null,
   "id": "218b8227",
   "metadata": {},
   "outputs": [
    {
     "data": {
      "text/plain": [
       "0    very good\n",
       "1         good\n",
       "2         good\n",
       "3    very good\n",
       "4    very good\n",
       "5     very bad\n",
       "Name: grade, dtype: category\n",
       "Categories (5, object): ['very bad', 'bad', 'medium', 'good', 'very good']"
      ]
     },
     "execution_count": 117,
     "metadata": {},
     "output_type": "execute_result"
    }
   ],
   "source": [
    "df[\"grade\"] = df[\"grade\"].cat.set_categories(\n",
    "    [\"very bad\", \"bad\", \"medium\", \"good\", \"very good\"]\n",
    ")\n",
    "\n",
    "df[\"grade\"]"
   ]
  },
  {
   "attachments": {},
   "cell_type": "markdown",
   "id": "14c4479b",
   "metadata": {
    "lang": "ca"
   },
   "source": [
    "L'ordenació és per ordre a les categories, no per ordre lèxic:"
   ]
  },
  {
   "cell_type": "code",
   "execution_count": null,
   "id": "3675451b",
   "metadata": {},
   "outputs": [
    {
     "data": {
      "text/html": [
       "<div>\n",
       "<style scoped>\n",
       "    .dataframe tbody tr th:only-of-type {\n",
       "        vertical-align: middle;\n",
       "    }\n",
       "\n",
       "    .dataframe tbody tr th {\n",
       "        vertical-align: top;\n",
       "    }\n",
       "\n",
       "    .dataframe thead th {\n",
       "        text-align: right;\n",
       "    }\n",
       "</style>\n",
       "<table border=\"1\" class=\"dataframe\">\n",
       "  <thead>\n",
       "    <tr style=\"text-align: right;\">\n",
       "      <th></th>\n",
       "      <th>id</th>\n",
       "      <th>raw_grade</th>\n",
       "      <th>grade</th>\n",
       "    </tr>\n",
       "  </thead>\n",
       "  <tbody>\n",
       "    <tr>\n",
       "      <th>5</th>\n",
       "      <td>6</td>\n",
       "      <td>e</td>\n",
       "      <td>very bad</td>\n",
       "    </tr>\n",
       "    <tr>\n",
       "      <th>1</th>\n",
       "      <td>2</td>\n",
       "      <td>b</td>\n",
       "      <td>good</td>\n",
       "    </tr>\n",
       "    <tr>\n",
       "      <th>2</th>\n",
       "      <td>3</td>\n",
       "      <td>b</td>\n",
       "      <td>good</td>\n",
       "    </tr>\n",
       "    <tr>\n",
       "      <th>0</th>\n",
       "      <td>1</td>\n",
       "      <td>a</td>\n",
       "      <td>very good</td>\n",
       "    </tr>\n",
       "    <tr>\n",
       "      <th>3</th>\n",
       "      <td>4</td>\n",
       "      <td>a</td>\n",
       "      <td>very good</td>\n",
       "    </tr>\n",
       "    <tr>\n",
       "      <th>4</th>\n",
       "      <td>5</td>\n",
       "      <td>a</td>\n",
       "      <td>very good</td>\n",
       "    </tr>\n",
       "  </tbody>\n",
       "</table>\n",
       "</div>"
      ],
      "text/plain": [
       "   id raw_grade      grade\n",
       "5   6         e   very bad\n",
       "1   2         b       good\n",
       "2   3         b       good\n",
       "0   1         a  very good\n",
       "3   4         a  very good\n",
       "4   5         a  very good"
      ]
     },
     "execution_count": 118,
     "metadata": {},
     "output_type": "execute_result"
    }
   ],
   "source": [
    "df.sort_values(by=\"grade\")"
   ]
  },
  {
   "cell_type": "code",
   "execution_count": null,
   "id": "6f3c4e62",
   "metadata": {},
   "outputs": [
    {
     "data": {
      "text/plain": [
       "grade\n",
       "very bad     1\n",
       "bad          0\n",
       "medium       0\n",
       "good         2\n",
       "very good    3\n",
       "dtype: int64"
      ]
     },
     "execution_count": 119,
     "metadata": {},
     "output_type": "execute_result"
    }
   ],
   "source": [
    "df.groupby(\"grade\").size()"
   ]
  },
  {
   "attachments": {},
   "cell_type": "markdown",
   "id": "a6faf9c3",
   "metadata": {
    "lang": "ca"
   },
   "source": [
    "## Obtenció/entrada de dades ([Documentació](https://pandas.pydata.org/pandas-docs/stable/user_guide/io.html#io-store-in-csv))\n",
    "\n",
    "### CSV\n",
    "\n",
    "Escrivint en un fitxer csv:"
   ]
  },
  {
   "cell_type": "code",
   "execution_count": null,
   "id": "52012b17",
   "metadata": {},
   "outputs": [],
   "source": [
    "df.to_csv(\"foo.csv\")"
   ]
  },
  {
   "attachments": {},
   "cell_type": "markdown",
   "id": "44827764",
   "metadata": {
    "lang": "ca"
   },
   "source": [
    "Llegint des d'un fitxer csv:"
   ]
  },
  {
   "cell_type": "code",
   "execution_count": null,
   "id": "91eafe3e",
   "metadata": {},
   "outputs": [
    {
     "data": {
      "text/html": [
       "<div>\n",
       "<style scoped>\n",
       "    .dataframe tbody tr th:only-of-type {\n",
       "        vertical-align: middle;\n",
       "    }\n",
       "\n",
       "    .dataframe tbody tr th {\n",
       "        vertical-align: top;\n",
       "    }\n",
       "\n",
       "    .dataframe thead th {\n",
       "        text-align: right;\n",
       "    }\n",
       "</style>\n",
       "<table border=\"1\" class=\"dataframe\">\n",
       "  <thead>\n",
       "    <tr style=\"text-align: right;\">\n",
       "      <th></th>\n",
       "      <th>Unnamed: 0</th>\n",
       "      <th>A</th>\n",
       "      <th>B</th>\n",
       "      <th>C</th>\n",
       "      <th>D</th>\n",
       "    </tr>\n",
       "  </thead>\n",
       "  <tbody>\n",
       "    <tr>\n",
       "      <th>0</th>\n",
       "      <td>0</td>\n",
       "      <td>foo</td>\n",
       "      <td>one</td>\n",
       "      <td>0.756097</td>\n",
       "      <td>0.535497</td>\n",
       "    </tr>\n",
       "    <tr>\n",
       "      <th>1</th>\n",
       "      <td>1</td>\n",
       "      <td>bar</td>\n",
       "      <td>one</td>\n",
       "      <td>0.693637</td>\n",
       "      <td>-1.033536</td>\n",
       "    </tr>\n",
       "    <tr>\n",
       "      <th>2</th>\n",
       "      <td>2</td>\n",
       "      <td>foo</td>\n",
       "      <td>two</td>\n",
       "      <td>0.419497</td>\n",
       "      <td>0.243544</td>\n",
       "    </tr>\n",
       "    <tr>\n",
       "      <th>3</th>\n",
       "      <td>3</td>\n",
       "      <td>bar</td>\n",
       "      <td>three</td>\n",
       "      <td>0.181957</td>\n",
       "      <td>-0.316590</td>\n",
       "    </tr>\n",
       "    <tr>\n",
       "      <th>4</th>\n",
       "      <td>4</td>\n",
       "      <td>foo</td>\n",
       "      <td>two</td>\n",
       "      <td>0.663216</td>\n",
       "      <td>0.854475</td>\n",
       "    </tr>\n",
       "    <tr>\n",
       "      <th>5</th>\n",
       "      <td>5</td>\n",
       "      <td>bar</td>\n",
       "      <td>two</td>\n",
       "      <td>0.107244</td>\n",
       "      <td>-1.503820</td>\n",
       "    </tr>\n",
       "    <tr>\n",
       "      <th>6</th>\n",
       "      <td>6</td>\n",
       "      <td>foo</td>\n",
       "      <td>one</td>\n",
       "      <td>-0.452784</td>\n",
       "      <td>-0.860243</td>\n",
       "    </tr>\n",
       "    <tr>\n",
       "      <th>7</th>\n",
       "      <td>7</td>\n",
       "      <td>foo</td>\n",
       "      <td>three</td>\n",
       "      <td>0.900339</td>\n",
       "      <td>0.279834</td>\n",
       "    </tr>\n",
       "  </tbody>\n",
       "</table>\n",
       "</div>"
      ],
      "text/plain": [
       "   Unnamed: 0    A      B         C         D\n",
       "0           0  foo    one  0.756097  0.535497\n",
       "1           1  bar    one  0.693637 -1.033536\n",
       "2           2  foo    two  0.419497  0.243544\n",
       "3           3  bar  three  0.181957 -0.316590\n",
       "4           4  foo    two  0.663216  0.854475\n",
       "5           5  bar    two  0.107244 -1.503820\n",
       "6           6  foo    one -0.452784 -0.860243\n",
       "7           7  foo  three  0.900339  0.279834"
      ]
     },
     "execution_count": 34,
     "metadata": {},
     "output_type": "execute_result"
    }
   ],
   "source": [
    "pd.read_csv(\"foo.csv\")\n"
   ]
  },
  {
   "attachments": {},
   "cell_type": "markdown",
   "id": "482d89bd",
   "metadata": {
    "lang": "ca"
   },
   "source": [
    "### HDF5\n",
    "Escrivint a una Store HDF5:"
   ]
  },
  {
   "cell_type": "code",
   "execution_count": null,
   "id": "60cdb812",
   "metadata": {},
   "outputs": [
    {
     "ename": "ImportError",
     "evalue": "Missing optional dependency 'pytables'.  Use pip or conda to install pytables.",
     "output_type": "error",
     "traceback": [
      "\u001b[1;31m---------------------------------------------------------------------------\u001b[0m",
      "\u001b[1;31mModuleNotFoundError\u001b[0m                       Traceback (most recent call last)",
      "File \u001b[1;32mc:\\Users\\esteb\\AppData\\Local\\Programs\\Python\\Python310\\lib\\site-packages\\pandas\\compat\\_optional.py:142\u001b[0m, in \u001b[0;36mimport_optional_dependency\u001b[1;34m(name, extra, errors, min_version)\u001b[0m\n\u001b[0;32m    141\u001b[0m \u001b[39mtry\u001b[39;00m:\n\u001b[1;32m--> 142\u001b[0m     module \u001b[39m=\u001b[39m importlib\u001b[39m.\u001b[39;49mimport_module(name)\n\u001b[0;32m    143\u001b[0m \u001b[39mexcept\u001b[39;00m \u001b[39mImportError\u001b[39;00m:\n",
      "File \u001b[1;32mc:\\Users\\esteb\\AppData\\Local\\Programs\\Python\\Python310\\lib\\importlib\\__init__.py:126\u001b[0m, in \u001b[0;36mimport_module\u001b[1;34m(name, package)\u001b[0m\n\u001b[0;32m    125\u001b[0m         level \u001b[39m+\u001b[39m\u001b[39m=\u001b[39m \u001b[39m1\u001b[39m\n\u001b[1;32m--> 126\u001b[0m \u001b[39mreturn\u001b[39;00m _bootstrap\u001b[39m.\u001b[39;49m_gcd_import(name[level:], package, level)\n",
      "File \u001b[1;32m<frozen importlib._bootstrap>:1050\u001b[0m, in \u001b[0;36m_gcd_import\u001b[1;34m(name, package, level)\u001b[0m\n",
      "File \u001b[1;32m<frozen importlib._bootstrap>:1027\u001b[0m, in \u001b[0;36m_find_and_load\u001b[1;34m(name, import_)\u001b[0m\n",
      "File \u001b[1;32m<frozen importlib._bootstrap>:1004\u001b[0m, in \u001b[0;36m_find_and_load_unlocked\u001b[1;34m(name, import_)\u001b[0m\n",
      "\u001b[1;31mModuleNotFoundError\u001b[0m: No module named 'tables'",
      "\nDuring handling of the above exception, another exception occurred:\n",
      "\u001b[1;31mImportError\u001b[0m                               Traceback (most recent call last)",
      "Cell \u001b[1;32mIn[35], line 1\u001b[0m\n\u001b[1;32m----> 1\u001b[0m df\u001b[39m.\u001b[39;49mto_hdf(\u001b[39m\"\u001b[39;49m\u001b[39mfoo.h5\u001b[39;49m\u001b[39m\"\u001b[39;49m, \u001b[39m\"\u001b[39;49m\u001b[39mdf\u001b[39;49m\u001b[39m\"\u001b[39;49m)\n",
      "File \u001b[1;32mc:\\Users\\esteb\\AppData\\Local\\Programs\\Python\\Python310\\lib\\site-packages\\pandas\\core\\generic.py:2682\u001b[0m, in \u001b[0;36mNDFrame.to_hdf\u001b[1;34m(self, path_or_buf, key, mode, complevel, complib, append, format, index, min_itemsize, nan_rep, dropna, data_columns, errors, encoding)\u001b[0m\n\u001b[0;32m   2678\u001b[0m \u001b[39mfrom\u001b[39;00m \u001b[39mpandas\u001b[39;00m\u001b[39m.\u001b[39;00m\u001b[39mio\u001b[39;00m \u001b[39mimport\u001b[39;00m pytables\n\u001b[0;32m   2680\u001b[0m \u001b[39m# Argument 3 to \"to_hdf\" has incompatible type \"NDFrame\"; expected\u001b[39;00m\n\u001b[0;32m   2681\u001b[0m \u001b[39m# \"Union[DataFrame, Series]\" [arg-type]\u001b[39;00m\n\u001b[1;32m-> 2682\u001b[0m pytables\u001b[39m.\u001b[39;49mto_hdf(\n\u001b[0;32m   2683\u001b[0m     path_or_buf,\n\u001b[0;32m   2684\u001b[0m     key,\n\u001b[0;32m   2685\u001b[0m     \u001b[39mself\u001b[39;49m,  \u001b[39m# type: ignore[arg-type]\u001b[39;49;00m\n\u001b[0;32m   2686\u001b[0m     mode\u001b[39m=\u001b[39;49mmode,\n\u001b[0;32m   2687\u001b[0m     complevel\u001b[39m=\u001b[39;49mcomplevel,\n\u001b[0;32m   2688\u001b[0m     complib\u001b[39m=\u001b[39;49mcomplib,\n\u001b[0;32m   2689\u001b[0m     append\u001b[39m=\u001b[39;49mappend,\n\u001b[0;32m   2690\u001b[0m     \u001b[39mformat\u001b[39;49m\u001b[39m=\u001b[39;49m\u001b[39mformat\u001b[39;49m,\n\u001b[0;32m   2691\u001b[0m     index\u001b[39m=\u001b[39;49mindex,\n\u001b[0;32m   2692\u001b[0m     min_itemsize\u001b[39m=\u001b[39;49mmin_itemsize,\n\u001b[0;32m   2693\u001b[0m     nan_rep\u001b[39m=\u001b[39;49mnan_rep,\n\u001b[0;32m   2694\u001b[0m     dropna\u001b[39m=\u001b[39;49mdropna,\n\u001b[0;32m   2695\u001b[0m     data_columns\u001b[39m=\u001b[39;49mdata_columns,\n\u001b[0;32m   2696\u001b[0m     errors\u001b[39m=\u001b[39;49merrors,\n\u001b[0;32m   2697\u001b[0m     encoding\u001b[39m=\u001b[39;49mencoding,\n\u001b[0;32m   2698\u001b[0m )\n",
      "File \u001b[1;32mc:\\Users\\esteb\\AppData\\Local\\Programs\\Python\\Python310\\lib\\site-packages\\pandas\\io\\pytables.py:302\u001b[0m, in \u001b[0;36mto_hdf\u001b[1;34m(path_or_buf, key, value, mode, complevel, complib, append, format, index, min_itemsize, nan_rep, dropna, data_columns, errors, encoding)\u001b[0m\n\u001b[0;32m    300\u001b[0m path_or_buf \u001b[39m=\u001b[39m stringify_path(path_or_buf)\n\u001b[0;32m    301\u001b[0m \u001b[39mif\u001b[39;00m \u001b[39misinstance\u001b[39m(path_or_buf, \u001b[39mstr\u001b[39m):\n\u001b[1;32m--> 302\u001b[0m     \u001b[39mwith\u001b[39;00m HDFStore(\n\u001b[0;32m    303\u001b[0m         path_or_buf, mode\u001b[39m=\u001b[39;49mmode, complevel\u001b[39m=\u001b[39;49mcomplevel, complib\u001b[39m=\u001b[39;49mcomplib\n\u001b[0;32m    304\u001b[0m     ) \u001b[39mas\u001b[39;00m store:\n\u001b[0;32m    305\u001b[0m         f(store)\n\u001b[0;32m    306\u001b[0m \u001b[39melse\u001b[39;00m:\n",
      "File \u001b[1;32mc:\\Users\\esteb\\AppData\\Local\\Programs\\Python\\Python310\\lib\\site-packages\\pandas\\io\\pytables.py:560\u001b[0m, in \u001b[0;36mHDFStore.__init__\u001b[1;34m(self, path, mode, complevel, complib, fletcher32, **kwargs)\u001b[0m\n\u001b[0;32m    557\u001b[0m \u001b[39mif\u001b[39;00m \u001b[39m\"\u001b[39m\u001b[39mformat\u001b[39m\u001b[39m\"\u001b[39m \u001b[39min\u001b[39;00m kwargs:\n\u001b[0;32m    558\u001b[0m     \u001b[39mraise\u001b[39;00m \u001b[39mValueError\u001b[39;00m(\u001b[39m\"\u001b[39m\u001b[39mformat is not a defined argument for HDFStore\u001b[39m\u001b[39m\"\u001b[39m)\n\u001b[1;32m--> 560\u001b[0m tables \u001b[39m=\u001b[39m import_optional_dependency(\u001b[39m\"\u001b[39;49m\u001b[39mtables\u001b[39;49m\u001b[39m\"\u001b[39;49m)\n\u001b[0;32m    562\u001b[0m \u001b[39mif\u001b[39;00m complib \u001b[39mis\u001b[39;00m \u001b[39mnot\u001b[39;00m \u001b[39mNone\u001b[39;00m \u001b[39mand\u001b[39;00m complib \u001b[39mnot\u001b[39;00m \u001b[39min\u001b[39;00m tables\u001b[39m.\u001b[39mfilters\u001b[39m.\u001b[39mall_complibs:\n\u001b[0;32m    563\u001b[0m     \u001b[39mraise\u001b[39;00m \u001b[39mValueError\u001b[39;00m(\n\u001b[0;32m    564\u001b[0m         \u001b[39mf\u001b[39m\u001b[39m\"\u001b[39m\u001b[39mcomplib only supports \u001b[39m\u001b[39m{\u001b[39;00mtables\u001b[39m.\u001b[39mfilters\u001b[39m.\u001b[39mall_complibs\u001b[39m}\u001b[39;00m\u001b[39m compression.\u001b[39m\u001b[39m\"\u001b[39m\n\u001b[0;32m    565\u001b[0m     )\n",
      "File \u001b[1;32mc:\\Users\\esteb\\AppData\\Local\\Programs\\Python\\Python310\\lib\\site-packages\\pandas\\compat\\_optional.py:145\u001b[0m, in \u001b[0;36mimport_optional_dependency\u001b[1;34m(name, extra, errors, min_version)\u001b[0m\n\u001b[0;32m    143\u001b[0m \u001b[39mexcept\u001b[39;00m \u001b[39mImportError\u001b[39;00m:\n\u001b[0;32m    144\u001b[0m     \u001b[39mif\u001b[39;00m errors \u001b[39m==\u001b[39m \u001b[39m\"\u001b[39m\u001b[39mraise\u001b[39m\u001b[39m\"\u001b[39m:\n\u001b[1;32m--> 145\u001b[0m         \u001b[39mraise\u001b[39;00m \u001b[39mImportError\u001b[39;00m(msg)\n\u001b[0;32m    146\u001b[0m     \u001b[39mreturn\u001b[39;00m \u001b[39mNone\u001b[39;00m\n\u001b[0;32m    148\u001b[0m \u001b[39m# Handle submodules: if we have submodule, grab parent module from sys.modules\u001b[39;00m\n",
      "\u001b[1;31mImportError\u001b[0m: Missing optional dependency 'pytables'.  Use pip or conda to install pytables."
     ]
    }
   ],
   "source": [
    "df.to_hdf(\"foo.h5\", \"df\")"
   ]
  },
  {
   "attachments": {},
   "cell_type": "markdown",
   "id": "546aac95",
   "metadata": {
    "lang": "ca"
   },
   "source": [
    "Lectura d'una Store HDF5:"
   ]
  },
  {
   "cell_type": "code",
   "execution_count": null,
   "id": "c28bdd33",
   "metadata": {},
   "outputs": [],
   "source": [
    "pd.read_hdf(\"foo.h5\", \"df\")"
   ]
  },
  {
   "attachments": {},
   "cell_type": "markdown",
   "id": "e25af0b9",
   "metadata": {
    "lang": "ca"
   },
   "source": [
    "### Excel\n",
    "Llegir i escriure a MS Excel.\n",
    "\n",
    "Escrivint en un fitxer excel:"
   ]
  },
  {
   "cell_type": "code",
   "execution_count": null,
   "id": "e2011c2f",
   "metadata": {},
   "outputs": [
    {
     "ename": "ModuleNotFoundError",
     "evalue": "No module named 'openpyxl'",
     "output_type": "error",
     "traceback": [
      "\u001b[1;31m---------------------------------------------------------------------------\u001b[0m",
      "\u001b[1;31mModuleNotFoundError\u001b[0m                       Traceback (most recent call last)",
      "Cell \u001b[1;32mIn[36], line 1\u001b[0m\n\u001b[1;32m----> 1\u001b[0m df\u001b[39m.\u001b[39;49mto_excel(\u001b[39m\"\u001b[39;49m\u001b[39mfoo.xlsx\u001b[39;49m\u001b[39m\"\u001b[39;49m, sheet_name\u001b[39m=\u001b[39;49m\u001b[39m\"\u001b[39;49m\u001b[39mSheet1\u001b[39;49m\u001b[39m\"\u001b[39;49m)\n",
      "File \u001b[1;32mc:\\Users\\esteb\\AppData\\Local\\Programs\\Python\\Python310\\lib\\site-packages\\pandas\\core\\generic.py:2252\u001b[0m, in \u001b[0;36mNDFrame.to_excel\u001b[1;34m(self, excel_writer, sheet_name, na_rep, float_format, columns, header, index, index_label, startrow, startcol, engine, merge_cells, inf_rep, freeze_panes, storage_options)\u001b[0m\n\u001b[0;32m   2239\u001b[0m \u001b[39mfrom\u001b[39;00m \u001b[39mpandas\u001b[39;00m\u001b[39m.\u001b[39;00m\u001b[39mio\u001b[39;00m\u001b[39m.\u001b[39;00m\u001b[39mformats\u001b[39;00m\u001b[39m.\u001b[39;00m\u001b[39mexcel\u001b[39;00m \u001b[39mimport\u001b[39;00m ExcelFormatter\n\u001b[0;32m   2241\u001b[0m formatter \u001b[39m=\u001b[39m ExcelFormatter(\n\u001b[0;32m   2242\u001b[0m     df,\n\u001b[0;32m   2243\u001b[0m     na_rep\u001b[39m=\u001b[39mna_rep,\n\u001b[1;32m   (...)\u001b[0m\n\u001b[0;32m   2250\u001b[0m     inf_rep\u001b[39m=\u001b[39minf_rep,\n\u001b[0;32m   2251\u001b[0m )\n\u001b[1;32m-> 2252\u001b[0m formatter\u001b[39m.\u001b[39;49mwrite(\n\u001b[0;32m   2253\u001b[0m     excel_writer,\n\u001b[0;32m   2254\u001b[0m     sheet_name\u001b[39m=\u001b[39;49msheet_name,\n\u001b[0;32m   2255\u001b[0m     startrow\u001b[39m=\u001b[39;49mstartrow,\n\u001b[0;32m   2256\u001b[0m     startcol\u001b[39m=\u001b[39;49mstartcol,\n\u001b[0;32m   2257\u001b[0m     freeze_panes\u001b[39m=\u001b[39;49mfreeze_panes,\n\u001b[0;32m   2258\u001b[0m     engine\u001b[39m=\u001b[39;49mengine,\n\u001b[0;32m   2259\u001b[0m     storage_options\u001b[39m=\u001b[39;49mstorage_options,\n\u001b[0;32m   2260\u001b[0m )\n",
      "File \u001b[1;32mc:\\Users\\esteb\\AppData\\Local\\Programs\\Python\\Python310\\lib\\site-packages\\pandas\\io\\formats\\excel.py:934\u001b[0m, in \u001b[0;36mExcelFormatter.write\u001b[1;34m(self, writer, sheet_name, startrow, startcol, freeze_panes, engine, storage_options)\u001b[0m\n\u001b[0;32m    930\u001b[0m     need_save \u001b[39m=\u001b[39m \u001b[39mFalse\u001b[39;00m\n\u001b[0;32m    931\u001b[0m \u001b[39melse\u001b[39;00m:\n\u001b[0;32m    932\u001b[0m     \u001b[39m# error: Cannot instantiate abstract class 'ExcelWriter' with abstract\u001b[39;00m\n\u001b[0;32m    933\u001b[0m     \u001b[39m# attributes 'engine', 'save', 'supported_extensions' and 'write_cells'\u001b[39;00m\n\u001b[1;32m--> 934\u001b[0m     writer \u001b[39m=\u001b[39m ExcelWriter(  \u001b[39m# type: ignore[abstract]\u001b[39;49;00m\n\u001b[0;32m    935\u001b[0m         writer, engine\u001b[39m=\u001b[39;49mengine, storage_options\u001b[39m=\u001b[39;49mstorage_options\n\u001b[0;32m    936\u001b[0m     )\n\u001b[0;32m    937\u001b[0m     need_save \u001b[39m=\u001b[39m \u001b[39mTrue\u001b[39;00m\n\u001b[0;32m    939\u001b[0m \u001b[39mtry\u001b[39;00m:\n",
      "File \u001b[1;32mc:\\Users\\esteb\\AppData\\Local\\Programs\\Python\\Python310\\lib\\site-packages\\pandas\\io\\excel\\_openpyxl.py:56\u001b[0m, in \u001b[0;36mOpenpyxlWriter.__init__\u001b[1;34m(self, path, engine, date_format, datetime_format, mode, storage_options, if_sheet_exists, engine_kwargs, **kwargs)\u001b[0m\n\u001b[0;32m     43\u001b[0m \u001b[39mdef\u001b[39;00m \u001b[39m__init__\u001b[39m(\n\u001b[0;32m     44\u001b[0m     \u001b[39mself\u001b[39m,\n\u001b[0;32m     45\u001b[0m     path: FilePath \u001b[39m|\u001b[39m WriteExcelBuffer \u001b[39m|\u001b[39m ExcelWriter,\n\u001b[1;32m   (...)\u001b[0m\n\u001b[0;32m     54\u001b[0m ) \u001b[39m-\u001b[39m\u001b[39m>\u001b[39m \u001b[39mNone\u001b[39;00m:\n\u001b[0;32m     55\u001b[0m     \u001b[39m# Use the openpyxl module as the Excel writer.\u001b[39;00m\n\u001b[1;32m---> 56\u001b[0m     \u001b[39mfrom\u001b[39;00m \u001b[39mopenpyxl\u001b[39;00m\u001b[39m.\u001b[39;00m\u001b[39mworkbook\u001b[39;00m \u001b[39mimport\u001b[39;00m Workbook\n\u001b[0;32m     58\u001b[0m     engine_kwargs \u001b[39m=\u001b[39m combine_kwargs(engine_kwargs, kwargs)\n\u001b[0;32m     60\u001b[0m     \u001b[39msuper\u001b[39m()\u001b[39m.\u001b[39m\u001b[39m__init__\u001b[39m(\n\u001b[0;32m     61\u001b[0m         path,\n\u001b[0;32m     62\u001b[0m         mode\u001b[39m=\u001b[39mmode,\n\u001b[1;32m   (...)\u001b[0m\n\u001b[0;32m     65\u001b[0m         engine_kwargs\u001b[39m=\u001b[39mengine_kwargs,\n\u001b[0;32m     66\u001b[0m     )\n",
      "\u001b[1;31mModuleNotFoundError\u001b[0m: No module named 'openpyxl'"
     ]
    }
   ],
   "source": [
    "df.to_excel(\"foo.xlsx\", sheet_name=\"Sheet1\")"
   ]
  },
  {
   "attachments": {},
   "cell_type": "markdown",
   "id": "f19c26a4",
   "metadata": {
    "lang": "ca"
   },
   "source": [
    "Llegint des d'un fitxer excel:"
   ]
  },
  {
   "cell_type": "code",
   "execution_count": null,
   "id": "029c7295",
   "metadata": {},
   "outputs": [
    {
     "ename": "FileNotFoundError",
     "evalue": "[Errno 2] No such file or directory: 'foo.xlsx'",
     "output_type": "error",
     "traceback": [
      "\u001b[1;31m---------------------------------------------------------------------------\u001b[0m",
      "\u001b[1;31mFileNotFoundError\u001b[0m                         Traceback (most recent call last)",
      "Cell \u001b[1;32mIn[31], line 1\u001b[0m\n\u001b[1;32m----> 1\u001b[0m pd\u001b[39m.\u001b[39;49mread_excel(\u001b[39m\"\u001b[39;49m\u001b[39mfoo.xlsx\u001b[39;49m\u001b[39m\"\u001b[39;49m, \u001b[39m\"\u001b[39;49m\u001b[39mSheet1\u001b[39;49m\u001b[39m\"\u001b[39;49m, index_col\u001b[39m=\u001b[39;49m\u001b[39mNone\u001b[39;49;00m, na_values\u001b[39m=\u001b[39;49m[\u001b[39m\"\u001b[39;49m\u001b[39mNA\u001b[39;49m\u001b[39m\"\u001b[39;49m])\n",
      "File \u001b[1;32mc:\\Users\\esteb\\AppData\\Local\\Programs\\Python\\Python310\\lib\\site-packages\\pandas\\io\\excel\\_base.py:478\u001b[0m, in \u001b[0;36mread_excel\u001b[1;34m(io, sheet_name, header, names, index_col, usecols, dtype, engine, converters, true_values, false_values, skiprows, nrows, na_values, keep_default_na, na_filter, verbose, parse_dates, date_parser, date_format, thousands, decimal, comment, skipfooter, storage_options, dtype_backend)\u001b[0m\n\u001b[0;32m    476\u001b[0m \u001b[39mif\u001b[39;00m \u001b[39mnot\u001b[39;00m \u001b[39misinstance\u001b[39m(io, ExcelFile):\n\u001b[0;32m    477\u001b[0m     should_close \u001b[39m=\u001b[39m \u001b[39mTrue\u001b[39;00m\n\u001b[1;32m--> 478\u001b[0m     io \u001b[39m=\u001b[39m ExcelFile(io, storage_options\u001b[39m=\u001b[39;49mstorage_options, engine\u001b[39m=\u001b[39;49mengine)\n\u001b[0;32m    479\u001b[0m \u001b[39melif\u001b[39;00m engine \u001b[39mand\u001b[39;00m engine \u001b[39m!=\u001b[39m io\u001b[39m.\u001b[39mengine:\n\u001b[0;32m    480\u001b[0m     \u001b[39mraise\u001b[39;00m \u001b[39mValueError\u001b[39;00m(\n\u001b[0;32m    481\u001b[0m         \u001b[39m\"\u001b[39m\u001b[39mEngine should not be specified when passing \u001b[39m\u001b[39m\"\u001b[39m\n\u001b[0;32m    482\u001b[0m         \u001b[39m\"\u001b[39m\u001b[39man ExcelFile - ExcelFile already has the engine set\u001b[39m\u001b[39m\"\u001b[39m\n\u001b[0;32m    483\u001b[0m     )\n",
      "File \u001b[1;32mc:\\Users\\esteb\\AppData\\Local\\Programs\\Python\\Python310\\lib\\site-packages\\pandas\\io\\excel\\_base.py:1496\u001b[0m, in \u001b[0;36mExcelFile.__init__\u001b[1;34m(self, path_or_buffer, engine, storage_options)\u001b[0m\n\u001b[0;32m   1494\u001b[0m     ext \u001b[39m=\u001b[39m \u001b[39m\"\u001b[39m\u001b[39mxls\u001b[39m\u001b[39m\"\u001b[39m\n\u001b[0;32m   1495\u001b[0m \u001b[39melse\u001b[39;00m:\n\u001b[1;32m-> 1496\u001b[0m     ext \u001b[39m=\u001b[39m inspect_excel_format(\n\u001b[0;32m   1497\u001b[0m         content_or_path\u001b[39m=\u001b[39;49mpath_or_buffer, storage_options\u001b[39m=\u001b[39;49mstorage_options\n\u001b[0;32m   1498\u001b[0m     )\n\u001b[0;32m   1499\u001b[0m     \u001b[39mif\u001b[39;00m ext \u001b[39mis\u001b[39;00m \u001b[39mNone\u001b[39;00m:\n\u001b[0;32m   1500\u001b[0m         \u001b[39mraise\u001b[39;00m \u001b[39mValueError\u001b[39;00m(\n\u001b[0;32m   1501\u001b[0m             \u001b[39m\"\u001b[39m\u001b[39mExcel file format cannot be determined, you must specify \u001b[39m\u001b[39m\"\u001b[39m\n\u001b[0;32m   1502\u001b[0m             \u001b[39m\"\u001b[39m\u001b[39man engine manually.\u001b[39m\u001b[39m\"\u001b[39m\n\u001b[0;32m   1503\u001b[0m         )\n",
      "File \u001b[1;32mc:\\Users\\esteb\\AppData\\Local\\Programs\\Python\\Python310\\lib\\site-packages\\pandas\\io\\excel\\_base.py:1371\u001b[0m, in \u001b[0;36minspect_excel_format\u001b[1;34m(content_or_path, storage_options)\u001b[0m\n\u001b[0;32m   1368\u001b[0m \u001b[39mif\u001b[39;00m \u001b[39misinstance\u001b[39m(content_or_path, \u001b[39mbytes\u001b[39m):\n\u001b[0;32m   1369\u001b[0m     content_or_path \u001b[39m=\u001b[39m BytesIO(content_or_path)\n\u001b[1;32m-> 1371\u001b[0m \u001b[39mwith\u001b[39;00m get_handle(\n\u001b[0;32m   1372\u001b[0m     content_or_path, \u001b[39m\"\u001b[39;49m\u001b[39mrb\u001b[39;49m\u001b[39m\"\u001b[39;49m, storage_options\u001b[39m=\u001b[39;49mstorage_options, is_text\u001b[39m=\u001b[39;49m\u001b[39mFalse\u001b[39;49;00m\n\u001b[0;32m   1373\u001b[0m ) \u001b[39mas\u001b[39;00m handle:\n\u001b[0;32m   1374\u001b[0m     stream \u001b[39m=\u001b[39m handle\u001b[39m.\u001b[39mhandle\n\u001b[0;32m   1375\u001b[0m     stream\u001b[39m.\u001b[39mseek(\u001b[39m0\u001b[39m)\n",
      "File \u001b[1;32mc:\\Users\\esteb\\AppData\\Local\\Programs\\Python\\Python310\\lib\\site-packages\\pandas\\io\\common.py:868\u001b[0m, in \u001b[0;36mget_handle\u001b[1;34m(path_or_buf, mode, encoding, compression, memory_map, is_text, errors, storage_options)\u001b[0m\n\u001b[0;32m    859\u001b[0m         handle \u001b[39m=\u001b[39m \u001b[39mopen\u001b[39m(\n\u001b[0;32m    860\u001b[0m             handle,\n\u001b[0;32m    861\u001b[0m             ioargs\u001b[39m.\u001b[39mmode,\n\u001b[1;32m   (...)\u001b[0m\n\u001b[0;32m    864\u001b[0m             newline\u001b[39m=\u001b[39m\u001b[39m\"\u001b[39m\u001b[39m\"\u001b[39m,\n\u001b[0;32m    865\u001b[0m         )\n\u001b[0;32m    866\u001b[0m     \u001b[39melse\u001b[39;00m:\n\u001b[0;32m    867\u001b[0m         \u001b[39m# Binary mode\u001b[39;00m\n\u001b[1;32m--> 868\u001b[0m         handle \u001b[39m=\u001b[39m \u001b[39mopen\u001b[39;49m(handle, ioargs\u001b[39m.\u001b[39;49mmode)\n\u001b[0;32m    869\u001b[0m     handles\u001b[39m.\u001b[39mappend(handle)\n\u001b[0;32m    871\u001b[0m \u001b[39m# Convert BytesIO or file objects passed with an encoding\u001b[39;00m\n",
      "\u001b[1;31mFileNotFoundError\u001b[0m: [Errno 2] No such file or directory: 'foo.xlsx'"
     ]
    }
   ],
   "source": [
    "pd.read_excel(\"foo.xlsx\", \"Sheet1\", index_col=None, na_values=[\"NA\"])"
   ]
  },
  {
   "cell_type": "code",
   "execution_count": null,
   "id": "4d1a4867",
   "metadata": {},
   "outputs": [],
   "source": [
    "import numpy as pd\n",
    "import pandas as pd \n",
    "\n",
    "import matplotlib.pyplot as plt\n",
    "\n",
    "import sklearn \n",
    "from sklearn.cluster import KMeans\n",
    "from mpl_toolkits.mplot3d import Axes3D\n",
    "from sklearn.preprocessing import scale\n",
    "\n",
    "import sklearn.metrics as sm\n",
    "from sklearn import datasets\n",
    "\n",
    "from sklearn.metrics import confusion_matrix, classification_report  "
   ]
  },
  {
   "cell_type": "code",
   "execution_count": null,
   "id": "af504768",
   "metadata": {},
   "outputs": [
    {
     "ename": "NameError",
     "evalue": "name 'rcParams' is not defined",
     "output_type": "error",
     "traceback": [
      "\u001b[1;31m---------------------------------------------------------------------------\u001b[0m",
      "\u001b[1;31mNameError\u001b[0m                                 Traceback (most recent call last)",
      "\u001b[1;32mc:\\Users\\esteb\\OneDrive\\Escritorio\\DataScience\\014_ds-cat-introduction_to_pandas-Estebanisimo\\Introduction_to_Pandas.ipynb Celda 219\u001b[0m line \u001b[0;36m2\n\u001b[0;32m      <a href='vscode-notebook-cell:/c%3A/Users/esteb/OneDrive/Escritorio/DataScience/014_ds-cat-introduction_to_pandas-Estebanisimo/Introduction_to_Pandas.ipynb#Y431sZmlsZQ%3D%3D?line=0'>1</a>\u001b[0m get_ipython()\u001b[39m.\u001b[39mrun_line_magic(\u001b[39m'\u001b[39m\u001b[39mmatplotlib\u001b[39m\u001b[39m'\u001b[39m, \u001b[39m'\u001b[39m\u001b[39minline\u001b[39m\u001b[39m'\u001b[39m)\n\u001b[1;32m----> <a href='vscode-notebook-cell:/c%3A/Users/esteb/OneDrive/Escritorio/DataScience/014_ds-cat-introduction_to_pandas-Estebanisimo/Introduction_to_Pandas.ipynb#Y431sZmlsZQ%3D%3D?line=1'>2</a>\u001b[0m rcParams[\u001b[39m\"\u001b[39m\u001b[39mfigure.figsize\u001b[39m\u001b[39m\"\u001b[39m] \u001b[39m=\u001b[39m \u001b[39m7\u001b[39m, \u001b[39m4\u001b[39m\n",
      "\u001b[1;31mNameError\u001b[0m: name 'rcParams' is not defined"
     ]
    }
   ],
   "source": [
    "%matplotlib inline\n",
    "rcParams[\"figure.figsize\"] = 7, 4"
   ]
  },
  {
   "cell_type": "markdown",
   "id": "3d9f5c16",
   "metadata": {},
   "source": []
  }
 ],
 "metadata": {
  "kernelspec": {
   "display_name": "Python 3",
   "language": "python",
   "name": "python3"
  },
  "language_info": {
   "codemirror_mode": {
    "name": "ipython",
    "version": 3
   },
   "file_extension": ".py",
   "mimetype": "text/x-python",
   "name": "python",
   "nbconvert_exporter": "python",
   "pygments_lexer": "ipython3",
   "version": "3.10.0"
  },
  "nbTranslate": {
   "displayLangs": [
    "ca",
    "en"
   ],
   "hotkey": "alt-t",
   "langInMainMenu": true,
   "sourceLang": "en",
   "targetLang": "ca",
   "useGoogleTranslate": true
  }
 },
 "nbformat": 4,
 "nbformat_minor": 5
}
