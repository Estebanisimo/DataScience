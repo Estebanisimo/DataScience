{
 "cells": [
  {
   "attachments": {},
   "cell_type": "markdown",
   "metadata": {},
   "source": [
    "[Based on tweets from Stephen Gruppetta @s_gruppetta_ct](https://twitter.com/s_gruppetta_ct/status/1644735622555504641)\n",
    "\n",
    "# Object-Oriented Python at the Hogwarts School of Codecraft and Algorithmancy\n",
    "\n",
    "### Year 2: Defining Classes and Data Attributes\n",
    "\n",
    "Students completed Year 1 and have started understanding the OOP mindset. This year is more practical. They'll define their own classes!\n",
    "\n",
    "You saw in Year 1 how OOP brings the storage of data and the actions you may want to do with the data into one place — a class\n",
    "\n",
    "Let's look at an example. \n",
    "\n",
    "> You want a program to keep track of all the wizards at Hogwarts School of Codecraft and Algorithmancy…\n",
    "\n",
    "Let's start with how you could do this before you learn about OOP\n",
    "\n",
    "* You could have a list with names\n",
    "\n",
    "* You could make the list a nested structure to include information such as date of birth, what wand they use, and what house they're in\n",
    "\n",
    "* Then you could have some functions…"
   ]
  },
  {
   "attachments": {},
   "cell_type": "markdown",
   "metadata": {},
   "source": [
    "OOP offers an alternative for having these standalone data structures and functions\n",
    "\n",
    "You can create a new data type called `Wizard` and put everything you need within this data type\n",
    "\n",
    "The `Wizard` object will contain data and the ability to do stuff with the data, such as assign a wand or house\n",
    "\n",
    "Let's start by creating the `Wizard` class\n",
    "\n",
    "<span style=\"color:red\">**!! Warning: there's a fair amount of new syntax when learning OOP. We'll talk about and introduce these gradually !!**</span>\n",
    "\n",
    "\n"
   ]
  },
  {
   "attachments": {},
   "cell_type": "markdown",
   "metadata": {},
   "source": [
    "##  Defining a Class\n",
    "\n",
    "### `__init__` method\n",
    "\n",
    "You start with the keyword `class` and the name you want to use for the class. By convention, we capitalise the name of the class (more generally, we use UpperCamelCase)\n",
    "\n"
   ]
  },
  {
   "cell_type": "code",
   "execution_count": 1,
   "metadata": {},
   "outputs": [],
   "source": [
    "class Wizard:\n",
    "    pass"
   ]
  },
  {
   "attachments": {},
   "cell_type": "markdown",
   "metadata": {},
   "source": [
    "You'll spot the colon that tells you that a block of code is coming next.\n",
    "\n",
    "That block of code contains the \"template\" for creating an object of type `Wizard`. It's a \"blueprint\" for creating lots of `Wizard` objects\n",
    "\n",
    "All `Wizard` objects are wizards, but they're not all identical. They have different names, ages, houses, and wands\n",
    "\n",
    "First thing you need to do when creating a class is <span style=\"color:#006400\"> **to tell Python what steps it needs to take when creating an object** </span> of type `Wizard`\n",
    "\n",
    "You do this by creating a _method_ called `__init__()` that initialises the object when you create it\n",
    "\n",
    "> **What's a method? Part I**\n",
    "> \n",
    "> A _method_ is nothing but a function inside a class and has a meaning that's specific to the class.\n",
    "\n",
    "\n",
    "Here's a first attempt at creating a class with the `__init__()` method.\n",
    "\n",
    "\n",
    "\n"
   ]
  },
  {
   "cell_type": "code",
   "execution_count": 2,
   "metadata": {},
   "outputs": [],
   "source": [
    "class Wizard:\n",
    "    def __init__(self):\n",
    "        self.name = None\n",
    "        self.patronus = None\n",
    "        self.birth_year = None\n",
    "        self.house = None\n",
    "        self.wand = None"
   ]
  },
  {
   "attachments": {},
   "cell_type": "markdown",
   "metadata": {},
   "source": [
    "We'll get to that mystical `self` soon, I'm not ignoring it…\n",
    "\n",
    "This creates five _data attributes_ for the class…\n",
    "\n",
    "This means every object of type `Wizard` will have its own variables called `.name`, `.patronus`, `.birth_year`, `.house`, and `.wand`\n",
    "\n",
    "These are \"attached\" to the object. You'll see what we mean by this soon when we create a few different wizards!\n",
    "\n",
    "> **What's a method? Part II**\n",
    "> \n",
    "> So a method is a function, but what's the difference from a usual function? \n",
    "> \n",
    "> So, for example, `print()` is a function but `my_list.append()` is a method as `.append()` belongs to the list class and is **\"attached\"** to a list object\n",
    "> \n",
    "> Special methods are, err, methods that are special! You don't use them directly when working with an object of a certain type, but they provide special functionality. \n",
    ">\n",
    "> Their names have two underscores at the beginning and at the end, as with `__init__()` \n",
    "> They're often called <span style=\"color:#006400\">dunder methods</span> because of the **Double UNDERscore** \n",
    ">\n",
    "> You'll learn more about special methods (dunder methods) in Year 6 at Hogwarts School of Codecraft and Algorithmancy\n",
    "\n",
    "\n",
    "It's time to create a couple of wizards—this won't work as intended but we'll make changes soon…\n",
    "\n",
    "A class is callable, which means you can (and have to) write `Wizard()` with the parentheses at the end\n",
    "\n",
    "This creates a new object of type `Wizard` and calls the class's `__init__()` method. \n",
    "\n",
    "The `__init__()` method is called a _constructor_ because it constructs the object. It's called when you create a new object of type `Wizard` and it's called automatically. \n",
    "\n",
    "In fact, It would be equivalent to write `Wizard.__init__()` instead of `Wizard()`, but you don't need to do that."
   ]
  },
  {
   "cell_type": "code",
   "execution_count": 3,
   "metadata": {},
   "outputs": [],
   "source": [
    "harry = Wizard()\n",
    "ron = Wizard()\n",
    "hermione = Wizard()"
   ]
  },
  {
   "cell_type": "code",
   "execution_count": 4,
   "metadata": {},
   "outputs": [
    {
     "name": "stdout",
     "output_type": "stream",
     "text": [
      "<__main__.Wizard object at 0x0000011C9A93F190>\n",
      "<__main__.Wizard object at 0x0000011C9A93FEB0>\n"
     ]
    }
   ],
   "source": [
    "print(harry)\n",
    "print(ron)"
   ]
  },
  {
   "cell_type": "code",
   "execution_count": 5,
   "metadata": {},
   "outputs": [
    {
     "name": "stdout",
     "output_type": "stream",
     "text": [
      "None\n",
      "None\n"
     ]
    }
   ],
   "source": [
    "print(ron.name)\n",
    "print(hermione.name)\n"
   ]
  },
  {
   "attachments": {},
   "cell_type": "markdown",
   "metadata": {},
   "source": [
    "### Data attributes\n",
    "\n",
    "Here's another definition we've only briefly seen: data attributes. \n",
    "\n",
    "These are variables attached to an object and just like \"normal\" variables do, they store data.\n",
    "\n",
    "At the moment, the `__init__()` method creates 5 data attributes but assigns `None` to each of them.\n",
    "\n",
    "Therefore, when you create two objects of type `Wizard` in the lines\n",
    "\n",
    "```python\n",
    "harry = Wizard()\n",
    "hermione = Wizard()\n",
    "\n",
    "print(harry)\n",
    "print(hermione)\n",
    "\n",
    "<__main__.Wizard object at 0x7f9c608607c0>\n",
    "<__main__.Wizard object at 0x7f9c60860910>\n",
    "```\n",
    "\n",
    "you're creating two separate _instances_ of the class — note that the hexadecimal numbers shown when you print the objects are different\n",
    "\n",
    "However, both objects have `None` as values for all their data attributes\n",
    "\n",
    "<sspan style=\"color:red\"> Note that `harry` and `hermione` are variable names you're using to store the two `Wizard` objects. They're _not_ the values of the `.name` attribute </span>\n",
    "\n",
    "We could have used:\n",
    "\n",
    "```python\n",
    "wizard_instance_1 = Wizard()\n",
    "wizard_instance_2 = Wizard()\n",
    "```\n",
    "\n",
    "but it's more common to use the name of the class to create a new object and then assign it to a variable\n",
    "\n"
   ]
  },
  {
   "cell_type": "code",
   "execution_count": 6,
   "metadata": {},
   "outputs": [
    {
     "name": "stdout",
     "output_type": "stream",
     "text": [
      "Harry Potter\n",
      "Ron Weasley\n",
      "Hermione Granger\n"
     ]
    }
   ],
   "source": [
    "class Wizard:\n",
    "    def __init__(self):\n",
    "        self.name = None\n",
    "        self.patronus = None\n",
    "        self.birth_year = None\n",
    "        self.house = None\n",
    "        self.wand = None\n",
    "\n",
    "# Create a new instance of the Wizard class \n",
    "harry = Wizard()\n",
    "ron = Wizard()\n",
    "hermione = Wizard()\n",
    "\n",
    "# Set, for now, the name attribute of harry, ron, and hermione like this:\n",
    "harry.name = \"Harry Potter\"\n",
    "ron.name = \"Ron Weasley\"\n",
    "hermione.name = \"Hermione Granger\"\n",
    "\n",
    "# Print the name attribute of harry, ron, and hermione\n",
    "print(harry.name)\n",
    "print(ron.name)\n",
    "print(hermione.name)"
   ]
  },
  {
   "attachments": {},
   "cell_type": "markdown",
   "metadata": {},
   "source": [
    "Although both objects have a data attribute called `.name`, they have different values\n",
    "\n",
    "I often think of a variable as a box with a label and something stored inside\n",
    "\n",
    "A data attribute is a box that the object carries with it wherever it goes\n",
    "\n",
    "Each object has its own box\n",
    "\n",
    "Does a class resemble to any data type you already know?"
   ]
  },
  {
   "attachments": {},
   "cell_type": "markdown",
   "metadata": {},
   "source": [
    "### `self` parameter\n",
    "\n",
    "We're approaching the end of Year 2, but there's still a bit of the final term left\n",
    "\n",
    "What about that `self` you've used in the class definition?\n",
    "\n",
    "It's a parameter in `__init__(self)`\n",
    "\n",
    "It's also in the method's definition where you create data attributes like `self.​name`\n",
    "\n",
    "The class definition is a blueprint to create objects\n",
    "\n",
    "When you create the objects, you'll need a name to refer to those objects, such as the variable names `harry` and `hermione` above\n",
    "However, in the blueprint, you still don't have those names…\n",
    "\n",
    "Therefore, inside the class definition, you cannot refer to the object by its future name since you haven't created the object yet\n",
    "You create the object when you call the class using `Wizard()` not when you write the class\n",
    "\n",
    "`self` is a **placeholder** name we use by convention. `self` refers to the object you will create at some future point\n",
    "\n",
    "When you create two instances with variable names `harry` and `hermione`, you can use those variable names:\n",
    "\n",
    "```python\n",
    "harry.​name\n",
    "hermione.​name\n",
    "```\n",
    "\n",
    "But in the class definition, you write `self.​name`\n",
    "\n",
    "So, think of `self` as the placeholder you put in the class definition to refer to the object name\n",
    "`self` is the first parameter in `__init__()` since the object is passed to the method\n",
    "You'll learn more about using `self` as the first parameter in methods in Year 3\n",
    "\n",
    "\n",
    "So, final few weeks in Year 2, we'll finish with this update to the class definition\n",
    "The `__init__()` method now has three further parameters after `self`\n",
    "\n",
    "You use these parameters to pass the data to the data attributes in the `__init__()` method\n",
    "\n"
   ]
  },
  {
   "cell_type": "code",
   "execution_count": 7,
   "metadata": {},
   "outputs": [],
   "source": [
    "class Wizard:\n",
    "    def __init__(self, name, patronus, birth_year):\n",
    "        self.name = name\n",
    "        self.patronus = patronus\n",
    "        self.birth_year = birth_year\n",
    "        self.house = None\n",
    "        self.wand = None"
   ]
  },
  {
   "attachments": {},
   "cell_type": "markdown",
   "metadata": {},
   "source": [
    "The parameter names and data attribute names do not have to be the same, although they often are\n",
    "\n",
    "Now, you can no longer call `Wizard()` with no arguments as you did earlier\n",
    "\n",
    "So this won't work anymore:\n",
    "\n",
    "```python\n",
    "harry = Wizard()\n",
    "```\n",
    "You'll get this error:\n",
    "```bash\n",
    "TypeError: Wizard.__init__() missing 3 required positional arguments: 'name', 'patronus', and 'birth_year'\n",
    "```\n",
    "Note the error message says `Wizard.__init__()` is missing arguments\n"
   ]
  },
  {
   "cell_type": "code",
   "execution_count": 8,
   "metadata": {},
   "outputs": [
    {
     "ename": "TypeError",
     "evalue": "Wizard.__init__() missing 3 required positional arguments: 'name', 'patronus', and 'birth_year'",
     "output_type": "error",
     "traceback": [
      "\u001b[1;31m---------------------------------------------------------------------------\u001b[0m",
      "\u001b[1;31mTypeError\u001b[0m                                 Traceback (most recent call last)",
      "\u001b[1;32mc:\\Users\\esteb\\OneDrive\\Escritorio\\DataScience\\011-ds-cat-oop-Estebanisimo\\02_hogwarts_magic.ipynb Celda 17\u001b[0m line \u001b[0;36m1\n\u001b[1;32m----> <a href='vscode-notebook-cell:/c%3A/Users/esteb/OneDrive/Escritorio/DataScience/011-ds-cat-oop-Estebanisimo/02_hogwarts_magic.ipynb#X22sZmlsZQ%3D%3D?line=0'>1</a>\u001b[0m harry \u001b[39m=\u001b[39m Wizard()\n",
      "\u001b[1;31mTypeError\u001b[0m: Wizard.__init__() missing 3 required positional arguments: 'name', 'patronus', and 'birth_year'"
     ]
    }
   ],
   "source": [
    "harry = Wizard()"
   ]
  },
  {
   "attachments": {},
   "cell_type": "markdown",
   "metadata": {},
   "source": [
    "When you create a new instance of Wizard, the `__init__()` method is called but this method—recall that a method is a function—needs four arguments\n",
    "\n",
    "The first one is the name of the object and that's automatic. This is `self`\n",
    "\n",
    "But the other 3 required arguments are missing\n",
    "\n",
    "You can fix this\n",
    "\n",
    "You pass arguments when you call `Wizard()` and these arguments are in turn passed to the class's `__init__()` method\n"
   ]
  },
  {
   "cell_type": "code",
   "execution_count": 9,
   "metadata": {},
   "outputs": [
    {
     "name": "stdout",
     "output_type": "stream",
     "text": [
      "Harry Potter\n",
      "stag\n",
      "1980\n",
      "Hermione Granger\n",
      "otter\n",
      "1979\n"
     ]
    }
   ],
   "source": [
    "# Create a new instance of the Wizard class\n",
    "harry = Wizard(\"Harry Potter\", \"stag\", 1980)\n",
    "hermione = Wizard(\"Hermione Granger\", \"otter\", 1979)\n",
    "\n",
    "# Print the name, patronus, and birth_year attributes of harry and hermione\n",
    "print(harry.name)\n",
    "print(harry.patronus)\n",
    "print(harry.birth_year)\n",
    "\n",
    "print(hermione.name)\n",
    "print(hermione.patronus)\n",
    "print(hermione.birth_year)"
   ]
  },
  {
   "cell_type": "code",
   "execution_count": 10,
   "metadata": {},
   "outputs": [
    {
     "name": "stdout",
     "output_type": "stream",
     "text": [
      "Harry Potter was born in 1980 and has a stag patronus.\n",
      "Hermione Granger was born in 1979 and has a otter patronus.\n"
     ]
    }
   ],
   "source": [
    "# Print the name, patronus, and birth_year attributes of harry and hermione\n",
    "pattern = \"{0} was born in {1} and has a {2} patronus.\"\n",
    "\n",
    "print( pattern.format(harry.name, harry.birth_year, harry.patronus) )\n",
    "print( pattern.format(hermione.name, hermione.birth_year, hermione.patronus) )"
   ]
  },
  {
   "attachments": {},
   "cell_type": "markdown",
   "metadata": {},
   "source": [
    "> __Terminology Corner__\n",
    "> \n",
    "> • A _class_ is a template for creating objects that share similar characteristics and behaviour. Objects of the same class are not identical, but they are similar\n",
    "> \n",
    "> • An _object_ is the individual unit created from a class, which contains data and has actions associated with it\n",
    ">\n",
    "> • A _data attribute_ is a variable attached to an object that stores data. It's an attribute of the object that contains data. More on attributes in Year 3\n",
    "> \n",
    "> • `self` is a placeholder name we use by convention to refer to the object itself within the class definition"
   ]
  }
 ],
 "metadata": {
  "kernelspec": {
   "display_name": "base",
   "language": "python",
   "name": "python3"
  },
  "language_info": {
   "codemirror_mode": {
    "name": "ipython",
    "version": 3
   },
   "file_extension": ".py",
   "mimetype": "text/x-python",
   "name": "python",
   "nbconvert_exporter": "python",
   "pygments_lexer": "ipython3",
   "version": "3.10.0"
  },
  "orig_nbformat": 4,
  "vscode": {
   "interpreter": {
    "hash": "75dac0dbd405a8394808c62e8a1270731cc80cc33b4d24dc0a2a1e00cd8c1002"
   }
  }
 },
 "nbformat": 4,
 "nbformat_minor": 2
}
