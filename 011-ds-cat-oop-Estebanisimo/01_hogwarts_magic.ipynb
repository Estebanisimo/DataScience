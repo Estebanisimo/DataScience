{
 "cells": [
  {
   "attachments": {},
   "cell_type": "markdown",
   "metadata": {},
   "source": [
    "[Based on tweets from Stephen Gruppetta @s_gruppetta_ct](https://twitter.com/s_gruppetta_ct/status/1644735622555504641)\n",
    "\n",
    "# OOP Python at the Hogwarts School of Codecraft and Algorithmancy. \n",
    "\n",
    "### Year 1: Mindset\n",
    "\n",
    "*Students join the school, are sorted into houses, and start learning about what's different in object-oriented programming (OOP) compared to the programming they already know.*\n",
    "\n",
    "\n",
    "**A good starting point is understanding the philosophy of OOP and how it differs from what we know so far**.\n",
    "\n",
    "Programming can be described as:\n",
    "\n",
    "> storing data and doing stuff with the data\n",
    "\n",
    "You've already learnt about both. In brief:\n",
    "\n",
    "• You store data in **variables**\n",
    "\n",
    "• You do stuff with that data with **functions**\n",
    "\n",
    "\n",
    "**They key concept of object-oriented programming is to bundle the \"storing data\" and the \"doing stuff with the data\" into one unit** \n",
    "\n",
    "An _object_, which is the name we use for a single entity within OOP, contains both the data and the tools needed to do stuff with that data\n",
    "\n",
    "\n",
    "Let's look at an example we know well — **a list**:\n"
   ]
  },
  {
   "cell_type": "code",
   "execution_count": 1,
   "metadata": {},
   "outputs": [],
   "source": [
    "hogwarts_houses = [\"Gryffindor\", \"Slytherin\", \"Ravenclaw\"]"
   ]
  },
  {
   "attachments": {},
   "cell_type": "markdown",
   "metadata": {},
   "source": [
    "`hogwarts_houses` is an object. Its data type is a list\n",
    "It contains data — in this case three strings with the names of three of the houses\n",
    "\n",
    "but…\n",
    "\n",
    "The object also \"carries with it\" **actions** it can perform on the data:"
   ]
  },
  {
   "cell_type": "code",
   "execution_count": 2,
   "metadata": {},
   "outputs": [
    {
     "data": {
      "text/plain": [
       "['Gryffindor', 'Slytherin', 'Ravenclaw', 'Hufflepuff']"
      ]
     },
     "execution_count": 2,
     "metadata": {},
     "output_type": "execute_result"
    }
   ],
   "source": [
    "hogwarts_houses.append(\"Hufflepuff\")\n",
    "hogwarts_houses"
   ]
  },
  {
   "attachments": {},
   "cell_type": "markdown",
   "metadata": {},
   "source": [
    "We can have other objects of type list. They'll have different items within them but they'll all have `.append()` available to them\n",
    "\n",
    "These functions (we'll give them another name in Year 2) allow you change to the data within the object or to get information about the data\n",
    "\n",
    "The overall grouping for objects of the same type is a _class_\n",
    "\n",
    "You can see that our `hogwarts_houses` list is an object of the class list:"
   ]
  },
  {
   "cell_type": "code",
   "execution_count": 3,
   "metadata": {},
   "outputs": [
    {
     "data": {
      "text/plain": [
       "list"
      ]
     },
     "execution_count": 3,
     "metadata": {},
     "output_type": "execute_result"
    }
   ],
   "source": [
    "type(hogwarts_houses)"
   ]
  },
  {
   "attachments": {},
   "cell_type": "markdown",
   "metadata": {},
   "source": [
    "The built-in `type()` function *gives you the class the object belongs to*. \n",
    "`type` is in fact itself a class technically, and not a function, but we'll leave this \"slip of the tongue\" pass here as it doesn't matter too much...\n",
    "\n",
    "In Year 2 at Hogwarts School of Codecraft and Algorithmancy you'll learn more about classes and how to define your own\n",
    "\n",
    "You'll see them described as \"templates\" or \"blueprints\" to create similar objects. But let's not jump ahead…\n",
    "\n",
    "> In Python, **everything is an object**. Therefore, **everything is a member of a class**. \n",
    "> \n",
    "> You've been using classes since your first line of Python code, even if you didn't know it!\n",
    "> However, object-oriented programming normally refers to when you write your own classes…\n",
    "\n",
    "OOP allows you to — in fact encourages you to — see the problem from the human user's point of view and try to solve the human being's problem from his or her perspective, rather than bending your logic to fit the computer's way of thinking\n",
    "\n",
    "This message will make more sense after Years 2 or 3 of study at the Hogwarts School of Codecraft and Algorithmancy.\n",
    "\n"
   ]
  },
  {
   "attachments": {},
   "cell_type": "markdown",
   "metadata": {},
   "source": [
    "Before you graduate to Year 2, a few more points:\n",
    "\n",
    "1. Take your time with OOP. It's unlikely it will \"fully make sense\" the first time you learn about it. Or the second. You need to give it time to \"brew\"!\n",
    "\n",
    "2. If you're brave enough to read stuff on the world-wide web, you may come across the 3 types of people in the world of OOP:\n",
    "- Those who love it\n",
    "- Those who hate it\n",
    "- Those who are pragmatists  (Hint, hint: This is the good group)\n",
    "\n",
    "Don't get swayed by those in groups 1 and 2 (especially those in 2!)\n",
    "\n",
    "As you learn more about classes and OOP, you may be tempted to define classes for everything. With time and experience, you'll learn when you'll benefit from defining classes and when not"
   ]
  },
  {
   "attachments": {},
   "cell_type": "markdown",
   "metadata": {},
   "source": [
    "> __Terminology Corner__\n",
    "> \n",
    "> • A _class_ is a template for creating objects that share similar characteristics and behaviour. Objects of the same class are not identical, but they are similar\n",
    "> \n",
    "> • An _object_ is the individual unit created from a class, which contains data and has actions associated with it\n",
    "> \n",
    "> We'll refine on these definitions in later Years in your studies at Hogwarts School of Codecraft and Algorithmancy"
   ]
  }
 ],
 "metadata": {
  "kernelspec": {
   "display_name": "Python 3",
   "language": "python",
   "name": "python3"
  },
  "language_info": {
   "codemirror_mode": {
    "name": "ipython",
    "version": 3
   },
   "file_extension": ".py",
   "mimetype": "text/x-python",
   "name": "python",
   "nbconvert_exporter": "python",
   "pygments_lexer": "ipython3",
   "version": "3.10.0"
  },
  "orig_nbformat": 4,
  "vscode": {
   "interpreter": {
    "hash": "5c7b89af1651d0b8571dde13640ecdccf7d5a6204171d6ab33e7c296e100e08a"
   }
  }
 },
 "nbformat": 4,
 "nbformat_minor": 2
}
