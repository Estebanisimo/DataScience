class Viviendas():
    def __init__ (self, tipo):
        
        self.tipo = tipo

vivienda1 = Viviendas("home")
