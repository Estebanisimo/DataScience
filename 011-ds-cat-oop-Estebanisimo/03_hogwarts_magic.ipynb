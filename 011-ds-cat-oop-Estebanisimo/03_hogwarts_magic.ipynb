{
 "cells": [
  {
   "attachments": {},
   "cell_type": "markdown",
   "metadata": {},
   "source": [
    "[Based on tweets from Stephen Gruppetta @s_gruppetta_ct](https://twitter.com/s_gruppetta_ct/status/1644735622555504641)\n",
    "\n",
    "# Object-Oriented Python at the Hogwarts School of Codecraft and Algorithmancy\n",
    "### Year 3: Defining Methods\n",
    "\n",
    "Students are no longer fresh-faced first years, but there's still a lot to learn. Real stuff starts this Year as they learn to define methods to add functionality\n",
    "\n",
    "We ended last Year with a `Wizard` class with some data attributes\n",
    "\n",
    "Three of them are assigned when you create the class:\n",
    "`.name`\n",
    "`.patronus`\n",
    "`.birth_year`\n",
    "\n",
    "The other two are empty for now*\n",
    "\n",
    "> They're not really empty as they contain the object `None`\n"
   ]
  },
  {
   "cell_type": "code",
   "execution_count": 27,
   "metadata": {},
   "outputs": [
    {
     "name": "stdout",
     "output_type": "stream",
     "text": [
      "Harry Potter\n",
      "1980\n"
     ]
    }
   ],
   "source": [
    "class Wizard:\n",
    "    def __init__(self, name, patronus, birth_year):\n",
    "        self.name = name\n",
    "        self.patronus = patronus\n",
    "        self.birth_year = birth_year\n",
    "        self.house = None\n",
    "        self.wand = None\n",
    "\n",
    "# Create a new instance of the Wizard class\n",
    "harry = Wizard(\"Harry Potter\", \"stag\", 1980)\n",
    "hermione = Wizard(\"Hermione Granger\", \"otter\", 1979)\n",
    "\n",
    "print(harry.name)\n",
    "print(harry.birth_year)"
   ]
  },
  {
   "attachments": {},
   "cell_type": "markdown",
   "metadata": {},
   "source": [
    "### Defining a custom method\n",
    "\n",
    "However, this class only has data attributes so far\n",
    "\n",
    "What makes an object more useful is when it also has built-in functionality, not just stored data\n",
    "\n",
    "We use functions to get things done in a program and we can add functions within a class, too — we call these _methods_\n",
    "\n",
    "Let's create a method to assign a wand to a wizard\n"
   ]
  },
  {
   "cell_type": "code",
   "execution_count": 28,
   "metadata": {},
   "outputs": [],
   "source": [
    "class Wizard:\n",
    "    def __init__(self, name, patronus, birth_year):\n",
    "        self.name = name\n",
    "        self.patronus = patronus\n",
    "        self.birth_year = birth_year\n",
    "        self.house = None\n",
    "        self.wand = None\n",
    "\n",
    "    def assign_wand(self, wand):\n",
    "        self.wand = wand\n",
    "        print(f\"{self.name} has been assigned the {self.wand} wand.\")"
   ]
  },
  {
   "attachments": {},
   "cell_type": "markdown",
   "metadata": {},
   "source": [
    "Note that as we're now in Year 3, we'll separate our code into separate files. This one is called `hogwarts_magic.​py` and only contains the `Wizard` class for now. It will contain other classes later\n",
    "\n",
    "You define a method in the same way you define functions — recall that a method is a function!\n",
    "\n",
    "However, note that the definition is within the class\n",
    "\n",
    "The method `assign_wand()` has two parameters:\n",
    "• `self`\n",
    "• `wand`\n",
    "\n",
    "In Year 2 you learnt about `self`\n",
    "\n",
    "`self` is a placeholder you use to refer to the object you'll create later using this class\n",
    "\n",
    "Many methods have `self` as the first parameter — in fact, if you're using an IDE or similar tools, the parameter `self` may have been autocompleted for you!\n",
    "\n",
    "We call these _instance methods_\n",
    "\n",
    "They are methods which each instance you create of this class will have\n",
    "\n",
    "\n",
    "The method does two things:\n",
    "\n",
    "• It assigns the argument `wand` to the data attribute of the object `self.wand`. This way, the object carries this information with it!\n",
    "\n",
    "• It prints out a message to tell the user what wand was assigned\n"
   ]
  },
  {
   "attachments": {},
   "cell_type": "markdown",
   "metadata": {},
   "source": [
    "### Using our custom method\n",
    "\n",
    "Initially, the wizards have no wands\n",
    "\n",
    "The output of `print(harry.​wand)` is `None`\n",
    "\n",
    "However, the wizards get a wand when you call the `.assign_wand()` method\n",
    "\n",
    "`harry.​assign_wand()` only affects the object named `harry`. This is the beauty of OOP. Once you create self-contained classes, they're simpler to use\n",
    "\n",
    "> Note how there's only one argument passed when you call `.assign_wand()` even though there are two parameters in the method's definition\n",
    "> \n",
    "> The first parameter `self` is dealt with automatically as it represents the object itself\n",
    ">\n",
    "> `harry.​assign_wand(\"description\")` \n",
    "> \n",
    "> is equivalent to :\n",
    "> \n",
    "> `Wizard.​assign_wand(harry, \"description\")`\n"
   ]
  },
  {
   "cell_type": "code",
   "execution_count": 36,
   "metadata": {},
   "outputs": [
    {
     "name": "stdout",
     "output_type": "stream",
     "text": [
      "Harry Potter\n",
      "None\n"
     ]
    }
   ],
   "source": [
    "harry = Wizard(\"Harry Potter\", \"stag\", 1980)\n",
    "\n",
    "print(harry.name)\n",
    "print(harry.wand)\n"
   ]
  },
  {
   "cell_type": "code",
   "execution_count": 37,
   "metadata": {},
   "outputs": [
    {
     "name": "stdout",
     "output_type": "stream",
     "text": [
      "Harry Potter has been assigned the holly, phoenix feather, 11 inches wand.\n"
     ]
    }
   ],
   "source": [
    "harry.assign_wand(\"holly, phoenix feather, 11 inches\")"
   ]
  },
  {
   "cell_type": "code",
   "execution_count": 38,
   "metadata": {},
   "outputs": [
    {
     "name": "stdout",
     "output_type": "stream",
     "text": [
      "holly, phoenix feather, 11 inches\n"
     ]
    }
   ],
   "source": [
    "print(harry.wand)"
   ]
  },
  {
   "attachments": {},
   "cell_type": "markdown",
   "metadata": {},
   "source": [
    "#### Exercise: Create another method called `assign_house()` which assigns a house to a wizard\n",
    "\n",
    "\n"
   ]
  },
  {
   "cell_type": "code",
   "execution_count": 32,
   "metadata": {},
   "outputs": [],
   "source": [
    "class Wizard:\n",
    "    def __init__(self, name, patronus, birth_year):\n",
    "        self.name = name\n",
    "        self.patronus = patronus\n",
    "        self.birth_year = birth_year\n",
    "        self.house = None\n",
    "        self.wand = None\n",
    "\n",
    "    def assign_wand(self, wand):\n",
    "        self.wand = wand\n",
    "        print(f\"{self.name} has been assigned the {self.wand} wand.\")\n",
    "    \n",
    "    def assign_house(self, house):\n",
    "        self.house = house\n",
    "        print(f'{self.name} has been assigned to {self.house}')\n",
    "        \n"
   ]
  },
  {
   "cell_type": "code",
   "execution_count": 39,
   "metadata": {},
   "outputs": [
    {
     "name": "stdout",
     "output_type": "stream",
     "text": [
      "Harry Potter has been assigned to Slytherin\n"
     ]
    }
   ],
   "source": [
    "harry.assign_house(\"Slytherin\")"
   ]
  },
  {
   "cell_type": "code",
   "execution_count": 40,
   "metadata": {},
   "outputs": [
    {
     "name": "stdout",
     "output_type": "stream",
     "text": [
      "Slytherin\n"
     ]
    }
   ],
   "source": [
    "print(harry.house)"
   ]
  },
  {
   "attachments": {},
   "cell_type": "markdown",
   "metadata": {},
   "source": [
    "However, I'll take a different route to assign a house to a wizard, and I'll also come back to the wand issue!\n",
    "\n",
    "In Year 1, we briefly discussed how OOP encourages you to look at the problem from a more \"human\" perspective\n",
    "\n",
    "What do I mean?\n",
    "\n",
    "Ask yourself:\n",
    "• What are the 'things' that matter for a human looking at this problem?\n",
    "• What 'things' or 'objects' are needed to understand the problem?\"\n",
    "\n",
    "\n",
    "The words 'things' and 'objects' are used loosely here, not only because a wizard, for example, is neither, but because sometimes you may need something more abstract\n",
    "\n",
    "We've already seen `Wizard`\n",
    "\n",
    "But wands and houses are also 'things' or 'objects' of relevance"
   ]
  },
  {
   "attachments": {},
   "cell_type": "markdown",
   "metadata": {},
   "source": [
    "### Defining a new class\n",
    "\n",
    "So let's create classes for each one, starting from `House`\n",
    "\n",
    "Its data attributes could include:\n",
    "\n",
    "• `.name` \n",
    "\n",
    "• `.founder` \n",
    "\n",
    "• `.colours` \n",
    "\n",
    "• `.animal` \n",
    "\n",
    "• `.members` \n",
    "\n",
    "• `.points` \n",
    "\n",
    "Note how the first four data attributes are directly linked to arguments you pass when you create the instance of `House`\n",
    "\n",
    "`self.members` and `self.points` are initialised to an empty list and to 0 respectively\n",
    "\n",
    "You'll update these data attributes soon"
   ]
  },
  {
   "cell_type": "code",
   "execution_count": 41,
   "metadata": {},
   "outputs": [],
   "source": [
    "class House:\n",
    "    def __init__(self, name, founder, colours, animal):\n",
    "        self.name = name\n",
    "        self.founder = founder\n",
    "        self.colours = colours\n",
    "        self.animal = animal\n",
    "        self.members = []\n",
    "        self.points = 0\n"
   ]
  },
  {
   "attachments": {},
   "cell_type": "markdown",
   "metadata": {},
   "source": [
    "#### Extending the `House` class\n",
    "\n",
    "Let's add some methods, too\n",
    "\n",
    "Three of these methods update a data attribute. They're changing the state of the object\n",
    "\n",
    "The final method doesn't make any changes to the object. Instead, it returns some information. In this case it returns a dictionary with relevant values\n"
   ]
  },
  {
   "cell_type": "code",
   "execution_count": 42,
   "metadata": {},
   "outputs": [],
   "source": [
    "class House:\n",
    "    def __init__(self, name, founder, colours, animal):\n",
    "        self.name = name\n",
    "        self.founder = founder\n",
    "        self.colours = colours\n",
    "        self.animal = animal\n",
    "        self.members = []\n",
    "        self.points = 0\n",
    "    \n",
    "    def add_member(self, member):\n",
    "        self.members.append(member)\n",
    "\n",
    "    def remove_member(self, member):\n",
    "        self.members.remove(member)\n",
    "\n",
    "    def update_points(self, points):\n",
    "        self.points += points\n",
    "    \n",
    "    def get_house_details(self):\n",
    "        return {\n",
    "            \"name\": self.name,\n",
    "            \"founder\": self.founder,\n",
    "            \"colours\": self.colours,\n",
    "            \"animal\": self.animal,\n",
    "            \"points\": self.points,\n",
    "        }"
   ]
  },
  {
   "attachments": {},
   "cell_type": "markdown",
   "metadata": {},
   "source": [
    "Now you have the `House` class, look back at `Wizard`\n",
    "\n",
    "```python\n",
    "class Wizard:\n",
    "    def __init__(self, name, patronus, birth_year):\n",
    "        self.name = name\n",
    "        self.patronus = patronus\n",
    "        self.birth_year = birth_year\n",
    "        self.wand = None\n",
    "        self.house = None\n",
    "\n",
    "    def assign_wand(self, wand):\n",
    "        self.wand = wand\n",
    "        print(f\"{self.name} has been assigned a {self.wand} wand\")\n",
    "```\n",
    "\n",
    "See what we did with `assign_wand()`? We added a string with the description on the wand. Therefore, the `.wand` attribute contains a string\n",
    "\n",
    "You could do the same thing with the house and store a string with the house name in `.house`\n",
    "\n",
    "But now we have a `House` class, and therefore objects of type `House`, we can store an instance of `House` in `self.​house` instead of a plain string with the house name"
   ]
  },
  {
   "cell_type": "code",
   "execution_count": 43,
   "metadata": {},
   "outputs": [],
   "source": [
    "class Wizard:\n",
    "    def __init__(self, name, patronus, birth_year):\n",
    "        self.name = name\n",
    "        self.patronus = patronus\n",
    "        self.birth_year = birth_year\n",
    "        self.wand = None\n",
    "        self.house = None\n",
    "\n",
    "    def assign_wand(self, wand):\n",
    "        self.wand = wand\n",
    "        print(f\"{self.name} has been assigned a {self.wand} wand\")\n",
    "\n",
    "    def assign_house(self, house):\n",
    "        self.house = house\n",
    "        house.add_member(self)"
   ]
  },
  {
   "attachments": {},
   "cell_type": "markdown",
   "metadata": {},
   "source": [
    "There are two things happening in `assign_house()` in the `Wizard` class:\n",
    "\n",
    "1. The value passed to the method is assigned to the data attribute `self.​house`. This value will be an instance of type `House`. You could use type hinting and input validation, too\n",
    "\n",
    "2. The `House` instance itself is modified:\n",
    "`house` is an instance of the class `House`. \n",
    "`house.add_member()` calls the `.add_member()` method for this `House` instance.\n",
    "You pass `self` to this method — that's the wizard, since you're in the `Wizard` class\n",
    "\n",
    "\n",
    "Recall that `self` is a placeholder to refer to the instance of a class\n",
    "\n",
    "Note that when you use `self` within the `Wizard` class, it refers to the `Wizard` instance…\n",
    "\n",
    "…and when you use `self` in the `House` class definition, it refers to the `House` instance\n"
   ]
  },
  {
   "attachments": {},
   "cell_type": "markdown",
   "metadata": {},
   "source": [
    "### Playing with our new classes\n",
    "\n",
    "You create the two `Wizard` instances and a `House` instance\n",
    "\n",
    "Initially, the wizard has no house and the house has no members\n",
    "\n",
    "But after calling `harry.assign_house(gryffindor)`, both associations are in place"
   ]
  },
  {
   "cell_type": "code",
   "execution_count": 44,
   "metadata": {},
   "outputs": [
    {
     "name": "stdout",
     "output_type": "stream",
     "text": [
      "Harry Potter\n",
      "None\n",
      "[]\n"
     ]
    }
   ],
   "source": [
    "harry = Wizard(\"Harry Potter\", \"stag\", 1980)\n",
    "hermione = Wizard(\"Hermione Granger\", \"otter\", 1979)\n",
    "\n",
    "gryffindor = House(\"Gryffindor\", \n",
    "                   \"Godric Gryffindor\", \n",
    "                   [\"scarlet\", \"gold\"], \n",
    "                   \"lion\",\n",
    "                   )\n",
    "\n",
    "print(harry.name)\n",
    "print(harry.house)\n",
    "print(gryffindor.members)"
   ]
  },
  {
   "cell_type": "code",
   "execution_count": 45,
   "metadata": {},
   "outputs": [
    {
     "name": "stdout",
     "output_type": "stream",
     "text": [
      "Gryffindor\n",
      "Harry Potter\n"
     ]
    }
   ],
   "source": [
    "harry.assign_house(gryffindor)\n",
    "print(harry.house.name)\n",
    "\n",
    "for member in gryffindor.members:\n",
    "    print(member.name)"
   ]
  },
  {
   "cell_type": "code",
   "execution_count": 46,
   "metadata": {},
   "outputs": [
    {
     "name": "stdout",
     "output_type": "stream",
     "text": [
      "<__main__.House object at 0x0000013183591000>\n",
      "<__main__.Wizard object at 0x0000013183591090>\n",
      "[<__main__.Wizard object at 0x0000013183591090>]\n",
      "<__main__.House object at 0x0000013183591000>\n"
     ]
    }
   ],
   "source": [
    "print(gryffindor)\n",
    "print(harry)\n",
    "print(gryffindor.members)\n",
    "print(harry.house)"
   ]
  },
  {
   "cell_type": "code",
   "execution_count": 47,
   "metadata": {},
   "outputs": [],
   "source": [
    "assert harry.house == gryffindor, \"Something weird happened\"\n",
    "assert gryffindor.members[0] == harry, \"Something weird happened\""
   ]
  },
  {
   "attachments": {},
   "cell_type": "markdown",
   "metadata": {},
   "source": [
    "Let's start wrapping up this Year. The summer break is fast approaching\n",
    "\n",
    "No one said your journey through Hogwarts School of Codecraft and Algorithmancy would be easy!\n",
    "\n",
    "What happens if you also add:\n",
    "`gryffindor.add_member(harry)`\n"
   ]
  },
  {
   "cell_type": "code",
   "execution_count": 48,
   "metadata": {},
   "outputs": [
    {
     "data": {
      "text/plain": [
       "[<__main__.Wizard at 0x13183591090>, <__main__.Wizard at 0x13183591090>]"
      ]
     },
     "execution_count": 48,
     "metadata": {},
     "output_type": "execute_result"
    }
   ],
   "source": [
    "gryffindor.add_member(harry)\n",
    "\n",
    "gryffindor.members"
   ]
  },
  {
   "attachments": {},
   "cell_type": "markdown",
   "metadata": {},
   "source": [
    "\"Harry Potter\" now appears twice in the list of Gryffindor members\n",
    "\n",
    "He was added when you called `harry.assign_house(gryffindor)` and again in `gryffindor.add_member(harry)`\n",
    "\n",
    "You can avoid this with a small change in `.add_member()` in the `House` class"
   ]
  },
  {
   "cell_type": "code",
   "execution_count": 49,
   "metadata": {},
   "outputs": [],
   "source": [
    "class House:\n",
    "    def __init__(self, name, founder, colours, animal):\n",
    "        self.name = name\n",
    "        self.founder = founder\n",
    "        self.colours = colours\n",
    "        self.animal = animal\n",
    "        self.members = []\n",
    "        self.points = 0\n",
    "    \n",
    "    def add_member(self, member):\n",
    "        # check if member is already in the list\n",
    "        if member not in self.members:\n",
    "            self.members.append(member)\n",
    "        \n",
    "    def remove_member(self, member):\n",
    "        self.members.remove(member)\n",
    "\n",
    "    def update_points(self, points):\n",
    "        self.points += points\n",
    "    \n",
    "    def get_house_details(self):\n",
    "        return {\n",
    "            \"name\": self.name,\n",
    "            \"founder\": self.founder,\n",
    "            \"colours\": self.colours,\n",
    "            \"animal\": self.animal,\n",
    "            \"points\": self.points,\n",
    "        }"
   ]
  },
  {
   "cell_type": "code",
   "execution_count": 50,
   "metadata": {},
   "outputs": [
    {
     "data": {
      "text/plain": [
       "[<__main__.Wizard at 0x131837c9ba0>]"
      ]
     },
     "execution_count": 50,
     "metadata": {},
     "output_type": "execute_result"
    }
   ],
   "source": [
    "harry = Wizard(\"Harry Potter\", \"stag\", 1980)\n",
    "hermione = Wizard(\"Hermione Granger\", \"otter\", 1979)\n",
    "\n",
    "gryffindor = House(\"Gryffindor\", \n",
    "                   \"Godric Gryffindor\", \n",
    "                   [\"scarlet\", \"gold\"], \n",
    "                   \"lion\",\n",
    "                   )\n",
    "\n",
    "gryffindor.add_member(harry)\n",
    "gryffindor.add_member(harry)\n",
    "\n",
    "gryffindor.members"
   ]
  },
  {
   "attachments": {},
   "cell_type": "markdown",
   "metadata": {},
   "source": [
    "### Exercise: \n",
    "\n",
    "Create a `Wand` class with the following data attributes:\n",
    "* `.wood`\n",
    "* `.core`\n",
    "* `.length`\n",
    "and the following methods:\n",
    "* cast_spell( self, spell)\n",
    "\n",
    "Also modify the `Wizard` class to use the `Wand` class instead of a string\n"
   ]
  },
  {
   "cell_type": "code",
   "execution_count": 51,
   "metadata": {},
   "outputs": [],
   "source": [
    "class Wizard:\n",
    "    def __init__(self, name, patronus, birth_year):\n",
    "        self.name = name\n",
    "        self.patronus = patronus\n",
    "        self.birth_year = birth_year\n",
    "        self.wand = None\n",
    "        self.house = None\n",
    "\n",
    "    def assign_wand(self, wand):\n",
    "        # your code here\n",
    "        pass\n",
    "\n",
    "    def assign_house(self, house):\n",
    "        self.house = house\n",
    "        house.add_member(self)\n",
    "\n",
    "\n",
    "class Wand:\n",
    "    def __init__(self, wood, core, length):\n",
    "        self.wood = wood\n",
    "        self.core = core\n",
    "        self.length = length\n",
    "    \n",
    "    def cast_spell(self, spell):\n",
    "        self.spell = spell\n",
    "    # your code here\n",
    "    pass\n",
    "\n",
    "harry = Wizard(\"Harry Potter\", \"stag\", 1980)\n",
    "wand = Wand(\"holly\", \"phoenix feather\", 11)\n",
    "harry.assign_wand(wand)"
   ]
  },
  {
   "cell_type": "code",
   "execution_count": 52,
   "metadata": {},
   "outputs": [
    {
     "ename": "AssertionError",
     "evalue": "harry.wand should be an instance of the Wand class",
     "output_type": "error",
     "traceback": [
      "\u001b[1;31m---------------------------------------------------------------------------\u001b[0m",
      "\u001b[1;31mAssertionError\u001b[0m                            Traceback (most recent call last)",
      "\u001b[1;32mc:\\Users\\esteb\\OneDrive\\Escritorio\\DataScience\\011-ds-cat-oop-Estebanisimo\\03_hogwarts_magic.ipynb Celda 34\u001b[0m line \u001b[0;36m2\n\u001b[0;32m      <a href='vscode-notebook-cell:/c%3A/Users/esteb/OneDrive/Escritorio/DataScience/011-ds-cat-oop-Estebanisimo/03_hogwarts_magic.ipynb#X43sZmlsZQ%3D%3D?line=0'>1</a>\u001b[0m \u001b[39m# Run this cell to test the code has been written correctly\u001b[39;00m\n\u001b[1;32m----> <a href='vscode-notebook-cell:/c%3A/Users/esteb/OneDrive/Escritorio/DataScience/011-ds-cat-oop-Estebanisimo/03_hogwarts_magic.ipynb#X43sZmlsZQ%3D%3D?line=1'>2</a>\u001b[0m \u001b[39massert\u001b[39;00m \u001b[39misinstance\u001b[39m(harry\u001b[39m.\u001b[39mwand, Wand), \u001b[39m\"\u001b[39m\u001b[39mharry.wand should be an instance of the Wand class\u001b[39m\u001b[39m\"\u001b[39m\n\u001b[0;32m      <a href='vscode-notebook-cell:/c%3A/Users/esteb/OneDrive/Escritorio/DataScience/011-ds-cat-oop-Estebanisimo/03_hogwarts_magic.ipynb#X43sZmlsZQ%3D%3D?line=2'>3</a>\u001b[0m \u001b[39massert\u001b[39;00m harry\u001b[39m.\u001b[39mwand\u001b[39m.\u001b[39mwood \u001b[39m==\u001b[39m \u001b[39m\"\u001b[39m\u001b[39mholly\u001b[39m\u001b[39m\"\u001b[39m , \u001b[39m\"\u001b[39m\u001b[39mharry.wand.wood should be a str: \u001b[39m\u001b[39m'\u001b[39m\u001b[39mholly\u001b[39m\u001b[39m'\u001b[39m\u001b[39m\"\u001b[39m\n\u001b[0;32m      <a href='vscode-notebook-cell:/c%3A/Users/esteb/OneDrive/Escritorio/DataScience/011-ds-cat-oop-Estebanisimo/03_hogwarts_magic.ipynb#X43sZmlsZQ%3D%3D?line=3'>4</a>\u001b[0m \u001b[39massert\u001b[39;00m harry\u001b[39m.\u001b[39mwand\u001b[39m.\u001b[39mcore \u001b[39m==\u001b[39m \u001b[39m\"\u001b[39m\u001b[39mphoenix feather\u001b[39m\u001b[39m\"\u001b[39m , \u001b[39m\"\u001b[39m\u001b[39mharry.wand.core should be  a str: \u001b[39m\u001b[39m'\u001b[39m\u001b[39mphoenix feather\u001b[39m\u001b[39m'\u001b[39m\u001b[39m\"\u001b[39m\n",
      "\u001b[1;31mAssertionError\u001b[0m: harry.wand should be an instance of the Wand class"
     ]
    }
   ],
   "source": [
    "# Run this cell to test the code has been written correctly\n",
    "assert isinstance(harry.wand, Wand), \"harry.wand should be an instance of the Wand class\"\n",
    "assert harry.wand.wood == \"holly\" , \"harry.wand.wood should be a str: 'holly'\"\n",
    "assert harry.wand.core == \"phoenix feather\" , \"harry.wand.core should be  a str: 'phoenix feather'\"\n",
    "assert harry.wand.length == 11 , \"harry.wand.length should be a integer: 11\"\n"
   ]
  },
  {
   "attachments": {},
   "cell_type": "markdown",
   "metadata": {},
   "source": [
    "> __Terminology Corner__\n",
    "> \n",
    "> * A _class_ is a template for creating objects that share similar characteristics and behaviour. Objects of the same class are not identical, but they are similar\n",
    "> \n",
    "> * An _object_ is the individual unit created from a class, which contains data and has actions associated with it\n",
    ">\n",
    "> * A _data attribute_ is a variable attached to an object that stores data. It's an attribute of the object that contains data. More on attributes in Year 3\n",
    "> \n",
    "> * `self` is a placeholder name we use by convention to refer to the object itself within the class definition\n",
    "> \n",
    "> * An instance method is a function that's part of a class (method) which is attached to each instance of the class\n",
    ">\n",
    "> * An instance method always takes the object as its first argument. This is implicit when you call the method—you don't need to add it\n"
   ]
  }
 ],
 "metadata": {
  "kernelspec": {
   "display_name": "base",
   "language": "python",
   "name": "python3"
  },
  "language_info": {
   "codemirror_mode": {
    "name": "ipython",
    "version": 3
   },
   "file_extension": ".py",
   "mimetype": "text/x-python",
   "name": "python",
   "nbconvert_exporter": "python",
   "pygments_lexer": "ipython3",
   "version": "3.10.0"
  },
  "orig_nbformat": 4,
  "vscode": {
   "interpreter": {
    "hash": "75dac0dbd405a8394808c62e8a1270731cc80cc33b4d24dc0a2a1e00cd8c1002"
   }
  }
 },
 "nbformat": 4,
 "nbformat_minor": 2
}
