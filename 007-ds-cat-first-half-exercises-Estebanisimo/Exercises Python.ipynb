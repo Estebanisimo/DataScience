{
 "cells": [
  {
   "attachments": {},
   "cell_type": "markdown",
   "metadata": {
    "id": "sPPCmtvFSCiw"
   },
   "source": [
    "# Python Exercises :)"
   ]
  },
  {
   "attachments": {},
   "cell_type": "markdown",
   "metadata": {
    "id": "Ji6AW0plSCi2",
    "tags": []
   },
   "source": [
    "## Basic operations \n",
    "\n",
    "we have the following list of \"numbers\":\n",
    "\n",
    "```python\n",
    "list_of_items = [1.3,\"I\", 10000000000, \"like\", 2.0 , \"Deep Learning\",[3,5], (1,\"same\")]\n",
    "```"
   ]
  },
  {
   "attachments": {},
   "cell_type": "markdown",
   "metadata": {},
   "source": [
    "## 1. Printing\n",
    "\n",
    "We want to print each of the items in the list:\n",
    "\n",
    "Expected output:\n",
    "\n",
    "```\n",
    "1.3\n",
    "I\n",
    "10000000000\n",
    "like\n",
    "2.0\n",
    "Deep Learning\n",
    "[3, 5]\n",
    "(1, 'same')\n",
    "```\n",
    "Hint: Remenber `print()`"
   ]
  },
  {
   "cell_type": "code",
   "execution_count": 1,
   "metadata": {},
   "outputs": [
    {
     "name": "stdout",
     "output_type": "stream",
     "text": [
      "1.3\n",
      "I\n",
      "10000000000\n",
      "like\n",
      "2.0\n",
      "Deep Learning\n",
      "[3, 5]\n",
      "(1, 'same')\n"
     ]
    }
   ],
   "source": [
    "# Your Solution\n",
    "list_of_items = [1.3,\"I\", 10000000000, \"like\", 2.0 , \"Deep Learning\",[3,5], (1,\"same\")]\n",
    "\n",
    "for i in list_of_items:\n",
    "    print(i)\n"
   ]
  },
  {
   "attachments": {},
   "cell_type": "markdown",
   "metadata": {},
   "source": [
    "##  2. Filtering\n",
    "\n",
    "We want to print each of the items in the list that is a string (`str`):\n",
    "\n",
    "Expected output:\n",
    "```\n",
    "I\n",
    "like\n",
    "Deep Learning\n",
    "```\n",
    "Hint: Remenber `type()` or `isinstance()`"
   ]
  },
  {
   "cell_type": "code",
   "execution_count": 5,
   "metadata": {},
   "outputs": [
    {
     "name": "stdout",
     "output_type": "stream",
     "text": [
      "['I', 'like', 'Deep Learning']\n"
     ]
    }
   ],
   "source": [
    "# Your Solution\n",
    "\n",
    "list_of_items = [1.3,\"I\", 10000000000, \"like\", 2.0 , \"Deep Learning\",[3,5], (1,\"same\")]\n",
    "\n",
    "solo_strings = [elemento for elemento in list_of_items if isinstance (elemento, str)]\n",
    "print(solo_strings)"
   ]
  },
  {
   "attachments": {},
   "cell_type": "markdown",
   "metadata": {},
   "source": [
    "## 3. Counting\n",
    "\n",
    "We want to count how many strings do we have:\n",
    "\n",
    "```\n",
    "3\n",
    "```\n",
    "\n",
    "Hint: Remenber `type()`"
   ]
  },
  {
   "cell_type": "code",
   "execution_count": 9,
   "metadata": {},
   "outputs": [
    {
     "name": "stdout",
     "output_type": "stream",
     "text": [
      "3\n"
     ]
    }
   ],
   "source": [
    "contador = len([elementos for elementos in list_of_items if isinstance (elementos, str)])\n",
    "print(contador)"
   ]
  },
  {
   "attachments": {},
   "cell_type": "markdown",
   "metadata": {
    "tags": []
   },
   "source": [
    "## 4. Creating a list\n",
    "\n",
    "We want to create a list that contains only the string elements:\n",
    "\n",
    "expected output:\n",
    "```\n",
    "['I', 'like', 'Deep Learning']\n",
    "```\n",
    "\n",
    "Hint: remember `.append()`"
   ]
  },
  {
   "cell_type": "code",
   "execution_count": 10,
   "metadata": {},
   "outputs": [
    {
     "name": "stdout",
     "output_type": "stream",
     "text": [
      "['I', 'like', 'Deep Learning']\n"
     ]
    }
   ],
   "source": [
    "# Your Solution\n",
    "\n",
    "\n",
    "string_list = []\n",
    "\n",
    "for element in list_of_items:\n",
    "    if isinstance(element, str):\n",
    "        string_list.append(element)\n",
    "\n",
    "print(string_list)\n",
    "    "
   ]
  },
  {
   "attachments": {},
   "cell_type": "markdown",
   "metadata": {},
   "source": [
    "## 5. functions I\n",
    "\n",
    "We want to create a function called `get_only_strings()` that does the same as #4, i.e., filtering out everything that is not a string from a list and return that same list. \n",
    "\n",
    "The input of the function should be a `list` and the output a filtered `list` only containing strings.\n",
    "\n",
    "\n",
    "Expected output:\n",
    "\n",
    "```\n",
    "> get_only_strings(list_of_items)\n",
    "['I', 'like', 'Deep Learning']\n",
    "\n",
    "> type(get_only_strings(list_of_items))\n",
    "list\n",
    "```"
   ]
  },
  {
   "cell_type": "code",
   "execution_count": 11,
   "metadata": {},
   "outputs": [
    {
     "name": "stdout",
     "output_type": "stream",
     "text": [
      "['I', 'like', 'Deep Learning']\n"
     ]
    },
    {
     "data": {
      "text/plain": [
       "list"
      ]
     },
     "execution_count": 11,
     "metadata": {},
     "output_type": "execute_result"
    }
   ],
   "source": [
    "def get_only_strings(items):\n",
    "    string_list1 = []\n",
    "    for element in items:\n",
    "        if isinstance (element, str):\n",
    "            string_list1.append(element)\n",
    "    return string_list1\n",
    "                \n",
    "                \n",
    "print(get_only_strings(list_of_items))\n",
    "type(get_only_strings(list_of_items))"
   ]
  },
  {
   "attachments": {},
   "cell_type": "markdown",
   "metadata": {},
   "source": [
    "## 6 Functions II\n",
    "\n",
    "We want to create a function similar to `get_only_strings()` on #5 but this time the type to be filtered should be also a parameter. \n",
    "\n",
    "This function signature should something as `get_items_of_type( list_of_items, type_to_filter )` where \n",
    "\n",
    "`list_of_items`is the list of items we've been working all this time and `type_to_filter` any type that we would like get from the list:\n",
    "\n",
    "\n",
    "Expected output:\n",
    "\n",
    "```\n",
    "> get_items_of_type(list_of_items, str)\n",
    "['I', 'like', 'Deep Learning']\n",
    "\n",
    "> get_items_of_type(list_of_items, float)\n",
    "[1.3, 2.0]\n",
    "\n",
    "> get_items_of_type(list_of_items, int)\n",
    "[10000000000]\n",
    "```"
   ]
  },
  {
   "cell_type": "code",
   "execution_count": 12,
   "metadata": {},
   "outputs": [
    {
     "name": "stdout",
     "output_type": "stream",
     "text": [
      "[1.3, 2.0]\n",
      "[(1, 'same')]\n"
     ]
    }
   ],
   "source": [
    "def get_only_strings(list_of_items, type_to_filter):\n",
    "    filtered_items = [item for item in list_of_items if isinstance(item, type_to_filter)]\n",
    "    return filtered_items\n",
    "\n",
    "print(get_only_strings(list_of_items, float))\n",
    "\n",
    "def get_only_strings1 (list_of_items, type_to_filter):\n",
    "    filtered = []\n",
    "    for item in list_of_items:\n",
    "        if isinstance(item, type_to_filter):\n",
    "            filtered.append(item)\n",
    "    return filtered\n",
    "\n",
    "print(get_only_strings1(list_of_items, tuple))"
   ]
  },
  {
   "attachments": {},
   "cell_type": "markdown",
   "metadata": {
    "tags": []
   },
   "source": [
    "## 7 Organizing list data\n",
    "\n",
    "We want to take a `list_of_items` and keep the different items types together in lists. We want to use a dictionary to store the different lists, the key of which should be its type.\n",
    "The input should be the a `list` and the output a `dict`. Make all this inside a function called `organize_list()`\n",
    "\n",
    "Expected output:\n",
    "\n",
    "```python\n",
    "{float: [1.3, 2.0],\n",
    " str: ['I', 'like', 'Deep Learning'],\n",
    " int: [10000000000],\n",
    " list: [[3, 5]],\n",
    " tuple: [(1, 'same')]}\n",
    " ```\n",
    "Hint : you can add two `list`s with `+` operator\n",
    "\n",
    "Hint : you can add an item to a list with `.append()`\n",
    "\n",
    "Hint: accessing a key that does not exist will incur a `KeyError` error"
   ]
  },
  {
   "cell_type": "code",
   "execution_count": 20,
   "metadata": {},
   "outputs": [
    {
     "data": {
      "text/plain": [
       "{float: [1.3, 2.0],\n",
       " str: ['I', 'like', 'Deep Learning'],\n",
       " int: [10000000000],\n",
       " list: [[3, 5]],\n",
       " tuple: [(1, 'same')]}"
      ]
     },
     "execution_count": 20,
     "metadata": {},
     "output_type": "execute_result"
    }
   ],
   "source": [
    "list_of_items = [1.3,\"I\", 10000000000, \"like\", 2.0 , \"Deep Learning\",[3,5], (1,\"same\")]\n",
    "\n",
    "def organize_list(list_of):\n",
    "    my_dict = {}\n",
    "    for item in list_of:\n",
    "        item_type = type(item)\n",
    "        if item_type not in my_dict:\n",
    "            my_dict[item_type] = [item]\n",
    "        else:\n",
    "            my_dict[item_type].append(item)\n",
    "            \n",
    "    return my_dict\n",
    "\n",
    "organize_list(list_of_items)"
   ]
  },
  {
   "attachments": {},
   "cell_type": "markdown",
   "metadata": {},
   "source": [
    "## 8 Modifying our listed data\n",
    "\n",
    "Now that we have the following output from the previous exercise:\n",
    "\n",
    "```python\n",
    "{float: [1.3, 2.0],\n",
    " str: ['I', 'like', 'Deep Learning'],\n",
    " int: [10000000000],\n",
    " list: [[3, 5]],\n",
    " tuple: [(1, 'same')]}\n",
    " ```\n",
    "We want to create a function called `apply_to_list()` that takes a list and a function as input and applies that function to each element of the list. The output should be a list with the results of applying the function to each element of the list.\n",
    "\n",
    "for example:\n",
    "\n",
    "```python   \n",
    "def add_one(x):\n",
    "    return x + 1\n",
    "\n",
    "apply_to_list([1,2,3], add_one)\n",
    "```\n",
    "output:\n",
    "```\n",
    "[2,3,4]\n",
    "```"
   ]
  },
  {
   "cell_type": "code",
   "execution_count": 35,
   "metadata": {},
   "outputs": [
    {
     "data": {
      "text/plain": [
       "[2, 3, 4]"
      ]
     },
     "execution_count": 35,
     "metadata": {},
     "output_type": "execute_result"
    }
   ],
   "source": [
    "def add_one(x):\n",
    "    return x + 1\n",
    "\n",
    "def apply_to_list(function, list_of_items):\n",
    "    my_list = []\n",
    "    for item in list_of_items:\n",
    "        processed_item = function(item)\n",
    "        my_list.append(processed_item)\n",
    "        \n",
    "    return my_list\n",
    "\n",
    "apply_to_list(add_one, [1,2,3])"
   ]
  },
  {
   "cell_type": "code",
   "execution_count": 15,
   "metadata": {},
   "outputs": [
    {
     "data": {
      "text/plain": [
       "[2, 3, 4]"
      ]
     },
     "execution_count": 15,
     "metadata": {},
     "output_type": "execute_result"
    }
   ],
   "source": [
    "list(map(add_one, [1, 2, 3]))"
   ]
  },
  {
   "cell_type": "code",
   "execution_count": 16,
   "metadata": {},
   "outputs": [
    {
     "data": {
      "text/plain": [
       "[2, 3, 4]"
      ]
     },
     "execution_count": 16,
     "metadata": {},
     "output_type": "execute_result"
    }
   ],
   "source": [
    "def add_one(x):\n",
    "    return x + 1\n",
    "\n",
    "def apply_to_list1(list_of_items, function):\n",
    "    return list(map(function, list_of_items))\n",
    "\n",
    "apply_to_list1([1, 2, 3], add_one)"
   ]
  },
  {
   "attachments": {},
   "cell_type": "markdown",
   "metadata": {},
   "source": [
    "## 9 Modifying our listed data II\n",
    "\n",
    "Again, with the following output from the previous exercise:\n",
    "\n",
    "```python\n",
    "exercise_seven_output = {float: [1.3, 2.0],\n",
    "                         str: ['I', 'like', 'Deep Learning'],\n",
    "                         int: [10000000000],\n",
    "                         list: [[3, 5]],\n",
    "                         tuple: [(1, 'same')]\n",
    "                         }\n",
    " ```\n",
    "We want to do something very similar to the previous exercise but this time we want to pass a mapping or dictionary that maps the type of the element to a function that will be applied to that element. The function should be called `apply_to_list_with_mapping()` . In other words, now the input will be two dictionaries:\n",
    "    - One that maps the type of the element to a function that will be applied to that element\n",
    "    - And the output of exercise 7 (the dictionary with the different types of elements)\n",
    "\n",
    "```python   \n",
    "def add_one(x):\n",
    "    return x + 1\n",
    "\n",
    "\n",
    "mapping = {float: add_one,\n",
    "           str: len,\n",
    "           int: lambda x : x / 1000,\n",
    "           }\n",
    "\n",
    "apply_to_list_with_mapping(mapping,exercise_seven_output) \n",
    ">>>\n",
    "{float: [2.3, 3.0], # add_one(1.3) and add_one(2.0)\n",
    " str: [1, 4, 13], # len('I') and len('like') and len('Deep Learning')\n",
    " int: [10000000.0], # 10000000000 / 1000\n",
    " list: [[3, 5]], # no change\n",
    " tuple: [(1, 'same')] # no change\n",
    " }\n",
    "```\n",
    "\n"
   ]
  },
  {
   "cell_type": "code",
   "execution_count": 23,
   "metadata": {},
   "outputs": [
    {
     "data": {
      "text/plain": [
       "{float: [1.3, 2.0],\n",
       " str: ['I', 'like', 'Deep Learning'],\n",
       " int: [10000000000],\n",
       " list: [[3, 5]],\n",
       " tuple: [(1, 'same')]}"
      ]
     },
     "execution_count": 23,
     "metadata": {},
     "output_type": "execute_result"
    }
   ],
   "source": [
    "exercise_seven_output = organize_list(list_of_items) \n",
    "exercise_seven_output"
   ]
  },
  {
   "cell_type": "code",
   "execution_count": 31,
   "metadata": {},
   "outputs": [],
   "source": [
    "def add_one(x):\n",
    "    return x + 1\n",
    "\n",
    "mapping = {float: add_one,\n",
    "           str: len,\n",
    "           int: lambda x : x / 1000,\n",
    "           }\n",
    "\n",
    "def apply_to_list_with_mapping(mapping_functions, dict_to_transform):\n",
    "    transformed_dict = {}\n",
    "    for key, value in dict_to_transform.items():\n",
    "        if key in mapping_functions:\n",
    "            transformed_dict[key] = apply_to_list( mapping_functions[key], value)\n",
    "        else:\n",
    "            transformed_dict[key] = value\n",
    "    return transformed_dict"
   ]
  },
  {
   "cell_type": "code",
   "execution_count": 32,
   "metadata": {},
   "outputs": [
    {
     "data": {
      "text/plain": [
       "{float: [1.3, 2.0],\n",
       " str: ['I', 'like', 'Deep Learning'],\n",
       " int: [10000000000],\n",
       " list: [[3, 5]],\n",
       " tuple: [(1, 'same')]}"
      ]
     },
     "execution_count": 32,
     "metadata": {},
     "output_type": "execute_result"
    }
   ],
   "source": [
    "exercise_seven_output"
   ]
  },
  {
   "cell_type": "code",
   "execution_count": 36,
   "metadata": {},
   "outputs": [
    {
     "data": {
      "text/plain": [
       "{float: [2.3, 3.0],\n",
       " str: [1, 4, 13],\n",
       " int: [10000000.0],\n",
       " list: [[3, 5]],\n",
       " tuple: [(1, 'same')]}"
      ]
     },
     "execution_count": 36,
     "metadata": {},
     "output_type": "execute_result"
    }
   ],
   "source": [
    "apply_to_list_with_mapping(mapping, exercise_seven_output)"
   ]
  }
 ],
 "metadata": {
  "colab": {
   "collapsed_sections": [],
   "name": "test.ipynb",
   "provenance": []
  },
  "kernelspec": {
   "display_name": "Python 3",
   "language": "python",
   "name": "python3"
  },
  "language_info": {
   "codemirror_mode": {
    "name": "ipython",
    "version": 3
   },
   "file_extension": ".py",
   "mimetype": "text/x-python",
   "name": "python",
   "nbconvert_exporter": "python",
   "pygments_lexer": "ipython3",
   "version": "3.10.0"
  },
  "vscode": {
   "interpreter": {
    "hash": "b02646c2acf2880c24eece31917d6bae663a5484fc466adbcfd30a4b011917d2"
   }
  }
 },
 "nbformat": 4,
 "nbformat_minor": 4
}
