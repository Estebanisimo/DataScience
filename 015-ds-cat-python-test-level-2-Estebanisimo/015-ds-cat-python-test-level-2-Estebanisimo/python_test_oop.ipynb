{
 "cells": [
  {
   "attachments": {},
   "cell_type": "markdown",
   "metadata": {},
   "source": [
    "# Python Test: Module 2"
   ]
  },
  {
   "attachments": {},
   "cell_type": "markdown",
   "metadata": {},
   "source": [
    "## Python exercises"
   ]
  },
  {
   "attachments": {},
   "cell_type": "markdown",
   "metadata": {},
   "source": [
    "### Exercise 1\n",
    "\n",
    "Write a Python function called `list_chunking` that takes in an `elements_list` and a `chunk_size` as arguments and returns a new list containing sublists of the specified chunk size. If the original list cannot be divided evenly into sublists of equal size, the remaining elements should be placed in the last sublist.\n",
    "\n",
    "Example:\n",
    "```python\n",
    "list_chunking([1, 2, 3, 4, 5, 6, 7, 8], 3)\n",
    ">>> [[1, 2, 3], [4, 5, 6], [7, 8]]\n",
    "\n",
    "list_chunking(['a', 'b', 'c', 'd', 'e'], 2)\n",
    ">>> [['a', 'b'], ['c', 'd'], ['e']]\n",
    "\n",
    "```\n",
    "\n",
    "hint: Remember that you can select sections of a list using the following syntax: `my_list[start:end]`\n",
    "\n",
    "hint: Remember that you can create sequences using `range(start, end, step)`\n",
    "\n",
    "hint: Try to manually select the different chunks of the list and see if you can find a pattern"
   ]
  },
  {
   "cell_type": "code",
   "execution_count": null,
   "metadata": {},
   "outputs": [],
   "source": [
    "\n"
   ]
  },
  {
   "attachments": {},
   "cell_type": "markdown",
   "metadata": {},
   "source": [
    "### Exercise 2: Python Dictionaries \n",
    "\n",
    "\n",
    "Write a Python function called `reverse_dictionary` that takes in a dictionary as an argument and returns a new dictionary where the keys and values are swapped. \n",
    "\n",
    "Expect the values and keys in the original dictionary to be unique if that's not the case the function should return None and print a warning message.\n",
    "\n",
    "Example:\n",
    "\n",
    "```python\n",
    "reverse_dictionary({'a': 1, 'b': 2, 'c': 3})\n",
    ">>> {1: 'a', 2: 'b', 3: 'c'}\n",
    "\n",
    "reverse_dictionary({'x': 'apple', 'y': 'banana', 'z': 'banana'})\n",
    ">>> Error: multiple keys for one value\n",
    "```\n",
    "\n",
    "&nbsp;\n",
    "\n",
    "hint: Remember that the dictionary items can be accessed with the `items()` method.\n",
    "\n",
    "hint : There is no need to continue the loop if you find a duplicate value.\n",
    "\n",
    "hint: We can check is a value is in a dictionary with the `in` keyword."
   ]
  },
  {
   "cell_type": "code",
   "execution_count": null,
   "metadata": {},
   "outputs": [],
   "source": []
  },
  {
   "attachments": {},
   "cell_type": "markdown",
   "metadata": {},
   "source": [
    "### Exercise 3: Python Dictionaries \n",
    "\n",
    "This exercise is an extension of the previous one. Write a Python function called `reverse_dictionary` that takes in a dictionary as an argument and returns a new dictionary where the keys and values are swapped.\n",
    "\n",
    "Now the values in the original dictionary should be unique, but the swapped keys may have duplicates. In such cases, the values in the resulting dictionary should be stored as a list. Be aware that a single value may not be a list.\n",
    "\n",
    "Example:\n",
    "\n",
    "```python\n",
    "reverse_dictionary({'a': 1, 'b': 2, 'c': 3})\n",
    ">>> {1: 'a', 2: 'b', 3: 'c'}\n",
    "\n",
    "reverse_dictionary({'x': 'apple', 'y': 'banana', 'z': 'banana'})\n",
    ">>> {'apple': 'x', 'banana': ['y', 'z']}\n",
    "```\n",
    "\n",
    "&nbsp;\n",
    "\n",
    "hint: Consider that the first time we encounter a value we should create a list with the previous key and the current key. The next time we encounter the same value we should append the current key to the list.\n",
    "\n",
    "hint: We can use isinstance() to check if a variable is a list or not\n",
    "\n",
    "hint: Remember that a dictionary can't have a list as a key and therefore we will never have a list as a single value in the reverse dictionary."
   ]
  },
  {
   "cell_type": "code",
   "execution_count": null,
   "metadata": {},
   "outputs": [],
   "source": []
  },
  {
   "attachments": {},
   "cell_type": "markdown",
   "metadata": {},
   "source": [
    "## Object Oriented Programming: \n",
    "\n"
   ]
  },
  {
   "attachments": {},
   "cell_type": "markdown",
   "metadata": {},
   "source": [
    "**Using an Enum class**\n",
    "\n",
    "\n",
    "Before creating the credentials class we will learn how to use an Enum class. Enum classes are used to create a set of constants. Enums are useful when you want to restrict the values a variable can take (e.g. days of the week, months of the year, etc.).\n",
    "\n",
    "Let's create an Enum class for the days of the week. We will call it `WeekDays` and it will have the following values: `MONDAY`, `TUESDAY`, `WEDNESDAY`, `THURSDAY`, `FRIDAY`, `SATURDAY`, `SUNDAY`.\n",
    "\n",
    "> **Note**: Enum classes are usually defined in a separate file. For the sake of simplicity we will define it in the same file as the rest of the code."
   ]
  },
  {
   "cell_type": "code",
   "execution_count": 9,
   "metadata": {},
   "outputs": [],
   "source": [
    "from enum import Enum\n",
    "\n",
    "class WeekDays(Enum):\n",
    "    MONDAY = 1\n",
    "    TUESDAY = 2\n",
    "    WEDNESDAY = 3\n",
    "    THURSDAY = 4\n",
    "    FRIDAY = 5\n",
    "    SATURDAY = 6\n",
    "    SUNDAY = 7"
   ]
  },
  {
   "attachments": {},
   "cell_type": "markdown",
   "metadata": {},
   "source": [
    "In your `WeekDays` Enum, you've defined seven members, one for each day of the week, with values 1 through 7.\n",
    "\n",
    "Here's how you can use this Enum:\n"
   ]
  },
  {
   "cell_type": "code",
   "execution_count": 10,
   "metadata": {},
   "outputs": [
    {
     "name": "stdout",
     "output_type": "stream",
     "text": [
      "WeekDays.MONDAY\n",
      "MONDAY\n",
      "1\n"
     ]
    }
   ],
   "source": [
    "# usage\n",
    "print(WeekDays.MONDAY) # Output: WeekDays.MONDAY\n",
    "print(WeekDays.MONDAY.name) # Output: MONDAY\n",
    "print(WeekDays.MONDAY.value) # Output: 1"
   ]
  },
  {
   "attachments": {},
   "cell_type": "markdown",
   "metadata": {},
   "source": [
    "In this example, `WeekDays.MONDAY`, `WeekDays.TUESDAY`, and so on, are enumeration members. You don't need to create these instances yourself. They're created automatically when the enum is defined.\n",
    "\n",
    "\n",
    "You can use enumeration members in comparisons, print them, and so on. For example:"
   ]
  },
  {
   "cell_type": "code",
   "execution_count": 12,
   "metadata": {},
   "outputs": [
    {
     "name": "stdout",
     "output_type": "stream",
     "text": [
      "Today is Monday.\n"
     ]
    }
   ],
   "source": [
    "today = WeekDays.MONDAY\n",
    "\n",
    "if today == WeekDays.MONDAY:\n",
    "    print(\"Today is Monday.\")"
   ]
  },
  {
   "attachments": {},
   "cell_type": "markdown",
   "metadata": {},
   "source": [
    "You can also iterate over the enum:"
   ]
  },
  {
   "cell_type": "code",
   "execution_count": 11,
   "metadata": {},
   "outputs": [
    {
     "name": "stdout",
     "output_type": "stream",
     "text": [
      "WeekDays.MONDAY\n",
      "WeekDays.TUESDAY\n",
      "WeekDays.WEDNESDAY\n",
      "WeekDays.THURSDAY\n",
      "WeekDays.FRIDAY\n",
      "WeekDays.SATURDAY\n",
      "WeekDays.SUNDAY\n"
     ]
    }
   ],
   "source": [
    "for day in WeekDays:\n",
    "    print(day)"
   ]
  },
  {
   "attachments": {},
   "cell_type": "markdown",
   "metadata": {},
   "source": [
    "Enums are used when a variable can take one out of a small set of possible values. Enums add readability to your code by assigning names to these values, which makes your code easier to read and maintain."
   ]
  },
  {
   "attachments": {},
   "cell_type": "markdown",
   "metadata": {},
   "source": [
    "### Exercise 4:\n",
    "\n",
    "Implement a simple program to simulate a traffic light. The traffic light can be in one of three states: Red, Yellow, or Green. Use an Enum to represent these states.\n",
    "\n",
    "Steps:\n",
    "\n",
    "1. Define an Enum called `TrafficLight` with three members: RED, YELLOW, and GREEN.\n",
    "\n",
    "2. Write a function called `change_light` that takes a `TrafficLight` member as an argument. This function should print a message indicating what drivers should do when they see this color light. For example, if the function is called with:\n",
    "   1.  If it's called with `TrafficLight.RED`, it should print \"STOP\". \n",
    "   2.  If it's called with `TrafficLight.YELLOW`, it should print \"CAUTION\". \n",
    "   3.  If it's called with `TrafficLight.GREEN`, it should print \"GO\".\n",
    "\n",
    "3. In your main program, create a loop that cycles through the different traffic light states, calling your `change_light` function for each state.\n",
    "\n",
    "This exercise should give you some practice working with enums, including defining an enum, using enum members, and passing enum members as function arguments. It should also reinforce the idea that enums are a good choice when you need a variable that can only take one of a small set of specific values.\n",
    "\n",
    "Try to complete the `change_light` function and the main program loop."
   ]
  },
  {
   "cell_type": "code",
   "execution_count": 13,
   "metadata": {},
   "outputs": [],
   "source": [
    "from enum import Enum\n",
    "\n",
    "class TrafficLight(Enum):\n",
    "    RED = 1\n",
    "    # your implementation here\n",
    "\n",
    "def change_light(state):\n",
    "    # your implementation here\n",
    "    pass\n",
    "\n",
    "# main program\n",
    "for light in TrafficLight:\n",
    "    change_light(light)"
   ]
  },
  {
   "attachments": {},
   "cell_type": "markdown",
   "metadata": {},
   "source": [
    "### **Exercise 5:**\n",
    "\n",
    "Consider a data preprocessing pipeline that involves multiple steps. You have to define an Enum class that represents these steps, and create a function that takes an Enum member and returns a string describing what the step does. The steps in the pipeline are:\n",
    "\n",
    "1. Loading: Load the dataset from a CSV file.\n",
    "2. Cleaning: Handle missing data and outliers.\n",
    "3. Transformation: Apply transformations like normalization or standardization.\n",
    "4. Feature_Selection: Choose which features to use in the model.\n",
    "5. Model_Training: Train the machine learning model.\n",
    "6. Evaluation: Evaluate the performance of the model.\n",
    "\n",
    "Use these steps as Enum members, and create a function named `describe_step` that takes one of these steps and returns a string description of it. For instance, if the function is called with the `Loading` step, it should return \"Load the dataset from a CSV file.\"\n",
    "\n",
    "Use this as a starting point for your solution:\n",
    "\n",
    "```python\n",
    "class PreprocessingSteps(Enum):\n",
    "    Loading = 1\n",
    "\n",
    "def describe_step(step):\n",
    "    if step == PreprocessingSteps.Loading:\n",
    "        return \"Load the dataset from a CSV file.\"\n",
    "    ...\n",
    "    else:\n",
    "        return \"Invalid step\"\n",
    "```\n",
    "To demonstrate your solution, loop through all the members of the Enum and call `describe_step` on each one.\n",
    "\n",
    "```python\n",
    "# main program\n",
    "for step in PreprocessingSteps:\n",
    "    print(f\"{step.name}: {describe_step(step)}\")\n",
    "```\n"
   ]
  },
  {
   "cell_type": "code",
   "execution_count": null,
   "metadata": {},
   "outputs": [],
   "source": []
  },
  {
   "attachments": {},
   "cell_type": "markdown",
   "metadata": {},
   "source": [
    "### Exercise 6: CSVLoader\n",
    "\n",
    "In this exercise, we will create a simple and functional CSVLoader class that loads data from a CSV file and returns it as a list of dictionaries.\n",
    "\n",
    "1. Create a `CSVLoader` class that doesn't take any input when initialized.\n",
    "2. Add a method `load_data()` that takes a filepath as input and then reads the CSV file from the filepath and returns the data as a **list of dictionaries**.\n",
    "3. Although the `CSVLoader` class doesn't take any input when initialized, create an internal variable to store the different filepaths that the `load_data()` method has been called with. This variable should be a **list of strings**.\n",
    "4. Create an attribute called `extensions` that stores the string `\"csv\"` in a list.\n",
    "5. Also provide a method `get_loaded_filepaths()` that returns the list of filepaths that the `load_data()` method has been called with and prints the number of files that have been loaded.\n",
    "6. Create a method `get_supported_extensions()` that returns the extensions attribute.\n",
    "7. Use the Python `csv` module to parse the CSV file.\n",
    "8. If the CSV file is empty, the `load_data()` method should return an empty list.\n",
    "9. If the CSV file does not exist, the `load_data()` method should print an error message and return an empty list.\n",
    "\n",
    "**Optional 1:**\n",
    "1. Add a `use_headers` optional argument to the `load_data()` method that takes a boolean value. If `use_headers` is `True`, the first row of the CSV file should be treated as column headers. If `use_headers` is `False`, the first row of the CSV file should be treated as data values.\n",
    "   - If `use_headers` is `True`, the first row will be used as keys for the dictionaries in the list. Each subsequent row of the CSV file should contain data values, which will be used as values for the dictionaries in the list.\n",
    "   - If `use_headers` is `False`, the keys for the dictionaries will be the integers 0, 1, 2, and so on.\n",
    "\n",
    "**Optional 2**: \n",
    "1. Implement a similar loader for JSON files. You can use the `json` module to parse the JSON file. The `json.load()` function takes a file object as input and returns a Python dictionary. You can use the `open()` function to open the JSON file and pass the file object to `json.load()`. Name this class `JSONLoader`.\n",
    "\n",
    "Example usage:\n",
    "\n",
    "```python\n",
    "loader = CSVLoader()\n",
    "data = loader.load_data('data.csv', use_headers=True)\n",
    "print(data)\n",
    "```\n",
    "\n",
    "Example output:\n",
    "\n",
    "```\n",
    "[   \n",
    "    {'name': 'Alice', 'age': '30','weight': '65', 'height': '170'},    \n",
    "    {'name': 'Bob', 'age': '25', 'weight': '70', 'height': '175'},    \n",
    "    {'name': 'Charlie', 'age': '35', 'weight': '80', 'height': '180'},    \n",
    "    {'name': 'David', 'age': '40', 'weight': '75', 'height': '178'},\n",
    "]\n",
    "\n",
    "```\n",
    "hint: First try to open the file with `open` and then use the `csv` module to parse the file. \n",
    "\n",
    "hint: You can try to open the csv file on `files/data.csv` to test your code. Remember that the path may vary depending on your operating system.\n",
    "\n",
    "hint: In order to check if a file exists in Python, you can use the `os.path.exists()` function from the `os` module. This function takes a filepath as input and returns `True` if the file exists, and `False` otherwise.\n"
   ]
  },
  {
   "cell_type": "code",
   "execution_count": null,
   "metadata": {},
   "outputs": [],
   "source": [
    "class CSVLoader:\n",
    "    def __init__(self):\n",
    "        # your implementation here\n",
    "        pass\n",
    "    \n",
    "    def get_supported_extensions(self):\n",
    "        # your implementation here\n",
    "        pass\n",
    "\n",
    "    def get_loaded_filepaths(self):\n",
    "        # your implementation here\n",
    "        pass\n",
    "\n",
    "    def load_data(self,filepath, use_headers=True):\n",
    "        # your implementation here\n",
    "        pass"
   ]
  },
  {
   "attachments": {},
   "cell_type": "markdown",
   "metadata": {},
   "source": [
    "### Exercise 7: Custom Exceptions\n",
    "\n",
    "Before diving into Exercise 7, let's briefly discuss exceptions and their importance in error handling.\n",
    "\n",
    "Exceptions are a way to handle errors and exceptional situations that may occur during the execution of a program. When an error or exception occurs, it disrupts the normal flow of the program and can be caught and handled using try-except blocks.\n",
    "\n",
    "Exceptions consist of a type and a message. The type represents the specific type of exception, and the message provides additional information about the error. Python provides many built-in exception types, such as `ValueError`, `TypeError`, and `FileNotFoundError`. However, it's also possible to create custom exception types to handle specific errors in your code.\n",
    "\n",
    "Custom exceptions are useful when you want to raise an exception that is specific to your code and provides meaningful information about the error. By creating custom exceptions, you can make your code more maintainable and readable, as well as improve error handling and debugging.\n",
    "\n",
    "In the example bellow, we define a custom exception called `InvalidInputError` that is raised when the second argument of the `divide_numbers()` function is zero. We catch the exception using a try-except block and handle it by printing a custom error message.\n",
    "\n"
   ]
  },
  {
   "cell_type": "code",
   "execution_count": 2,
   "metadata": {},
   "outputs": [
    {
     "name": "stdout",
     "output_type": "stream",
     "text": [
      "Invalid input: Cannot divide by zero\n"
     ]
    }
   ],
   "source": [
    "# This is a custom exception that inherits from the built-in Exception class\n",
    "# There is no need to define any methods in this class\n",
    "class InvalidInputError(Exception):\n",
    "    pass\n",
    "\n",
    "# This function raises the custom exception when the second argument is zero\n",
    "def divide_numbers(a, b):\n",
    "    if b == 0:\n",
    "        raise InvalidInputError(\"Cannot divide by zero\")\n",
    "    return a / b"
   ]
  },
  {
   "cell_type": "code",
   "execution_count": 3,
   "metadata": {},
   "outputs": [
    {
     "ename": "InvalidInputError",
     "evalue": "Cannot divide by zero",
     "output_type": "error",
     "traceback": [
      "\u001b[0;31m---------------------------------------------------------------------------\u001b[0m",
      "\u001b[0;31mInvalidInputError\u001b[0m                         Traceback (most recent call last)",
      "Cell \u001b[0;32mIn[3], line 1\u001b[0m\n\u001b[0;32m----> 1\u001b[0m divide_numbers(\u001b[39m10\u001b[39;49m, \u001b[39m0\u001b[39;49m)\n",
      "Cell \u001b[0;32mIn[2], line 9\u001b[0m, in \u001b[0;36mdivide_numbers\u001b[0;34m(a, b)\u001b[0m\n\u001b[1;32m      7\u001b[0m \u001b[39mdef\u001b[39;00m \u001b[39mdivide_numbers\u001b[39m(a, b):\n\u001b[1;32m      8\u001b[0m     \u001b[39mif\u001b[39;00m b \u001b[39m==\u001b[39m \u001b[39m0\u001b[39m:\n\u001b[0;32m----> 9\u001b[0m         \u001b[39mraise\u001b[39;00m InvalidInputError(\u001b[39m\"\u001b[39m\u001b[39mCannot divide by zero\u001b[39m\u001b[39m\"\u001b[39m)\n\u001b[1;32m     10\u001b[0m     \u001b[39mreturn\u001b[39;00m a \u001b[39m/\u001b[39m b\n",
      "\u001b[0;31mInvalidInputError\u001b[0m: Cannot divide by zero"
     ]
    }
   ],
   "source": [
    "divide_numbers(10, 0)"
   ]
  },
  {
   "cell_type": "code",
   "execution_count": null,
   "metadata": {},
   "outputs": [],
   "source": [
    "# Finally, we can catch the custom exception using a try-except block\n",
    "try:\n",
    "    result = divide_numbers(10, 0)\n",
    "    print(result)\n",
    "except InvalidInputError as e:\n",
    "    print(\"Invalid input:\", str(e))"
   ]
  },
  {
   "attachments": {},
   "cell_type": "markdown",
   "metadata": {},
   "source": [
    "\n",
    "In this exercise, we will use built-in and custom exception classes for error handling in the upcoming exercises.\n",
    "\n",
    "1. In the previous exercise we had to print the error if the file did not exist, now instead of printing a message `raise` the python's built-in exeption of type `FileNotFoundError` and, of course, don't return any list.\n",
    "\n",
    "2. Also prepare a `UnsupportedFileTypeError` class that inherits from the built-in `Exception` exception. This custom exception will be used in the upcoming exercises when creating a generic data loader when the file extension is not supported.\n",
    "\n",
    "3. Prepare a `ExtensionAlreadyRegisteredError` class that inherits from the built-in `Exception` exception. This time the exception will be used when registering a new file extension that is already registered.\n",
    "\n",
    "By creating custom exception classes, we can handle specific errors related to file handling and data loading in a more structured and informative way. \n",
    "\n"
   ]
  },
  {
   "cell_type": "code",
   "execution_count": null,
   "metadata": {},
   "outputs": [],
   "source": [
    "# Your code here"
   ]
  },
  {
   "attachments": {},
   "cell_type": "markdown",
   "metadata": {},
   "source": [
    "### Exercise 8: File Loader Map\n",
    "\n",
    "A map, also known as a dictionary or associative array, is a data structure that stores a collection of `key-value` pairs. It allows efficient lookup, insertion, and deletion of elements based on their keys. In Python, the built-in `dict` class represents a map.\n",
    "\n",
    "Maps are useful when we have a set of unique keys and want to associate each key with a corresponding value. They provide a way to organize and access data in a structured manner, allowing us to quickly retrieve values based on their keys.\n",
    "\n",
    "In the context of the exercise, we will use a map, specifically a dictionary, to create a mapping between `file extensions` and `file loaders`. This mapping allows us to dynamically select the appropriate file loader based on the file extension.\n",
    "\n",
    "By using a map, we can decouple the file loading logic from the code that selects the appropriate loader. This provides flexibility and extensibility, as we can easily add or modify file loaders without modifying the code that uses them.\n",
    "\n",
    "In the `FileLoaderMap` class, the `loader_map` dictionary serves as the map, where the keys are the file extensions and the values are the corresponding file loader classes. The `register_loader` method allows us to add entries to the map, associating file extensions with loader classes. The `get_loader` method retrieves the loader class based on a given file extension.\n",
    "\n",
    "By utilizing a map, we can create a flexible and configurable system for handling different file types and loaders."
   ]
  },
  {
   "attachments": {},
   "cell_type": "markdown",
   "metadata": {},
   "source": [
    "In this exercise we will create a `FileLoaderMap` class that will serve as the map for file loaders. The map will store the mapping between file extensions and file loaders. The map will be used in the next exercise to dynamically select the appropriate file loader based on the file extension.\n",
    "\n",
    "1. Create a `FileLoaderMap` class that will serve as the map for file loaders.\n",
    "\n",
    "2. Inside the `FileLoaderMap` class, define a dictionary called `loader_map` to store the mapping between file extensions and file loaders.\n",
    "   ```python\n",
    "    class FileLoaderMap:\n",
    "         def __init__(self):\n",
    "              self.loader_map = {}\n",
    "    ```\n",
    "\n",
    "3. Add a method called `register_loader` that takes three parameters: `extension` (a string representing the file extension), `loader` (a class representing the file loader), and `force` (a boolean value indicating whether to overwrite an existing entry in the map). The method should add an entry to the `loader_map` dictionary, where the key is the file extension and the value is the file loader class. If an entry with the same key already exists in the map, the method should raise an `ExtensionAlreadyRegisteredError` exception if `force` is `False`, or print a warning message if `force` is `True`.\n",
    "   ```python\n",
    "    def register_loader(self, ...):\n",
    "        # Raise error or a warning if extension is already registered\n",
    "        # depending on the value of the force argument\n",
    "        if ...:\n",
    "            if ...:\n",
    "                raise \n",
    "            else:\n",
    "                print(...)\n",
    "        # proceed with adding the entry to the map\n",
    "    ```\n",
    "\n",
    "4. Add a method called `get_loader` that takes a `file_extension` parameter and returns the file loader class associated with that extension from the `loader_map` dictionary. If the file extension is not found in the map, the method should raise an `UnsupportedFileTypeError` exception.\n",
    "   ```python\n",
    "    def get_loader(self, file_extension):\n",
    "        if ...:\n",
    "            raise ...\n",
    "        return ...\n",
    "    ```\n",
    "\n",
    "5. Initialize an instance of the `FileLoaderMap` class and register two file loaders: `CSVLoader` for the '.csv' extension and `TXTLoader` for the '.txt' extension (use mock class names for now).\n",
    "\n",
    "Example usage:\n",
    "\n",
    "```python\n",
    "\n",
    "# Mock classes for demonstration purposes\n",
    "# You can use your CSVLoader or any other class from Exercise 3 or just use the mock classes bellow\n",
    "\n",
    "class CSVLoader:\n",
    "    pass\n",
    "\n",
    "class TXTLoader:\n",
    "    pass\n",
    "    \n",
    "\n",
    "map = FileLoaderMap()\n",
    "map.register_loader('.csv', CSVLoader)\n",
    "map.register_loader('.txt', TXTLoader)\n",
    "\n",
    "loader_class = map.get_loader('.csv')\n",
    "print(loader_class)  # Output: <class '__main__.CSVLoader'>\n",
    "\n",
    "loader_class = map.get_loader('.xlsx')\n",
    "print(loader_class)  # Output: None\n",
    "```\n",
    " \n"
   ]
  },
  {
   "cell_type": "code",
   "execution_count": null,
   "metadata": {},
   "outputs": [],
   "source": [
    "class FileLoaderMap():\n",
    "    def __init__(self):\n",
    "        self.loader_map = {}\n",
    "\n",
    "    def register_loader(self):\n",
    "        # your implementation here\n",
    "        pass\n",
    "\n",
    "    def get_loader(self):\n",
    "        # your implementation here\n",
    "        pass"
   ]
  },
  {
   "attachments": {},
   "cell_type": "markdown",
   "metadata": {},
   "source": [
    "### Exercise 9: File Loader Manager\n",
    "\n",
    "As a data scientist, you often encounter data stored in different file formats such as CSV, JSON, or Excel. Each format requires specific handling and loading mechanisms, which can be cumbersome and time-consuming. To address this challenge, we introduce a new class called `FileLoaderManager`, which provides a simplified and flexible approach to loading data from multiple file formats.\n",
    "\n",
    "The objective of this exercise is to introduce you to the concept of a flexible data loader that simplifies the process of loading data from various file formats. The exercise aims to highlight the benefits of encapsulation, code reusability, and flexibility in data loading tasks.\n",
    "\n",
    "In this exercise, you will build the `FileLoaderManager` class that encapsulates the functionality of loading data from different file formats. Follow the step-by-step guide below to complete the exercise:\n",
    "\n",
    "![img](schema.png)\n",
    "\n",
    "1. Create the `FileLoaderManager` class.\n",
    "2. Inside the class, define an `__init__` method that initializes the `FileLoaderManager` instance. This method should initialize an internal variable called `data_file_loader` to store the mapping between file extensions and file loaders that you created before. You can choose to use the `FileLoaderMap` class from the previous exercise or just use a dictionary (but you will have to handle more casuistics inside the class).\n",
    "   ```python\n",
    "   class FileLoaderManager:\n",
    "       def __init__(self):\n",
    "            self.data_file_loader = ...\n",
    "            ...\n",
    "    ```\n",
    "3. Implement a method called `register_loader` that takes two mandatory parameters: `extension` and `loader` and one optional `force`. `force` should be set as `False` by default. This method should register a loader for a specific file extension. \n",
    "   ```python\n",
    "   class FileLoaderManager:\n",
    "       def register_loader(self, ... ):\n",
    "            # Register the loader using the data_file_loader variable\n",
    "            ...\n",
    "    ```\n",
    "4. Implement a method called `register_all_loaders`. This method should register all available loaders for the supported file extensions available in the `AVAILABLE_LOADERS` list. (Hint: You can use the `register_loader` method for each loader and extension). **This method should be called inside the `__init__` method so that all loaders are registered when the `FileLoaderManager` instance is initialized.**\n",
    "   ```python\n",
    "   class FileLoaderManager:\n",
    "       def register_all_loaders(self, ... ):\n",
    "            # Register the loader using the register_loader method\n",
    "            for loader in ... :\n",
    "                ...\n",
    "                # Use the register_loader method with the force parameter set to True\n",
    "                for extension in ... :\n",
    "                    self.register_loader(..., force = True)\n",
    "            \n",
    "    ```\n",
    "5. Implement a method called `load_data` that takes a `file_path` parameter. This method should handle the loading of data based on the file extension. The `load_data` method should return the loaded data by calling the `.load_data()` method from the proper FileLoader.\n",
    "    ```python\n",
    "    class FileLoaderManager:\n",
    "        def load_data(self, ... ):\n",
    "            # Get the file extension from the file_path\n",
    "            file_extension = ...\n",
    "            # Get the loader from the data_file_loader variable\n",
    "            loader = ...    \n",
    "            # Load the data using the loader\n",
    "            data = loader.load_data(...)\n",
    "            return data\n",
    "    ```\n",
    "6. Also implement a method called `get_supported_extensions` that returns a list of the supported file extensions.\n",
    "7. Test your implementation by creating an instance of `FlexibleDataLoader`, registering loaders for different file extensions, and loading sample data from different file formats.\n",
    "\n",
    "Your task is to complete the class skeleton by implementing the methods mentioned in the steps above. Test your implementation with different file formats to ensure the `FlexibleDataLoader` class works as expected.\n",
    "\n",
    "Example usage:\n",
    "\n",
    "```python\n",
    "...\n",
    "\n",
    "AVAILABLE_LOADERS = [CSVLoader, JSONLoader]\n",
    "\n",
    "...\n",
    "\n",
    "# Using the Mock classes given\n",
    "file_loader = FileLoaderManager()\n",
    "file_loader.register_loader(\".txt\", TXTLoader())\n",
    "file_loader.get_supported_extensions()\n",
    ">>> ['.txt', '.csv', '.json']\n",
    "\n",
    "file_loader.load_data(\"./files/data.csv\")\n",
    ">>> Loading data from ./files/data.csv using CSVLoader\n"
   ]
  },
  {
   "cell_type": "code",
   "execution_count": null,
   "metadata": {},
   "outputs": [],
   "source": [
    "# You can use your CSVLoader implementation (and any other class)\n",
    "# or just use the mock classes bellow\n",
    "class FileLoader:\n",
    "    def __init__(self):\n",
    "        self.file_paths = []\n",
    "        self.extensions = []\n",
    "\n",
    "    def load_data(self, filepath):\n",
    "        print(f\"Loading data from {filepath} using {self.__class__.__name__}\") \n",
    "        self.file_paths.append(filepath)\n",
    "\n",
    "    def get_supported_extensions(self):\n",
    "        return self.extensions\n",
    "    \n",
    "    def get_loaded_filepaths(self):\n",
    "        return self.file_paths\n",
    "        \n",
    "class CSVLoader(FileLoader):\n",
    "    def __init__(self):\n",
    "        super().__init__()\n",
    "        self.extensions = ['.csv']\n",
    "\n",
    "class TXTLoader(FileLoader):\n",
    "    def __init__(self):\n",
    "        super().__init__()\n",
    "        self.extensions = ['.txt']\n",
    "    \n",
    "class JSONLoader(FileLoader):\n",
    "    def __init__(self):\n",
    "        super().__init__()\n",
    "        self.extensions = ['.json']\n",
    "\n",
    "AVAILABLE_LOADERS = [CSVLoader, TXTLoader, JSONLoader]\n",
    "\n",
    "class FileLoaderManager:\n",
    "    def __init__(self):\n",
    "        # Initialize the FlexibleDataLoader instance\n",
    "        pass\n",
    "\n",
    "    def register_loader(self):\n",
    "        # Register a loader for a specific file extension\n",
    "        pass\n",
    "\n",
    "    def register_all_loaders(self):\n",
    "        # Register all available loaders for the supported file extensions\n",
    "        pass\n",
    "\n",
    "    def load_data(self):\n",
    "        # Handle the loading of data based on the file extension\n",
    "        pass\n",
    "\n",
    "    def get_supported_extensions(self):\n",
    "        # Return a list of the supported file extensions\n",
    "        pass"
   ]
  },
  {
   "cell_type": "code",
   "execution_count": null,
   "metadata": {},
   "outputs": [],
   "source": []
  }
 ],
 "metadata": {
  "kernelspec": {
   "display_name": "con-01",
   "language": "python",
   "name": "python3"
  },
  "language_info": {
   "codemirror_mode": {
    "name": "ipython",
    "version": 3
   },
   "file_extension": ".py",
   "mimetype": "text/x-python",
   "name": "python",
   "nbconvert_exporter": "python",
   "pygments_lexer": "ipython3",
   "version": "3.11.3"
  },
  "orig_nbformat": 4
 },
 "nbformat": 4,
 "nbformat_minor": 2
}
