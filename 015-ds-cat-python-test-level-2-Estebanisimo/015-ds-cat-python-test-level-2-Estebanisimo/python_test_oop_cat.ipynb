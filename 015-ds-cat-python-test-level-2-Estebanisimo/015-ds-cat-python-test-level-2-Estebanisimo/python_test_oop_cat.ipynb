{
 "cells": [
  {
   "attachments": {},
   "cell_type": "markdown",
   "metadata": {},
   "source": [
    "# Python Test: Module 2"
   ]
  },
  {
   "attachments": {},
   "cell_type": "markdown",
   "metadata": {},
   "source": [
    "## Python exercises"
   ]
  },
  {
   "attachments": {},
   "cell_type": "markdown",
   "metadata": {},
   "source": [
    "### Exercici 1\n",
    "\n",
    "Escriu una funció de Python anomenada `list_chunking` que prengui com a arguments una `elements_list` i una `chunk_size` i retorni una nova llista que contingui subllistes del tamany especificat. Si la llista original no es pot dividir de manera equitativa en subllistes de tamany igual, els elements restants s'hauran de col·locar a l'última subllista.\n",
    "\n",
    "Exemple:\n",
    "```python\n",
    "list_chunking([1, 2, 3, 4, 5, 6, 7, 8], 3)\n",
    ">>> [[1, 2, 3], [4, 5, 6], [7, 8]]\n",
    "\n",
    "list_chunking(['a', 'b', 'c', 'd', 'e'], 2)\n",
    ">>> [['a', 'b'], ['c', 'd'], ['e']]\n",
    "\n",
    "```\n",
    "\n",
    "pista: Recordeu que podeu seleccionar seccions d'una llista utilitzant la sintaxi següent: `my_list[start:end]`\n",
    "\n",
    "pista: Recordeu que podeu crear seqüències utilitzant `range(start, end, step)`\n",
    "\n",
    "pista: Proveu de seleccionar manualment els diferents trossos de la llista i veure si podeu trobar un patró\n",
    "\n"
   ]
  },
  {
   "cell_type": "code",
   "execution_count": null,
   "metadata": {},
   "outputs": [],
   "source": [
    "\n"
   ]
  },
  {
   "attachments": {},
   "cell_type": "markdown",
   "metadata": {},
   "source": [
    "### Exercici 2: Diccionaris de Python\n",
    "\n",
    "Escriu una funció de Python anomenada `reverse_dictionary` que prengui com a argument un diccionari i retorni un nou diccionari on les claus i els valors s'intercanviïn.\n",
    "\n",
    "Espera que els valors i les claus del diccionari original siguin únics, si no és el cas, la funció hauria de retornar None i imprimir un missatge d'avís.\n",
    "\n",
    "Exemple:\n",
    "\n",
    "```python\n",
    "\n",
    "reverse_dictionary({'a': 1, 'b': 2, 'c': 3})\n",
    ">>> {1: 'a', 2: 'b', 3: 'c'}\n",
    "\n",
    "reverse_dictionary({'x': 'apple', 'y': 'banana', 'z': 'banana'})\n",
    ">>> Error: multiple keys for one value\n",
    "```\n",
    "\n",
    "&nbsp;\n",
    "\n",
    "pista: Recordeu que els elements del diccionari es poden accedir amb el mètode `items()`.\n",
    "\n",
    "pista: No cal continuar el bucle si trobes un valor duplicat.\n",
    "\n",
    "pista: Podem comprovar si un valor està en un diccionari amb la paraula clau `in`.\n"
   ]
  },
  {
   "cell_type": "code",
   "execution_count": null,
   "metadata": {},
   "outputs": [],
   "source": []
  },
  {
   "attachments": {},
   "cell_type": "markdown",
   "metadata": {},
   "source": [
    "### Exercici 3: Diccionaris de Python\n",
    "\n",
    "Aquest exercici és una extensió del anterior. Escriu una funció de Python anomenada `reverse_dictionary` que prengui com a argument un diccionari i retorni un nou diccionari on les claus i els valors s'intercanviïn.\n",
    "\n",
    "Ara els valors del diccionari original haurien de ser únics, però les claus intercanviades poden tenir duplicats. En aquests casos, els valors del diccionari resultant s'haurien de guardar com a llista. Tingueu en compte que un sol valor no pot ser una llista.\n",
    "\n",
    "Exemple:\n",
    "\n",
    "```python\n",
    "\n",
    "reverse_dictionary({'a': 1, 'b': 2, 'c': 3})\n",
    ">>> {1: 'a', 2: 'b', 3: 'c'}\n",
    "\n",
    "reverse_dictionary({'x': 'apple', 'y': 'banana', 'z': 'banana'})\n",
    ">>> {'apple': 'x', 'banana': ['y', 'z']}\n",
    "```\n",
    "\n",
    "&nbsp;\n",
    "\n",
    "pista: Considera que la primera vegada que trobem un valor hauríem de crear una llista amb la clau anterior i la clau actual. La propera vegada que trobem el mateix valor, hauríem d'afegir la clau actual a la llista.\n",
    "\n",
    "pista: Podem utilitzar isinstance() per comprovar si una variable és una llista o no\n",
    "\n",
    "pista: Recordeu que un diccionari no pot tenir una llista com a clau i, per tant, mai tindrem una llista com a únic valor al diccionari invers.\n",
    "\n"
   ]
  },
  {
   "cell_type": "code",
   "execution_count": null,
   "metadata": {},
   "outputs": [],
   "source": []
  },
  {
   "attachments": {},
   "cell_type": "markdown",
   "metadata": {},
   "source": [
    "## Object Oriented Programming: \n",
    "\n"
   ]
  },
  {
   "attachments": {},
   "cell_type": "markdown",
   "metadata": {},
   "source": [
    "Les classes Enum s'utilitzen per crear un conjunt de constants. Les enums són útils quan voleu restringir els valors que pot prendre una variable (per exemple, dies de la setmana, mesos de l'any, etc.).\n",
    "\n",
    "Creem una classe Enum per als dies de la setmana. La anomenarem `WeekDays` i tindrà els següents valors: `MONDAY`, `TUESDAY`, `WEDNESDAY`, `THURSDAY`, `FRIDAY`, `SATURDAY`, `SUNDAY`.\n",
    "\n",
    "> **Nota**: Les classes Enum normalment es defineixen en un fitxer separat. Per simplicitat, la definirem en el mateix fitxer que la resta del codi.\n"
   ]
  },
  {
   "cell_type": "code",
   "execution_count": 9,
   "metadata": {},
   "outputs": [],
   "source": [
    "from enum import Enum\n",
    "\n",
    "class WeekDays(Enum):\n",
    "    MONDAY = 1\n",
    "    TUESDAY = 2\n",
    "    WEDNESDAY = 3\n",
    "    THURSDAY = 4\n",
    "    FRIDAY = 5\n",
    "    SATURDAY = 6\n",
    "    SUNDAY = 7"
   ]
  },
  {
   "attachments": {},
   "cell_type": "markdown",
   "metadata": {},
   "source": [
    "En la vostra Enum `WeekDays`, heu definit set membres, un per a cada dia de la setmana, amb valors de 1 a 7.\n",
    "\n",
    "Així és com podeu utilitzar aquest Enum:"
   ]
  },
  {
   "cell_type": "code",
   "execution_count": 10,
   "metadata": {},
   "outputs": [
    {
     "name": "stdout",
     "output_type": "stream",
     "text": [
      "WeekDays.MONDAY\n",
      "MONDAY\n",
      "1\n"
     ]
    }
   ],
   "source": [
    "# usage\n",
    "print(WeekDays.MONDAY) # Output: WeekDays.MONDAY\n",
    "print(WeekDays.MONDAY.name) # Output: MONDAY\n",
    "print(WeekDays.MONDAY.value) # Output: 1"
   ]
  },
  {
   "attachments": {},
   "cell_type": "markdown",
   "metadata": {},
   "source": [
    "En aquest exemple, `WeekDays.MONDAY`, `WeekDays.TUESDAY`, i així successivament, són membres de l'enumeració. No cal que creeu aquestes instàncies vosaltres mateixos. Es creen automàticament quan es defineix l'enum.\n",
    "\n",
    "\n",
    "Podeu utilitzar els membres de l'enumeració en comparacions, imprimir-los, etc. Per exemple:\n"
   ]
  },
  {
   "cell_type": "code",
   "execution_count": 12,
   "metadata": {},
   "outputs": [
    {
     "name": "stdout",
     "output_type": "stream",
     "text": [
      "Today is Monday.\n"
     ]
    }
   ],
   "source": [
    "today = WeekDays.MONDAY\n",
    "\n",
    "if today == WeekDays.MONDAY:\n",
    "    print(\"Today is Monday.\")"
   ]
  },
  {
   "attachments": {},
   "cell_type": "markdown",
   "metadata": {},
   "source": [
    "També podeu iterar sobre l'enum:"
   ]
  },
  {
   "cell_type": "code",
   "execution_count": 11,
   "metadata": {},
   "outputs": [
    {
     "name": "stdout",
     "output_type": "stream",
     "text": [
      "WeekDays.MONDAY\n",
      "WeekDays.TUESDAY\n",
      "WeekDays.WEDNESDAY\n",
      "WeekDays.THURSDAY\n",
      "WeekDays.FRIDAY\n",
      "WeekDays.SATURDAY\n",
      "WeekDays.SUNDAY\n"
     ]
    }
   ],
   "source": [
    "for day in WeekDays:\n",
    "    print(day)"
   ]
  },
  {
   "attachments": {},
   "cell_type": "markdown",
   "metadata": {},
   "source": [
    "Les classes Enum s'utilitzen per crear un conjunt de constants. Les enums són útils quan voleu restringir els valors que pot prendre una variable (per exemple, dies de la setmana, mesos de l'any, etc.)."
   ]
  },
  {
   "attachments": {},
   "cell_type": "markdown",
   "metadata": {},
   "source": [
    "### Exercici 4:\n",
    "\n",
    "Implementeu un programa senzill per simular un semàfor. El semàfor pot estar en un dels tres estats: vermell, groc o verd. Utilitzeu un Enum per representar aquests estats.\n",
    "\n",
    "Passos:\n",
    "\n",
    "1. Definiu un Enum anomenat `TrafficLight` amb tres membres: `RED`, `YELLOW` i `GREEN`.\n",
    "2. Escriviu una funció anomenada `change_light` que prengui un membre `TrafficLight` com a argument. Aquesta funció hauria d'imprimir un missatge que indiqui què han de fer els conductors quan veuen aquest color de llum. Per exemple, si a la funció s'introdueix:\n",
    "   1. Amb `TrafficLight.RED`, hauria d'imprimir \"STOP\".\n",
    "   2. Amb `TrafficLight.YELLOW`, hauria d'imprimir \"CAUTION\".\n",
    "   3. Amb `TrafficLight.GREEN`, hauria d'imprimir \"GO\".\n",
    "3. Al vostre programa principal, creeu un bucle que recorri els diferents estats del semàfor, utilitzant a la vostra funció `change_light` per a cada estat.\n",
    "\n",
    "Aquest exercici us hauria de donar una mica de pràctica treballant amb enums, incloent-hi la definició d'un enum, utilitzant membres d'enum i passant membres d'enum com a arguments de funció. També hauria de reforçar la idea que els enums són una bona opció quan necessiteu una variable que només pot prendre un dels valors d'un petit conjunt de valors específics.\n",
    "\n",
    "Proveu de completar la funció `change_light` i el bucle principal del programa."
   ]
  },
  {
   "cell_type": "code",
   "execution_count": 13,
   "metadata": {},
   "outputs": [],
   "source": [
    "from enum import Enum\n",
    "\n",
    "class TrafficLight(Enum):\n",
    "    RED = 1\n",
    "    # your implementation here\n",
    "\n",
    "def change_light(state):\n",
    "    # your implementation here\n",
    "    pass\n",
    "\n",
    "# main program\n",
    "for light in TrafficLight:\n",
    "    change_light(light)"
   ]
  },
  {
   "attachments": {},
   "cell_type": "markdown",
   "metadata": {},
   "source": [
    "### Exercici 5:\n",
    "\n",
    "Considera un pipeline de pre-processament de dades que involucra múltiples passos. Heu de definir una classe Enum que representi aquests passos i crear una funció que prengui un membre Enum i retorni una cadena que descriu què fa el pas. Els passos del pipeline són:\n",
    "\n",
    "1. Càrrega: carregueu el conjunt de dades des d'un fitxer CSV.\n",
    "2. Neteges: gestioneu les dades que falten i els valors atípics.\n",
    "3. Transformació: apliqueu transformacions com la normalització o l'estandardització.\n",
    "4. Selecció de característiques: trieu quines característiques utilitzar en el model.\n",
    "5. Formació del model: entreneu el model d'aprenentatge automàtic.\n",
    "6. Avaluació: avaluació del rendiment del model.\n",
    "\n",
    "Utilitzeu aquests passos com a membres Enum i creeu una funció anomenada `describe_step` que prengui un d'aquests passos i retorni una descripció de cadena. Per exemple, si la funció es crida amb el pas `Loading`, hauria de retornar \"Carregueu el conjunt de dades des d'un fitxer CSV\".\n",
    "\n",
    "Utilitzeu això com a punt de partida per a la vostra solució:\n",
    "\n",
    "```python\n",
    "class PreprocessingSteps(Enum):\n",
    "    Loading = 1\n",
    "\n",
    "def describe_step(step):\n",
    "    if step == PreprocessingSteps.Loading:\n",
    "        return \"Load the dataset from a CSV file.\"\n",
    "    ...\n",
    "    else:\n",
    "        return \"Invalid step\"\n",
    "```\n",
    "Per demostrar la vostra solució, recorreu tots els membres de l'Enum i truqueu a `describe_step` a cadascun.\n",
    "\n",
    "```python\n",
    "# main program\n",
    "for step in PreprocessingSteps:\n",
    "    print(f\"{step.name}: {describe_step(step)}\")\n",
    "```\n",
    "\n"
   ]
  },
  {
   "cell_type": "code",
   "execution_count": null,
   "metadata": {},
   "outputs": [],
   "source": []
  },
  {
   "attachments": {},
   "cell_type": "markdown",
   "metadata": {},
   "source": [
    "### Exercici 6: CSVLoader\n",
    "\n",
    "En aquest exercici, crearem una classe CSVLoader senzilla i funcional que carregui dades des d'un fitxer CSV i les retorni com una llista de diccionaris.\n",
    "\n",
    "1. Creeu una classe `CSVLoader` que no prengui cap entrada quan s'inicialitzi.\n",
    "2. Afegiu un mètode `load_data()` que prengui una ruta d'accés com a entrada i després llegeixi el fitxer CSV de la ruta d'accés i retorni les dades com una **llista de diccionaris**.\n",
    "3. Encara que la classe `CSVLoader` no prengui cap entrada quan s'inicialitzi, creeu una variable interna per emmagatzemar les diferents rutes d'accés que s'ha cridat amb el mètode `load_data()`. Aquesta variable hauria de ser una **llista de cadenes**.\n",
    "4. Creeu un atribut anomenat `extensions` que emmagatzemi la cadena `\"csv\"` en una llista.\n",
    "5. Proporcioneu també un mètode `get_loaded_filepaths()` que retorni la llista de rutes d'accés amb les quals s'ha cridat el mètode `load_data()` i imprimeixi el nombre de fitxers que s'han carregat.\n",
    "6. Creeu un mètode `get_supported_extensions()` que retorni l'atribut d'extensions.\n",
    "7. Utilitzeu el mòdul Python `csv` per analitzar el fitxer CSV.\n",
    "8. Si el fitxer CSV està buit, el mètode `load_data()` hauria de retornar una llista buida.\n",
    "9. Si el fitxer CSV no existeix, el mètode `load_data()` hauria d'imprimir un missatge d'error i retornar una llista buida.\n",
    "\n",
    "**Opcional 1:**\n",
    "1. Afegiu un argument opcional `use_headers` al mètode `load_data()` que prengui un valor booleà. Si `use_headers` és `True`, la primera fila del fitxer CSV s'hauria de tractar com a capçaleres de columna. Si `use_headers` és `False`, la primera fila del fitxer CSV s'hauria de tractar com a valors de dades.\n",
    "   - Si `use_headers` és `True`, la primera fila s'utilitzarà com a claus per als diccionaris de la llista. Cada fila posterior del fitxer CSV hauria de contenir valors de dades, que s'utilitzaran com a valors per als diccionaris de la llista.\n",
    "   - Si `use_headers` és `False`, les claus dels diccionaris seran els enters 0, 1, 2, i així successivament.\n",
    "\n",
    "**Opcional 2**:\n",
    "1. Implementeu un carregador similar per als fitxers JSON. Podeu utilitzar el mòdul `json` per analitzar el fitxer JSON. La funció `json.load()` pren un objecte de fitxer com a entrada i retorna un diccionari de Python. Podeu utilitzar la funció `open()` per obrir el fitxer JSON i passar l'objecte de fitxer a `json.load()`. Anomena aquesta classe `JSONLoader`.\n",
    "   \n",
    "Exemple d'ús:\n",
    "\n",
    "```python\n",
    "loader = CSVLoader()\n",
    "data = loader.load_data('data.csv', use_headers=True)\n",
    "print(data)\n",
    "```\n",
    "\n",
    "Example sortida:\n",
    "\n",
    "```\n",
    "[   \n",
    "    {'name': 'Alice', 'age': '30','weight': '65', 'height': '170'},    \n",
    "    {'name': 'Bob', 'age': '25', 'weight': '70', 'height': '175'},    \n",
    "    {'name': 'Charlie', 'age': '35', 'weight': '80', 'height': '180'},    \n",
    "    {'name': 'David', 'age': '40', 'weight': '75', 'height': '178'},\n",
    "]\n",
    "\n",
    "```\n",
    "pista: Primer proveu d'obrir el fitxer amb `open` i després utilitzeu el mòdul `csv` per analitzar el fitxer.\n",
    "\n",
    "pista: Podeu provar d'obrir el fitxer csv a `files/data.csv` per provar el vostre codi. Recordeu que la ruta pot variar segons el vostre sistema operatiu.\n",
    "\n",
    "pista: Per comprovar si un fitxer existeix a Python, podeu utilitzar la funció `os.path.exists()` del mòdul `os`. Aquesta funció pren una ruta d'accés com a entrada i retorna `True` si el fitxer existeix i `False` en cas contrari.\n"
   ]
  },
  {
   "cell_type": "code",
   "execution_count": null,
   "metadata": {},
   "outputs": [],
   "source": [
    "class CSVLoader:\n",
    "    def __init__(self):\n",
    "        # your implementation here\n",
    "        pass\n",
    "    \n",
    "    def get_supported_extensions(self):\n",
    "        # your implementation here\n",
    "        pass\n",
    "\n",
    "    def get_loaded_filepaths(self):\n",
    "        # your implementation here\n",
    "        pass\n",
    "\n",
    "    def load_data(self,filepath, use_headers=True):\n",
    "        # your implementation here\n",
    "        pass"
   ]
  },
  {
   "attachments": {},
   "cell_type": "markdown",
   "metadata": {},
   "source": [
    "### Exercici 7: Excepcions personalitzades\n",
    "\n",
    "Abans de començar l'Exercici 7, parlem breument de les excepcions i la seva importància en el control d'errors.\n",
    "\n",
    "Les excepcions són una manera de gestionar els errors i les situacions excepcionals que poden produir-se durant l'execució d'un programa. Quan es produeix un error o una excepció, interromp el flux normal del programa i es pot capturar i gestionar mitjançant blocs try-except.\n",
    "\n",
    "Les excepcions consisteixen en un tipus i un missatge. El tipus representa el tipus específic d'excepció, i el missatge proporciona informació addicional sobre l'error. Python proporciona molts tipus d'excepcions integrats, com ara `ValueError`, `TypeError` i `FileNotFoundError`. No obstant això, també és possible crear tipus d'excepcions personalitzades per gestionar errors específics del vostre codi.\n",
    "\n",
    "Les excepcions personalitzades són útils quan voleu generar una excepció que sigui específica del vostre codi i proporcioni informació significativa sobre l'error. Creant excepcions personalitzades, podeu fer que el vostre codi sigui més mantenible i llegible, així com millorar el control d'errors i la depuració d'errors.\n",
    "\n",
    "A l'exemple següent, definim una excepció personalitzada anomenada `InvalidInputError` que es genera quan el segon argument de la funció `divide_numbers()` és zero. Capturem l'excepció utilitzant un bloc try-except i la gestionem imprimint un missatge d'error personalitzat.\n"
   ]
  },
  {
   "cell_type": "code",
   "execution_count": 2,
   "metadata": {},
   "outputs": [
    {
     "name": "stdout",
     "output_type": "stream",
     "text": [
      "Invalid input: Cannot divide by zero\n"
     ]
    }
   ],
   "source": [
    "# This is a custom exception that inherits from the built-in Exception class\n",
    "# There is no need to define any methods in this class\n",
    "class InvalidInputError(Exception):\n",
    "    pass\n",
    "\n",
    "# This function raises the custom exception when the second argument is zero\n",
    "def divide_numbers(a, b):\n",
    "    if b == 0:\n",
    "        raise InvalidInputError(\"Cannot divide by zero\")\n",
    "    return a / b"
   ]
  },
  {
   "cell_type": "code",
   "execution_count": 3,
   "metadata": {},
   "outputs": [
    {
     "ename": "InvalidInputError",
     "evalue": "Cannot divide by zero",
     "output_type": "error",
     "traceback": [
      "\u001b[0;31m---------------------------------------------------------------------------\u001b[0m",
      "\u001b[0;31mInvalidInputError\u001b[0m                         Traceback (most recent call last)",
      "Cell \u001b[0;32mIn[3], line 1\u001b[0m\n\u001b[0;32m----> 1\u001b[0m divide_numbers(\u001b[39m10\u001b[39;49m, \u001b[39m0\u001b[39;49m)\n",
      "Cell \u001b[0;32mIn[2], line 9\u001b[0m, in \u001b[0;36mdivide_numbers\u001b[0;34m(a, b)\u001b[0m\n\u001b[1;32m      7\u001b[0m \u001b[39mdef\u001b[39;00m \u001b[39mdivide_numbers\u001b[39m(a, b):\n\u001b[1;32m      8\u001b[0m     \u001b[39mif\u001b[39;00m b \u001b[39m==\u001b[39m \u001b[39m0\u001b[39m:\n\u001b[0;32m----> 9\u001b[0m         \u001b[39mraise\u001b[39;00m InvalidInputError(\u001b[39m\"\u001b[39m\u001b[39mCannot divide by zero\u001b[39m\u001b[39m\"\u001b[39m)\n\u001b[1;32m     10\u001b[0m     \u001b[39mreturn\u001b[39;00m a \u001b[39m/\u001b[39m b\n",
      "\u001b[0;31mInvalidInputError\u001b[0m: Cannot divide by zero"
     ]
    }
   ],
   "source": [
    "divide_numbers(10, 0)"
   ]
  },
  {
   "cell_type": "code",
   "execution_count": null,
   "metadata": {},
   "outputs": [],
   "source": [
    "# Finally, we can catch the custom exception using a try-except block\n",
    "try:\n",
    "    result = divide_numbers(10, 0)\n",
    "    print(result)\n",
    "except InvalidInputError as e:\n",
    "    print(\"Invalid input:\", str(e))"
   ]
  },
  {
   "attachments": {},
   "cell_type": "markdown",
   "metadata": {},
   "source": [
    "En aquest exercici, utilitzarem classes d'excepció integrades i personalitzades per gestionar errors en els exercicis següents.\n",
    "\n",
    "1. En l'exercici anterior vam haver d'imprimir l'error si el fitxer no existia, ara en lloc d'imprimir un missatge `raise` l'excepció integrada de Python de tipus `FileNotFoundError` i, per descomptat, no retornis cap llista.\n",
    "\n",
    "2. Prepareu també una classe `UnsupportedFileTypeError` que hereti de l'excepció integrada `Exception`. Aquesta excepció personalitzada s'utilitzarà en els exercicis següents quan es creï un carregador de dades genèric quan l'extensió del fitxer no estigui suportada.\n",
    "\n",
    "3. Prepareu una classe `ExtensionAlreadyRegisteredError` que hereti de l'excepció integrada `Exception`. Aquesta vegada, l'excepció s'utilitzarà quan es registri una nova extensió de fitxer que ja estigui registrada.\n",
    "\n",
    "Creant classes d'excepció personalitzades, podem gestionar errors específics relacionats amb el tractament de fitxers i la càrrega de dades d'una manera més estructurada i informativa."
   ]
  },
  {
   "cell_type": "code",
   "execution_count": null,
   "metadata": {},
   "outputs": [],
   "source": [
    "# Your code here"
   ]
  },
  {
   "attachments": {},
   "cell_type": "markdown",
   "metadata": {},
   "source": [
    "### Exercici 8: Mapa de carregadors de fitxers\n",
    "\n",
    "Un mapa, també conegut com a diccionari o array associatiu, és una estructura de dades que emmagatzema una col·lecció de parells `clau-valor`. Permet cercar, inserir i eliminar elements de manera eficient en funció de les seves claus. A Python, la classe `dict` integrada representa un mapa.\n",
    "\n",
    "Els mapes són útils quan tenim un conjunt de claus úniques i volem associar cada clau amb un valor corresponent. Proporcionen una manera d'organitzar i accedir a les dades d'una manera estructurada, permetent-nos recuperar ràpidament valors en funció de les seves claus.\n",
    "\n",
    "En el context de l'exercici, utilitzarem un mapa, específicament un diccionari, per crear una correspondència entre les `extensions de fitxer` i els `carregadors de fitxers`. Aquesta correspondència ens permet seleccionar dinàmicament el carregador de fitxers adequat en funció de l'extensió del fitxer.\n",
    "\n",
    "Utilitzant un mapa, podem desacoplar la lògica de càrrega de fitxers del codi que selecciona el carregador adequat. Això proporciona flexibilitat i extensibilitat, ja que podem afegir o modificar fàcilment els carregadors de fitxers sense modificar el codi que els utilitza.\n",
    "\n",
    "En la classe `FileLoaderMap`, el diccionari `loader_map` serveix com a mapa, on les claus són les extensions de fitxer i els valors són les classes de carregador de fitxers corresponents. El mètode `register_loader` ens permet afegir entrades al mapa, associant extensions de fitxer amb classes de carregador. El mètode `get_loader` recupera la classe de carregador en funció d'una extensió de fitxer determinada.\n",
    "\n",
    "Utilitzant un mapa, podem crear un sistema flexible i configurable per gestionar diferents tipus de fitxers i carregadors."
   ]
  },
  {
   "attachments": {},
   "cell_type": "markdown",
   "metadata": {},
   "source": [
    "En aquest exercici crearem una classe `FileLoaderMap` senzilla que servirà com a mapa per als carregadors de fitxers. El mapa emmagatzemarà la correspondència entre les extensions de fitxer i els carregadors de fitxers. El mapa s'utilitzarà en l'exercici següent per seleccionar dinàmicament el carregador de fitxers adequat en funció de l'extensió del fitxer.\n",
    "\n",
    "1. Creeu una classe `FileLoaderMap` que servirà com a mapa per als carregadors de fitxers.\n",
    "\n",
    "2. A l'interior de la classe `FileLoaderMap`, definiu un diccionari anomenat `loader_map` per emmagatzemar la correspondència entre les extensions de fitxer i els carregadors de fitxers.\n",
    "   ```python\n",
    "    class FileLoaderMap:\n",
    "         def __init__(self):\n",
    "              self.loader_map = {}\n",
    "    ```\n",
    "3. Afegiu un mètode anomenat `register_loader` que prengui tres paràmetres: `extension` (una cadena que representa l'extensió del fitxer), `loader` (una classe que representa el carregador de fitxers) i `force` (un valor booleà que indica si voleu sobreescriure una entrada existent al mapa). El mètode hauria d'afegir una entrada al diccionari `loader_map`, on la clau és l'extensió del fitxer i el valor és la classe del carregador de fitxers. Si ja existeix una entrada amb la mateixa clau al mapa, el mètode hauria de generar una excepció `ExtensionAlreadyRegisteredError` si `force` és `False`, o imprimir un missatge d'avís si `force` és `True`.\n",
    "\n",
    "4. Afegiu un mètode anomenat `get_loader` que prengui un paràmetre `file_extension` i retorni la classe del carregador de fitxers associada a aquesta extensió del diccionari `loader_map`. Si no es troba l'extensió del fitxer al mapa, el mètode hauria de generar una excepció `UnsupportedFileTypeError`.\n",
    "    ```python\n",
    "    def get_loader(self, file_extension):\n",
    "        if ...:\n",
    "            raise ...\n",
    "        return ...\n",
    "    ```\n",
    "\n",
    "5. Inicialitzeu una instància de la classe `FileLoaderMap` i registreu dos carregadors de fitxers: `CSVLoader` per a l'extensió '.csv' i `TXTLoader` per a l'extensió '.txt' (utilitzeu noms de classe simulats per ara).\n",
    "\n",
    "Exemple d'ús:\n",
    "\n",
    "```python\n",
    "\n",
    "# Mock classes for demonstration purposes\n",
    "# You can use your CSVLoader or any other class from Exercise 3 or just use the mock classes bellow\n",
    "\n",
    "class CSVLoader:\n",
    "    pass\n",
    "\n",
    "class TXTLoader:\n",
    "    pass\n",
    "    \n",
    "\n",
    "map = FileLoaderMap()\n",
    "map.register_loader('.csv', CSVLoader)\n",
    "map.register_loader('.txt', TXTLoader)\n",
    "\n",
    "loader_class = map.get_loader('.csv')\n",
    "print(loader_class)  # Output: <class '__main__.CSVLoader'>\n",
    "\n",
    "loader_class = map.get_loader('.xlsx')\n",
    "print(loader_class)  # Output: None\n",
    "```"
   ]
  },
  {
   "cell_type": "code",
   "execution_count": null,
   "metadata": {},
   "outputs": [],
   "source": [
    "class FileLoaderMap():\n",
    "    def __init__(self):\n",
    "        self.loader_map = {}\n",
    "\n",
    "    def register_loader(self):\n",
    "        # your implementation here\n",
    "        pass\n",
    "\n",
    "    def get_loader(self):\n",
    "        # your implementation here\n",
    "        pass"
   ]
  },
  {
   "attachments": {},
   "cell_type": "markdown",
   "metadata": {},
   "source": [
    "### Exercici 9\n",
    "\n",
    "Com a científic de dades, sovint trobeu dades emmagatzemades en diferents formats de fitxer com CSV, JSON o Excel. Cada format requereix mecanismes d'ús i càrrega específics, que poden ser engorrosos i consumir molt temps. Per abordar aquest repte, introduïm una nova classe anomenada `FileLoaderManager`, que proporciona una forma simplificada i flexible de carregar dades de diversos formats de fitxer.\n",
    "\n",
    "L'objectiu d'aquest exercici és introduir-vos en el concepte d'un carregador de dades flexible que simplifica el procés de càrrega de dades de diversos formats de fitxer. L'exercici pretén destacar els avantatges de l'encapsulació, la reutilització de codi i la flexibilitat en les tasques de càrrega de dades.\n",
    "\n",
    "En aquest exercici, creareu la classe `FileLoaderManager` que encapsula la funcionalitat de càrrega de dades de diferents formats de fitxer. Seguiu la guia pas a pas següent per completar l'exercici:\n",
    "\n",
    "![img](schema.png)\n",
    "\n",
    "1. Creeu la classe `FileLoaderManager`.\n",
    "2. A l'interior de la classe, definiu un mètode `__init__` que inicialitzi la instància `FileLoaderManager`. Aquest mètode hauria d'inicialitzar una variable interna anomenada `data_file_loader` per emmagatzemar la correspondència entre les extensions de fitxer i els carregadors de fitxers que heu creat abans. Podeu optar per utilitzar la classe `FileLoaderMap` de l'exercici anterior o simplement utilitzar un diccionari (però haureu de gestionar més casuístiques a l'interior de la classe).\n",
    "   ```python\n",
    "   class FileLoaderManager:\n",
    "       def __init__(self):\n",
    "            self.data_file_loader = ...\n",
    "            ...\n",
    "    ```\n",
    "3. Implementeu un mètode anomenat `register_loader` que prengui dos paràmetres obligatoris: `extension` i `loader` i un opcional `force`. `force` s'hauria de definir com a `False` per defecte. Aquest mètode hauria de registrar un carregador per a una extensió de fitxer específica.\n",
    "    ```python\n",
    "    class FileLoaderManager:\n",
    "         def register_loader(self, ... ):\n",
    "                # Register the loader using the data_file_loader variable\n",
    "                ...\n",
    "     ```\n",
    "4. Implementeu un mètode anomenat `register_all_loaders`. Aquest mètode hauria de registrar tots els carregadors disponibles per a les extensions de fitxer compatibles disponibles a la llista `AVAILABLE_LOADERS`. (Pista: Podeu utilitzar el mètode `register_loader` per a cada carregador i extensió). **Aquest mètode s'hauria de cridar a l'interior del mètode `__init__` perquè tots els carregadors s'inscriguin quan s'inicialitzi la instància `FileLoaderManager`.**\n",
    "    ```python\n",
    "    class FileLoaderManager:\n",
    "         def register_all_loaders(self, ... ):\n",
    "                # Register the loader using the register_loader method\n",
    "                for loader in ... :\n",
    "                    ...\n",
    "                    # Use the register_loader method with the force parameter set to True\n",
    "                    for extension in ... :\n",
    "                        self.register_loader(..., force = True)\n",
    "                \n",
    "     ```\n",
    "5. Implementeu un mètode anomenat `load_data` que prengui un paràmetre `file_path`. Aquest mètode hauria de gestionar la càrrega de dades en funció de l'extensió del fitxer. El mètode `load_data` hauria de retornar les dades carregades cridant al mètode `.load_data()` del carregador de fitxers adequat.\n",
    "    ```python\n",
    "    class FileLoaderManager:\n",
    "        def load_data(self, ... ):\n",
    "            # Get the file extension from the file_path\n",
    "            file_extension = ...\n",
    "            # Get the loader from the data_file_loader variable\n",
    "            loader = ...    \n",
    "            # Load the data using the loader\n",
    "            data = loader.load_data(...)\n",
    "            return data\n",
    "    ```\n",
    "6. Implementeu també un mètode anomenat `get_supported_extensions` que retorni una llista de les extensions de fitxer compatibles.\n",
    "7. Proveu la vostra implementació creant una instància de `FlexibleDataLoader`, registrant carregadors per a diferents extensions de fitxer i carregant dades d'exemple de diferents formats de fitxer.\n",
    "\n",
    "La vostra tasca consisteix a completar l'esquelet de la classe implementant els mètodes esmentats en els passos anteriors. Proveu la vostra implementació amb diferents formats de fitxer per assegurar-vos que la classe `FlexibleDataLoader` funciona com s'espera.\n",
    "\n",
    "Exemple d'ús:\n",
    "\n",
    "```python\n",
    "...\n",
    "\n",
    "AVAILABLE_LOADERS = [CSVLoader, JSONLoader]\n",
    "\n",
    "...\n",
    "\n",
    "# Using the Mock classes given\n",
    "file_loader = FileLoaderManager()\n",
    "file_loader.register_loader(\".txt\", TXTLoader())\n",
    "file_loader.get_supported_extensions()\n",
    ">>> ['.txt', '.csv', '.json']\n",
    "\n",
    "file_loader.load_data(\"./files/data.csv\")\n",
    ">>> Loading data from ./files/data.csv using CSVLoader\n",
    "\n",
    "```\n"
   ]
  },
  {
   "cell_type": "code",
   "execution_count": null,
   "metadata": {},
   "outputs": [],
   "source": [
    "# You can use your CSVLoader implementation (and any other class)\n",
    "# or just use the mock classes bellow\n",
    "class FileLoader:\n",
    "    def __init__(self):\n",
    "        self.file_paths = []\n",
    "        self.extensions = []\n",
    "\n",
    "    def load_data(self, filepath):\n",
    "        print(f\"Loading data from {filepath} using {self.__class__.__name__}\") \n",
    "        self.file_paths.append(filepath)\n",
    "\n",
    "    def get_supported_extensions(self):\n",
    "        return self.extensions\n",
    "    \n",
    "    def get_loaded_filepaths(self):\n",
    "        return self.file_paths\n",
    "        \n",
    "class CSVLoader(FileLoader):\n",
    "    def __init__(self):\n",
    "        super().__init__()\n",
    "        self.extensions = ['.csv']\n",
    "\n",
    "class TXTLoader(FileLoader):\n",
    "    def __init__(self):\n",
    "        super().__init__()\n",
    "        self.extensions = ['.txt']\n",
    "    \n",
    "class JSONLoader(FileLoader):\n",
    "    def __init__(self):\n",
    "        super().__init__()\n",
    "        self.extensions = ['.json']\n",
    "\n",
    "AVAILABLE_LOADERS = [CSVLoader, TXTLoader, JSONLoader]\n",
    "\n",
    "class FileLoaderManager:\n",
    "    def __init__(self):\n",
    "        # Initialize the FlexibleDataLoader instance\n",
    "        pass\n",
    "\n",
    "    def register_loader(self):\n",
    "        # Register a loader for a specific file extension\n",
    "        pass\n",
    "\n",
    "    def register_all_loaders(self):\n",
    "        # Register all available loaders for the supported file extensions\n",
    "        pass\n",
    "\n",
    "    def load_data(self):\n",
    "        # Handle the loading of data based on the file extension\n",
    "        pass\n",
    "\n",
    "    def get_supported_extensions(self):\n",
    "        # Return a list of the supported file extensions\n",
    "        pass"
   ]
  },
  {
   "cell_type": "code",
   "execution_count": null,
   "metadata": {},
   "outputs": [],
   "source": []
  }
 ],
 "metadata": {
  "kernelspec": {
   "display_name": "con-01",
   "language": "python",
   "name": "python3"
  },
  "language_info": {
   "codemirror_mode": {
    "name": "ipython",
    "version": 3
   },
   "file_extension": ".py",
   "mimetype": "text/x-python",
   "name": "python",
   "nbconvert_exporter": "python",
   "pygments_lexer": "ipython3",
   "version": "3.11.3"
  },
  "orig_nbformat": 4
 },
 "nbformat": 4,
 "nbformat_minor": 2
}
