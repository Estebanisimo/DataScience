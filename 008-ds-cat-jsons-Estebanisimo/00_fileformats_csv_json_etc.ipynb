{
  "cells": [
    {
      "attachments": {},
      "cell_type": "markdown",
      "metadata": {
        "id": "piL_wk_t6sky"
      },
      "source": [
        "File Formats"
      ]
    },
    {
      "attachments": {},
      "cell_type": "markdown",
      "metadata": {
        "id": "dpRVrPf36sk5"
      },
      "source": [
        "---"
      ]
    },
    {
      "attachments": {},
      "cell_type": "markdown",
      "metadata": {
        "id": "br2zKdQS6sk6",
        "lang": "ca"
      },
      "source": [
        "Les dades s'emmagatzemen normalment en fitxers, que es construeixen segons un format de fitxer específic. Els formats de fitxer estandarditzats sovint són compatibles amb Python mitjançant un mòdul concret. En aquest capítol, comentem alguns dels formats de fitxer més comuns i els mòduls que els admeten."
      ]
    },
    {
      "attachments": {},
      "cell_type": "markdown",
      "metadata": {
        "id": "FQa_ybYL6sk7"
      },
      "source": [
        "---"
      ]
    },
    {
      "attachments": {},
      "cell_type": "markdown",
      "metadata": {
        "id": "lFq5nvhS6sk7",
        "lang": "ca"
      },
      "source": [
        "## Valors separats per comes (Comma-Separated Values CSV)"
      ]
    },
    {
      "attachments": {},
      "cell_type": "markdown",
      "metadata": {
        "id": "doC3-kFh6sk8",
        "lang": "ca"
      },
      "source": [
        "Els valors separats per comes (CSV) són el format de fitxer de text més comú que s'utilitza per importar i exportar dades a i des de fulls de càlcul i bases de dades. El format general diu que cada línia conté un registre (un registre és una entitat completa), enumerant cadascun dels camps del registre en un ordre específic, separant els camps per comes. La primera línia del fitxer pot consistir o no en noms per als camps del fitxer CSV.\n",
        "\n",
        "El codi següent carrega i mostra el contingut d'un fitxer CSV típic que vaig adjuntar al curs."
      ]
    },
    {
      "cell_type": "code",
      "execution_count": 8,
      "metadata": {
        "id": "kDvJZJIe6sk9"
      },
      "outputs": [
        {
          "ename": "FileNotFoundError",
          "evalue": "[Errno 2] No such file or directory: 'pc_inventory.csv'",
          "output_type": "error",
          "traceback": [
            "\u001b[1;31m---------------------------------------------------------------------------\u001b[0m",
            "\u001b[1;31mFileNotFoundError\u001b[0m                         Traceback (most recent call last)",
            "\u001b[1;32mc:\\Users\\esteb\\OneDrive\\Escritorio\\DataScience\\008-ds-cat-jsons-Estebanisimo\\00_fileformats_csv_json_etc.ipynb Celda 7\u001b[0m line \u001b[0;36m1\n\u001b[1;32m----> <a href='vscode-notebook-cell:/c%3A/Users/esteb/OneDrive/Escritorio/DataScience/008-ds-cat-jsons-Estebanisimo/00_fileformats_csv_json_etc.ipynb#W6sZmlsZQ%3D%3D?line=0'>1</a>\u001b[0m fp \u001b[39m=\u001b[39m \u001b[39mopen\u001b[39;49m( \u001b[39m\"\u001b[39;49m\u001b[39mpc_inventory.csv\u001b[39;49m\u001b[39m\"\u001b[39;49m )\n\u001b[0;32m      <a href='vscode-notebook-cell:/c%3A/Users/esteb/OneDrive/Escritorio/DataScience/008-ds-cat-jsons-Estebanisimo/00_fileformats_csv_json_etc.ipynb#W6sZmlsZQ%3D%3D?line=1'>2</a>\u001b[0m \u001b[39mprint\u001b[39m( fp\u001b[39m.\u001b[39mread()\u001b[39m.\u001b[39mstrip() )\n\u001b[0;32m      <a href='vscode-notebook-cell:/c%3A/Users/esteb/OneDrive/Escritorio/DataScience/008-ds-cat-jsons-Estebanisimo/00_fileformats_csv_json_etc.ipynb#W6sZmlsZQ%3D%3D?line=2'>3</a>\u001b[0m fp\u001b[39m.\u001b[39mclose()\n",
            "File \u001b[1;32m~\\AppData\\Roaming\\Python\\Python310\\site-packages\\IPython\\core\\interactiveshell.py:282\u001b[0m, in \u001b[0;36m_modified_open\u001b[1;34m(file, *args, **kwargs)\u001b[0m\n\u001b[0;32m    275\u001b[0m \u001b[39mif\u001b[39;00m file \u001b[39min\u001b[39;00m {\u001b[39m0\u001b[39m, \u001b[39m1\u001b[39m, \u001b[39m2\u001b[39m}:\n\u001b[0;32m    276\u001b[0m     \u001b[39mraise\u001b[39;00m \u001b[39mValueError\u001b[39;00m(\n\u001b[0;32m    277\u001b[0m         \u001b[39mf\u001b[39m\u001b[39m\"\u001b[39m\u001b[39mIPython won\u001b[39m\u001b[39m'\u001b[39m\u001b[39mt let you open fd=\u001b[39m\u001b[39m{\u001b[39;00mfile\u001b[39m}\u001b[39;00m\u001b[39m by default \u001b[39m\u001b[39m\"\u001b[39m\n\u001b[0;32m    278\u001b[0m         \u001b[39m\"\u001b[39m\u001b[39mas it is likely to crash IPython. If you know what you are doing, \u001b[39m\u001b[39m\"\u001b[39m\n\u001b[0;32m    279\u001b[0m         \u001b[39m\"\u001b[39m\u001b[39myou can use builtins\u001b[39m\u001b[39m'\u001b[39m\u001b[39m open.\u001b[39m\u001b[39m\"\u001b[39m\n\u001b[0;32m    280\u001b[0m     )\n\u001b[1;32m--> 282\u001b[0m \u001b[39mreturn\u001b[39;00m io_open(file, \u001b[39m*\u001b[39margs, \u001b[39m*\u001b[39m\u001b[39m*\u001b[39mkwargs)\n",
            "\u001b[1;31mFileNotFoundError\u001b[0m: [Errno 2] No such file or directory: 'pc_inventory.csv'"
          ]
        }
      ],
      "source": [
        "fp = open( \"pc_inventory.csv\" )\n",
        "print( fp.read().strip() )\n",
        "fp.close()"
      ]
    },
    {
      "attachments": {},
      "cell_type": "markdown",
      "metadata": {
        "id": "13xe9WPM6sk-",
        "lang": "ca"
      },
      "source": [
        "Malauradament, el format CSV no està estandarditzat i els diferents paquets de programari solen utilitzar implementacions lleugerament diferents dels fitxers CSV. No obstant això, al llarg dels anys, les diferents convencions utilitzades pels principals paquets de programari han convergit cap a una mena d'estàndard, que s'implementa en el mòdul `csv` de Python. El mòdul admet \"dialectes\" de formats CSV per gestionar fitxers de diferents fonts.\n",
        "\n",
        "En lloc d'utilitzar el mòdul `csv`, si heu de tractar amb un format CSV excèntric que el mòdul no admet, podeu provar de dissenyar la vostra pròpia interpretació de les línies del fitxer utilitzant expressions regulars. També podeu provar de dissenyar el vostre propi dialecte. Cap de les dues opcions és molt atractiva."
      ]
    },
    {
      "attachments": {},
      "cell_type": "markdown",
      "metadata": {
        "id": "uJhAa-YZ6sk_"
      },
      "source": [
        "### CSV `reader()`"
      ]
    },
    {
      "attachments": {},
      "cell_type": "markdown",
      "metadata": {
        "id": "SfehfB2J6slA",
        "lang": "ca"
      },
      "source": [
        "El mòdul `csv` conté una funció `reader()` que proporciona accés a un fitxer CSV. La funció `reader()` obté un identificador de fitxer com a argument i retorna un iterador que us permet obtenir les línies del fitxer, com una llista amb cadascun dels camps com a element de la llista. Hauríeu de deixar el fitxer obert mentre hi accediu amb `reader()`."
      ]
    },
    {
      "cell_type": "code",
      "execution_count": 7,
      "metadata": {
        "id": "vem_YFtx6slB"
      },
      "outputs": [
        {
          "ename": "FileNotFoundError",
          "evalue": "[Errno 2] No such file or directory: 'pc_inventory.csv'",
          "output_type": "error",
          "traceback": [
            "\u001b[1;31m---------------------------------------------------------------------------\u001b[0m",
            "\u001b[1;31mFileNotFoundError\u001b[0m                         Traceback (most recent call last)",
            "\u001b[1;32mc:\\Users\\esteb\\OneDrive\\Escritorio\\DataScience\\008-ds-cat-jsons-Estebanisimo\\00_fileformats_csv_json_etc.ipynb Celda 11\u001b[0m line \u001b[0;36m3\n\u001b[0;32m      <a href='vscode-notebook-cell:/c%3A/Users/esteb/OneDrive/Escritorio/DataScience/008-ds-cat-jsons-Estebanisimo/00_fileformats_csv_json_etc.ipynb#X13sZmlsZQ%3D%3D?line=0'>1</a>\u001b[0m \u001b[39mfrom\u001b[39;00m \u001b[39mcsv\u001b[39;00m \u001b[39mimport\u001b[39;00m reader\n\u001b[1;32m----> <a href='vscode-notebook-cell:/c%3A/Users/esteb/OneDrive/Escritorio/DataScience/008-ds-cat-jsons-Estebanisimo/00_fileformats_csv_json_etc.ipynb#X13sZmlsZQ%3D%3D?line=2'>3</a>\u001b[0m fp \u001b[39m=\u001b[39m \u001b[39mopen\u001b[39;49m( \u001b[39m\"\u001b[39;49m\u001b[39mpc_inventory.csv\u001b[39;49m\u001b[39m\"\u001b[39;49m, newline\u001b[39m=\u001b[39;49m\u001b[39m'\u001b[39;49m\u001b[39m'\u001b[39;49m )\n\u001b[0;32m      <a href='vscode-notebook-cell:/c%3A/Users/esteb/OneDrive/Escritorio/DataScience/008-ds-cat-jsons-Estebanisimo/00_fileformats_csv_json_etc.ipynb#X13sZmlsZQ%3D%3D?line=3'>4</a>\u001b[0m csvreader \u001b[39m=\u001b[39m reader( fp )\n\u001b[0;32m      <a href='vscode-notebook-cell:/c%3A/Users/esteb/OneDrive/Escritorio/DataScience/008-ds-cat-jsons-Estebanisimo/00_fileformats_csv_json_etc.ipynb#X13sZmlsZQ%3D%3D?line=4'>5</a>\u001b[0m \u001b[39mfor\u001b[39;00m line \u001b[39min\u001b[39;00m csvreader:\n",
            "File \u001b[1;32m~\\AppData\\Roaming\\Python\\Python310\\site-packages\\IPython\\core\\interactiveshell.py:282\u001b[0m, in \u001b[0;36m_modified_open\u001b[1;34m(file, *args, **kwargs)\u001b[0m\n\u001b[0;32m    275\u001b[0m \u001b[39mif\u001b[39;00m file \u001b[39min\u001b[39;00m {\u001b[39m0\u001b[39m, \u001b[39m1\u001b[39m, \u001b[39m2\u001b[39m}:\n\u001b[0;32m    276\u001b[0m     \u001b[39mraise\u001b[39;00m \u001b[39mValueError\u001b[39;00m(\n\u001b[0;32m    277\u001b[0m         \u001b[39mf\u001b[39m\u001b[39m\"\u001b[39m\u001b[39mIPython won\u001b[39m\u001b[39m'\u001b[39m\u001b[39mt let you open fd=\u001b[39m\u001b[39m{\u001b[39;00mfile\u001b[39m}\u001b[39;00m\u001b[39m by default \u001b[39m\u001b[39m\"\u001b[39m\n\u001b[0;32m    278\u001b[0m         \u001b[39m\"\u001b[39m\u001b[39mas it is likely to crash IPython. If you know what you are doing, \u001b[39m\u001b[39m\"\u001b[39m\n\u001b[0;32m    279\u001b[0m         \u001b[39m\"\u001b[39m\u001b[39myou can use builtins\u001b[39m\u001b[39m'\u001b[39m\u001b[39m open.\u001b[39m\u001b[39m\"\u001b[39m\n\u001b[0;32m    280\u001b[0m     )\n\u001b[1;32m--> 282\u001b[0m \u001b[39mreturn\u001b[39;00m io_open(file, \u001b[39m*\u001b[39margs, \u001b[39m*\u001b[39m\u001b[39m*\u001b[39mkwargs)\n",
            "\u001b[1;31mFileNotFoundError\u001b[0m: [Errno 2] No such file or directory: 'pc_inventory.csv'"
          ]
        }
      ],
      "source": [
        "from csv import reader\n",
        "\n",
        "fp = open( \"pc_inventory.csv\", newline='' )\n",
        "csvreader = reader( fp )\n",
        "for line in csvreader:\n",
        "    print( line )\n",
        "fp.close()"
      ]
    },
    {
      "attachments": {},
      "cell_type": "markdown",
      "metadata": {
        "id": "JNtDVL5J6slF",
        "lang": "ca"
      },
      "source": [
        "La documentació de Python recomana que si utilitzeu `reader()` en un fitxer (i això és el que normalment feu), especifiqueu un argument `newline=''` com a argument addicional en obrir el fitxer a dalt). Això és necessari en cas que alguns dels camps de text del fitxer CSV continguin caràcters de nova línia.\n",
        "\n",
        "`reader()` també pren arguments addicionals. Els més comuns són `delimiter=<character>`, que indica quin `<character>` es col·loca entre diferents camps (per defecte és \"`,`\"), i `quotechar=<character>`, que indica quin `<character>` s'utilitza per incloure cadenes. amb (per defecte és \"`\"`\")."
      ]
    },
    {
      "attachments": {},
      "cell_type": "markdown",
      "metadata": {
        "id": "ZS8mwOfk6slG"
      },
      "source": [
        "### CSV `writer()`"
      ]
    },
    {
      "attachments": {},
      "cell_type": "markdown",
      "metadata": {
        "id": "icbFvlFo6slH",
        "lang": "en"
      },
      "source": [
        "Writing a CSV file is just a little bit harder than reading one. You create a file handle to a file that you open for writing (\"`w`\" mode), and use it as an argument when you call the `writer()` function from the `csv` module. The object that is returned from the `writer()` call has a method `writerow()` that you can call with a list of fields, that it then writes to the output file in CSV format.\n",
        "\n",
        "The call to `writer()` can get the same arguments as the call to `reader()` can get, including specifying a `delimiter` and a `quotechar`. Moreover, you can a supply a `quoting=<quotemethod>` argument, that supports the following methods of quoting:\n",
        "\n",
        "- `csv.QUOTE_ALL`, which encloses every field in quotation characters\n",
        "- `csv.QUOTE_MINIMAL`, which only encloses fields in quotation characters if it is absolutely necessary (this is the default)\n",
        "- `csv.QUOTE_NONNUMERIC`, which encloses fields in quotation characters if they are not integers or floats\n",
        "- `csv.QUOTE_NONE`, which encloses no fields in quotation characters\n",
        "\n",
        "Enclosing a string within quotation characters is generally only needed if the string contains exceptional characters, such as newlines or the same character that is used as delimiter. "
      ]
    },
    {
      "attachments": {},
      "cell_type": "markdown",
      "metadata": {
        "id": "yQtUM2Fq6slH",
        "lang": "ca"
      },
      "source": [
        "Escriure un fitxer CSV és una mica més difícil que llegir-ne un. Creeu un identificador de fitxer per a un fitxer que obriu per escriure (\"mode `w`\") i l'utilitzeu com a argument quan crideu la funció `writer()` des del mòdul `csv`. L'objecte que es retorna de la crida `writer()` té un mètode `writerow()` que podeu cridar amb una llista de camps, que després escriu al fitxer de sortida en format CSV.\n",
        "\n",
        "La crida a `writer()` pot obtenir els mateixos arguments que la crida a `reader()`, inclosa l'especificació d'un `delimitador` i un `quotechar`. A més, podeu proporcionar un argument `quoting=<quotemethod>`, que admeti els mètodes següents de citar:\n",
        "\n",
        "- `csv.QUOTE_ALL`, que inclou tots els camps entre cometes\n",
        "- `csv.QUOTE_MINIMAL`, que només inclou els camps entre cometes si és absolutament necessari (aquest és el valor predeterminat)\n",
        "- `csv.QUOTE_NONNUMERIC`, que inclou els camps entre cometes si no són nombres enters o flotants\n",
        "- `csv.QUOTE_NONE`, que no inclou camps entre cometes\n",
        "\n",
        "En general, només cal incloure una cadena entre cometes si la cadena conté caràcters excepcionals, com ara noves línies o el mateix caràcter que s'utilitza com a delimitador."
      ]
    },
    {
      "cell_type": "code",
      "execution_count": 6,
      "metadata": {
        "collapsed": true,
        "id": "MrGZul-W6slI"
      },
      "outputs": [],
      "source": [
        "from csv import writer\n",
        "\n",
        "fp = open( \"pc_writetest.csv\", \"w\", newline='' )\n",
        "csvwriter = writer( fp )\n",
        "csvwriter.writerow( [\"MOVIE\", \"RATING\"] )\n",
        "csvwriter.writerow( [\"Monty Python and the Holy Grail\", 8] )\n",
        "csvwriter.writerow( [\"Monty Python's Life of Brian\", 8.5] )\n",
        "csvwriter.writerow( [\"Monty Python's Meaning of Life\", 7] )\n",
        "fp.close()"
      ]
    },
    {
      "attachments": {},
      "cell_type": "markdown",
      "metadata": {
        "id": "HdblzMUC6slI",
        "lang": "ca"
      },
      "source": [
        "**Exercici**: després d'utilitzar el codi anterior per crear el fitxer \"pc_writetest.csv\", obriu-lo i utilitzeu `reader()` per llistar-ne el contingut."
      ]
    },
    {
      "cell_type": "code",
      "execution_count": 19,
      "metadata": {
        "collapsed": true,
        "id": "hlVXHLcD6slI"
      },
      "outputs": [],
      "source": [
        "# Read what was written.\n",
        "import csv"
      ]
    },
    {
      "cell_type": "code",
      "execution_count": 23,
      "metadata": {},
      "outputs": [
        {
          "data": {
            "text/plain": [
              "<_io.TextIOWrapper name='pc_writetest.csv' mode='r' encoding='cp1252'>"
            ]
          },
          "execution_count": 23,
          "metadata": {},
          "output_type": "execute_result"
        }
      ],
      "source": [
        "with open(\"pc_writetest.csv\") as csvfile:\n",
        "    reader = csv.reader(csvfile, delimiter=\",\")\n",
        "    for row in reader:\n",
        "        print(row)\n",
        "\n",
        "csvfile"
      ]
    },
    {
      "attachments": {},
      "cell_type": "markdown",
      "metadata": {
        "id": "vPNuKogQ6slJ"
      },
      "source": [
        "---"
      ]
    },
    {
      "attachments": {},
      "cell_type": "markdown",
      "metadata": {
        "id": "fGZfqiCL6slJ"
      },
      "source": [
        "## Pickling"
      ]
    },
    {
      "attachments": {},
      "cell_type": "markdown",
      "metadata": {
        "id": "wyAFMO0w6slJ",
        "lang": "ca"
      },
      "source": [
        "Suposem que voleu emmagatzemar una determinada estructura de dades en un fitxer, per exemple, una llista de tuples. Una manera de fer-ho és convertir les tuples en cadenes i escriure-les al fitxer, una línia per cada tupla. Quan més tard voleu reconstruir l'estructura de dades en un programa, llegiu el fitxer, desfeu les línies i reconstruïu la llista de tuples. Com us podeu imaginar, això abasta una quantitat considerable de codi bastant difícil.\n",
        "\n",
        "Afortunadament, no cal escriure aquest codi. Python ofereix una solució per emmagatzemar estructures de dades en fitxers, tant l'estructura com el contingut, que s'anomena \"pickling\". Podeu escriure tota l'estructura de dades al fitxer d'una vegada, si només obriu un fitxer *binari* per escriure, i truqueu la funció `dump()` des del mòdul `pickle` amb l'estructura de dades com primer argument i el controlador del fitxer com a segon argument."
      ]
    },
    {
      "cell_type": "code",
      "execution_count": 2,
      "metadata": {
        "id": "EoQ7qlcU6slK"
      },
      "outputs": [
        {
          "name": "stdout",
          "output_type": "stream",
          "text": [
            "Cheeseshop was pickled\n"
          ]
        }
      ],
      "source": [
        "from pickle import dump\n",
        "\n",
        "cheeseshop = [ (\"Roquefort\", 12, 15.23), (\"White Stilton\", 25, 19.02), (\"Cheddar\", 5, 0.67) ]\n",
        "\n",
        "fp = open( \"pc_cheese.pck\", \"wb\" )\n",
        "dump( cheeseshop, fp )\n",
        "fp.close()\n",
        "\n",
        "print( \"Cheeseshop was pickled\" )"
      ]
    },
    {
      "attachments": {},
      "cell_type": "markdown",
      "metadata": {
        "id": "-7g2XEcV6slK",
        "lang": "ca"
      },
      "source": [
        "Per llegir el contingut d'un fitxer pickle, feu servir la funció `load()` del mòdul `pickle`. `load()` obté un identificador per al fitxer com a argument. No oblideu obrir el fitxer en mode binari."
      ]
    },
    {
      "cell_type": "code",
      "execution_count": 3,
      "metadata": {
        "id": "Ph45JxQ86slK"
      },
      "outputs": [
        {
          "name": "stdout",
          "output_type": "stream",
          "text": [
            "<class 'list'>\n",
            "[('Roquefort', 12, 15.23), ('White Stilton', 25, 19.02), ('Cheddar', 5, 0.67)]\n"
          ]
        }
      ],
      "source": [
        "from pickle import load\n",
        "\n",
        "fp = open( \"pc_cheese.pck\", \"rb\" )\n",
        "buffer = load( fp )\n",
        "fp.close()\n",
        "\n",
        "print( type( buffer ) )\n",
        "print( buffer )"
      ]
    },
    {
      "attachments": {},
      "cell_type": "markdown",
      "metadata": {
        "id": "I6_7EoEo6slL",
        "lang": "ca"
      },
      "source": [
        "Com podeu veure, `load()` restaura l'estructura de dades completament.\n",
        "\n",
        "El decapat funciona fins i tot per a les vostres classes:"
      ]
    },
    {
      "cell_type": "code",
      "execution_count": 4,
      "metadata": {
        "id": "cEjSg_vl6slL"
      },
      "outputs": [
        {
          "name": "stdout",
          "output_type": "stream",
          "text": [
            "<class '__main__.Point'>\n",
            "(2,5)\n"
          ]
        }
      ],
      "source": [
        "from pickle import dump, load\n",
        "\n",
        "class Point:\n",
        "    def __init__( self, x, y ):\n",
        "        self.x = x\n",
        "        self.y = y\n",
        "    def __repr__( self ):\n",
        "        return \"({},{})\".format( self.x, self.y )\n",
        "    \n",
        "p = Point( 2, 5 )\n",
        "fp = open( \"pc_point.pck\", \"wb\" )\n",
        "dump( p, fp )\n",
        "fp.close()\n",
        "\n",
        "fp = open( \"pc_point.pck\", \"rb\" )\n",
        "q = load( fp )\n",
        "fp.close()\n",
        "\n",
        "print( type( q ) )\n",
        "print( q )"
      ]
    },
    {
      "attachments": {},
      "cell_type": "markdown",
      "metadata": {
        "id": "eaMDX9N06slL"
      },
      "source": [
        "---"
      ]
    },
    {
      "attachments": {},
      "cell_type": "markdown",
      "metadata": {
        "id": "O7mRCJJJ6slM"
      },
      "source": [
        "## JavaScript Object Notation (JSON)"
      ]
    },
    {
      "attachments": {},
      "cell_type": "markdown",
      "metadata": {
        "id": "uYP08NTs6slM",
        "lang": "ca"
      },
      "source": [
        "La notació d'objectes JavaScript (JSON) és un format de fitxer que s'utilitza sovint en aplicacions modernes, en particular aquelles que es comuniquen mitjançant serveis web. És compatible amb molts idiomes (JavaScript entre ells, és clar). És similar al decapatge en el sentit que emmagatzema objectes a la memòria en fitxers, conservant la seva estructura. Una diferència amb el decapatge és que els fitxers JSON estan en format llegible per l'home.\n",
        "\n",
        "El mòdul `json` funciona de manera equivalent al mòdul `pickle`, amb una funció `dump()` que escriu estructures de dades en un fitxer i una funció `load()` per carregar estructures de dades d'un fitxer. El fitxer ha de ser un fitxer de text i no un fitxer binari."
      ]
    },
    {
      "cell_type": "code",
      "execution_count": 5,
      "metadata": {
        "id": "B1ZaTs7P6slM"
      },
      "outputs": [
        {
          "name": "stdout",
          "output_type": "stream",
          "text": [
            "<class 'list'>\n",
            "[['Roquefort', 12, 15.23], ['White Stilton', 25, 19.02], ['Cheddar', 5, 0.67]]\n"
          ]
        }
      ],
      "source": [
        "from json import dump, load\n",
        "\n",
        "cheeseshop = [ (\"Roquefort\", 12, 15.23), (\"White Stilton\", 25, 19.02), (\"Cheddar\", 5, 0.67) ]\n",
        "\n",
        "fp = open( \"pc_cheese.json\", \"w\" )\n",
        "dump( cheeseshop, fp )\n",
        "fp.close()\n",
        "\n",
        "fp = open( \"pc_cheese.json\", \"r\" )\n",
        "buffer = load( fp )\n",
        "fp.close()\n",
        "\n",
        "print( type( buffer ) )\n",
        "print( buffer )"
      ]
    },
    {
      "attachments": {},
      "cell_type": "markdown",
      "metadata": {
        "id": "_-f9v1kP6slM",
        "lang": "ca"
      },
      "source": [
        "Les alternatives per a `dump()` i `load()` són les funcions `dumps()` i `loads()`, que no reben un argument de fitxer. En canvi, `dumps()` no obté cap argument de fitxer i només produeix una cadena que conté l'estructura de dades en format JSON, mentre que `loads()` obté una cadena com a argument en lloc d'un fitxer i carrega l'estructura de dades des de aquella string.\n",
        "\n",
        "Aquestes funcions poden obtenir molts arguments opcionals que determinen com s'emmagatzemaran exactament les dades; per exemple, podeu establir l'argument `indent=` per a `dump()` i `dumps()` per determinar quin valor de sagnat s'utilitzarà, i podeu utilitzar arguments per ordenar les dades a l'abocament. Si vols saber més sobre això, consulta les referències.\n",
        "\n",
        "Una debilitat del mòdul `json` és que només admet les estructures de dades estàndard de Python. Si voleu utilitzar-lo per emmagatzemar instàncies de classes fetes per vosaltres mateixos, heu de trobar una manera de convertir les vostres classes a estructures estàndard de Python. El mòdul `json` ofereix classes especials `JSONencoder` i `JSONdecoder` per ajudar-vos amb això. Va massa lluny per parlar d'aquests aquí."
      ]
    },
    {
      "attachments": {},
      "cell_type": "markdown",
      "metadata": {
        "id": "w-F2sOEA6slN"
      },
      "source": [
        "---"
      ]
    },
    {
      "attachments": {},
      "cell_type": "markdown",
      "metadata": {
        "id": "XUGbTHhM6slN"
      },
      "source": [
        "## HTML and XML"
      ]
    },
    {
      "attachments": {},
      "cell_type": "markdown",
      "metadata": {
        "id": "ZIahXrmO6slN",
        "lang": "ca"
      },
      "source": [
        "HTML i XML són formats estàndard que s'utilitzen per mostrar informació a les pàgines web. Consten de fitxers de text llegibles, amb moltes instruccions sobre el format. És una tasca habitual per als miners de dades \"rascar\" dades de les pàgines web. Podeu utilitzar expressions regulars per a això, però si les pàgines web estan raonablement ben formatades, el mòdul \"Beautiful Soup\" us pot ajudar.\n",
        "\n",
        "El mòdul Beautiful Soup s'anomena \"bs4\" a Python (naturalment, \"bs3\" va ser anterior, i pot ser que rebi més actualitzacions més endavant). Conté la classe `BeautifulSoup` que podeu utilitzar per carregar i interpretar fitxers HTML i XML. `bs4` no forma part del paquet estàndard de Python; l'heu d'instal·lar per separat, cosa que és una molèstia, tret que utilitzeu una eina anomenada \"pip\" que ve de sèrie amb Python 3.\n",
        "\n",
        "Hi ha mòduls alternatius que us poden alleujar el dolor del web scrapping, especialment `lxml`, però Beautiful Soup sembla ser el més popular"
      ]
    },
    {
      "attachments": {},
      "cell_type": "markdown",
      "metadata": {
        "id": "PG-FSfrI6slN"
      },
      "source": [
        "---"
      ]
    }
  ],
  "metadata": {
    "colab": {
      "collapsed_sections": [],
      "name": "fileformats_csv_json_etc.ipynb",
      "provenance": []
    },
    "kernelspec": {
      "display_name": "Python 3",
      "language": "python",
      "name": "python3"
    },
    "language_info": {
      "codemirror_mode": {
        "name": "ipython",
        "version": 3
      },
      "file_extension": ".py",
      "mimetype": "text/x-python",
      "name": "python",
      "nbconvert_exporter": "python",
      "pygments_lexer": "ipython3",
      "version": "3.10.0"
    },
    "nbTranslate": {
      "displayLangs": [
        "ca",
        "en"
      ],
      "hotkey": "alt-t",
      "langInMainMenu": true,
      "sourceLang": "en",
      "targetLang": "ca",
      "useGoogleTranslate": true
    },
    "vscode": {
      "interpreter": {
        "hash": "5c7b89af1651d0b8571dde13640ecdccf7d5a6204171d6ab33e7c296e100e08a"
      }
    }
  },
  "nbformat": 4,
  "nbformat_minor": 0
}
