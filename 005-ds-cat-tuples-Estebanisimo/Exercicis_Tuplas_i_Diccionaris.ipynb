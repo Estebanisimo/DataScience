{
 "cells": [
  {
   "attachments": {},
   "cell_type": "markdown",
   "metadata": {},
   "source": [
    "Answer the following questions with code:\n",
    "\n",
    "- who has the max score (name)\n",
    "- who has the minimun score (name)\n",
    "- what is the total score\n",
    "- what is the mean score\n",
    "\n",
    "Finally order the tuples \n",
    "\n",
    "- by Score \n",
    "- by Lastname"
   ]
  },
  {
   "cell_type": "code",
   "execution_count": 2,
   "metadata": {},
   "outputs": [
    {
     "name": "stdout",
     "output_type": "stream",
     "text": [
      "('Jinping', 'Xi')\n",
      "('Carlos', 'Perez')\n",
      "22.079\n",
      "7.359666666666667\n"
     ]
    },
    {
     "data": {
      "text/plain": [
       "[('Jinping', 'Xi', 10.603),\n",
       " ('Carlos', 'Perez', 3.626),\n",
       " ('David', 'Garcia', 7.85)]"
      ]
     },
     "execution_count": 2,
     "metadata": {},
     "output_type": "execute_result"
    }
   ],
   "source": [
    "scores = [('David', 'Garcia', 7.85),\n",
    "           ('Carlos', 'Perez', 3.626),\n",
    "            ('Jinping', 'Xi', 10.603)]\n",
    "\n",
    "import math\n",
    "\n",
    "\n",
    "def max_score(scores):\n",
    "\n",
    "    current_score = -math.inf\n",
    "    best_student = None\n",
    "    for name, last_name, score in scores:\n",
    "        score > current_score\n",
    "        best_student = name, last_name\n",
    "    return best_student, score\n",
    "\n",
    "print(max_score(scores)[0])\n",
    "\n",
    "\n",
    "def min_score(scores):\n",
    "    current_score = math.inf\n",
    "    worst_student = None\n",
    "    for name, last_name, score in scores:\n",
    "        if score < current_score:\n",
    "            current_score = score\n",
    "            worst_student = name, last_name\n",
    "    return worst_student, score\n",
    "\n",
    "print(min_score(scores)[0])\n",
    "\n",
    "\n",
    "def total_score(scores):\n",
    "    total = 0 \n",
    "    for name, last_name, score in scores:\n",
    "        total += score\n",
    "    return total\n",
    "\n",
    "print(total_score(scores))\n",
    "\n",
    "\n",
    "def mean_score(scores):\n",
    "    total = 0 \n",
    "    for name, last_name, score in scores:\n",
    "        total += score\n",
    "    return total/len(scores)\n",
    "\n",
    "print(mean_score(scores))\n",
    "\n",
    "\n",
    "sorted(scores, key= lambda x: x[2], reverse=True )\n",
    "\n",
    "sorted(scores, key= lambda x: x[1], reverse=True)"
   ]
  },
  {
   "attachments": {},
   "cell_type": "markdown",
   "metadata": {},
   "source": [
    "## Tauler"
   ]
  },
  {
   "attachments": {},
   "cell_type": "markdown",
   "metadata": {},
   "source": [
    "INSTRUCCIONS:\n",
    "Per a aquest exercici treballarem amb un\n",
    "\"tauler\" per a un joc imaginari.\n",
    "Escribirem funcions\n",
    "que operaran dins de les dades del \"tauler\"\n",
    "per a calcular determinats resultats."
   ]
  },
  {
   "attachments": {},
   "cell_type": "markdown",
   "metadata": {},
   "source": [
    "Per a aquestes funcions, el \"tauler\"\n",
    "serà una llista de tuples, on cada\n",
    "tupla té la forma (str, int)\n",
    "representant (nom_jugador, puntuació)\n",
    "\n",
    "Per exemple:\n",
    "[('kewld00d1', 100), ('pumpkin', 550)]"
   ]
  },
  {
   "attachments": {},
   "cell_type": "markdown",
   "metadata": {},
   "source": [
    "#### obtenir_puntuacions\n",
    "Crea una funció \"obtenir_puntuacions\"\n",
    "que té un paràmetre, el tauler,\n",
    "i retorna una llista de la mateixa mida\n",
    "amb només les puntuacions de cada jugador\n",
    "(una llista d'ints)"
   ]
  },
  {
   "cell_type": "code",
   "execution_count": 3,
   "metadata": {},
   "outputs": [
    {
     "name": "stdout",
     "output_type": "stream",
     "text": [
      "Garcia 7.85\n",
      "Perez 3.626\n",
      "Xi 10.603\n"
     ]
    }
   ],
   "source": [
    "scores = [('David', 'Garcia', 7.85),\n",
    "           ('Carlos', 'Perez', 3.626),\n",
    "            ('Jinping', 'Xi', 10.603)]\n",
    "\n",
    "def obtenir_puntuacions(n):\n",
    "    for nom, cognom, punts in scores:\n",
    "        print(cognom, punts)\n",
    "\n",
    "obtenir_puntuacions(scores)"
   ]
  },
  {
   "attachments": {},
   "cell_type": "markdown",
   "metadata": {},
   "source": [
    "#### puntuacio_top\n",
    "Crea una funció \"puntuacio_top\"\n",
    "que té un paràmetre, el tauler,\n",
    "i retorna un int, la puntuació més alta\n",
    "al marcador\n"
   ]
  },
  {
   "cell_type": "code",
   "execution_count": 4,
   "metadata": {},
   "outputs": [
    {
     "name": "stdout",
     "output_type": "stream",
     "text": [
      "Jinping\n"
     ]
    }
   ],
   "source": [
    "scores = [('David', 'Garcia', 7.85),\n",
    "           ('Carlos', 'Perez', 3.626),\n",
    "            ('Jinping', 'Xi', 10.603)]\n",
    "\n",
    "puntuacio_top = max(scores, key=lambda x: x[2])\n",
    "\n",
    "print(puntuacio_top[0])"
   ]
  },
  {
   "attachments": {},
   "cell_type": "markdown",
   "metadata": {},
   "source": [
    "#### jugador_top\n",
    "Crea una funció \"jugador_top\"\n",
    "que té un paràmetre, el tauler,\n",
    "i retorna el nom_jugador que té\n",
    "la puntuació més alta"
   ]
  },
  {
   "cell_type": "code",
   "execution_count": 5,
   "metadata": {},
   "outputs": [
    {
     "name": "stdout",
     "output_type": "stream",
     "text": [
      "Jinping\n"
     ]
    }
   ],
   "source": [
    "\n",
    "scores = [('David', 'Garcia', 7.85),\n",
    "           ('Carlos', 'Perez', 3.626),\n",
    "            ('Jinping', 'Xi', 10.603)]\n",
    "\n",
    "jugador_top = max(scores, key=lambda x: x[2])\n",
    "\n",
    "print(jugador_top[0])"
   ]
  },
  {
   "attachments": {},
   "cell_type": "markdown",
   "metadata": {},
   "source": [
    "Ara, el \"tauler\"\n",
    "hi haurà una llista de diccionaris, on cada\n",
    "diccionari representa informació\n",
    "sobre un sol jugador.\n",
    "\n",
    "Les claus del diccionari són:\n",
    "\"nom_jugador\", \"puntuacio\", \"pais\", \"nivells\"\n",
    "\n",
    "Per exemple, un diccionari:\n",
    "\n",
    "{\n",
    "   'jugador': 'tr0llhuntah',\n",
    "   \"puntuació\": 200,\n",
    "   'pais': 'no',\n",
    "   'nivells': ['Choco Mountain', 'Rainbow Road']\n",
    "}"
   ]
  },
  {
   "cell_type": "code",
   "execution_count": 6,
   "metadata": {},
   "outputs": [
    {
     "name": "stdout",
     "output_type": "stream",
     "text": [
      "['Choco Mountain', 'Rainbow Road', 'Foggy Swamp', 'Paradise Beach']\n"
     ]
    }
   ],
   "source": [
    "scoreboard = [\n",
    "    {\n",
    "        'player': 'tr0llhuntah',\n",
    "        'score': 200,\n",
    "        'country': 'no',\n",
    "        'levels': [\n",
    "        'Choco Mountain',\n",
    "        ],\n",
    "    },\n",
    "    {\n",
    "        'player': 'mUssaK4',\n",
    "        'score': 300,\n",
    "        'country': 'USA',\n",
    "        'levels': [\n",
    "            'Choco Mountain', \n",
    "            'Rainbow Road', \n",
    "            'Foggy Swamp',\n",
    "            ],\n",
    "    },\n",
    "    {\n",
    "        'player': 'Seito99',\n",
    "        'score': 290,\n",
    "        'country': 'Georgia',\n",
    "        'levels': [\n",
    "            'Choco Mountain',\n",
    "            'Rainbow Road', \n",
    "            'Foggy Swamp', \n",
    "            'Paradise Beach',\n",
    "        ],\n",
    "    },\n",
    "    {\n",
    "        'player': 'Kamacus',\n",
    "        'score': 185,\n",
    "        'country': 'Georgia',\n",
    "        'levels': [\n",
    "            'Choco Mountain',\n",
    "            'Rainbow Road',\n",
    "            'Foggy Swamp',\n",
    "        ],\n",
    "    }\n",
    "]\n",
    "def num_nivells_jugats(tauler):\n",
    "    nivells = []\n",
    "    for jugador in tauler:\n",
    "        for level in jugador [\"levels\"]:\n",
    "            if level not in nivells:\n",
    "                nivells.append(level)\n",
    "    return nivells \n",
    "\n",
    "print(num_nivells_jugats(scoreboard))"
   ]
  },
  {
   "attachments": {},
   "cell_type": "markdown",
   "metadata": {},
   "source": [
    "#### jugador_top_dict\n",
    "Crea una funció \"jugador_top_dict\"\n",
    "que té un paràmetre, el marcador,\n",
    "i retorna el nom_jugador que té\n",
    "la puntuació més alta"
   ]
  },
  {
   "cell_type": "code",
   "execution_count": null,
   "metadata": {},
   "outputs": [],
   "source": []
  },
  {
   "cell_type": "code",
   "execution_count": 7,
   "metadata": {},
   "outputs": [
    {
     "name": "stdout",
     "output_type": "stream",
     "text": [
      "mUssaK4\n"
     ]
    }
   ],
   "source": [
    "scoreboard = [\n",
    "    {\n",
    "        'player': 'tr0llhuntah',\n",
    "        'score': 200,\n",
    "        'country': 'no',\n",
    "        'levels': [\n",
    "        'Choco Mountain',\n",
    "        ],\n",
    "    },\n",
    "    {\n",
    "        'player': 'mUssaK4',\n",
    "        'score': 300,\n",
    "        'country': 'USA',\n",
    "        'levels': [\n",
    "            'Choco Mountain', \n",
    "            'Rainbow Road', \n",
    "            'Foggy Swamp',\n",
    "            ],\n",
    "    },\n",
    "    {\n",
    "        'player': 'Seito99',\n",
    "        'score': 290,\n",
    "        'country': 'Georgia',\n",
    "        'levels': [\n",
    "            'Choco Mountain',\n",
    "            'Rainbow Road', \n",
    "            'Foggy Swamp', \n",
    "            'Paradise Beach',\n",
    "        ],\n",
    "    },\n",
    "    {\n",
    "        'player': 'Kamacus',\n",
    "        'score': 185,\n",
    "        'country': 'Georgia',\n",
    "        'levels': [\n",
    "            'Choco Mountain',\n",
    "            'Rainbow Road',\n",
    "            'Foggy Swamp',\n",
    "        ],\n",
    "    }\n",
    "]\n",
    "\n",
    "import math\n",
    "\n",
    "def jugador_top_dict():\n",
    "    top_score = -math.inf\n",
    "    top_player = None\n",
    "    for player in scoreboard:\n",
    "        if player['score'] > top_score:\n",
    "            top_score = player['score']\n",
    "            top_player = player['player']\n",
    "    return top_player\n",
    "\n",
    "print(jugador_top_dict())"
   ]
  },
  {
   "attachments": {},
   "cell_type": "markdown",
   "metadata": {},
   "source": [
    "#### bons_jugadors\n",
    "Crea una funció \"bons_jugadors\"\n",
    "que té dos paràmetres:\n",
    "1. marcador\n",
    "2. un int (límit)\n",
    "\n",
    "\"bons_jugadors\" retorna una llista de\n",
    "strings, amb els noms dels jugadors\n",
    "que tinguin una puntuació superior o igual a\n",
    "límit."
   ]
  },
  {
   "cell_type": "code",
   "execution_count": 8,
   "metadata": {},
   "outputs": [
    {
     "name": "stdout",
     "output_type": "stream",
     "text": [
      "['mUssaK4', 'Seito99']\n"
     ]
    }
   ],
   "source": [
    "\n",
    "def bons_jugadors(marcador, limit):\n",
    "    list_of_players = []\n",
    "    for jugador in marcador:\n",
    "        if jugador [\"score\"] > limit:\n",
    "            list_of_players.append(jugador[\"player\"])\n",
    "    return list_of_players\n",
    "\n",
    "print(bons_jugadors(scoreboard, 210))\n",
    "\n"
   ]
  },
  {
   "attachments": {},
   "cell_type": "markdown",
   "metadata": {},
   "source": [
    "#### jugador_top_per_pais\n",
    "Crea una funció \"jugador_top_per_pais\"\n",
    "que té dos paràmetres:\n",
    "1. marcador\n",
    "2. un string (país)\n",
    "\n",
    "\"jugador_top_per_pais\" retorna un string\n",
    "amb el nom del jugador amb més alt\n",
    "puntuació al país proporcionat."
   ]
  },
  {
   "cell_type": "code",
   "execution_count": 9,
   "metadata": {},
   "outputs": [
    {
     "name": "stdout",
     "output_type": "stream",
     "text": [
      "mUssaK4\n",
      "Seito99\n",
      "tr0llhuntah\n"
     ]
    }
   ],
   "source": [
    "def jugador_top_per_pais(marcador, pais):\n",
    "    top_score = -1\n",
    "    top_player = None\n",
    "    for jugador in marcador: \n",
    "        if jugador[\"country\"] == pais and jugador[\"score\"] > top_score:\n",
    "            top_score = jugador[\"score\"]\n",
    "            top_player = jugador [\"player\"]\n",
    "    return top_player\n",
    "\n",
    "print(jugador_top_per_pais(scoreboard, \"USA\"))\n",
    "print(jugador_top_per_pais(scoreboard, \"Georgia\"))\n",
    "print(jugador_top_per_pais(scoreboard, \"no\"))\n",
    "        \n",
    "    "
   ]
  },
  {
   "attachments": {},
   "cell_type": "markdown",
   "metadata": {},
   "source": [
    "#### major_num_nivells_jugats\n",
    "Crea una funció \"major_num_nivells_jugats\"\n",
    "que té un paràmetre: \"tauler\".\n",
    "i retorna una tupla (str, int) amb el nom de\n",
    "el jugador que ha jugat més nivells\n",
    "i el nombre de nivells que a jugat"
   ]
  },
  {
   "cell_type": "code",
   "execution_count": 10,
   "metadata": {},
   "outputs": [
    {
     "name": "stdout",
     "output_type": "stream",
     "text": [
      "('Seito99', 4)\n"
     ]
    }
   ],
   "source": [
    "def major_num_nivells_jugats(tauler):\n",
    "    num_nivells_jugats = len(tauler[0][\"levels\"])\n",
    "    player_with_most_levels = tauler[0] [\"player\"]\n",
    "    for player in tauler [1:]:\n",
    "        if len(player[\"levels\"]) > num_nivells_jugats:\n",
    "            num_nivells_jugats = len(player[\"levels\"])\n",
    "            player_with_most_levels = player[\"player\"]\n",
    "    return player_with_most_levels, num_nivells_jugats\n",
    "\n",
    "print(major_num_nivells_jugats(scoreboard))"
   ]
  },
  {
   "attachments": {},
   "cell_type": "markdown",
   "metadata": {},
   "source": [
    "#### num_nivells_jugats\n",
    "Crea una funció \"num_nivells_jugats\"\n",
    "que té un paràmetre: \"tauler\".\n",
    "i retorna una llista de strings amb el\n",
    "noms de tots els nivells que han estat jugats\n",
    "per qualsevol usuari.\n",
    "\n",
    "La llista de nivells pot tenir duplicats."
   ]
  },
  {
   "cell_type": "code",
   "execution_count": 11,
   "metadata": {},
   "outputs": [
    {
     "name": "stdout",
     "output_type": "stream",
     "text": [
      "['Choco Mountain', 'Rainbow Road', 'Foggy Swamp', 'Paradise Beach']\n"
     ]
    }
   ],
   "source": [
    "def num_nivells_jugats(tauler):\n",
    "    nivells = []\n",
    "    for jugador in tauler:\n",
    "        for level in jugador[\"levels\"]:\n",
    "            if level not in nivells:\n",
    "                nivells.append(level)\n",
    "    return nivells\n",
    "\n",
    "print(num_nivells_jugats(scoreboard))"
   ]
  }
 ],
 "metadata": {
  "kernelspec": {
   "display_name": "Python 3",
   "language": "python",
   "name": "python3"
  },
  "language_info": {
   "codemirror_mode": {
    "name": "ipython",
    "version": 3
   },
   "file_extension": ".py",
   "mimetype": "text/x-python",
   "name": "python",
   "nbconvert_exporter": "python",
   "pygments_lexer": "ipython3",
   "version": "3.10.0"
  },
  "vscode": {
   "interpreter": {
    "hash": "b02646c2acf2880c24eece31917d6bae663a5484fc466adbcfd30a4b011917d2"
   }
  }
 },
 "nbformat": 4,
 "nbformat_minor": 4
}
