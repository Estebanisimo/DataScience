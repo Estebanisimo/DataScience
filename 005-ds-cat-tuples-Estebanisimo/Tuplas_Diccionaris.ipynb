{
 "cells": [
  {
   "attachments": {},
   "cell_type": "markdown",
   "metadata": {},
   "source": [
    "Answer the following questions with code:\n",
    "\n",
    "- who has the max score (name)\n",
    "- who has the minimun score (name)\n",
    "- what is the total score\n",
    "- what is the mean score\n",
    "\n",
    "Finally order the tuples \n",
    "\n",
    "- by Score \n",
    "- by Lastname\n"
   ]
  },
  {
   "cell_type": "code",
   "execution_count": 1,
   "metadata": {},
   "outputs": [],
   "source": [
    "# Random scores of students\n",
    "scores = [\n",
    "          ('Carlos', 'Perez', 3.626),\n",
    "          ('Jinping', 'Xi',  -0.603),\n",
    "          ('David', 'Heredia', -7.85),\n",
    "          ('Miguel', 'Garcia', 25.0),\n",
    "          ('Ana', 'Bolena', 15.0),\n",
    "          ('Borja', 'Garcia',35.0),\n",
    "          ('Celeste', 'Mendez', 5.0),   \n",
    "            ]\n",
    "\n",
    "\n"
   ]
  },
  {
   "cell_type": "code",
   "execution_count": 2,
   "metadata": {},
   "outputs": [
    {
     "data": {
      "text/plain": [
       "('Borja', 'Garcia')"
      ]
     },
     "execution_count": 2,
     "metadata": {},
     "output_type": "execute_result"
    }
   ],
   "source": [
    "import math\n",
    "\n",
    "def get_max( scores ):\n",
    "\n",
    "    current_max = -math.inf\n",
    "    best_student = None\n",
    "\n",
    "    for first_name, last_name, score in scores:\n",
    "        if score > current_max:\n",
    "            current_max = score\n",
    "            best_student = (first_name, last_name)\n",
    "\n",
    "    return (best_student, current_max)\n",
    "\n",
    "get_max( scores )[0]"
   ]
  },
  {
   "cell_type": "code",
   "execution_count": 3,
   "metadata": {},
   "outputs": [
    {
     "data": {
      "text/plain": [
       "('Borja', 'Garcia')"
      ]
     },
     "execution_count": 3,
     "metadata": {},
     "output_type": "execute_result"
    }
   ],
   "source": [
    "max( scores, key= lambda x:x[2])[0:2]"
   ]
  },
  {
   "cell_type": "code",
   "execution_count": 4,
   "metadata": {},
   "outputs": [
    {
     "data": {
      "text/plain": [
       "('David', 'Heredia')"
      ]
     },
     "execution_count": 4,
     "metadata": {},
     "output_type": "execute_result"
    }
   ],
   "source": [
    "def get_min( scores ):\n",
    "\n",
    "    current_min = math.inf\n",
    "    student = None\n",
    "\n",
    "    for first_name, last_name, score in scores:\n",
    "        if score < current_min:\n",
    "            current_min = score\n",
    "            student = (first_name, last_name)\n",
    "\n",
    "    return (student, current_min)\n",
    "\n",
    "get_min( scores )[0]"
   ]
  },
  {
   "cell_type": "code",
   "execution_count": 5,
   "metadata": {},
   "outputs": [
    {
     "data": {
      "text/plain": [
       "('David', 'Heredia')"
      ]
     },
     "execution_count": 5,
     "metadata": {},
     "output_type": "execute_result"
    }
   ],
   "source": [
    "min(scores, key= lambda x: x[2])[0:2]"
   ]
  },
  {
   "cell_type": "code",
   "execution_count": 6,
   "metadata": {},
   "outputs": [
    {
     "data": {
      "text/plain": [
       "75.173"
      ]
     },
     "execution_count": 6,
     "metadata": {},
     "output_type": "execute_result"
    }
   ],
   "source": [
    "# Sum of scores with a for loop\n",
    "def sum_scores( scores ):\n",
    "    total = 0\n",
    "    for first_name, last_name, score in scores:\n",
    "        total += score\n",
    "    return total\n",
    "sum_scores( scores )"
   ]
  },
  {
   "cell_type": "code",
   "execution_count": 7,
   "metadata": {},
   "outputs": [
    {
     "data": {
      "text/plain": [
       "75.173"
      ]
     },
     "execution_count": 7,
     "metadata": {},
     "output_type": "execute_result"
    }
   ],
   "source": [
    "# Sum of scores\n",
    "sum( [x[2] for x in scores] )"
   ]
  },
  {
   "cell_type": "code",
   "execution_count": 8,
   "metadata": {},
   "outputs": [
    {
     "data": {
      "text/plain": [
       "10.739"
      ]
     },
     "execution_count": 8,
     "metadata": {},
     "output_type": "execute_result"
    }
   ],
   "source": [
    "# Average with a for loop\n",
    "def average_scores( scores ):\n",
    "    total = 0\n",
    "    for first_name, last_name, score in scores:\n",
    "        total += score\n",
    "    return total / len(scores)\n",
    "average_scores( scores )    "
   ]
  },
  {
   "cell_type": "code",
   "execution_count": 9,
   "metadata": {},
   "outputs": [
    {
     "name": "stdout",
     "output_type": "stream",
     "text": [
      "10.739\n"
     ]
    }
   ],
   "source": [
    "# Average with list comprehension\n",
    "scores_only = [score[2] for score in scores]\n",
    "average = sum(scores_only) / len(scores_only)\n",
    "print(average)"
   ]
  },
  {
   "cell_type": "code",
   "execution_count": 10,
   "metadata": {},
   "outputs": [
    {
     "data": {
      "text/plain": [
       "[('Borja', 'Garcia', 35.0),\n",
       " ('Miguel', 'Garcia', 25.0),\n",
       " ('Ana', 'Bolena', 15.0),\n",
       " ('Celeste', 'Mendez', 5.0),\n",
       " ('Carlos', 'Perez', 3.626),\n",
       " ('Jinping', 'Xi', -0.603),\n",
       " ('David', 'Heredia', -7.85)]"
      ]
     },
     "execution_count": 10,
     "metadata": {},
     "output_type": "execute_result"
    }
   ],
   "source": [
    "# Sort by score\n",
    "sorted( scores, key= lambda x: x[2], reverse=True)"
   ]
  },
  {
   "cell_type": "code",
   "execution_count": 11,
   "metadata": {},
   "outputs": [
    {
     "data": {
      "text/plain": [
       "[('Ana', 'Bolena', 15.0),\n",
       " ('Miguel', 'Garcia', 25.0),\n",
       " ('Borja', 'Garcia', 35.0),\n",
       " ('David', 'Heredia', -7.85),\n",
       " ('Celeste', 'Mendez', 5.0),\n",
       " ('Carlos', 'Perez', 3.626),\n",
       " ('Jinping', 'Xi', -0.603)]"
      ]
     },
     "execution_count": 11,
     "metadata": {},
     "output_type": "execute_result"
    }
   ],
   "source": [
    "# Sort by last name\n",
    "sorted( scores, key= lambda x: x[1] )"
   ]
  },
  {
   "attachments": {},
   "cell_type": "markdown",
   "metadata": {},
   "source": [
    "## Tauler"
   ]
  },
  {
   "attachments": {},
   "cell_type": "markdown",
   "metadata": {},
   "source": [
    "INSTRUCCIONS:\n",
    "Per a aquest exercici treballarem amb un\n",
    "\"tauler\" per a un joc imaginari.\n",
    "Escribirem funcions\n",
    "que operaran dins de les dades del \"tauler\"\n",
    "per a calcular determinats resultats."
   ]
  },
  {
   "attachments": {},
   "cell_type": "markdown",
   "metadata": {},
   "source": [
    "Per a aquestes funcions, el \"tauler\"\n",
    "serà una llista de tuples, on cada\n",
    "tupla té la forma (str, int)\n",
    "representant (nom_jugador, puntuació)\n",
    "\n",
    "Per exemple:\n",
    "[('kewld00d1', 100), ('pumpkin', 550)]"
   ]
  },
  {
   "attachments": {},
   "cell_type": "markdown",
   "metadata": {},
   "source": [
    "#### obtenir_puntuacions\n",
    "Crea una funció \"obtenir_puntuacions\"\n",
    "que té un paràmetre, el tauler,\n",
    "i retorna una llista de la mateixa mida\n",
    "amb només les puntuacions de cada jugador\n",
    "(una llista d'ints)"
   ]
  },
  {
   "cell_type": "code",
   "execution_count": 12,
   "metadata": {},
   "outputs": [
    {
     "data": {
      "text/plain": [
       "[3.626, -0.603, -7.85, 25.0, 15.0, 35.0, 5.0]"
      ]
     },
     "execution_count": 12,
     "metadata": {},
     "output_type": "execute_result"
    }
   ],
   "source": [
    "# With a for loop\n",
    "def get_scores( scores):\n",
    "    scores_only = []\n",
    "    for first_name, last_name, score in scores:\n",
    "        scores_only.append(score)\n",
    "    return scores_only\n",
    "get_scores( scores )"
   ]
  },
  {
   "cell_type": "code",
   "execution_count": 13,
   "metadata": {},
   "outputs": [
    {
     "data": {
      "text/plain": [
       "[3.626, -0.603, -7.85, 25.0, 15.0, 35.0, 5.0]"
      ]
     },
     "execution_count": 13,
     "metadata": {},
     "output_type": "execute_result"
    }
   ],
   "source": [
    "def get_scores( scores):\n",
    "    return [score[2] for score in scores]\n",
    "\n",
    "get_scores( scores )"
   ]
  },
  {
   "attachments": {},
   "cell_type": "markdown",
   "metadata": {},
   "source": [
    "#### puntuacio_top\n",
    "Crea una funció \"puntuacio_top\"\n",
    "que té un paràmetre, el tauler,\n",
    "i retorna un int, la puntuació més alta\n",
    "al marcador\n"
   ]
  },
  {
   "cell_type": "code",
   "execution_count": 14,
   "metadata": {},
   "outputs": [
    {
     "data": {
      "text/plain": [
       "35.0"
      ]
     },
     "execution_count": 14,
     "metadata": {},
     "output_type": "execute_result"
    }
   ],
   "source": [
    "def get_max_score( scores ):\n",
    "    scores_only = get_scores( scores )\n",
    "    return max( scores_only )\n",
    "\n",
    "get_max_score( scores )"
   ]
  },
  {
   "cell_type": "code",
   "execution_count": 15,
   "metadata": {},
   "outputs": [
    {
     "data": {
      "text/plain": [
       "35.0"
      ]
     },
     "execution_count": 15,
     "metadata": {},
     "output_type": "execute_result"
    }
   ],
   "source": [
    "def get_max_score_1( scores ):\n",
    "    # First get the scores wtih a list comprehension\n",
    "    # Then get the max of the scores of the list\n",
    "    return max( [score[2] for score in scores] )\n",
    "get_max_score_1( scores )"
   ]
  },
  {
   "cell_type": "code",
   "execution_count": 16,
   "metadata": {},
   "outputs": [
    {
     "data": {
      "text/plain": [
       "35.0"
      ]
     },
     "execution_count": 16,
     "metadata": {},
     "output_type": "execute_result"
    }
   ],
   "source": [
    "def get_max_score_2( scores ):\n",
    "    # Get the max of the scores of the list with a lambda function as key\n",
    "    max_tuple = max( scores, key= lambda x: x[2] ) # Example of max_tuple : ('Borja', 'Garcia', 35.0) \n",
    "    return max_tuple[2]\n",
    "get_max_score_2( scores )"
   ]
  },
  {
   "attachments": {},
   "cell_type": "markdown",
   "metadata": {},
   "source": [
    "#### jugador_top\n",
    "Crea una funció \"jugador_top\"\n",
    "que té un paràmetre, el tauler,\n",
    "i retorna el nom_jugador que té\n",
    "la puntuació més alta"
   ]
  },
  {
   "cell_type": "code",
   "execution_count": 17,
   "metadata": {},
   "outputs": [
    {
     "data": {
      "text/plain": [
       "('Borja', 'Garcia')"
      ]
     },
     "execution_count": 17,
     "metadata": {},
     "output_type": "execute_result"
    }
   ],
   "source": [
    "# With a for loop\n",
    "\n",
    "def get_top_player( scores ):\n",
    "    current_max = -math.inf\n",
    "    best_student = None\n",
    "\n",
    "    for first_name, last_name, score in scores:\n",
    "        if score > current_max:\n",
    "            current_max = score\n",
    "            best_student = (first_name, last_name)\n",
    "\n",
    "    return (best_student, current_max)\n",
    "\n",
    "get_top_player( scores )[0]"
   ]
  },
  {
   "cell_type": "code",
   "execution_count": 18,
   "metadata": {},
   "outputs": [
    {
     "data": {
      "text/plain": [
       "('Borja', 'Garcia')"
      ]
     },
     "execution_count": 18,
     "metadata": {},
     "output_type": "execute_result"
    }
   ],
   "source": [
    "# With a for loop\n",
    "def get_top_player( scores ):\n",
    "    max_score = get_max_score( scores )\n",
    "    for first_name, last_name, score in scores:\n",
    "        if score == max_score:\n",
    "            return (first_name, last_name)\n",
    "\n",
    "get_top_player( scores )"
   ]
  },
  {
   "cell_type": "code",
   "execution_count": 19,
   "metadata": {},
   "outputs": [
    {
     "data": {
      "text/plain": [
       "('Borja', 'Garcia')"
      ]
     },
     "execution_count": 19,
     "metadata": {},
     "output_type": "execute_result"
    }
   ],
   "source": [
    "def get_top_player( scores ):\n",
    "    max_tuple = max( scores, key= lambda x: x[2] ) \n",
    "    # Example of max_tuple : ('Borja', 'Garcia', 35.0) \n",
    "    return max_tuple[0:2] # Example of return : ('Borja', 'Garcia')\n",
    "get_top_player( scores )\n"
   ]
  },
  {
   "attachments": {},
   "cell_type": "markdown",
   "metadata": {},
   "source": [
    "Ara, el \"tauler\"\n",
    "hi haurà una llista de diccionaris, on cada\n",
    "diccionari representa informació\n",
    "sobre un sol jugador.\n",
    "\n",
    "Les claus del diccionari són:\n",
    "\"nom_jugador\", \"puntuacio\", \"pais\", \"nivells\"\n",
    "\n",
    "Per exemple, un diccionari:\n",
    "\n",
    "{\n",
    "   'jugador': 'tr0llhuntah',\n",
    "   \"puntuació\": 200,\n",
    "   'pais': 'no',\n",
    "   'nivells': ['Choco Mountain', 'Rainbow Road']\n",
    "}"
   ]
  },
  {
   "cell_type": "code",
   "execution_count": 20,
   "metadata": {},
   "outputs": [],
   "source": [
    "scoreboard = [{\n",
    "   'player': 'tr0llhuntah',\n",
    "   'score': 200,\n",
    "   'country': 'no',\n",
    "   'levels': ['Choco Mountain']\n",
    "    },\n",
    "   {'player': 'mUssaK4',\n",
    "   'score': 300,\n",
    "   'country': 'USA',\n",
    "   'levels': ['Choco Mountain', 'Rainbow Road', 'Foggy Swamp']\n",
    "   },\n",
    "   {'player': 'Seito99',\n",
    "   'score': 290,\n",
    "   'country': 'Georgia',\n",
    "   'levels': ['Choco Mountain', 'Rainbow Road', 'Foggy Swamp', 'Paradise Beach']\n",
    "   },\n",
    "   {'player': 'Kamacus',\n",
    "   'score': 185,\n",
    "   'country': 'Georgia',\n",
    "   'levels': ['Chocolate Mountain', 'Rainbow Road', 'Foggy Swamp']\n",
    "    },\n",
    "    ]"
   ]
  },
  {
   "attachments": {},
   "cell_type": "markdown",
   "metadata": {},
   "source": [
    "#### jugador_top_dict\n",
    "Crea una funció \"jugador_top_dict\"\n",
    "que té un paràmetre, el marcador,\n",
    "i retorna el nom_jugador que té\n",
    "la puntuació més alta"
   ]
  },
  {
   "cell_type": "code",
   "execution_count": 21,
   "metadata": {},
   "outputs": [
    {
     "data": {
      "text/plain": [
       "'mUssaK4'"
      ]
     },
     "execution_count": 21,
     "metadata": {},
     "output_type": "execute_result"
    }
   ],
   "source": [
    "# For loop\n",
    "def top_dict_player(scoreboard):\n",
    "    \"\"\" Finds the name of the player with the best score\"\"\"\n",
    "    current_max = -math.inf\n",
    "    best_player = None\n",
    "    for player_info in scoreboard:\n",
    "        if player_info['score'] > current_max:\n",
    "            current_max = player_info['score']\n",
    "            best_player = player_info['player']\n",
    "    return best_player\n",
    "\n",
    "top_dict_player(scoreboard)"
   ]
  },
  {
   "cell_type": "code",
   "execution_count": 22,
   "metadata": {},
   "outputs": [
    {
     "data": {
      "text/plain": [
       "'mUssaK4'"
      ]
     },
     "execution_count": 22,
     "metadata": {},
     "output_type": "execute_result"
    }
   ],
   "source": [
    "# With max\n",
    "def top_dict_player(scoreboard):\n",
    "    \"\"\" Finds the name of the player with the best score\"\"\"\n",
    "    max_score_info = max( scoreboard, key= lambda player_info: player_info[\"score\"])\n",
    "    return max_score_info[\"player\"]\n",
    "\n",
    "top_dict_player(scoreboard)"
   ]
  },
  {
   "cell_type": "code",
   "execution_count": 23,
   "metadata": {},
   "outputs": [
    {
     "data": {
      "text/plain": [
       "'mUssaK4'"
      ]
     },
     "execution_count": 23,
     "metadata": {},
     "output_type": "execute_result"
    }
   ],
   "source": [
    "def top_dict_player(scoreboard):\n",
    "    return max( scoreboard, key= lambda player_info: player_info[\"score\"])[\"player\"]\n",
    "\n",
    "top_dict_player(scoreboard)"
   ]
  },
  {
   "attachments": {},
   "cell_type": "markdown",
   "metadata": {},
   "source": [
    "#### bons_jugadors\n",
    "Crea una funció \"bons_jugadors\"\n",
    "que té dos paràmetres:\n",
    "1. marcador\n",
    "2. un int (límit)\n",
    "\n",
    "\"bons_jugadors\" retorna una llista de\n",
    "strings, amb els noms dels jugadors\n",
    "que tinguin una puntuació superior o igual a\n",
    "límit."
   ]
  },
  {
   "cell_type": "code",
   "execution_count": 24,
   "metadata": {},
   "outputs": [
    {
     "data": {
      "text/plain": [
       "(['mUssaK4', 'Seito99'], [], ['tr0llhuntah', 'mUssaK4', 'Seito99', 'Kamacus'])"
      ]
     },
     "execution_count": 24,
     "metadata": {},
     "output_type": "execute_result"
    }
   ],
   "source": [
    "# with a for loop\n",
    "def good_players(scoreboard, limit):\n",
    "    \"\"\" Returns a list of players with a score over a limit\"\"\"\n",
    "    good_players = []\n",
    "    for player_info in scoreboard:\n",
    "        if player_info['score'] > limit:\n",
    "            good_players.append(player_info['player'])\n",
    "    return good_players\n",
    "\n",
    "good_players(scoreboard, 200), good_players(scoreboard, 300), good_players(scoreboard, 100)\n"
   ]
  },
  {
   "cell_type": "code",
   "execution_count": 25,
   "metadata": {},
   "outputs": [
    {
     "data": {
      "text/plain": [
       "(['mUssaK4', 'Seito99'], [], ['tr0llhuntah', 'mUssaK4', 'Seito99', 'Kamacus'])"
      ]
     },
     "execution_count": 25,
     "metadata": {},
     "output_type": "execute_result"
    }
   ],
   "source": [
    "# with list comprehension\n",
    "def good_players(scoreboard, limit):\n",
    "    \"\"\" Returns a list of players with a score over a limit\"\"\"\n",
    "    return [player_info[\"player\"] for player_info in scoreboard if player_info[\"score\"] > limit]\n",
    "\n",
    "good_players(scoreboard, 200), good_players(scoreboard, 300), good_players(scoreboard, 100)"
   ]
  },
  {
   "cell_type": "code",
   "execution_count": 26,
   "metadata": {},
   "outputs": [
    {
     "data": {
      "text/plain": [
       "(['mUssaK4', 'Seito99'], [], ['tr0llhuntah', 'mUssaK4', 'Seito99', 'Kamacus'])"
      ]
     },
     "execution_count": 26,
     "metadata": {},
     "output_type": "execute_result"
    }
   ],
   "source": [
    "# With a filter + map\n",
    "def good_players(scoreboard, limit):\n",
    "    \"\"\" Returns a list of player names with a score over a limit\"\"\"\n",
    "    scores_info_that_pass = filter(lambda player_info: player_info[\"score\"] > limit, scoreboard)\n",
    "    return list(map(lambda player_info: player_info[\"player\"], scores_info_that_pass))  \n",
    "\n",
    "good_players(scoreboard, 200), good_players(scoreboard, 300), good_players(scoreboard, 100)"
   ]
  },
  {
   "attachments": {},
   "cell_type": "markdown",
   "metadata": {},
   "source": [
    "#### jugador_top_per_pais\n",
    "Crea una funció \"jugador_top_per_pais\"\n",
    "que té dos paràmetres:\n",
    "1. marcador\n",
    "2. un string (país)\n",
    "\n",
    "\"jugador_top_per_pais\" retorna un string\n",
    "amb el nom del jugador amb més alt\n",
    "puntuació al país proporcionat."
   ]
  },
  {
   "cell_type": "code",
   "execution_count": 27,
   "metadata": {},
   "outputs": [
    {
     "data": {
      "text/plain": [
       "('mUssaK4', 'Seito99', 'tr0llhuntah')"
      ]
     },
     "execution_count": 27,
     "metadata": {},
     "output_type": "execute_result"
    }
   ],
   "source": [
    "# With a for loop\n",
    "def top_play_by_country(scoreboard, country):\n",
    "    \"\"\" Returns the name of the best player of a country\"\"\"\n",
    "    current_max = -math.inf\n",
    "    best_player = None\n",
    "    for player_info in scoreboard:\n",
    "        if player_info['country'] == country:\n",
    "            if player_info['score'] > current_max:\n",
    "                current_max = player_info['score']\n",
    "                best_player = player_info['player']\n",
    "    return best_player\n",
    "\n",
    "top_play_by_country(scoreboard, \"USA\"), top_play_by_country(scoreboard, \"Georgia\"), top_play_by_country(scoreboard, \"no\")\n"
   ]
  },
  {
   "cell_type": "code",
   "execution_count": 28,
   "metadata": {},
   "outputs": [
    {
     "data": {
      "text/plain": [
       "('mUssaK4', 'Seito99', 'tr0llhuntah')"
      ]
     },
     "execution_count": 28,
     "metadata": {},
     "output_type": "execute_result"
    }
   ],
   "source": [
    "# With filter, max and key \n",
    "def top_play_by_country(scoreboard, country):\n",
    "    \"\"\" Returns the name of the best player of a country\"\"\"\n",
    "    country_players = filter(lambda player_info: player_info[\"country\"] == country, scoreboard)\n",
    "    return max(country_players, key= lambda player_info: player_info[\"score\"])[\"player\"]\n",
    "    \n",
    "top_play_by_country(scoreboard, \"USA\"), top_play_by_country(scoreboard, \"Georgia\"), top_play_by_country(scoreboard, \"no\")"
   ]
  },
  {
   "cell_type": "code",
   "execution_count": 29,
   "metadata": {},
   "outputs": [
    {
     "data": {
      "text/plain": [
       "('mUssaK4', 'Seito99', 'tr0llhuntah')"
      ]
     },
     "execution_count": 29,
     "metadata": {},
     "output_type": "execute_result"
    }
   ],
   "source": [
    "# With filter and reusing the function top_dict_player\n",
    "def top_play_by_country(scoreboard, country):\n",
    "    \"\"\" Returns the name of the best player of a country\"\"\"\n",
    "    country_players = filter(lambda player_info: player_info[\"country\"] == country, scoreboard)\n",
    "    return top_dict_player(country_players)\n",
    "\n",
    "top_play_by_country(scoreboard, \"USA\"), top_play_by_country(scoreboard, \"Georgia\"), top_play_by_country(scoreboard, \"no\")\n"
   ]
  },
  {
   "attachments": {},
   "cell_type": "markdown",
   "metadata": {},
   "source": [
    "#### num_nivells_jugats\n",
    "Crea una funció \"num_nivells_jugats\"\n",
    "que té un paràmetre: \"tauler\".\n",
    "i retorna una llista de strings amb el\n",
    "noms de tots els nivells que han estat jugats\n",
    "per qualsevol usuari.\n",
    "\n",
    "La llista de nivells pot tenir duplicats."
   ]
  },
  {
   "cell_type": "code",
   "execution_count": 30,
   "metadata": {},
   "outputs": [
    {
     "data": {
      "text/plain": [
       "['Choco Mountain',\n",
       " 'Rainbow Road',\n",
       " 'Foggy Swamp',\n",
       " 'Paradise Beach',\n",
       " 'Chocolate Mountain']"
      ]
     },
     "execution_count": 30,
     "metadata": {},
     "output_type": "execute_result"
    }
   ],
   "source": [
    "def total_levels_played(scoreboard):\n",
    "    \"\"\" Returns a list of the levels played by all players without repetitions\"\"\"\n",
    "    levels = []\n",
    "    for player_info in scoreboard:\n",
    "        for level in player_info[\"levels\"]:\n",
    "            if level not in levels:\n",
    "                levels.append(level)\n",
    "    return levels\n",
    "\n",
    "total_levels_played(scoreboard)"
   ]
  },
  {
   "cell_type": "code",
   "execution_count": 31,
   "metadata": {},
   "outputs": [
    {
     "data": {
      "text/plain": [
       "['Rainbow Road',\n",
       " 'Foggy Swamp',\n",
       " 'Choco Mountain',\n",
       " 'Chocolate Mountain',\n",
       " 'Paradise Beach']"
      ]
     },
     "execution_count": 31,
     "metadata": {},
     "output_type": "execute_result"
    }
   ],
   "source": [
    "# With sets\n",
    "def total_levels_played(scoreboard):\n",
    "    \"\"\" Returns a list of the levels played by all players without repetitions\"\"\"\n",
    "    levels = set()\n",
    "    for player_info in scoreboard:\n",
    "        for level in player_info[\"levels\"]:\n",
    "            levels.add(level)\n",
    "    return list(levels)\n",
    "\n",
    "total_levels_played(scoreboard)"
   ]
  },
  {
   "attachments": {},
   "cell_type": "markdown",
   "metadata": {},
   "source": [
    "#### major_num_nivells_jugats\n",
    "Crea una funció \"major_num_nivells_jugats\"\n",
    "que té un paràmetre: \"tauler\".\n",
    "i retorna una tupla (str, int) amb el nom de\n",
    "el jugador que ha jugat més nivells\n",
    "i el nombre de nivells que a jugat"
   ]
  },
  {
   "cell_type": "code",
   "execution_count": 32,
   "metadata": {},
   "outputs": [
    {
     "data": {
      "text/plain": [
       "('Seito99', 4)"
      ]
     },
     "execution_count": 32,
     "metadata": {},
     "output_type": "execute_result"
    }
   ],
   "source": [
    "# For loop\n",
    "def higher_number_of_levels_played(scoreboard):\n",
    "    \"\"\" Returns the player with the highest number of levels played\"\"\"\n",
    "    current_max = -math.inf\n",
    "    best_player = None\n",
    "    for player_info in scoreboard:\n",
    "        if len(player_info[\"levels\"]) > current_max:\n",
    "            current_max = len(player_info[\"levels\"])\n",
    "            best_player = player_info[\"player\"]\n",
    "    return (best_player, current_max)\n",
    "\n",
    "higher_number_of_levels_played(scoreboard)"
   ]
  },
  {
   "cell_type": "code",
   "execution_count": 33,
   "metadata": {},
   "outputs": [
    {
     "data": {
      "text/plain": [
       "('Seito99', 4)"
      ]
     },
     "execution_count": 33,
     "metadata": {},
     "output_type": "execute_result"
    }
   ],
   "source": [
    "# With max\n",
    "def higher_number_of_levels_played(scoreboard):\n",
    "    \"\"\" Returns the player with the highest number of levels played\"\"\"\n",
    "    max_score_info = max(scoreboard, key= lambda player_info: len(player_info[\"levels\"]))\n",
    "    return max_score_info[\"player\"], len(max_score_info[\"levels\"])\n",
    "    \n",
    "higher_number_of_levels_played(scoreboard)"
   ]
  }
 ],
 "metadata": {
  "kernelspec": {
   "display_name": "Python 3",
   "language": "python",
   "name": "python3"
  },
  "language_info": {
   "codemirror_mode": {
    "name": "ipython",
    "version": 3
   },
   "file_extension": ".py",
   "mimetype": "text/x-python",
   "name": "python",
   "nbconvert_exporter": "python",
   "pygments_lexer": "ipython3",
   "version": "3.10.0"
  },
  "vscode": {
   "interpreter": {
    "hash": "31f2aee4e71d21fbe5cf8b01ff0e069b9275f58929596ceb00d14d90e3e16cd6"
   }
  }
 },
 "nbformat": 4,
 "nbformat_minor": 4
}
