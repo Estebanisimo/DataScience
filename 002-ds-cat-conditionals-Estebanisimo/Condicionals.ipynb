{
 "cells": [
  {
   "cell_type": "markdown",
   "metadata": {},
   "source": [
    "# Condicionals"
   ]
  },
  {
   "attachments": {},
   "cell_type": "markdown",
   "metadata": {},
   "source": [
    "#### treball\n",
    "Crear una funció anomenada \"treball\"\n",
    "que tignui un paràmetre: `cansat`\n",
    "que és un boolean.\n",
    "si `cansat` és True, treball hauria de ser\n",
    "False. Si `cansat` és False, treball hauria\n",
    "de ser True. (és a dir, tornar el contrari)"
   ]
  },
  {
   "cell_type": "code",
   "execution_count": 5,
   "metadata": {},
   "outputs": [
    {
     "name": "stdout",
     "output_type": "stream",
     "text": [
      "False\n"
     ]
    }
   ],
   "source": [
    "def treball(cansat):\n",
    "    if cansat == True:\n",
    "        return treball == False\n",
    "    elif cansat == False:\n",
    "        return treball == True\n",
    "    else:\n",
    "        None\n",
    "        \n",
    "print(treball(True))"
   ]
  },
  {
   "attachments": {},
   "cell_type": "markdown",
   "metadata": {},
   "source": [
    "----"
   ]
  },
  {
   "attachments": {},
   "cell_type": "markdown",
   "metadata": {},
   "source": [
    "#### es_par\n",
    "Crear una funció anomenada `es_par`\n",
    "que agafa un paràmetre: \"num\"\n",
    "que és un número.\n",
    "Retorna True si el nombre és par\n",
    "i False si el nombre és senar.\n",
    "Si el parametre no es un número, hauria de generar un error"
   ]
  },
  {
   "cell_type": "markdown",
   "metadata": {},
   "source": [
    "----"
   ]
  },
  {
   "cell_type": "code",
   "execution_count": 46,
   "metadata": {},
   "outputs": [
    {
     "data": {
      "text/plain": [
       "False"
      ]
     },
     "execution_count": 46,
     "metadata": {},
     "output_type": "execute_result"
    }
   ],
   "source": [
    "def es_par(x):\n",
    "    if x%2 != 0:\n",
    "        return False\n",
    "    else:\n",
    "        return True\n",
    "        \n",
    "es_par(21)"
   ]
  },
  {
   "attachments": {},
   "cell_type": "markdown",
   "metadata": {},
   "source": [
    "#### cotxe_en_semafor\n",
    "Crear una funció anomenada \"cotxe_en_semafor\"\n",
    "Hauria de agafar un paràmetre: \"llum\"\n",
    "que dóna el color d'un semàfor.\n",
    "Si el color és \"vermell\", la funció hauria de tornar\n",
    "\"Stop\". Si el color és \"verd\", la funció\n",
    "hauria de tornar \"Endavant\". Si el color és \"groc\"\n",
    "la funció hauria de tornar \"Espera\". Si el color\n",
    "és una altra cosa, la funció hauria de retornar una excepció."
   ]
  },
  {
   "cell_type": "markdown",
   "metadata": {},
   "source": [
    "----"
   ]
  },
  {
   "cell_type": "code",
   "execution_count": 50,
   "metadata": {},
   "outputs": [
    {
     "data": {
      "text/plain": [
       "ValueError('El semáforo ha de ser verde, amarillo o rojo')"
      ]
     },
     "execution_count": 50,
     "metadata": {},
     "output_type": "execute_result"
    }
   ],
   "source": [
    "def coche_en_semaforo(color):\n",
    "    if color == \"rojo\":\n",
    "        return \"Stop\"\n",
    "    elif color == \"amarillo\":\n",
    "        return \"Espera\"\n",
    "    elif color == \"verde\":\n",
    "        return \"Avance\"\n",
    "    else:\n",
    "        return ValueError (\"El semáforo ha de ser verde, amarillo o rojo\")\n",
    "    \n",
    "coche_en_semaforo(\"azul\")"
   ]
  },
  {
   "attachments": {},
   "cell_type": "markdown",
   "metadata": {},
   "source": [
    "#### fa_fred\n",
    "Crea una funció anomenada `fa_fred`\n",
    "que agafa un paràmetre: `temperatura`\n",
    "que és un nombre.\n",
    "Si la temperatura és superior als 15 graus,\n",
    "hauria de tornar False,\n",
    "si és igual o inferior a 15 graus,\n",
    "hauria de tornar True,\n",
    "si la temperatura no és un nombre,\n",
    "hauria de donar una excepció que\n",
    "diu \"la temperatura ha de ser un nombre\"\n",
    "(Pista: heu de plantejar una excepció\n",
    "amb EXACTAMENT aquest missatge)"
   ]
  },
  {
   "cell_type": "markdown",
   "metadata": {},
   "source": [
    "----"
   ]
  },
  {
   "cell_type": "code",
   "execution_count": 42,
   "metadata": {},
   "outputs": [
    {
     "ename": "SyntaxError",
     "evalue": "invalid syntax (3808774155.py, line 7)",
     "output_type": "error",
     "traceback": [
      "\u001b[1;36m  Cell \u001b[1;32mIn[42], line 7\u001b[1;36m\u001b[0m\n\u001b[1;33m    raise TypeError \"la temperatura tiene que ser un número\"\u001b[0m\n\u001b[1;37m                    ^\u001b[0m\n\u001b[1;31mSyntaxError\u001b[0m\u001b[1;31m:\u001b[0m invalid syntax\n"
     ]
    }
   ],
   "source": [
    "def hace_frio(temperatura):\n",
    "    if temperatura > 15:\n",
    "        return False\n",
    "    elif temperatura <= 15:\n",
    "            return True\n",
    "    else:\n",
    "        raise TypeError \"la temperatura tiene que ser un número\"\n",
    "    \n",
    "\n",
    "hace_frio(\"calor\")"
   ]
  },
  {
   "attachments": {},
   "cell_type": "markdown",
   "metadata": {},
   "source": [
    "#### porta_jersei\n",
    "Crea una funció anomenada `porta_jersei`\n",
    "que tindrá dos paràmetres: `temperatura`, `friolera`\n",
    "El primer és un nombre, el segon una boleana\n",
    "(que de vegades pot ser un None).\n",
    "Si la temperatura és superior a 15,\n",
    "hauria de tornar False,\n",
    "si és de 15 o menys,\n",
    "hauria de tornar True si la variable `friolera`\n",
    "és True, False si `friolera` és False,\n",
    "i True si `friolera` és None.\n",
    "(En altres paraules, si no sabem si\n",
    "és `friolera` o no, hauríem d'actuar\n",
    "amb precaució i digueu-li que porti un jersei)\n",
    "(Pista: hauríeu d'utilitzar la funció fa_fred!)"
   ]
  },
  {
   "cell_type": "markdown",
   "metadata": {},
   "source": [
    "*El següent conjunt de casos és el que volem condicionar*\n",
    "\n",
    "- Temperatura>15, no importa què sigui friolera -> no et portis jersei, fa calor\n",
    "- Temperatura<15,friolera=True -> portar jersei\n",
    "- Temperatura <15,friolera=False -> No cal portar jersei\n",
    "- Temperatura<15,friolera=None -> siguem curosos i portem jersei"
   ]
  },
  {
   "cell_type": "markdown",
   "metadata": {},
   "source": [
    "----"
   ]
  },
  {
   "cell_type": "code",
   "execution_count": 52,
   "metadata": {},
   "outputs": [
    {
     "data": {
      "text/plain": [
       "'seamos precavidos y lleva jersei'"
      ]
     },
     "execution_count": 52,
     "metadata": {},
     "output_type": "execute_result"
    }
   ],
   "source": [
    "def lleva_jersei (temperatura, friolera):\n",
    "    if temperatura > 15:\n",
    "        return \"No lleves jersei, hará calor\"\n",
    "    elif temperatura <= 15 and friolera == True:\n",
    "        return \"lleva jersei\"\n",
    "    elif temperatura <= 15 and friolera == False:\n",
    "        return \"no hace falta llevar jersei\"\n",
    "    else:\n",
    "        return \"seamos precavidos y lleva jersei\"\n",
    "    \n",
    "\n",
    "lleva_jersei(12, None)"
   ]
  },
  {
   "cell_type": "markdown",
   "metadata": {},
   "source": [
    "#### igualtat\n",
    "Crea una funció anomenada \"igualtat\"\n",
    "que agafi tres paràmetres: \"x\", \"y\" i \"z\"\n",
    "hauria de retornar el següent:\n",
    "si x, y i z són tots iguals --> \"tots són iguals\"\n",
    "si només x i y són iguals --> \"x i y són iguals\"\n",
    "si només z i x són iguals --> \"x i z són iguals\"\n",
    "si només y i z són iguals --> \"y i z són iguals\"\n",
    "si res és igual --> \"res és igual\""
   ]
  },
  {
   "cell_type": "markdown",
   "metadata": {},
   "source": [
    "----"
   ]
  },
  {
   "cell_type": "code",
   "execution_count": 54,
   "metadata": {},
   "outputs": [
    {
     "data": {
      "text/plain": [
       "'x y z son iguales'"
      ]
     },
     "execution_count": 54,
     "metadata": {},
     "output_type": "execute_result"
    }
   ],
   "source": [
    "def igualdad(x, y, z):\n",
    "    if x == y == z:\n",
    "        return \"son todos iguales\"\n",
    "    elif x == y:\n",
    "        return \"x y y son iguales\"\n",
    "    elif x == z:\n",
    "        return \"x y z son iguales\"\n",
    "    elif y == z:\n",
    "        return \"y y z son iguales\"\n",
    "    else:\n",
    "        return \"nada es igual\"\n",
    "    \n",
    "\n",
    "igualdad(2,3,2)"
   ]
  },
  {
   "cell_type": "markdown",
   "metadata": {},
   "source": [
    "#### conductor\n",
    "Escriu una funció per a la situació següent:\n",
    "Sofia pot conduir cotxes manuals i automàtics.\n",
    "Diego només sap conduir automàtics.\n",
    "Sofia prefereix conduir llargues distàncies (> 10 km).\n",
    "Diego prefereix conduir distàncies curtes.\n",
    "\n",
    "La funció s'ha d'anomenar \"conductor\"\n",
    "i hauria de agafar dos paràmetres: \"distancia\", \"es_manual\".\n",
    "El primer ha de ser un número, el segon ha de ser un\n",
    "boolean. La funció hauria de retornar un string, que és\n",
    "el nom de la persona que ha de conduir, \"Diego\" o \"Sofia\"."
   ]
  },
  {
   "cell_type": "markdown",
   "metadata": {},
   "source": [
    "*El següent conjunt de casos és el que volem condicionar*\n",
    "\n",
    "- si es_manual és True -> Sofia\n",
    "- si es_manual és False, distància > 10 -> Sofia\n",
    "- si es_manual és False, distància <= 10 -> Diego"
   ]
  },
  {
   "cell_type": "code",
   "execution_count": 57,
   "metadata": {},
   "outputs": [
    {
     "data": {
      "text/plain": [
       "'Sofia'"
      ]
     },
     "execution_count": 57,
     "metadata": {},
     "output_type": "execute_result"
    }
   ],
   "source": [
    "def conductor(distancia, es_manual):\n",
    "    if es_manual == False and distancia < 10:\n",
    "        return \"Diego\"\n",
    "    else:\n",
    "        return \"Sofia\"\n",
    "\n",
    "conductor(15, True)\n",
    "    \n"
   ]
  }
 ],
 "metadata": {
  "kernelspec": {
   "display_name": "Python 3",
   "language": "python",
   "name": "python3"
  },
  "language_info": {
   "codemirror_mode": {
    "name": "ipython",
    "version": 3
   },
   "file_extension": ".py",
   "mimetype": "text/x-python",
   "name": "python",
   "nbconvert_exporter": "python",
   "pygments_lexer": "ipython3",
   "version": "3.10.0"
  }
 },
 "nbformat": 4,
 "nbformat_minor": 4
}
