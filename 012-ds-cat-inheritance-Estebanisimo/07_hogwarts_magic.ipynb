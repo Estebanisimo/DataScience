{
 "cells": [
  {
   "attachments": {},
   "cell_type": "markdown",
   "metadata": {},
   "source": [
    "[Based on tweets from Stephen Gruppetta @s_gruppetta_ct](https://twitter.com/s_gruppetta_ct/status/1644735622555504641)\n",
    "\n",
    "# Object-Oriented Python at the Hogwarts School of Codecraft and Algorithmancy\n",
    "### Year 7: Final Year (Class Methods | Static Methods )\n",
    "\n",
    "Students are taller than most professors now–what a change from Year 1! But there's still one Year to go before graduating from Hogwarts\n",
    "\n",
    "Here are our classes so far"
   ]
  },
  {
   "cell_type": "code",
   "execution_count": 1,
   "metadata": {},
   "outputs": [],
   "source": [
    "import random \n",
    "\n",
    "class Wizard:\n",
    "    def __init__(self, name, patronus, birth_year):\n",
    "        self.name = name\n",
    "        self.patronus = patronus\n",
    "        self.birth_year = birth_year\n",
    "        self.wand = None\n",
    "        self.house = None\n",
    "        self.skill = 0.2 # from 0.0 (low) to 1.0 (high)\n",
    "\n",
    "    def assign_wand(self, wand):\n",
    "        self.wand = wand\n",
    "\n",
    "    def assign_house(self, house):\n",
    "        self.house = house\n",
    "        house.add_member(self)\n",
    "    \n",
    "    def increase_skill(self, amount):\n",
    "        self.skill += amount\n",
    "        if self.skill > 1.0:\n",
    "            self.skill = 1.0\n",
    "\n",
    "    def cast_spell(self, spell):\n",
    "        if self.wand is not None:\n",
    "            effect = self.wand.cast_spell(spell, self)\n",
    "            if effect:\n",
    "                print(f\"{self.name} casts {effect}!\")\n",
    "            else:\n",
    "                print(f\"{self.name} failed to cast {spell.name}!\")\n",
    "        else:\n",
    "            print(f\"{self.name} doesn't have a wand yet!\")\n",
    "\n",
    "    def __gt__(self, other):\n",
    "        return self.skill > other.skill\n",
    "    \n",
    "    def __eq__(self, other):\n",
    "        have_same_name = self.name == other.name\n",
    "        have_same_birth_year = self.birth_year == other.birth_year\n",
    "        have_same_patronus = self.patronus == other.patronus\n",
    "        return  have_same_name and have_same_birth_year and have_same_patronus\n",
    "\n",
    "    def __str__(self):\n",
    "        return self.name\n",
    "    \n",
    "    def __repr__(self):\n",
    "        return f\"{type(self).__name__}({self.name}, {self.patronus}, {self.birth_year})\"\n",
    "    \n",
    "class Student(Wizard):\n",
    "    def __init__(self,name,patronus,birth_year,year=1):\n",
    "        super().__init__(name,patronus,birth_year)\n",
    "        self.year = year\n",
    "        self.subject_grades = {}\n",
    "    \n",
    "    def __str__(self):\n",
    "        return f\"{self.name} (House: {self.house} | Year {self.year})\"  \n",
    "    \n",
    "    def assign_house_using_sorting_hat(self):\n",
    "        # TODO - Sorting Hat logic\n",
    "        pass\n",
    "\n",
    "    def take_exam(self, subject, grade):\n",
    "        self.subject_grades[subject] = grade\n",
    "\n",
    "    def assign_subjects(self, subjects):\n",
    "        self.subject_grades = {subject: None for subject in subjects}   \n",
    "\n",
    "    \n",
    "class Professor(Wizard):\n",
    "    def __init__(self,name,patronus,birth_year,subject=None):\n",
    "        super().__init__(name,patronus,birth_year)\n",
    "        self.subject = subject\n",
    "    \n",
    "    def assign_wand(self, wand):\n",
    "        super().assign_wand(wand)\n",
    "        self.increase_skill(0.2)\n",
    "\n",
    "    def assess_student(self, student, grade):\n",
    "        if self.subject in student.subject_grades:\n",
    "            print( f\"{self.name} assessed {student.name} in {self.subject} and gave them a {grade}%!\")\n",
    "            student.take_exam(self.subject, grade)\n",
    "        else:\n",
    "            print(f\"{self.name} tried to assess {student.name} in {self.subject} but they are not taking that subject!\")\n",
    "            \n",
    "class House:\n",
    "    def __init__(self, name, founder, colours, animal):\n",
    "        self.name = name\n",
    "        self.founder = founder\n",
    "        self.colours = colours\n",
    "        self.animal = animal\n",
    "        self.members = []\n",
    "        self.points = 0\n",
    "    \n",
    "    def __iter__(self):\n",
    "        return iter(self.members)\n",
    "\n",
    "    def __str__(self):\n",
    "        return self.name\n",
    "\n",
    "    def add_member(self, member):\n",
    "        if member not in self.members:\n",
    "            self.members.append(member)\n",
    "\n",
    "    def remove_member(self, member):\n",
    "        self.members.remove(member)\n",
    "\n",
    "    def update_points(self, points):\n",
    "        self.points += points\n",
    "    \n",
    "    def get_house_details(self):\n",
    "        return {\n",
    "            \"name\": self.name,\n",
    "            \"founder\": self.founder,\n",
    "            \"colours\": self.colours,\n",
    "            \"animal\": self.animal,\n",
    "            \"points\": self.points,\n",
    "        }\n",
    "    \n",
    "    \n",
    "class Wand:\n",
    "    def __init__(self, wood, core, length, power = 0.5):\n",
    "        self.wood = wood\n",
    "        self.core = core\n",
    "        self.length = length\n",
    "        self.power = power # from 0.0 (low) to 1.0 (high)\n",
    "\n",
    "    def cast_spell(self, spell, wizard):\n",
    "        if spell.is_successful(self, wizard):\n",
    "            return spell.effect\n",
    "        return None\n",
    "\n",
    "class Spell:\n",
    "    def __init__(self, name, effect, difficulty):\n",
    "        self.name = name\n",
    "        self.effect = effect\n",
    "        self.difficulty = difficulty # from 0.0 (easy) to 1.0 (hard)\n",
    "    \n",
    "    def is_successful(self, wand, wizard):\n",
    "        success_rate = (1 - self.difficulty) * wand.power * wizard.skill\n",
    "        return random.random() < success_rate"
   ]
  },
  {
   "attachments": {},
   "cell_type": "markdown",
   "metadata": {},
   "source": [
    "There's one `# TODO` comment in there. It's in `Student.assign_house_using_sorting_hat()`\n",
    "\n",
    "```python\n",
    "class Student:\n",
    "    def __init__(self, name, age, height, weight):\n",
    "        self.name = name\n",
    "        self.age = age\n",
    "        self.height = height\n",
    "        self.weight = weight\n",
    "        self.house = None\n",
    "\n",
    "    ...\n",
    "\n",
    "    def assign_house_using_sorting_hat(self):\n",
    "        # TODO - Sorting Hat logic\n",
    "        pass\n",
    "\n",
    "    ...\n",
    "    \n",
    "```\n",
    "\n",
    "Let's go through a few versions of this method–not all will be ideal but it will help us see the progression of how we get to a good solution\n",
    "\n",
    "Here's a first (flawed) attempt\n",
    "\n",
    "```python\n",
    "class Student:\n",
    "    ...\n",
    "\n",
    "    def assign_house_using_sorting_hat(self):\n",
    "        houses = [ \n",
    "            House(\"Gryffindor\", \"Godric Gryffindor\", [\"scarlet\" ,\"gold\"], \"lion\"),\n",
    "            House(\"Hufflepuff\", \"Helga Hufflepuff\", [\"yellow\", \"black\"], \"badger\"),\n",
    "            House(\"Ravenclaw\", \"Rowena Ravenclaw\", [\"blue\", \"bronze\"], \"eagle\"),\n",
    "            House(\"Slytherin\", \"Salazar Slytherin\", [\"green\", \"silver\"], \"serpent\"),\n",
    "            ]\n",
    "        house = random.choice(houses)\n",
    "        self.assign_house(house)\n",
    "    \n",
    "    ...\n",
    "\n",
    "```"
   ]
  },
  {
   "attachments": {},
   "cell_type": "markdown",
   "metadata": {},
   "source": [
    "I'm showing this example first to highlight an issue we need to think about\n",
    "\n",
    "This method chooses a house at random for a student (Yes, I know, the Sorting Hat wasn't random, but, but…)\n",
    "\n",
    "Let's try it out and see what happens\n"
   ]
  },
  {
   "cell_type": "code",
   "execution_count": 2,
   "metadata": {},
   "outputs": [],
   "source": [
    "import random \n",
    "\n",
    "class Wizard:\n",
    "    def __init__(self, name, patronus, birth_year):\n",
    "        self.name = name\n",
    "        self.patronus = patronus\n",
    "        self.birth_year = birth_year\n",
    "        self.wand = None\n",
    "        self.house = None\n",
    "        self.skill = 0.2 # from 0.0 (low) to 1.0 (high)\n",
    "\n",
    "    def assign_wand(self, wand):\n",
    "        self.wand = wand\n",
    "\n",
    "    def assign_house(self, house):\n",
    "        self.house = house\n",
    "        house.add_member(self)\n",
    "    \n",
    "    def increase_skill(self, amount):\n",
    "        self.skill += amount\n",
    "        if self.skill > 1.0:\n",
    "            self.skill = 1.0\n",
    "\n",
    "    def cast_spell(self, spell):\n",
    "        if self.wand is not None:\n",
    "            effect = self.wand.cast_spell(spell, self)\n",
    "            if effect:\n",
    "                print(f\"{self.name} casts {effect}!\")\n",
    "            else:\n",
    "                print(f\"{self.name} failed to cast {spell.name}!\")\n",
    "        else:\n",
    "            print(f\"{self.name} doesn't have a wand yet!\")\n",
    "\n",
    "    def __gt__(self, other):\n",
    "        return self.skill > other.skill\n",
    "    \n",
    "    def __eq__(self, other):\n",
    "        have_same_name = self.name == other.name\n",
    "        have_same_birth_year = self.birth_year == other.birth_year\n",
    "        have_same_patronus = self.patronus == other.patronus\n",
    "        return  have_same_name and have_same_birth_year and have_same_patronus\n",
    "\n",
    "    def __str__(self):\n",
    "        return self.name\n",
    "    \n",
    "    def __repr__(self):\n",
    "        return f\"{type(self).__name__}({self.name}, {self.patronus}, {self.birth_year})\"\n",
    "    \n",
    "class Student(Wizard):\n",
    "    def __init__(self,name,patronus,birth_year,year=1):\n",
    "        super().__init__(name,patronus,birth_year)\n",
    "        self.year = year\n",
    "        self.subject_grades = {}\n",
    "    \n",
    "    def __str__(self):\n",
    "        return f\"{self.name} (House: {self.house} | Year {self.year})\"  \n",
    "    \n",
    "    # New method\n",
    "    def assign_house_using_sorting_hat(self):\n",
    "        houses = [ \n",
    "            House(\"Gryffindor\", \"Godric Gryffindor\", [\"scarlet\" ,\"gold\"], \"lion\"),\n",
    "            House(\"Hufflepuff\", \"Helga Hufflepuff\", [\"yellow\", \"black\"], \"badger\"),\n",
    "            House(\"Ravenclaw\", \"Rowena Ravenclaw\", [\"blue\", \"bronze\"], \"eagle\"),\n",
    "            House(\"Slytherin\", \"Salazar Slytherin\", [\"green\", \"silver\"], \"serpent\"),\n",
    "            ]\n",
    "        house = random.choice(houses)\n",
    "        self.assign_house(house)\n",
    "\n",
    "    def take_exam(self, subject, grade):\n",
    "        self.subject_grades[subject] = grade\n",
    "\n",
    "    def assign_subjects(self, subjects):\n",
    "        self.subject_grades = {subject: None for subject in subjects}   \n",
    "\n",
    "    \n",
    "class Professor(Wizard):\n",
    "    def __init__(self,name,patronus,birth_year,subject=None):\n",
    "        super().__init__(name,patronus,birth_year)\n",
    "        self.subject = subject\n",
    "    \n",
    "    def assign_wand(self, wand):\n",
    "        super().assign_wand(wand)\n",
    "        self.increase_skill(0.2)\n",
    "\n",
    "    def assess_student(self, student, grade):\n",
    "        if self.subject in student.subject_grades:\n",
    "            print( f\"{self.name} assessed {student.name} in {self.subject} and gave them a {grade}%!\")\n",
    "            student.take_exam(self.subject, grade)\n",
    "        else:\n",
    "            print(f\"{self.name} tried to assess {student.name} in {self.subject} but they are not taking that subject!\")\n",
    "            \n",
    "class House:\n",
    "    def __init__(self, name, founder, colours, animal):\n",
    "        self.name = name\n",
    "        self.founder = founder\n",
    "        self.colours = colours\n",
    "        self.animal = animal\n",
    "        self.members = []\n",
    "        self.points = 0\n",
    "    \n",
    "    def __iter__(self):\n",
    "        return iter(self.members)\n",
    "\n",
    "    def __str__(self):\n",
    "        return self.name\n",
    "\n",
    "    def add_member(self, member):\n",
    "        if member not in self.members:\n",
    "            self.members.append(member)\n",
    "\n",
    "    def remove_member(self, member):\n",
    "        self.members.remove(member)\n",
    "\n",
    "    def update_points(self, points):\n",
    "        self.points += points\n",
    "    \n",
    "    def get_house_details(self):\n",
    "        return {\n",
    "            \"name\": self.name,\n",
    "            \"founder\": self.founder,\n",
    "            \"colours\": self.colours,\n",
    "            \"animal\": self.animal,\n",
    "            \"points\": self.points,\n",
    "        }\n",
    "    \n",
    "    \n",
    "class Wand:\n",
    "    def __init__(self, wood, core, length, power = 0.5):\n",
    "        self.wood = wood\n",
    "        self.core = core\n",
    "        self.length = length\n",
    "        self.power = power # from 0.0 (low) to 1.0 (high)\n",
    "\n",
    "    def cast_spell(self, spell, wizard):\n",
    "        if spell.is_successful(self, wizard):\n",
    "            return spell.effect\n",
    "        return None\n",
    "\n",
    "class Spell:\n",
    "    def __init__(self, name, effect, difficulty):\n",
    "        self.name = name\n",
    "        self.effect = effect\n",
    "        self.difficulty = difficulty # from 0.0 (easy) to 1.0 (hard)\n",
    "    \n",
    "    def is_successful(self, wand, wizard):\n",
    "        success_rate = (1 - self.difficulty) * wand.power * wizard.skill\n",
    "        return random.random() < success_rate"
   ]
  },
  {
   "cell_type": "code",
   "execution_count": 3,
   "metadata": {},
   "outputs": [
    {
     "name": "stdout",
     "output_type": "stream",
     "text": [
      "Slytherin\n",
      "Gryffindor\n"
     ]
    }
   ],
   "source": [
    "harry = Student(\"Harry Potter\", \"stag\", 1980)\n",
    "ron = Student(\"Ron Weasley\", \"Jack Russell terrier\", 1980)\n",
    "\n",
    "harry.assign_house_using_sorting_hat()\n",
    "ron.assign_house_using_sorting_hat()\n",
    "\n",
    "print(harry.house)\n",
    "print(ron.house)"
   ]
  },
  {
   "cell_type": "code",
   "execution_count": 4,
   "metadata": {},
   "outputs": [
    {
     "name": "stdout",
     "output_type": "stream",
     "text": [
      "Slytherin\n"
     ]
    }
   ],
   "source": [
    "print(harry.house)"
   ]
  },
  {
   "cell_type": "code",
   "execution_count": 5,
   "metadata": {},
   "outputs": [
    {
     "name": "stdout",
     "output_type": "stream",
     "text": [
      "[Student(Ron Weasley, Jack Russell terrier, 1980)]\n"
     ]
    }
   ],
   "source": [
    "print(ron.house.members)"
   ]
  },
  {
   "cell_type": "code",
   "execution_count": 6,
   "metadata": {},
   "outputs": [
    {
     "name": "stdout",
     "output_type": "stream",
     "text": [
      "False\n"
     ]
    }
   ],
   "source": [
    "print( harry.house is ron.house )"
   ]
  },
  {
   "attachments": {},
   "cell_type": "markdown",
   "metadata": {},
   "source": [
    "### Class Methods\n",
    "\n",
    "Note that houses are chosen at random. I ran this script several times until Harry and Ron where both assigned to the same house to demonstrate this\n",
    "\n",
    "Note how Harry is the only member of his house even though both he and Ron where assigned to Gryffindor\n",
    "\n",
    "The objects in `harry.​house` and `ron.​house` are different instances of the class `House`, even though they have the same values for name, founder, and so on\n",
    "\n",
    "This is because new instances for each house are created each time you call `.assign_house_using_sorting_hat()`\n",
    "\n"
   ]
  },
  {
   "attachments": {},
   "cell_type": "markdown",
   "metadata": {},
   "source": [
    "Second attempt: let's pass a sequence with all the houses to the method and we can create the houses elsewhere, not within the method itself\n",
    "    \n",
    "```python\n",
    "class Student(Wizard):\n",
    "    ...\n",
    "\n",
    "    def assign_house_using_sorting_hat(self, houses):\n",
    "        house = random.choice(houses)\n",
    "        self.assign_house(house)\n",
    "    \n",
    "    ...\n",
    "\n",
    "```\n",
    "\n",
    "We can create the `House` instances with the other classes, for now\n",
    "\n",
    "In this run, all the students happened to end up in the same house, Slytherin (it's random allocation!)\n",
    "\n",
    "Since there's only one Slytherin instance, they're all in the same instance now, not separate ones"
   ]
  },
  {
   "cell_type": "code",
   "execution_count": 7,
   "metadata": {},
   "outputs": [],
   "source": [
    "class Student(Wizard):\n",
    "    def __init__(self,name,patronus,birth_year,year=1):\n",
    "        super().__init__(name,patronus,birth_year)\n",
    "        self.year = year\n",
    "        self.subject_grades = {}\n",
    "    \n",
    "    def __str__(self):\n",
    "        return f\"{self.name} (House: {self.house} | Year {self.year})\"  \n",
    "    \n",
    "    # New method\n",
    "    def assign_house_using_sorting_hat(self, houses):\n",
    "        house = random.choice(houses)\n",
    "        self.assign_house(house)\n",
    "\n",
    "    def take_exam(self, subject, grade):\n",
    "        self.subject_grades[subject] = grade\n",
    "\n",
    "    def assign_subjects(self, subjects):\n",
    "        self.subject_grades = {subject: None for subject in subjects}   "
   ]
  },
  {
   "cell_type": "code",
   "execution_count": 8,
   "metadata": {},
   "outputs": [
    {
     "name": "stdout",
     "output_type": "stream",
     "text": [
      "Gryffindor\n",
      "Slytherin\n"
     ]
    }
   ],
   "source": [
    "houses = [ \n",
    "        House(\"Gryffindor\", \"Godric Gryffindor\", [\"scarlet\" ,\"gold\"], \"lion\"),\n",
    "        House(\"Hufflepuff\", \"Helga Hufflepuff\", [\"yellow\", \"black\"], \"badger\"),\n",
    "        House(\"Ravenclaw\", \"Rowena Ravenclaw\", [\"blue\", \"bronze\"], \"eagle\"),\n",
    "        House(\"Slytherin\", \"Salazar Slytherin\", [\"green\", \"silver\"], \"serpent\"),\n",
    "        ]\n",
    "\n",
    "harry = Student(\"Harry Potter\", \"stag\", 1980)\n",
    "ron = Student(\"Ron Weasley\", \"Jack Russell terrier\", 1980)\n",
    "\n",
    "harry.assign_house_using_sorting_hat(houses)\n",
    "ron.assign_house_using_sorting_hat(houses)\n",
    "\n",
    "print(harry.house)\n",
    "print(ron.house)"
   ]
  },
  {
   "cell_type": "code",
   "execution_count": 9,
   "metadata": {},
   "outputs": [
    {
     "name": "stdout",
     "output_type": "stream",
     "text": [
      "[Student(Harry Potter, stag, 1980)]\n",
      "[Student(Ron Weasley, Jack Russell terrier, 1980)]\n",
      "False\n"
     ]
    }
   ],
   "source": [
    "print(harry.house.members)\n",
    "print(ron.house.members)\n",
    "print( harry.house is ron.house )"
   ]
  },
  {
   "attachments": {},
   "cell_type": "markdown",
   "metadata": {},
   "source": [
    "This works, although if you're using these houses in separate scripts within a larger project, you have to be careful to define the houses only once and re-use the same instances across your project…\n",
    "\n",
    "But there's another way...\n",
    "\n",
    "If we are to define the house instances once, we can do so in a class\n",
    "\n",
    "Let's create a new module (a new file) called `hogwarts_class.​py` and define a class called `Hogwarts`\n",
    "\n",
    "This class is a bit different to the ones you've defined so far\n",
    "\n",
    "Let's look at it in more detail"
   ]
  },
  {
   "cell_type": "code",
   "execution_count": 10,
   "metadata": {},
   "outputs": [],
   "source": [
    "# hogwarts_class.py\n",
    "\n",
    "class Hogwarts:\n",
    "    _houses = {\n",
    "        \"Gryffindor\": House(\"Gryffindor\", \"Godric Gryffindor\", [\"scarlet\" ,\"gold\"], \"lion\"),\n",
    "        \"Hufflepuff\": House(\"Hufflepuff\", \"Helga Hufflepuff\", [\"yellow\", \"black\"], \"badger\"),\n",
    "        \"Ravenclaw\": House(\"Ravenclaw\", \"Rowena Ravenclaw\", [\"blue\", \"bronze\"], \"eagle\"),\n",
    "        \"Slytherin\": House(\"Slytherin\", \"Salazar Slytherin\", [\"green\", \"silver\"], \"serpent\"),\n",
    "    }\n",
    "\n",
    "    @classmethod\n",
    "    def get_house(cls, house_name):\n",
    "        return cls._houses[house_name]"
   ]
  },
  {
   "attachments": {},
   "cell_type": "markdown",
   "metadata": {},
   "source": [
    "The class has two attributes: \n",
    "\n",
    "* The first is `_houses`. It is a _class attribute_ .\n",
    "  > Note how it's not linked to `self` as other data attributes we used in previous Years\n",
    "\n",
    "  It contains a dictionary linking the names of the houses with instances of `House` for each one.\n",
    "  The leading underscore in `_houses` is not linked to this being a class attribute. It's a convention we use to show this is a **private attribute** and should only be used internally within the class\n",
    "  \n",
    "  > It's just a convention and Python doesn't force this behaviour\n",
    "\n",
    "  This class attribute is not specifically attached to an instance, as the instance variables we've seen before.(It can be accessed directly from the class, such as `Hogwarts._houses`) However, if you create instances of this class, you can also access this data through the instance.\n",
    "\n",
    "  But in this example we won't create instances of `Hogwarts`. This is also why we don't need an `__init__()` method!\n",
    "\n",
    "* The second attribute in this class is a method. However, this is not an instance method like the ones we've seen before. The `@​classmethod` before the function definition takes care of this\n",
    "\n",
    "  You'll notice that the first parameter is not `self` but `cls`\n",
    "\n",
    "  A class method is not attached to an instance and therefore doesn't need `self`, which refers to the instance\n",
    "\n",
    "  Instead, a class method is linked to the class and therefore it needs the class as its first parameter. When you call this method, the class is passed implicitly, as you'll see soon\n",
    "\n",
    "  This is similar to how `self` is the first parameter in an instance method but you don't need to explicitly add the object in the parentheses when you call the method–it's automatically included\n",
    "\n",
    "  This method accesses `_houses`, which is a dictionary. It uses the dictionary's `.get()` method to get the value associated with the key–this is a `House` object\n",
    "\n",
    "  We normally prefer to use `get_house()` to access the `_houses` class attribute instead of accessing it directly\n",
    "\n",
    "You're only creating one instance of each `House`\n",
    "\n",
    "Therefore, each time you use `Hogwarts.get_house()`, you're fetching one of these four instances\n"
   ]
  },
  {
   "attachments": {},
   "cell_type": "markdown",
   "metadata": {},
   "source": [
    "Let's make the necessary changes in `Student` \n",
    "\n",
    "The method now accepts a school to indicate the school—this is the name of a class, such as `Hogwarts`\n",
    "\n",
    "In this example we only have a `Hogwarts` school class, but you could have more schools!"
   ]
  },
  {
   "cell_type": "code",
   "execution_count": 11,
   "metadata": {},
   "outputs": [],
   "source": [
    "class Student(Wizard):\n",
    "    def __init__(self,name,patronus,birth_year,year=1):\n",
    "        super().__init__(name,patronus,birth_year)\n",
    "        self.year = year\n",
    "        self.subject_grades = {}\n",
    "    \n",
    "    def __str__(self):\n",
    "        return f\"{self.name} (House: {self.house} | Year {self.year})\"  \n",
    "    \n",
    "    # New method\n",
    "    def assign_house_using_sorting_hat(self, school):\n",
    "        house_name = random.choice(list(school._houses.keys()))\n",
    "        house = school.get_house(house_name)\n",
    "        self.assign_house(house)\n",
    "        \n",
    "    def take_exam(self, subject, grade):\n",
    "        self.subject_grades[subject] = grade\n",
    "\n",
    "    def assign_subjects(self, subjects):\n",
    "        self.subject_grades = {subject: None for subject in subjects}   "
   ]
  },
  {
   "attachments": {},
   "cell_type": "markdown",
   "metadata": {},
   "source": [
    "This method now picks a random house name and fetches the instances created within the `Hogwarts` class. There will only be one instance for each house\n",
    "\n",
    "But, have a look at that last code snippet again…\n",
    "\n",
    "We used `school._houses.keys()` in the `Student` class. We're accessing the private attribute `_houses` from the `Hogwarts` class\n",
    "\n",
    "> Python won't stop you from doing this. But it's best to avoid it. So let's add another class method in `Hogwarts` and then use the class method"
   ]
  },
  {
   "cell_type": "code",
   "execution_count": 12,
   "metadata": {},
   "outputs": [],
   "source": [
    "# hogwarts_class.py\n",
    "\n",
    "class Hogwarts:\n",
    "    _houses = {\n",
    "        \"Gryffindor\": House(\"Gryffindor\", \"Godric Gryffindor\", [\"scarlet\" ,\"gold\"], \"lion\"),\n",
    "        \"Hufflepuff\": House(\"Hufflepuff\", \"Helga Hufflepuff\", [\"yellow\", \"black\"], \"badger\"),\n",
    "        \"Ravenclaw\": House(\"Ravenclaw\", \"Rowena Ravenclaw\", [\"blue\", \"bronze\"], \"eagle\"),\n",
    "        \"Slytherin\": House(\"Slytherin\", \"Salazar Slytherin\", [\"green\", \"silver\"], \"serpent\"),\n",
    "    }\n",
    "\n",
    "    @classmethod\n",
    "    def get_house(cls, house_name):\n",
    "        return cls._houses[house_name]\n",
    "    \n",
    "    @classmethod\n",
    "    def get_house_names(cls):\n",
    "        return list(cls._houses.keys())\n",
    "    \n",
    "\n",
    "class Student(Wizard):\n",
    "    def __init__(self,name,patronus,birth_year,year=1):\n",
    "        super().__init__(name,patronus,birth_year)\n",
    "        self.year = year\n",
    "        self.subject_grades = {}\n",
    "    \n",
    "    def __str__(self):\n",
    "        return f\"{self.name} (House: {self.house} | Year {self.year})\"  \n",
    "    \n",
    "    # New method\n",
    "    def assign_house_using_sorting_hat(self, school):\n",
    "        house_name = random.choice(school.get_house_names())\n",
    "        house = school.get_house(house_name)\n",
    "        self.assign_house(house)\n",
    "        \n",
    "    def take_exam(self, subject, grade):\n",
    "        self.subject_grades[subject] = grade\n",
    "\n",
    "    def assign_subjects(self, subjects):\n",
    "        self.subject_grades = {subject: None for subject in subjects}   "
   ]
  },
  {
   "attachments": {},
   "cell_type": "markdown",
   "metadata": {},
   "source": [
    "We can finally import the `Hogwarts` class and use it in the calls to `.assign_house_using_sorting_hat()`"
   ]
  },
  {
   "cell_type": "code",
   "execution_count": 13,
   "metadata": {},
   "outputs": [
    {
     "name": "stdout",
     "output_type": "stream",
     "text": [
      "Gryffindor\n",
      "Gryffindor\n"
     ]
    }
   ],
   "source": [
    "harry = Student(\"Harry Potter\", \"stag\", 1980)\n",
    "ron = Student(\"Ron Weasley\", \"Jack Russell terrier\", 1980)\n",
    "\n",
    "harry.assign_house_using_sorting_hat(Hogwarts)\n",
    "ron.assign_house_using_sorting_hat(Hogwarts)\n",
    "\n",
    "print(harry.house)\n",
    "print(ron.house)"
   ]
  },
  {
   "cell_type": "code",
   "execution_count": 14,
   "metadata": {},
   "outputs": [
    {
     "data": {
      "text/plain": [
       "[Student(Harry Potter, stag, 1980),\n",
       " Student(Ron Weasley, Jack Russell terrier, 1980)]"
      ]
     },
     "execution_count": 14,
     "metadata": {},
     "output_type": "execute_result"
    }
   ],
   "source": [
    "ron.house.members"
   ]
  },
  {
   "cell_type": "code",
   "execution_count": 15,
   "metadata": {},
   "outputs": [
    {
     "data": {
      "text/plain": [
       "[Student(Harry Potter, stag, 1980),\n",
       " Student(Ron Weasley, Jack Russell terrier, 1980)]"
      ]
     },
     "execution_count": 15,
     "metadata": {},
     "output_type": "execute_result"
    }
   ],
   "source": [
    "harry.house.members"
   ]
  },
  {
   "cell_type": "code",
   "execution_count": 16,
   "metadata": {},
   "outputs": [
    {
     "data": {
      "text/plain": [
       "True"
      ]
     },
     "execution_count": 16,
     "metadata": {},
     "output_type": "execute_result"
    }
   ],
   "source": [
    "ron.house is harry.house"
   ]
  },
  {
   "attachments": {},
   "cell_type": "markdown",
   "metadata": {},
   "source": [
    "## Unique IDs\n",
    "\n",
    "Let's have a look at another example with class attributes\n",
    "\n",
    "You need to assign a unique ID to each student—even wizards need bureaucracy, after all!\n",
    "\n",
    "You can create a class attribute with the student count\n",
    "This is an attribute that must belong to the class, not an instance\n",
    "\n",
    "```python\n",
    "class Student(Wizard):\n",
    "    student_count = 0\n",
    "\n",
    "    def __init__(self,name,patronus,birth_year,year=1):\n",
    "        super().__init__(name,patronus,birth_year)\n",
    "       \n",
    "        Student.student_count += 1\n",
    "        self.id = f\"SID{Student.student_count:05d}\"\n",
    "        self.year = year\n",
    "        self.subject_grades = {}\n",
    "    \n",
    "    ...\n",
    "```\n",
    "\n",
    "Each time you create a `Student` instance, the `__init__()` method is called. This:\n",
    "\n",
    "1. Increments the class attribute `Student.​student_count` – note that there's no `self` used on this line. This is a value that belongs to the class as a whole\n",
    "\n",
    "2. It creates `self.​id` using the class attribute `.student_count`. The instance data attribute `.id` belongs to the instance—each student has a unique ID\n",
    "\n",
    "You can see this in action here:"
   ]
  },
  {
   "cell_type": "code",
   "execution_count": 17,
   "metadata": {},
   "outputs": [],
   "source": [
    "class Student(Wizard):\n",
    "    student_count = 0\n",
    "\n",
    "    def __init__(self,name,patronus,birth_year,year=1):\n",
    "        super().__init__(name,patronus,birth_year)\n",
    "       \n",
    "        Student.student_count += 1\n",
    "        self.id = f\"SID{Student.student_count:05d}\"\n",
    "        self.year = year\n",
    "        self.subject_grades = {}\n",
    "    \n",
    "    def __str__(self):\n",
    "        return f\"{self.name} (House: {self.house} | Year {self.year})\"  \n",
    "    \n",
    "    def assign_house_using_sorting_hat(self, school):\n",
    "        house_name = random.choice(school.get_house_names())\n",
    "        house = school.get_house(house_name)\n",
    "        self.assign_house(house)\n",
    "        \n",
    "    def take_exam(self, subject, grade):\n",
    "        self.subject_grades[subject] = grade\n",
    "\n",
    "    def assign_subjects(self, subjects):\n",
    "        self.subject_grades = {subject: None for subject in subjects}  "
   ]
  },
  {
   "cell_type": "code",
   "execution_count": 18,
   "metadata": {},
   "outputs": [
    {
     "name": "stdout",
     "output_type": "stream",
     "text": [
      "SID00001\n",
      "SID00002\n"
     ]
    }
   ],
   "source": [
    "harry = Student(\"Harry Potter\", \"stag\", 1980)\n",
    "ron = Student(\"Ron Weasley\", \"Jack Russell terrier\", 1980)\n",
    "\n",
    "print(harry.id)\n",
    "print(ron.id)\n"
   ]
  },
  {
   "attachments": {},
   "cell_type": "markdown",
   "metadata": {},
   "source": [
    "## Static methods\n",
    "\n",
    "Before wrapping up the Year and your entire studies at Hogwarts School of Codecraft and Algorithmancy, there's one more type of method to discuss\n",
    "\n",
    "So far, you've seen instance methods and class methods\n",
    "\n",
    "Before wrapping up the Year and your entire studies at Hogwarts School of Codecraft and Algorithmancy, there's one more type of method to discuss\n",
    "\n",
    "So far, you've seen **instance methods** and **class methods**\n",
    "\n",
    "Instance methods belong to the instance of a class. The instance is passed to the method as its first argument, normally called `self`\n",
    "Therefore, when you call\n",
    "\n",
    "`harry.​assign_wand(some_wand)`\n",
    "\n",
    "you're effectively calling\n",
    "\n",
    "`Student.​assign_wand(harry, some_wand)`\n",
    "\n",
    "Class methods have access to the class as a whole instead of individual instances. These have the class passed as their first argument instead of the instance\n",
    "\n",
    "Another type of method is the **`_static method_`** which doesn't have access to the instance or the class\n",
    "\n",
    "\n",
    "Therefore, static methods do not need a required first parameter such as `self` for instance methods and `cls` for class methods\n",
    "\n",
    "Here's an example of a static method in the `Wand` class:\n",
    "\n",
    "```python\n",
    "\n",
    "class Wand:\n",
    "    ...\n",
    "\n",
    "    @staticmethod\n",
    "    def get_all_wand_makers():\n",
    "        wand_makers = [ \n",
    "            \"Garrick Ollivander\", \n",
    "            \"Mykew Gregorovitch\",\n",
    "            \"Arturo Cephalopos\",\n",
    "            \"Violetta Beauvais\",\n",
    "            \"Thiago Quintana\",\n",
    "            ]\n",
    "        return wand_makers\n",
    "\n",
    "```\n",
    "\n",
    "There's `@​staticmethod` before the class definition to indicate what type of method this is\n",
    "\n",
    "Note that this method doesn't need any information that's stored within the class or an instance of the class\n",
    "\n",
    "It's a standalone method but it fits well within the `Wand` class\n",
    "\n",
    "Here's how we can use this method\n",
    "\n",
    "You can call it directly from the class, as in `Wand.​get_all_wand_makers()`\n",
    "\n",
    "You could call it from an instance, too, but this has no additional information relating to the instance"
   ]
  },
  {
   "cell_type": "code",
   "execution_count": 19,
   "metadata": {},
   "outputs": [],
   "source": [
    "class Wand:\n",
    "    def __init__(self, wood, core, length, power = 0.5):\n",
    "        self.wood = wood\n",
    "        self.core = core\n",
    "        self.length = length\n",
    "        self.power = power # from 0.0 (low) to 1.0 (high)\n",
    "\n",
    "    def cast_spell(self, spell, wizard):\n",
    "        if spell.is_successful(self, wizard):\n",
    "            return spell.effect\n",
    "        return None\n",
    "    \n",
    "    @staticmethod\n",
    "    def get_all_wand_makers():\n",
    "        wand_makers = [ \n",
    "            \"Garrick Ollivander\", \n",
    "            \"Mykew Gregorovitch\",\n",
    "            \"Arturo Cephalopos\",\n",
    "            \"Violetta Beauvais\",\n",
    "            \"Thiago Quintana\",\n",
    "            ]\n",
    "        return wand_makers\n",
    "    \n"
   ]
  },
  {
   "cell_type": "code",
   "execution_count": 20,
   "metadata": {},
   "outputs": [
    {
     "name": "stdout",
     "output_type": "stream",
     "text": [
      "['Garrick Ollivander', 'Mykew Gregorovitch', 'Arturo Cephalopos', 'Violetta Beauvais', 'Thiago Quintana']\n",
      "['Garrick Ollivander', 'Mykew Gregorovitch', 'Arturo Cephalopos', 'Violetta Beauvais', 'Thiago Quintana']\n"
     ]
    }
   ],
   "source": [
    "harry = Student(\"Harry Potter\", \"stag\", 1980)\n",
    "\n",
    "harry.assign_wand(Wand(\"holly\", \"phoenix feather\", 11, 0.8))\n",
    "\n",
    "print(Wand.get_all_wand_makers())\n",
    "\n",
    "print(harry.wand.get_all_wand_makers())"
   ]
  },
  {
   "attachments": {},
   "cell_type": "markdown",
   "metadata": {},
   "source": [
    "This brings us to the end of of Year 7 and of your studies at Hogwarts School of Codecraft and Algorithmancy\n",
    "\n",
    "You're now a fully qualified wizard or witch…\n",
    "\n",
    "…and more importantly, hopefully you have a better understanding of classes and OOP than before you started!\n"
   ]
  }
 ],
 "metadata": {
  "kernelspec": {
   "display_name": "base",
   "language": "python",
   "name": "python3"
  },
  "language_info": {
   "codemirror_mode": {
    "name": "ipython",
    "version": 3
   },
   "file_extension": ".py",
   "mimetype": "text/x-python",
   "name": "python",
   "nbconvert_exporter": "python",
   "pygments_lexer": "ipython3",
   "version": "3.10.0"
  },
  "orig_nbformat": 4,
  "vscode": {
   "interpreter": {
    "hash": "75dac0dbd405a8394808c62e8a1270731cc80cc33b4d24dc0a2a1e00cd8c1002"
   }
  }
 },
 "nbformat": 4,
 "nbformat_minor": 2
}
