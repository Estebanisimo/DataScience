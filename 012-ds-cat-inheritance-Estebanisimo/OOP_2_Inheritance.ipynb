{
  "cells": [
    {
      "cell_type": "markdown",
      "metadata": {
        "id": "XdWQVe8qZxWK",
        "lang": "ca"
      },
      "source": [
        "# Herència"
      ]
    },
    {
      "cell_type": "markdown",
      "metadata": {
        "id": "Zmh3IMecZxWO"
      },
      "source": [
        "---"
      ]
    },
    {
      "cell_type": "markdown",
      "metadata": {
        "id": "tPKlLG01ZxWP",
        "lang": "ca"
      },
      "source": [
        "L'herència us permet crear noves classes en funció de les existents una vegada, només indicant la diferència. És un concepte extremadament potent que permet la creació de programes altament flexibles i de fàcil manteniment."
      ]
    },
    {
      "cell_type": "markdown",
      "metadata": {
        "id": "i6mNzc9RZxWQ"
      },
      "source": [
        "---"
      ]
    },
    {
      "cell_type": "markdown",
      "metadata": {
        "id": "QUhO5SBvZxWR",
        "lang": "ca"
      },
      "source": [
        "## Herència de classe"
      ]
    },
    {
      "cell_type": "markdown",
      "metadata": {
        "id": "PBElxkbcZxWR",
        "lang": "ca"
      },
      "source": [
        "En el previ exemple de `Apple` i `Orange`, aquests són subclasses d'una classe més general `Fruit`, i `Student` i `Professor` són subclasses de la classe `Person`. Podem implementar aquesta jerarquia de classes i subclasses mitjançant el que s'anomena \"herència\".\n",
        "\n",
        "Bàsicament, l'herència és molt senzilla d'entendre. Quan definiu una classe nova, entre parèntesis podeu especificar una altra classe. La nova classe creada hereta tots els atributs i mètodes de la classe entre parèntesis, és a dir, formen part automàticament de la nova classe."
      ]
    },
    {
      "cell_type": "code",
      "execution_count": 1,
      "metadata": {
        "id": "9aqBWqzwZxWS",
        "outputId": "4c0acb21-4657-400d-f9fe-d77b52de59ef"
      },
      "outputs": [
        {
          "name": "stdout",
          "output_type": "stream",
          "text": [
            "Albert Applebaum\n",
            "False\n"
          ]
        }
      ],
      "source": [
        "class Person:\n",
        "    def __init__( self, firstname, lastname, age ):\n",
        "        self.firstname = firstname\n",
        "        self.lastname = lastname\n",
        "        self.age = age\n",
        "    def __repr__( self ):\n",
        "        return \"{} {}\".format( self.firstname, self.lastname )\n",
        "    def underage( self ):\n",
        "        return self.age < 18\n",
        "    \n",
        "class Student( Person ):\n",
        "    pass\n",
        "\n",
        "albert = Student( \"Albert\", \"Applebaum\", 19 )\n",
        "print( albert )\n",
        "print( albert.underage() )"
      ]
    },
    {
      "cell_type": "markdown",
      "metadata": {
        "id": "yYaPdLShZxWW",
        "lang": "ca"
      },
      "source": [
        "Com podeu veure, la classe `Student` hereta totes les propietats i mètodes de la classe `Person`."
      ]
    },
    {
      "cell_type": "markdown",
      "metadata": {
        "id": "tNROkunjZxWX",
        "lang": "en"
      },
      "source": [
        "### Extending and overriding"
      ]
    },
    {
      "cell_type": "markdown",
      "metadata": {
        "id": "6BtPICU6ZxWY",
        "lang": "ca"
      },
      "source": [
        "Per ampliar una subclasse amb nous mètodes, només heu de definir els nous mètodes a la subclasse. Si definiu mètodes que ja existeixen a la classe pare (o \"superclasse\"), els \"substitueixen\", és a dir, utilitzen el mètode nou tal com especifica la subclasse.\n",
        "\n",
        "Sovint, quan sobreescriviu un mètode, encara voleu utilitzar el mètode de la classe pare. Per exemple, si la classe `Student` necessita una llista de cursos en què l'estudiant està matriculat, la llista de cursos s'ha d'inicialitzar com una llista buida amb el mètode `__init__()`. Tanmateix, si sobreescrivim el mètode `__init__()`, el nom i l'edat de l'estudiant ja no s'inicialitzaran, tret que els inicialitzem nosaltres explicitament. \n",
        "\n",
        "Podeu fer una còpia del mètode `__init__()` per a `Person` a `Student` i adaptar aquesta còpia, però és millor cridar realment el `__init__() ` mètode de `Person` dins del mètode `__init__()` de `Student`. D'aquesta manera, si el mètode `__init__()` de `Person` canvia, no cal actualitzar el mètode `__init__()` de `Student`.\n",
        "\n",
        "Hi ha dues maneres de cridar un mètode d'una altra classe: utilitzant una \"crida de classe\", o utilitzant el mètode `super()`.\n",
        "\n",
        "Una crida de classe implica que es crida un mètode utilitzant la sintaxi `<classname>.<method>()`. Per tant, per cridar el mètode `__init__()` de `Person`, puc escriure `Person.__init__()`. No estem limitats a cridar mètodes de la superclasse d'aquesta manera; Podem cridar mètodes de qualsevol classe. Com que aquesta trucada no és una trucada de mètode normal, s'ha de proporcionar `self` com a argument. Per tant, per al codi anterior, per cridar el mètode `__init__()` de `Person` des del mètode `__init__()` de `Student`, escriviu `Person. __init__( self, firstname, lastname, age )`.\n",
        "\n",
        "L'ús de `super()` significa que podeu fer referència directament a la superclasse d'una classe utilitzant la funció estàndard `super()`, sense saber el nom de la superclasse. Així que per cridar el mètode `__init__()` de la superclasse de `Student`, puc escriure `super().__init__()`. *No* cal proporcionar `self` com a primer argument si es fa servir `super()` així. Per tant, per al codi anterior, per cridar el mètode `__init__()` de `Person` des del mètode `__init__()` de `Student`, s'escriu `super( ).__init__( firstname, lastname, age )`.\n",
        "\n",
        "Al codi següent, la classe `Student` obté dos atributs nous: un programa i una llista de cursos. El mètode `__init__()` es substitueix per crear aquests nous atributs, però també crida al mètode `__init__()` de `Person`. `Student` obté un mètode nou, `enroll()`, per afegir cursos a la llista de cursos. Finalment, com a demostració, vaig sobreescrivim el mètode `underage()` per fer que els estudiants siguin menors d'edat quan encara no tinguin 21 anys."
      ]
    },
    {
      "cell_type": "code",
      "execution_count": 2,
      "metadata": {
        "id": "FeUjXOddZxWa"
      },
      "outputs": [
        {
          "name": "stdout",
          "output_type": "stream",
          "text": [
            "Albert Applebaum\n",
            "True\n",
            "CSAI\n",
            "['Methods of Rationality', 'Defense Against the Dark Arts']\n"
          ]
        }
      ],
      "source": [
        "class Person:\n",
        "    def __init__( self, firstname, lastname, age ):\n",
        "        self.firstname = firstname\n",
        "        self.lastname = lastname\n",
        "        self.age = age\n",
        "    def __repr__( self ):\n",
        "        return \"{} {}\".format( self.firstname, self.lastname )\n",
        "    def underage( self ):\n",
        "        return self.age < 18\n",
        "    \n",
        "class Student( Person ):\n",
        "    def __init__( self, firstname, lastname, age, program ):\n",
        "        super().__init__( firstname, lastname, age )\n",
        "        self.courselist = []\n",
        "        self.program = program\n",
        "    def underage( self ):\n",
        "        return self.age < 21\n",
        "    def enroll( self, course ):\n",
        "        self.courselist.append( course )\n",
        "\n",
        "albert = Student( \"Albert\", \"Applebaum\", 19, \"CSAI\" )\n",
        "print( albert )\n",
        "print( albert.underage() )\n",
        "print( albert.program )\n",
        "albert.enroll( \"Methods of Rationality\" )\n",
        "albert.enroll( \"Defense Against the Dark Arts\" )\n",
        "print( albert.courselist )"
      ]
    },
    {
      "cell_type": "markdown",
      "metadata": {
        "id": "lkBwif_-ZxWb",
        "lang": "ca"
      },
      "source": [
        "### Herència múltiple"
      ]
    },
    {
      "cell_type": "markdown",
      "metadata": {
        "id": "CN-avjB3ZxWb",
        "lang": "ca"
      },
      "source": [
        "Podeu crear una classe que hereta de diverses classes. Això s'anomena \"herència múltiple\". Especifiqueu totes les superclasses, amb comes entre els parèntesis de la definició de classe. La nova classe ara forma una combinació de totes les superclasses.\n",
        "\n",
        "Quan es crida un mètode, per decidir quina implementació de mètode utilitzar, Python comprova primer si existeix a la classe per a la qual s'anomena el mètode. Si no hi és, verifica totes les superclasses, d'esquerra a dreta. Tan bon punt trobi una implementació del mètode, l'executarà.\n",
        "\n",
        "Si voleu cridar un mètode des d'una superclasse, heu de dir a Python a quina superclasse voleu cridar. Millor fer-ho directament amb una trucada de classe. Tanmateix, també podeu utilitzar `super()` per a això, però és bastant complicat. Proporcioneu l'ordre en què s'han de comprovar les classes com a arguments a `super()`. No obstant això, el primer argument no està verificat per `super()` (suposo que se suposa que és `self`).\n",
        "\n",
        "És una cosa així: tens tres classes, \"A\", \"B\" i \"C\". Creeu una nova classe \"D\" que hereta de les altres tres classes, definint-la com \"classe D(A, B, C)\". Quan al mètode `__init__()` de `D` voleu cridar els mètodes `__init__()` de les tres classes pares, podeu cridar-los utilitzant crides de classe com `A.__init__()`, `B.__init__()` i `C.__init__()`. Tanmateix, si voleu cridar el mètode `__init__()` d'un d'ells, però no sabeu exactament quin, però sí sabeu l'ordre en què voleu comprovar-los (per exemple, `B`, `C`, `A`), llavors podeu cridar `super()` amb `self` com a primer argument i les altres tres classes en l'ordre en què voleu comprovar-les (per exemple, `super( self, B, C, A ).__init__()`).\n",
        "\n",
        "Com hem dit, és bastant complicat. L'herència múltiple és complicada de totes maneres. Molts llenguatges orientats a objectes ni tan sols admeten l'herència múltiple, i els que sí solen advertir que no la fan servir. Simplement, hauríeu d'evitar utilitzar-la fins que tingueu molta experiència amb Python i programació orientada a objectes. I en aquest moment, probablement veieu maneres de construir els vostres programes que no necessiten cap herència múltiple."
      ]
    },
    {
      "cell_type": "markdown",
      "metadata": {
        "id": "cA7TaVBBZxWc"
      },
      "source": [
        "---"
      ]
    },
    {
      "cell_type": "markdown",
      "metadata": {
        "id": "wHFHRR52ZxWc",
        "lang": "ca"
      },
      "source": [
        "## Interfícies"
      ]
    },
    {
      "cell_type": "markdown",
      "metadata": {
        "id": "SP1IEAKLZxWd",
        "lang": "ca"
      },
      "source": [
        "Una interfície és una classe que especifica atributs i mètodes sense una implementació real dels mètodes. La idea és que les subclasses implementin els mètodes, mentre que les funcions es poden definir com treballant a la classe d'interfície, sota el supòsit que s'ompliran els mètodes. Aquestes funcions es poden cridar després amb les subclasses.\n",
        "\n",
        "Per a una bona comprensió, probablement sigui millor posar un exemple.\n",
        "\n",
        "Suposem que vull dissenyar una aplicació que funcioni amb vehicles. Potser és una aplicació de planificació de viatges que calcula com anar del punt A al punt B. L'aplicació tindrà un mapa que contindrà tots els punts possibles i connexions entre els punts. També tindrà una llista de vehicles, amb determinats vehicles restringits a punts específics i connectant només punts específics (per exemple, els avions només estaran disponibles als aeroports i només connectaran a altres aeroports específics, mentre que els vaixells només es troben als ports i connectar-se a altres ports específics). L'aplicació obté un punt inicial i final com a entrada i proporciona una llista del tipus: agafar el cotxe per conduir des del punt inicial fins al punt X, agafar l'avió per volar del punt X al punt Y, agafar l'autobús per conduir des del punt. Y fins al punt Z i després caminar des del punt Z fins al punt final.\n",
        "\n",
        "Aquesta classe necessitarà una definició de vehicles. Per poder arribar a un pla de viatge òptim, ha de saber per a cada vehicle en quins punts està disponible, fins a quins punts pot viatjar i la velocitat mitjana de desplaçament (per tal de no obtenir un pla de viatge que digui \" caminant d'Amsterdam a Moscou\"). També pot ser una bona idea incloure un verb que s'utilitza quan el pla fa referència a viatjar amb un vehicle (p. ex., \"caminar\", \"conduir o \"volar\"). Potser haureu de pensar molt sobre com implementar aquests vehicles. Un possible enfocament és proporcionar a cada vehicle un mètode que obtingui un punt com a argument i que retorni si el vehicle està disponible o no en aquest punt, un mètode que obtingui un punt com a argument i que retorni si el vehicle viatja o no a aquest punt. punt, un mètode que obté dos punts i retorna la velocitat mitjana de viatge del vehicle entre aquests dos punts, i un mètode que retorna el verb .\n",
        "\n",
        "Així, podeu implementar una classe \"Vehicle\" de la següent manera:"
      ]
    },
    {
      "cell_type": "code",
      "execution_count": 3,
      "metadata": {
        "id": "bM5LV5f1ZxWe"
      },
      "outputs": [],
      "source": [
        "class Vehicle:\n",
        "    def __init__( self ):\n",
        "        self.startpoint = []\n",
        "        self.endpoints = []\n",
        "        self.verb = \"\"\n",
        "        self.name = \"\"\n",
        "    def __str__( self ):\n",
        "        return self.name\n",
        "    def isStartpoint( self, p ):\n",
        "        return NotImplemented\n",
        "    def isEndpoint( self, p ):\n",
        "        return NotImplemented\n",
        "    def travel_speed( self, p1, p2 ):\n",
        "        return NotImplemented\n",
        "    def travelVerb( self ):\n",
        "        return NotImplemented    "
      ]
    },
    {
      "cell_type": "markdown",
      "metadata": {
        "id": "AKGeiMwtZxWe",
        "lang": "ca"
      },
      "source": [
        "Una classe com aquesta s'anomena interfície o \"classe abstracta\" (hi ha diferències subtils entre interfícies i classes abstractes en teoria computacional, però per a Python aquestes no importen). No s'ha d'utilitzar com a classe de la qual creeu instàncies, per això tots els mètodes retornen \"NotImplemented\". En lloc d'això, s'ha d'utilitzar com a plantilla per heretar subclasses, que crearan implementacions per als mètodes predefinits. Això vol dir que independentment de quina subclasse de vehicle definiu més endavant, sempre haureu d'assegurar-vos que els mètodes de la classe \"Vehicle\" estiguin implementats. Per tant, les funcions que fan ús de les instàncies de subclasses de \"Vehicle\" poden comptar amb aquests mètodes disponibles."
      ]
    },
    {
      "cell_type": "markdown",
      "metadata": {
        "id": "MMd8eRLeZxWe"
      },
      "source": [
        "---"
      ]
    },
    {
      "cell_type": "markdown",
      "metadata": {
        "id": "MNN_OntjZxWf",
        "lang": "ca"
      },
      "source": [
        "## Exercicis"
      ]
    },
    {
      "cell_type": "markdown",
      "metadata": {
        "id": "rxWIz3gVZxWg",
        "lang": "ca"
      },
      "source": [
        "### Exercici 1"
      ]
    },
    {
      "cell_type": "markdown",
      "metadata": {
        "id": "oDGLBkU3ZxWg",
        "lang": "ca"
      },
      "source": [
        "A continuació, dono una classe \"Rectangle\" que es crea amb les coordenades \"x\" i \"y\" de la cantonada superior esquerra, una amplada \"w\" i una alçada \"h\". Ara creeu una classe `Square` que hereti tant com sigui possible de la classe `Rectangle`."
      ]
    },
    {
      "cell_type": "code",
      "execution_count": 4,
      "metadata": {
        "id": "Qlmlbs6PZxWg"
      },
      "outputs": [
        {
          "data": {
            "text/plain": [
              "400"
            ]
          },
          "execution_count": 4,
          "metadata": {},
          "output_type": "execute_result"
        }
      ],
      "source": [
        "# Square.\n",
        "class Rectangle:\n",
        "    def __init__( self, x, y, w, h ):\n",
        "        self.x = x\n",
        "        self.y = y\n",
        "        self.w = w\n",
        "        self.h = h\n",
        "    def __repr__( self ):\n",
        "        return \"[({},{}),w={},h={}]\".format( self.x, self.y, self.w, self.h )\n",
        "    def area( self ):\n",
        "        return self.w * self.h\n",
        "    def circumference( self ):\n",
        "        return 2*(self.w + self.h)\n",
        "    \n",
        "my_x = 0\n",
        "my_y = 0\n",
        "width = 100\n",
        "height = 15\n",
        "my_rectangle = Rectangle( my_x, my_y, width , width)\n",
        "\n",
        "my_rectangle.circumference()\n"
      ]
    },
    {
      "cell_type": "code",
      "execution_count": 5,
      "metadata": {},
      "outputs": [],
      "source": [
        "class Rectangle:\n",
        "    def __init__( self, x, y, w, h ):\n",
        "        self.x = x\n",
        "        self.y = y\n",
        "        self.w = w\n",
        "        self.h = h\n",
        "    def __repr__( self ):\n",
        "        return \"[({},{}),w={},h={}]\".format( self.x, self.y, self.w, self.h )\n",
        "    def area( self ):\n",
        "        return self.w * self.h\n",
        "    def circumference( self ):\n",
        "        return 2*(self.w + self.h)"
      ]
    },
    {
      "cell_type": "code",
      "execution_count": 6,
      "metadata": {},
      "outputs": [
        {
          "name": "stdout",
          "output_type": "stream",
          "text": [
            "[(1 ,1),w=4,h=4] 16 16\n"
          ]
        }
      ],
      "source": [
        "class Rectangle:\n",
        "    def __init__( self , x, y, w, h ):\n",
        "        self.x, self.y, self.w, self.h = x, y, w, h\n",
        "    def __repr__( self ):\n",
        "        return \"[({} ,{}),w={},h={}]\".format( self.x, self.y, self.w, self.h )\n",
        "    def area( self ):\n",
        "        return self.w * self.h\n",
        "    def circumference( self ):\n",
        "        return 2*( self.w + self.h)\n",
        "\n",
        "class Square( Rectangle ):\n",
        "    def __init__( self , x, y, w ):\n",
        "        super().__init__( x, y, w, w )\n",
        "\n",
        "s = Square( 1, 1, 4 )\n",
        "print( s, s.area(), s.circumference() )\n"
      ]
    },
    {
      "cell_type": "markdown",
      "metadata": {
        "id": "3_4LH0jgZxWh",
        "lang": "ca"
      },
      "source": [
        "### Exercici 2 "
      ]
    },
    {
      "cell_type": "markdown",
      "metadata": {
        "id": "NfvIAKr-ZxWi",
        "lang": "ca"
      },
      "source": [
        "Un \"Rectangle\" i un \"Quadrat\" es poden considerar formes. Hi ha, per descomptat, diferents tipus de formes que es defineixen de manera diferent, però comparteixen amb rectangles i quadrats que tenen àrea i circumferència. Definiu una classe d'interfície `Shape`, de la qual `Rectangle` i `Square` són sub(sub)classes. Definiu també una classe `Circle` que deriveu de `Shape`."
      ]
    },
    {
      "cell_type": "code",
      "execution_count": null,
      "metadata": {
        "id": "V-640G-hZxWi"
      },
      "outputs": [],
      "source": [
        "# Shape.\n",
        "\n",
        "# Shape --> [ area() , perimeter() ] "
      ]
    },
    {
      "cell_type": "code",
      "execution_count": 7,
      "metadata": {},
      "outputs": [
        {
          "name": "stdout",
          "output_type": "stream",
          "text": [
            "[(1 ,1),w=4,h=4] 16 16\n",
            "[(1 ,1),r=4] 50.26548245743669 25.132741228718345\n"
          ]
        }
      ],
      "source": [
        "from math import pi\n",
        "\n",
        "class Shape:\n",
        "  \n",
        "    def area( self ):\n",
        "        return NotImplemented\n",
        "    def circumference( self ):\n",
        "        return NotImplemented\n",
        "\n",
        "class Circle( Shape ):\n",
        "    def __init__( self , x, y, r ):\n",
        "        self.x, self.y, self.r = x, y, r\n",
        "    def __repr__( self ):\n",
        "        return \"[({} ,{}),r={}]\".format( self.x, self.y, self.r )\n",
        "    def area( self ):\n",
        "        return pi * self.r * self.r\n",
        "    def circumference( self ):\n",
        "        return 2 * pi * self.r\n",
        "\n",
        "class Rectangle( Shape ):\n",
        "    def __init__( self , x, y, w, h ):\n",
        "        self.x, self.y, self.w, self.h = x, y, w, h\n",
        "    def __repr__( self ):\n",
        "        return \"[({} ,{}),w={},h={}]\".format( self.x, self.y, self.w, self.h )\n",
        "    def area( self ):\n",
        "        return self.w * self.h\n",
        "    def circumference( self ):\n",
        "        return 2*( self.w + self.h)\n",
        "\n",
        "class Square( Rectangle ):\n",
        "    def __init__( self , x, y, w ):\n",
        "        super().__init__( x, y, w, w )\n",
        "    \n",
        "s = Square( 1, 1, 4 )\n",
        "print( s, s.area(), s.circumference() )\n",
        "c = Circle( 1, 1, 4 )\n",
        "print( c, c.area(), c.circumference() )"
      ]
    },
    {
      "cell_type": "markdown",
      "metadata": {
        "id": "Ie-ch4jaZxWj"
      },
      "source": [
        "### Exercici 3"
      ]
    },
    {
      "cell_type": "markdown",
      "metadata": {
        "id": "7qbB3Kg8ZxWk",
        "lang": "ca"
      },
      "source": [
        "Al dilema del presoner iterat [(Iterated Prisoner's Dilemma)](https://www.youtube.com/watch?v=NdITTDl5coE), dues estratègies juguen una contra l'altra durant **diverses rondes** (per això el nom iterat) . A cada ronda, les estratègies poden decidir entre Cooperar (`C` de Cooperate) o Traïció (`D` de Defect). Si tots dos cooperen, tots dos obtindran 3 punts. Si tots dos es traeixen, tots dos obtenen 1 punt. Si només un coopera, el que traeix guanya 6 punts, i el que coopera no obté res. L'objectiu de cada estratègia és sumar tants punts com sigui possible. (al vídeo l'objectiu és el contrari, passar el menor temps possible a presó)\n",
        "\n",
        "A continuació es codifica una versió senzilla del dilema del presoner iterat. Una estratègia per jugar el joc està definida per la classe `Strategy`. El bucle principal permet que dues estratègies es juguin entre si durant 100 rondes (no és difícil crear un bucle principal que permeti que més de dues estratègies juguin entre si per parelles, però que augmenta la mida del codi bastant i no és important per a l'exercici). La classe `Strategy` no ha implementat el mètode `choice()`. Per crear una estratègia, heu d'heretar una nova classe de `Strategy` i almenys empleneu el mètode `choice()`. Opcionalment també podeu implementar el mètode `lastmove()` i ampliar el mètode `__init__()`.\n",
        "\n",
        "Implementar les estratègies següents:\n",
        "- `Atzar` només juga a COOPERAR o DESERTAR a l'atzar.\n",
        "- `AlwaysDefect` sempre juga a DESERTAR.\n",
        "- `TitForTat` comença amb COOPERATE, després juga el que va jugar l'oponent en el moviment anterior.\n",
        "- `TitForTwoTats` comença amb dos COOPERA, després juga DESERTAR si l'oponent va jugar DESERTAR en els dos moviments anteriors, en cas contrari COOPERA.\n",
        "- `Majority` comença amb COOPERATE, després juga el que l'oponent va jugar en la majoria dels moviments anteriors.\n",
        "\n",
        "Comproveu algunes de les estratègies les unes amb les altres omplint les tasques per a `strategy1` i `strategy2` (no us oblideu de posar-los un nom entre parèntesis)."
      ]
    },
    {
      "cell_type": "code",
      "execution_count": 8,
      "metadata": {
        "id": "MmvsfPKOZxWk"
      },
      "outputs": [
        {
          "name": "stdout",
          "output_type": "stream",
          "text": [
            "End score of  is 100\n",
            "End score of  is 100\n"
          ]
        }
      ],
      "source": [
        "# Iterated Prisoner's Dilemma\n",
        "COOPERATE = 'C'\n",
        "DEFECT = 'D'\n",
        "ROUNDS = 100\n",
        "\n",
        "class Strategy:\n",
        "    def __init__( self, name=\"\" ):\n",
        "        self.name = name\n",
        "        self.score = 0\n",
        "    def choice( self ):\n",
        "        # Should return COOPERATE or DEFECT\n",
        "        return NotImplemented\n",
        "    def lastmove( self, mymove, opponentmove ):\n",
        "        # Gets passed the last move made, after a call of choice()\n",
        "        pass\n",
        "    def incscore( self, n ):\n",
        "        self.score += n\n",
        "\n",
        "## Exemple d'implementació\n",
        "class AlwaysDefect( Strategy ):\n",
        "    def choice( self ):\n",
        "        return DEFECT\n",
        "## Fi de l'exemple\n",
        "\n",
        "strategy1 = Strategy()\n",
        "strategy2 = Strategy()\n",
        "\n",
        "for i in range( ROUNDS ):\n",
        "    c1 = strategy1.choice()\n",
        "    c2 = strategy2.choice()\n",
        "    if c1 == c2:\n",
        "        strategy1.incscore( 3 if c1 == COOPERATE else 1 )\n",
        "        strategy2.incscore( 3 if c2 == COOPERATE else 1 )\n",
        "    else:\n",
        "        strategy1.incscore( 0 if c1 == COOPERATE else 6 )\n",
        "        strategy2.incscore( 0 if c2 == COOPERATE else 6 )\n",
        "    strategy1.lastmove( c1, c2 )\n",
        "    strategy2.lastmove( c2, c1 )\n",
        "        \n",
        "print( \"End score of\", strategy1.name, \"is\", strategy1.score )\n",
        "print( \"End score of\", strategy2.name, \"is\", strategy2.score )"
      ]
    },
    {
      "cell_type": "code",
      "execution_count": 10,
      "metadata": {},
      "outputs": [
        {
          "name": "stdout",
          "output_type": "stream",
          "text": [
            "End score of tf2t is 300\n",
            "End score of tft is 300\n"
          ]
        }
      ],
      "source": [
        "import random\n",
        "# Iterated Prisoner's Dilemma\n",
        "COOPERATE = 'C'\n",
        "DEFECT = 'D'\n",
        "ROUNDS = 100\n",
        "\n",
        "class Strategy:\n",
        "    def __init__( self, name=\"\" ):\n",
        "        self.name = name\n",
        "        self.score = 0\n",
        "    def choice( self ):\n",
        "        # Should return COOPERATE or DEFECT\n",
        "        return NotImplemented\n",
        "    def lastmove( self, mymove, opponentmove ):\n",
        "        # Gets passed the last move made, after a call of choice()\n",
        "        pass\n",
        "    def incscore( self, n ):\n",
        "        self.score += n\n",
        "\n",
        "        \n",
        "class AlwaysDefect( Strategy ):\n",
        "    def choice( self ):\n",
        "        return DEFECT\n",
        "\n",
        "class Random( Strategy ):\n",
        "    def choice( self ):\n",
        "        if random() >= 0.5:\n",
        "            return COOPERATE\n",
        "        return DEFECT\n",
        "    \n",
        "class MemoryStrategy( Strategy ):\n",
        "    def __init__( self , name=\"\" ):\n",
        "        super().__init__( name )\n",
        "        self.history = []\n",
        "    def lastmove( self , mymove , opponentmove ):\n",
        "        self.history.append( (mymove , opponentmove) )\n",
        "\n",
        "class TitForTat( MemoryStrategy ):\n",
        "    def choice( self ):\n",
        "        if len( self.history ) < 1:\n",
        "            return COOPERATE\n",
        "        return self.history[ -1][1]\n",
        "\n",
        "class TitForTwoTats( MemoryStrategy ):\n",
        "    def choice( self ):\n",
        "        if len( self.history ) < 2:\n",
        "            return COOPERATE\n",
        "        if self.history[ -1][1] == DEFECT and self.history[ -2][1] == DEFECT:\n",
        "            return DEFECT\n",
        "        return COOPERATE\n",
        "\n",
        "class Majority( MemoryStrategy ):\n",
        "    def choice( self ):        \n",
        "        countD = 0\n",
        "        for i in range( len( self.history ) ):\n",
        "            if self.history[i][1] == DEFECT:\n",
        "                countD += 1\n",
        "        if countD > len( self.history ) / 2:\n",
        "            return DEFECT\n",
        "        return COOPERATE\n",
        "        \n",
        "strategy1 = TitForTwoTats( \"tf2t\" )\n",
        "strategy2 = TitForTat( \"tft\" )\n",
        "\n",
        "for i in range( ROUNDS ):\n",
        "    c1 = strategy1.choice()\n",
        "    c2 = strategy2.choice()\n",
        "    if c1 == c2:\n",
        "        strategy1.incscore( 3 if c1 == COOPERATE else 1 )\n",
        "        strategy2.incscore( 3 if c2 == COOPERATE else 1 )\n",
        "    else:\n",
        "        strategy1.incscore( 0 if c1 == COOPERATE else 6 )\n",
        "        strategy2.incscore( 0 if c2 == COOPERATE else 6 )\n",
        "    strategy1.lastmove( c1, c2 )\n",
        "    strategy2.lastmove( c2, c1 )\n",
        "        \n",
        "print( \"End score of\", strategy1.name, \"is\", strategy1.score )\n",
        "print( \"End score of\", strategy2.name, \"is\", strategy2.score )"
      ]
    },
    {
      "cell_type": "markdown",
      "metadata": {
        "id": "N7mQNrSy_nj8"
      },
      "source": [
        "### (Opcional) Exercici 4\n",
        "\n",
        "Implementa una classe \"Game\" que accepti un jugador amb una estratègia o directament una estratègia, un nombre de jocs a jugar (rounds) i retorna la puntuació final per cadascuna de les estrategies."
      ]
    },
    {
      "cell_type": "code",
      "execution_count": 11,
      "metadata": {
        "id": "xLaomzit_m4D"
      },
      "outputs": [
        {
          "name": "stdout",
          "output_type": "stream",
          "text": [
            "(300, 300)\n"
          ]
        }
      ],
      "source": [
        "class Game:\n",
        "    def __init__( self, strategy1, strategy2, rounds ):\n",
        "        self.strategy1 = strategy1\n",
        "        self.strategy2 = strategy2\n",
        "        self.rounds = rounds\n",
        "    def play( self ):\n",
        "        for i in range( self.rounds ):\n",
        "            c1 = self.strategy1.choice()\n",
        "            c2 = self.strategy2.choice()\n",
        "            if c1 == c2:\n",
        "                self.strategy1.incscore( 3 if c1 == COOPERATE else 1 )\n",
        "                self.strategy2.incscore( 3 if c2 == COOPERATE else 1 )\n",
        "            else:\n",
        "                self.strategy1.incscore( 0 if c1 == COOPERATE else 6 )\n",
        "                self.strategy2.incscore( 0 if c2 == COOPERATE else 6 )\n",
        "            self.strategy1.lastmove( c1, c2 )\n",
        "            self.strategy2.lastmove( c2, c1 )\n",
        "        return ( self.strategy1.score, self.strategy2.score )\n",
        "\n",
        "game = Game( TitForTwoTats( \"tf2t\" ), TitForTat( \"tft\" ), 100 )\n",
        "print( game.play() )"
      ]
    },
    {
      "cell_type": "markdown",
      "metadata": {
        "id": "U9rnc5BV3Br5"
      },
      "source": [
        "# Extra (nivell avançat): Decorators"
      ]
    },
    {
      "cell_type": "markdown",
      "metadata": {
        "id": "P_Vm4i_2I86V"
      },
      "source": [
        "## Requisits previs per a l'aprenentatge de decoradors\n",
        "Per entendre els decoradors, `first` hem de conèixer algunes coses bàsiques de Python.\n",
        "\n",
        "Hem d'estar còmodes amb el fet que **tot a Python són objectes.** Els noms que definim són simplement identificadors vinculats a aquests objectes. Les funcions no són una excepció, també són objectes (amb atributs). Es poden vincular diversos noms diferents al mateix objecte de funció.\n",
        "\n",
        "Aquí teniu un exemple:"
      ]
    },
    {
      "cell_type": "code",
      "execution_count": 12,
      "metadata": {
        "colab": {
          "base_uri": "https://localhost:8080/"
        },
        "id": "Jx5w-w6-IZ9J",
        "outputId": "272a83b1-d997-40d3-94b0-96999dd629eb"
      },
      "outputs": [
        {
          "name": "stdout",
          "output_type": "stream",
          "text": [
            "Hello\n",
            "Hello\n"
          ]
        }
      ],
      "source": [
        "def first(msg):\n",
        "    print(msg)\n",
        "\n",
        "\n",
        "first(\"Hello\")\n",
        "\n",
        "second = first\n",
        "second(\"Hello\")"
      ]
    },
    {
      "cell_type": "markdown",
      "metadata": {
        "id": "mI1UMGfGJ_aK"
      },
      "source": [
        "Quan executeu el codi, ambdues funcions `first` i `second` donen la mateixa sortida. Aquí, els noms `first` i `second` fan referència al mateix objecte de funció.\n",
        "\n",
        "Ara les coses comencen a ser més estranyes.\n",
        "\n",
        "Les funcions es poden passar com a arguments a una altra funció.\n",
        "\n",
        "Si heu utilitzat funcions com mapes (maps), filtrar (filters) i reduir(reduce) a Python, ja ho sabeu.\n",
        "\n",
        "Aquestes funcions que prenen altres funcions com a arguments també s'anomenen funcions d'ordre superior. Aquí teniu un exemple d'aquesta funció."
      ]
    },
    {
      "cell_type": "code",
      "execution_count": 13,
      "metadata": {
        "id": "BRBwHoSYKgdG"
      },
      "outputs": [],
      "source": [
        "def inc(x):\n",
        "    return x + 1\n",
        "\n",
        "def dec(x):\n",
        "    return x - 1\n",
        "\n",
        "def operate(func, x):\n",
        "    result = func(x)\n",
        "    return result"
      ]
    },
    {
      "cell_type": "code",
      "execution_count": 14,
      "metadata": {
        "colab": {
          "base_uri": "https://localhost:8080/"
        },
        "id": "MNkhJW9mKkKw",
        "outputId": "fed14e8c-9cd2-4eca-8690-1909fd58f884"
      },
      "outputs": [
        {
          "data": {
            "text/plain": [
              "4"
            ]
          },
          "execution_count": 14,
          "metadata": {},
          "output_type": "execute_result"
        }
      ],
      "source": [
        "operate(inc,3)"
      ]
    },
    {
      "cell_type": "code",
      "execution_count": 15,
      "metadata": {
        "colab": {
          "base_uri": "https://localhost:8080/"
        },
        "id": "Z-lMtqJ-KmSm",
        "outputId": "704e0444-fafb-447b-a4a8-87c3df105b3a"
      },
      "outputs": [
        {
          "data": {
            "text/plain": [
              "2"
            ]
          },
          "execution_count": 15,
          "metadata": {},
          "output_type": "execute_result"
        }
      ],
      "source": [
        "operate(dec,3)"
      ]
    },
    {
      "cell_type": "code",
      "execution_count": 16,
      "metadata": {
        "colab": {
          "base_uri": "https://localhost:8080/"
        },
        "id": "qcVjhYDmK1mq",
        "outputId": "f3ca8a41-65aa-46af-ae20-c18c2630c6ca"
      },
      "outputs": [
        {
          "data": {
            "text/plain": [
              "16"
            ]
          },
          "execution_count": 16,
          "metadata": {},
          "output_type": "execute_result"
        }
      ],
      "source": [
        "operate(lambda x:x**2, 4)"
      ]
    },
    {
      "cell_type": "markdown",
      "metadata": {
        "id": "0QChGW7WLBLa"
      },
      "source": [
        "A més, una funció pot retornar una altra funció.\n"
      ]
    },
    {
      "cell_type": "code",
      "execution_count": 17,
      "metadata": {
        "colab": {
          "base_uri": "https://localhost:8080/"
        },
        "id": "opsNMxKRLE2P",
        "outputId": "d6b6554f-4388-4f3e-ddf2-827957333d6a"
      },
      "outputs": [
        {
          "name": "stdout",
          "output_type": "stream",
          "text": [
            "<function is_called.<locals>.is_returned at 0x000001B1C7432290>\n"
          ]
        }
      ],
      "source": [
        "def is_called():\n",
        "    def is_returned():\n",
        "        print(\"Hello\")\n",
        "    return is_returned\n",
        "\n",
        "new = is_called()\n",
        "print(new)"
      ]
    },
    {
      "cell_type": "markdown",
      "metadata": {
        "id": "QjjNXEZHMWIP"
      },
      "source": [
        "**<locals\\>** emmagatzema tota la informació relacionada amb l'àmbit local del programa."
      ]
    },
    {
      "cell_type": "code",
      "execution_count": 18,
      "metadata": {
        "colab": {
          "base_uri": "https://localhost:8080/"
        },
        "id": "WqOMh9vXLgZi",
        "outputId": "f3997580-a367-45f3-d73c-94dd84daf24f"
      },
      "outputs": [
        {
          "name": "stdout",
          "output_type": "stream",
          "text": [
            "Hello\n"
          ]
        }
      ],
      "source": [
        "new()"
      ]
    },
    {
      "cell_type": "markdown",
      "metadata": {
        "id": "neR7dwzL3QS4"
      },
      "source": [
        "### Tornant a Decorators"
      ]
    },
    {
      "cell_type": "markdown",
      "metadata": {
        "id": "2R7Y4NNsNHe_"
      },
      "source": [
        "Les funcions i els mètodes s'anomenen \"invocables\" o \"callable\" en anglès per què es poden cridar.\n",
        "\n",
        "De fet, qualsevol objecte que implementi el mètode especial __call__() s'anomena \"callable\". Per tant, en el sentit més bàsic, un decorador és un callable que retorna un altre callable.\n",
        "\n",
        "Bàsicament, un decorador pren una funció, afegeix alguna funcionalitat i la retorna."
      ]
    },
    {
      "cell_type": "code",
      "execution_count": 19,
      "metadata": {
        "colab": {
          "base_uri": "https://localhost:8080/"
        },
        "id": "lutO3zjoLEmq",
        "outputId": "fe627de1-8130-443d-85f2-dec5bb877035"
      },
      "outputs": [
        {
          "name": "stdout",
          "output_type": "stream",
          "text": [
            "I am ordinary\n"
          ]
        }
      ],
      "source": [
        "def make_pretty(func):\n",
        "    def inner():\n",
        "        print(\"I got decorated\")\n",
        "        func()\n",
        "    return inner\n",
        "\n",
        "\n",
        "def ordinary():\n",
        "    print(\"I am ordinary\")\n",
        "\n",
        "ordinary()"
      ]
    },
    {
      "cell_type": "code",
      "execution_count": 20,
      "metadata": {
        "colab": {
          "base_uri": "https://localhost:8080/"
        },
        "id": "CvxUF6k1N3gZ",
        "outputId": "7e6c860a-c8bb-4bb5-b1ec-cc9e35c0e539"
      },
      "outputs": [
        {
          "name": "stdout",
          "output_type": "stream",
          "text": [
            "I got decorated\n",
            "I am ordinary\n"
          ]
        }
      ],
      "source": [
        "pretty = make_pretty(ordinary)\n",
        "pretty()"
      ]
    },
    {
      "cell_type": "code",
      "execution_count": 21,
      "metadata": {
        "colab": {
          "base_uri": "https://localhost:8080/"
        },
        "id": "6HDFXrs_N9uU",
        "outputId": "bbc1a9a1-8439-4daa-fe01-328297dfd8d8"
      },
      "outputs": [
        {
          "name": "stdout",
          "output_type": "stream",
          "text": [
            "I got decorated\n",
            "I got decorated\n",
            "I am ordinary\n"
          ]
        }
      ],
      "source": [
        "make_pretty(make_pretty(ordinary))()"
      ]
    },
    {
      "cell_type": "markdown",
      "metadata": {
        "id": "3r07LgTcOnb4"
      },
      "source": [
        "La funció ordinary() es va decorar i la funció retornada va rebre el nom de pretty.\n",
        "\n",
        "Podem veure que la funció de decorador va afegir una nova funcionalitat a la funció original. Això és semblant a empaquetar un regal i el decorador actua com a embolcall (wrapper). La naturalesa de l'objecte que es va decorar (el regal real a l'interior) no canvia. Però ara, sembla bonic (ja que es va decorar).\n",
        "\n",
        "Generalment, decorem una funció i la reassignem com a,\n",
        "\n",
        "```\n",
        "ordinary = make_pretty(ordinary).\n",
        "```\n",
        "\n",
        "Aquesta és una construcció comuna i per aquest motiu, Python té una sintaxi per simplificar-ho.\n",
        "\n",
        "Podem utilitzar el símbol @ juntament amb el nom de la funció de decorador i col·locar-lo per sobre de la definició de la funció a decorar. Per exemple,"
      ]
    },
    {
      "cell_type": "code",
      "execution_count": 22,
      "metadata": {
        "id": "TVF5dk0PONxi"
      },
      "outputs": [],
      "source": [
        "@make_pretty\n",
        "def ordinary():\n",
        "    print(\"I am ordinary\")"
      ]
    },
    {
      "cell_type": "markdown",
      "metadata": {
        "id": "sNxWSQAtPWCw"
      },
      "source": [
        "es equivalent a:"
      ]
    },
    {
      "cell_type": "code",
      "execution_count": 23,
      "metadata": {
        "id": "V-ed6UJNPVKU"
      },
      "outputs": [],
      "source": [
        "def ordinary():\n",
        "    print(\"I am ordinary\")\n",
        "ordinary = make_pretty(ordinary)"
      ]
    },
    {
      "cell_type": "markdown",
      "metadata": {
        "id": "7LngXlSMQHyz"
      },
      "source": [
        "### Funcions de decoració amb paràmetres"
      ]
    },
    {
      "cell_type": "markdown",
      "metadata": {
        "id": "Af3liEvrQbBJ"
      },
      "source": [
        "El decorador anterior era senzill i només funcionava amb funcions que no tenien cap paràmetre. Què passaria si tinguéssim funcions que prenguessin paràmetres com:"
      ]
    },
    {
      "cell_type": "code",
      "execution_count": 24,
      "metadata": {
        "id": "xbjP-0QlQTzF"
      },
      "outputs": [],
      "source": [
        "def divide(a, b):\n",
        "    return a/b"
      ]
    },
    {
      "cell_type": "markdown",
      "metadata": {
        "id": "KVf2UHP6Qery"
      },
      "source": [
        "Aquesta funció té dos paràmetres, `a` i `b`. Sabem que donarà un error si passem a `b` com a `0`."
      ]
    },
    {
      "cell_type": "code",
      "execution_count": 25,
      "metadata": {
        "id": "7zjbzxhtQTwW"
      },
      "outputs": [
        {
          "ename": "ZeroDivisionError",
          "evalue": "division by zero",
          "output_type": "error",
          "traceback": [
            "\u001b[1;31m---------------------------------------------------------------------------\u001b[0m",
            "\u001b[1;31mZeroDivisionError\u001b[0m                         Traceback (most recent call last)",
            "\u001b[1;32mc:\\Users\\esteb\\OneDrive\\Escritorio\\DataScience\\012-ds-cat-inheritance-Estebanisimo\\OOP_2_Inheritance.ipynb Celda 61\u001b[0m line \u001b[0;36m1\n\u001b[1;32m----> <a href='vscode-notebook-cell:/c%3A/Users/esteb/OneDrive/Escritorio/DataScience/012-ds-cat-inheritance-Estebanisimo/OOP_2_Inheritance.ipynb#Y114sZmlsZQ%3D%3D?line=0'>1</a>\u001b[0m divide(\u001b[39m2\u001b[39;49m,\u001b[39m0\u001b[39;49m)\n",
            "\u001b[1;32mc:\\Users\\esteb\\OneDrive\\Escritorio\\DataScience\\012-ds-cat-inheritance-Estebanisimo\\OOP_2_Inheritance.ipynb Celda 61\u001b[0m line \u001b[0;36m2\n\u001b[0;32m      <a href='vscode-notebook-cell:/c%3A/Users/esteb/OneDrive/Escritorio/DataScience/012-ds-cat-inheritance-Estebanisimo/OOP_2_Inheritance.ipynb#Y114sZmlsZQ%3D%3D?line=0'>1</a>\u001b[0m \u001b[39mdef\u001b[39;00m \u001b[39mdivide\u001b[39m(a, b):\n\u001b[1;32m----> <a href='vscode-notebook-cell:/c%3A/Users/esteb/OneDrive/Escritorio/DataScience/012-ds-cat-inheritance-Estebanisimo/OOP_2_Inheritance.ipynb#Y114sZmlsZQ%3D%3D?line=1'>2</a>\u001b[0m     \u001b[39mreturn\u001b[39;00m a\u001b[39m/\u001b[39;49mb\n",
            "\u001b[1;31mZeroDivisionError\u001b[0m: division by zero"
          ]
        }
      ],
      "source": [
        "divide(2,0)"
      ]
    },
    {
      "cell_type": "markdown",
      "metadata": {
        "id": "cZ2ksg72Qul4"
      },
      "source": [
        "Ara fem un decorador per comprovar si aquest cas causarà l'error."
      ]
    },
    {
      "cell_type": "code",
      "execution_count": 26,
      "metadata": {
        "colab": {
          "base_uri": "https://localhost:8080/"
        },
        "id": "d1Jnbzy_QTpt",
        "outputId": "68a57710-7361-4203-a6cf-9479349487f4"
      },
      "outputs": [
        {
          "name": "stdout",
          "output_type": "stream",
          "text": [
            "I am going to divide 2 and 5\n",
            "0.4\n"
          ]
        }
      ],
      "source": [
        "def smart_divide(func):\n",
        "    def inner(a, b):\n",
        "        print(\"I am going to divide\", a, \"and\", b)\n",
        "        if b == 0:\n",
        "            print(\"Whoops! cannot divide\")\n",
        "            return\n",
        "\n",
        "        return func(a, b)\n",
        "    return inner\n",
        "\n",
        "# recordem que aixo es \"syntactic sugar\" per: \n",
        "# divide = smart_divide(divide)\n",
        "@smart_divide\n",
        "def divide(a, b):\n",
        "    print(a/b)\n",
        "\n",
        "divide(2,5)\n",
        "# i aleshores això és --> smart_divide(divide)(a,b)"
      ]
    },
    {
      "cell_type": "code",
      "execution_count": 27,
      "metadata": {
        "colab": {
          "base_uri": "https://localhost:8080/"
        },
        "id": "ww7FoIw3PZHi",
        "outputId": "afc4d584-ec1a-49da-b093-70058d4aff15"
      },
      "outputs": [
        {
          "name": "stdout",
          "output_type": "stream",
          "text": [
            "I am going to divide 2 and 0\n",
            "Whoops! cannot divide\n"
          ]
        }
      ],
      "source": [
        "divide(2,0)"
      ]
    },
    {
      "cell_type": "markdown",
      "metadata": {
        "id": "XZmZ7IieVFRw"
      },
      "source": [
        "D'aquesta manera, podem decorar funcions que prenen paràmetres.\n",
        "\n",
        "Un observador atent notarà que els paràmetres de la funció inner() imbricada dins del decorador són els mateixos que els paràmetres de les funcions que decora. Tenint això en compte, ara podem fer decoradors generals que funcionin amb qualsevol nombre de paràmetres.\n",
        "\n",
        "A Python, aquesta màgia es fa com a `function(*args, **kwargs)`. D'aquesta manera, `args` serà la tupla d'arguments posicionals i `kwargs` serà el diccionari d'arguments de paraula clau. Un exemple d'aquest decorador serà:"
      ]
    },
    {
      "cell_type": "code",
      "execution_count": 28,
      "metadata": {
        "id": "B3QYbUhpQ-XY"
      },
      "outputs": [],
      "source": [
        "def works_for_all(func):\n",
        "    def inner(*args, **kwargs):\n",
        "        print(\"I can decorate any function\")\n",
        "        return func(*args, **kwargs)\n",
        "    return inner"
      ]
    },
    {
      "cell_type": "code",
      "execution_count": 29,
      "metadata": {
        "colab": {
          "base_uri": "https://localhost:8080/"
        },
        "id": "EnGfMXJOVh6T",
        "outputId": "82e17c8a-cc2a-472a-ee0e-2bfa66f0800b"
      },
      "outputs": [
        {
          "name": "stdout",
          "output_type": "stream",
          "text": [
            "I can decorate any function\n",
            "We are inside\n",
            "\tAnd taking parameters"
          ]
        }
      ],
      "source": [
        "my_decorated_print=works_for_all(print)\n",
        "my_decorated_print(\"We are inside\", end= \"\\n\\tAnd taking parameters\")"
      ]
    },
    {
      "cell_type": "code",
      "execution_count": 30,
      "metadata": {
        "colab": {
          "base_uri": "https://localhost:8080/"
        },
        "id": "8hUw8i-4WV1N",
        "outputId": "a3e2c0d5-3337-4f70-ee8b-11f0ddb93650"
      },
      "outputs": [
        {
          "name": "stdout",
          "output_type": "stream",
          "text": [
            "I can decorate any function\n"
          ]
        },
        {
          "data": {
            "text/plain": [
              "101"
            ]
          },
          "execution_count": 30,
          "metadata": {},
          "output_type": "execute_result"
        }
      ],
      "source": [
        "works_for_all(lambda x: x**2 + 1)(10)"
      ]
    },
    {
      "cell_type": "markdown",
      "metadata": {
        "id": "0WTuk12RWJqp"
      },
      "source": [
        "Es poden encadenar diversos decoradors a Python.\n",
        "\n",
        "És a dir, una funció es pot decorar diverses vegades amb decoradors diferents (o iguals). Simplement col·loquem els decoradors per sobre de la funció desitjada."
      ]
    },
    {
      "cell_type": "code",
      "execution_count": 31,
      "metadata": {
        "colab": {
          "base_uri": "https://localhost:8080/"
        },
        "id": "vxVrlG1AVzKu",
        "outputId": "eaf1f90c-f8b7-41f6-a46a-c99cd2df6461"
      },
      "outputs": [
        {
          "name": "stdout",
          "output_type": "stream",
          "text": [
            "******************************\n",
            "%%%%%%%%%%%%%%%%%%%%%%%%%%%%%%\n",
            "Hello\n",
            "%%%%%%%%%%%%%%%%%%%%%%%%%%%%%%\n",
            "******************************\n"
          ]
        }
      ],
      "source": [
        "def star(func):\n",
        "    def inner(*args, **kwargs):\n",
        "        print(\"*\" * 30)\n",
        "        func(*args, **kwargs)\n",
        "        print(\"*\" * 30)\n",
        "    return inner\n",
        "\n",
        "\n",
        "def percent(func):\n",
        "    def inner(*args, **kwargs):\n",
        "        print(\"%\" * 30)\n",
        "        func(*args, **kwargs)\n",
        "        print(\"%\" * 30)\n",
        "    return inner\n",
        "\n",
        "# printer = start(percent(printer))\n",
        "@star\n",
        "@percent\n",
        "def printer(msg):\n",
        "    print(msg)\n",
        "\n",
        "printer(\"Hello\")"
      ]
    },
    {
      "cell_type": "markdown",
      "metadata": {
        "id": "ItVwYDYQZ5oz"
      },
      "source": [
        "## Atributs de Classe\n",
        "\n",
        "Els atributs d'instància són propietat de les instàncies específiques d'una classe. És a dir, per a dues instàncies diferents, els atributs de la instància solen ser diferents.\n",
        "\n",
        "També podem definir atributs a nivell de classe. Els atributs de classe són atributs que són propietat de la mateixa classe. Seran compartides per totes les instàncies de la classe. Per tant, tenen el mateix valor per a cada cas. Definim atributs de classe fora de tots els mètodes, normalment es col·loquen a la part superior, just a sota del header de la classe.\n",
        "\n",
        "Podem veure que l'atribut de classe \"a\" és el mateix per a totes les instàncies, en els nostres exemples \"x\" i \"y\". A més d'això, veiem que podem accedir a un atribut de classe mitjançant una instància o mitjançant el nom de classe:"
      ]
    },
    {
      "cell_type": "code",
      "execution_count": 32,
      "metadata": {
        "colab": {
          "base_uri": "https://localhost:8080/",
          "height": 35
        },
        "id": "L-KpbVBrWOyv",
        "outputId": "78c9c55c-3bc9-47b1-c39c-7d43a850c2f8"
      },
      "outputs": [
        {
          "data": {
            "text/plain": [
              "'I am a class attribute!'"
            ]
          },
          "execution_count": 32,
          "metadata": {},
          "output_type": "execute_result"
        }
      ],
      "source": [
        "class A:\n",
        "    a = \"I am a class attribute!\"\n",
        "x = A()\n",
        "y = A()\n",
        "x.a"
      ]
    },
    {
      "cell_type": "code",
      "execution_count": 33,
      "metadata": {
        "colab": {
          "base_uri": "https://localhost:8080/",
          "height": 35
        },
        "id": "RhaVvpvHar5y",
        "outputId": "39d5ee96-4eb9-4e4c-c05b-137d45dd653c"
      },
      "outputs": [
        {
          "data": {
            "text/plain": [
              "'I am a class attribute!'"
            ]
          },
          "execution_count": 33,
          "metadata": {},
          "output_type": "execute_result"
        }
      ],
      "source": [
        "A.a\n"
      ]
    },
    {
      "cell_type": "code",
      "execution_count": 34,
      "metadata": {
        "colab": {
          "base_uri": "https://localhost:8080/",
          "height": 35
        },
        "id": "xelExWPJawgh",
        "outputId": "a774e93a-9e7e-4cfa-c0e8-f5230a339a72"
      },
      "outputs": [
        {
          "data": {
            "text/plain": [
              "'I am a class attribute!'"
            ]
          },
          "execution_count": 34,
          "metadata": {},
          "output_type": "execute_result"
        }
      ],
      "source": [
        "y.a\n"
      ]
    },
    {
      "cell_type": "markdown",
      "metadata": {
        "id": "x81UFhBNa52s"
      },
      "source": [
        "Però aneu amb compte, si voleu canviar un atribut de classe, heu de fer-ho amb la notació ClassName.AttributeName. En cas contrari, creareu una nova variable d'instància. Ho demostrem en el següent exemple:"
      ]
    },
    {
      "cell_type": "code",
      "execution_count": 35,
      "metadata": {
        "colab": {
          "base_uri": "https://localhost:8080/",
          "height": 35
        },
        "id": "crMt5cbIazHy",
        "outputId": "4addef75-9530-4ba2-b1a0-034a3da06a2e"
      },
      "outputs": [
        {
          "data": {
            "text/plain": [
              "'I am a class attribute!'"
            ]
          },
          "execution_count": 35,
          "metadata": {},
          "output_type": "execute_result"
        }
      ],
      "source": [
        "class A:\n",
        "    a = \"I am a class attribute!\"\n",
        "x = A()\n",
        "y = A()\n",
        "x.a = \"This creates a new instance attribute for x!\"\n",
        "y.a"
      ]
    },
    {
      "cell_type": "code",
      "execution_count": 36,
      "metadata": {
        "colab": {
          "base_uri": "https://localhost:8080/",
          "height": 35
        },
        "id": "N9gy0FuNa_ln",
        "outputId": "0a3a36d8-820c-4ca9-9416-1f54618ac7d6"
      },
      "outputs": [
        {
          "data": {
            "text/plain": [
              "'I am a class attribute!'"
            ]
          },
          "execution_count": 36,
          "metadata": {},
          "output_type": "execute_result"
        }
      ],
      "source": [
        "A.a"
      ]
    },
    {
      "cell_type": "code",
      "execution_count": 37,
      "metadata": {
        "colab": {
          "base_uri": "https://localhost:8080/",
          "height": 35
        },
        "id": "u3HOCvF-bByO",
        "outputId": "21b56918-3287-4e5d-d146-76d7745c6635"
      },
      "outputs": [
        {
          "data": {
            "text/plain": [
              "\"This is changing the class attribute 'a'!\""
            ]
          },
          "execution_count": 37,
          "metadata": {},
          "output_type": "execute_result"
        }
      ],
      "source": [
        "A.a = \"This is changing the class attribute 'a'!\"\n",
        "A.a"
      ]
    },
    {
      "cell_type": "code",
      "execution_count": 38,
      "metadata": {
        "colab": {
          "base_uri": "https://localhost:8080/",
          "height": 35
        },
        "id": "MWaYrmMmbLgI",
        "outputId": "4309b947-c8b6-4af9-cb02-a10ce5f48b16"
      },
      "outputs": [
        {
          "data": {
            "text/plain": [
              "\"This is changing the class attribute 'a'!\""
            ]
          },
          "execution_count": 38,
          "metadata": {},
          "output_type": "execute_result"
        }
      ],
      "source": [
        "y.a"
      ]
    },
    {
      "cell_type": "markdown",
      "metadata": {
        "id": "YN8DqSgMbWfq"
      },
      "source": [
        "Els atributs de classe i els atributs d'objecte de Python s'emmagatzemen en diccionaris separats, com podem veure aquí:\n",
        "\n"
      ]
    },
    {
      "cell_type": "code",
      "execution_count": 39,
      "metadata": {
        "colab": {
          "base_uri": "https://localhost:8080/",
          "height": 70
        },
        "id": "EG22GKO2bpJv",
        "outputId": "70732cef-0b77-44b5-9fd7-4ea8bd7d5d19"
      },
      "outputs": [
        {
          "data": {
            "text/plain": [
              "'__class__  __delattr__  __dict__  __dir__  __doc__  __eq__  __format__  __ge__  __getattribute__  __gt__  __hash__  __init__  __init_subclass__  __le__  __lt__  __module__  __ne__  __new__  __reduce__  __reduce_ex__  __repr__  __setattr__  __sizeof__  __str__  __subclasshook__  __weakref__  a'"
            ]
          },
          "execution_count": 39,
          "metadata": {},
          "output_type": "execute_result"
        }
      ],
      "source": [
        "\"  \".join(dir(x))"
      ]
    },
    {
      "cell_type": "code",
      "execution_count": 40,
      "metadata": {
        "colab": {
          "base_uri": "https://localhost:8080/"
        },
        "id": "tHI6frjVbMCl",
        "outputId": "6519d39b-1ae4-4a3a-f3e5-83951f48300b"
      },
      "outputs": [
        {
          "data": {
            "text/plain": [
              "{'a': 'This creates a new instance attribute for x!'}"
            ]
          },
          "execution_count": 40,
          "metadata": {},
          "output_type": "execute_result"
        }
      ],
      "source": [
        "x.__dict__"
      ]
    },
    {
      "cell_type": "code",
      "execution_count": 41,
      "metadata": {
        "colab": {
          "base_uri": "https://localhost:8080/"
        },
        "id": "ZS6ZIQ_fbbQS",
        "outputId": "14f51fb3-6465-4f76-bfed-c16b3acc8256"
      },
      "outputs": [
        {
          "data": {
            "text/plain": [
              "{}"
            ]
          },
          "execution_count": 41,
          "metadata": {},
          "output_type": "execute_result"
        }
      ],
      "source": [
        "y.__dict__"
      ]
    },
    {
      "cell_type": "code",
      "execution_count": 42,
      "metadata": {
        "colab": {
          "base_uri": "https://localhost:8080/"
        },
        "id": "02uCZcY3bc7X",
        "outputId": "2b6aa66c-58bb-44f1-ad2f-e75ff81d3fe4"
      },
      "outputs": [
        {
          "data": {
            "text/plain": [
              "mappingproxy({'__module__': '__main__',\n",
              "              'a': \"This is changing the class attribute 'a'!\",\n",
              "              '__dict__': <attribute '__dict__' of 'A' objects>,\n",
              "              '__weakref__': <attribute '__weakref__' of 'A' objects>,\n",
              "              '__doc__': None})"
            ]
          },
          "execution_count": 42,
          "metadata": {},
          "output_type": "execute_result"
        }
      ],
      "source": [
        "A.__dict__"
      ]
    },
    {
      "cell_type": "code",
      "execution_count": 43,
      "metadata": {
        "colab": {
          "base_uri": "https://localhost:8080/"
        },
        "id": "fPEiJJlSbfN9",
        "outputId": "21a62c1a-e3ae-455c-da0a-3d871a0e0767"
      },
      "outputs": [
        {
          "data": {
            "text/plain": [
              "mappingproxy({'__module__': '__main__',\n",
              "              'a': \"This is changing the class attribute 'a'!\",\n",
              "              '__dict__': <attribute '__dict__' of 'A' objects>,\n",
              "              '__weakref__': <attribute '__weakref__' of 'A' objects>,\n",
              "              '__doc__': None})"
            ]
          },
          "execution_count": 43,
          "metadata": {},
          "output_type": "execute_result"
        }
      ],
      "source": [
        "x.__class__.__dict__"
      ]
    },
    {
      "cell_type": "markdown",
      "metadata": {
        "id": "2F_BWjCcb5vE"
      },
      "source": [
        "Isaac Asimov va idear i va introduir les anomenades \"Tres lleis de la robòtica\" l'any 1942 a la seva història \"Runaround\". Les seves tres lleis han estat recollides per molts escriptors de ciència ficció. Imagineu que hem començat a fabricar robots en Python i hem d'assegurar-nos que obeeixen les tres lleis d'Asimov. Com que són els mateixos per a cada instància, és a dir, `Robot`, crearem un atribut de classe `Three_Laws`. Aquest atribut és una tupla amb les tres lleis"
      ]
    },
    {
      "cell_type": "code",
      "execution_count": 44,
      "metadata": {
        "id": "ftVrhiYlbgsY"
      },
      "outputs": [],
      "source": [
        "class Robot:\n",
        "    Three_Laws = (\n",
        "\"\"\"A robot may not injure a human being or, through inaction, allow a human being to come to harm.\"\"\",\n",
        "\"\"\"A robot must obey the orders given to it by human beings, except where such orders would conflict with the First Law.,\"\"\",\n",
        "\"\"\"A robot must protect its own existence as long as such protection does not conflict with the First or Second Law.\"\"\"\n",
        ")\n",
        "    def __init__(self, name, build_year):\n",
        "        self.name = name\n",
        "        self.build_year = build_year"
      ]
    },
    {
      "cell_type": "code",
      "execution_count": 45,
      "metadata": {
        "colab": {
          "base_uri": "https://localhost:8080/"
        },
        "id": "C4SoaFtEcli_",
        "outputId": "8d3663ef-7ca8-41b5-ae14-4a5e793c57c9"
      },
      "outputs": [
        {
          "name": "stdout",
          "output_type": "stream",
          "text": [
            "1:\n",
            "A robot may not injure a human being or, through inaction, allow a human being to come to harm.\n",
            "2:\n",
            "A robot must obey the orders given to it by human beings, except where such orders would conflict with the First Law.,\n",
            "3:\n",
            "A robot must protect its own existence as long as such protection does not conflict with the First or Second Law.\n"
          ]
        }
      ],
      "source": [
        "for number, text in enumerate(Robot.Three_Laws):\n",
        "    print(str(number+1) + \":\\n\" + text) "
      ]
    },
    {
      "cell_type": "markdown",
      "metadata": {
        "id": "c_8fnCaIc4bZ"
      },
      "source": [
        "En l'exemple següent, demostrem com podeu comptar instància amb atributs de classe. Tot el que hem de fer és_\n",
        "\n",
        "* crear un atribut de classe, que anomenem \"comptador\" al nostre exemple\n",
        "* augmentar aquest atribut en 1 cada vegada que es crea una instància nova\n",
        "* disminuir l'atribut en 1 cada vegada que es destrueix una instància"
      ]
    },
    {
      "cell_type": "code",
      "execution_count": 46,
      "metadata": {
        "colab": {
          "base_uri": "https://localhost:8080/"
        },
        "id": "gmdagQ15cr14",
        "outputId": "1f98cfd8-e78a-4713-a2cd-47ec8beed6c2"
      },
      "outputs": [
        {
          "name": "stdout",
          "output_type": "stream",
          "text": [
            "Number of instances: 1\n",
            "Number of instances: 2\n",
            "Number of instances: 1\n",
            "Number of instances: 0\n"
          ]
        }
      ],
      "source": [
        "class C: \n",
        "    counter = 0\n",
        "    def __init__(self): \n",
        "        type(self).counter += 1\n",
        "    def __del__(self):\n",
        "        type(self).counter -= 1\n",
        "\n",
        "x = C()\n",
        "print(\"Number of instances: \" + str(C.counter))\n",
        "y = C()\n",
        "print(\"Number of instances: \" + str(C.counter))\n",
        "del x\n",
        "print(\"Number of instances: \" + str(C.counter))\n",
        "del y\n",
        "print(\"Number of instances: \" + str(C.counter))"
      ]
    },
    {
      "cell_type": "markdown",
      "metadata": {
        "id": "hWqyNhjAdQxP"
      },
      "source": [
        "## Static Methods\n",
        "\n",
        "Hem utilitzat atributs de classe com a atributs públics a la secció anterior. Per descomptat, també podem fer \"privats\" els atributs públics. Ho podem fer afegint de nou el guió baix doble. Si ho fem, necessitem la possibilitat d'accedir i canviar aquests atributs de classe privada. Podríem utilitzar mètodes d'instància per a aquest propòsit:"
      ]
    },
    {
      "cell_type": "code",
      "execution_count": 47,
      "metadata": {
        "colab": {
          "base_uri": "https://localhost:8080/"
        },
        "id": "RJ9ge8UidQPJ",
        "outputId": "d20a474e-4a59-42a7-d46a-9d85de112f5d"
      },
      "outputs": [
        {
          "name": "stdout",
          "output_type": "stream",
          "text": [
            "1\n",
            "2\n"
          ]
        }
      ],
      "source": [
        "class Robot:\n",
        "    __counter = 0\n",
        "    def __init__(self):\n",
        "        type(self).__counter += 1\n",
        "    def RobotInstances(self):\n",
        "        return Robot.__counter\n",
        "        \n",
        "x = Robot()\n",
        "print(x.RobotInstances())\n",
        "y = Robot()\n",
        "print(x.RobotInstances())"
      ]
    },
    {
      "cell_type": "markdown",
      "metadata": {
        "id": "KqqWdTxKdqWW"
      },
      "source": [
        "Això no és una bona idea per dos motius: \n",
        "* en primer lloc, perquè el nombre de robots no té res a veure amb una sola instància de robot i, \n",
        "* en segon lloc, perquè no podem consultar el nombre de robots abans de crear una instància. Si intentem invocar el mètode amb el nom de classe Robot.RobotInstances(), obtenim un missatge d'error, perquè necessita una instància com a argument:"
      ]
    },
    {
      "cell_type": "code",
      "execution_count": 48,
      "metadata": {
        "colab": {
          "base_uri": "https://localhost:8080/",
          "height": 166
        },
        "id": "3-QjlV6BdB8L",
        "outputId": "f1828d77-0329-4d49-a1d2-54ffcedc5d9f"
      },
      "outputs": [
        {
          "ename": "TypeError",
          "evalue": "Robot.RobotInstances() missing 1 required positional argument: 'self'",
          "output_type": "error",
          "traceback": [
            "\u001b[1;31m---------------------------------------------------------------------------\u001b[0m",
            "\u001b[1;31mTypeError\u001b[0m                                 Traceback (most recent call last)",
            "\u001b[1;32mc:\\Users\\esteb\\OneDrive\\Escritorio\\DataScience\\012-ds-cat-inheritance-Estebanisimo\\OOP_2_Inheritance.ipynb Celda 94\u001b[0m line \u001b[0;36m1\n\u001b[1;32m----> <a href='vscode-notebook-cell:/c%3A/Users/esteb/OneDrive/Escritorio/DataScience/012-ds-cat-inheritance-Estebanisimo/OOP_2_Inheritance.ipynb#Y162sZmlsZQ%3D%3D?line=0'>1</a>\u001b[0m Robot\u001b[39m.\u001b[39;49mRobotInstances()\n",
            "\u001b[1;31mTypeError\u001b[0m: Robot.RobotInstances() missing 1 required positional argument: 'self'"
          ]
        }
      ],
      "source": [
        "Robot.RobotInstances()\n"
      ]
    },
    {
      "cell_type": "markdown",
      "metadata": {
        "id": "QOfZWM3qeTjG"
      },
      "source": [
        "La següent idea, que encara no resol el nostre problema, sería ometre el paràmetre \"self\":"
      ]
    },
    {
      "cell_type": "code",
      "execution_count": 49,
      "metadata": {
        "id": "q1GoJHB-eRN7"
      },
      "outputs": [],
      "source": [
        "class Robot:\n",
        "    __counter = 0\n",
        "    def __init__(self):\n",
        "        type(self).__counter += 1\n",
        "    def RobotInstances():\n",
        "        return Robot.__counter"
      ]
    },
    {
      "cell_type": "markdown",
      "metadata": {
        "id": "DtuX1WlzeyMx"
      },
      "source": [
        "Ara és possible accedir al mètode mitjançant el nom de la classe, però no podem cridar-lo mitjançant una instància:"
      ]
    },
    {
      "cell_type": "code",
      "execution_count": 50,
      "metadata": {
        "colab": {
          "base_uri": "https://localhost:8080/"
        },
        "id": "MimsCoUOdytK",
        "outputId": "16e4da63-7a41-4a32-fe2a-fdc41fe6fb32"
      },
      "outputs": [
        {
          "data": {
            "text/plain": [
              "0"
            ]
          },
          "execution_count": 50,
          "metadata": {},
          "output_type": "execute_result"
        }
      ],
      "source": [
        "Robot.RobotInstances()"
      ]
    },
    {
      "cell_type": "code",
      "execution_count": 51,
      "metadata": {
        "id": "XSph6rHne3V_"
      },
      "outputs": [
        {
          "ename": "TypeError",
          "evalue": "Robot.RobotInstances() takes 0 positional arguments but 1 was given",
          "output_type": "error",
          "traceback": [
            "\u001b[1;31m---------------------------------------------------------------------------\u001b[0m",
            "\u001b[1;31mTypeError\u001b[0m                                 Traceback (most recent call last)",
            "\u001b[1;32mc:\\Users\\esteb\\OneDrive\\Escritorio\\DataScience\\012-ds-cat-inheritance-Estebanisimo\\OOP_2_Inheritance.ipynb Celda 99\u001b[0m line \u001b[0;36m2\n\u001b[0;32m      <a href='vscode-notebook-cell:/c%3A/Users/esteb/OneDrive/Escritorio/DataScience/012-ds-cat-inheritance-Estebanisimo/OOP_2_Inheritance.ipynb#Y200sZmlsZQ%3D%3D?line=0'>1</a>\u001b[0m x \u001b[39m=\u001b[39m Robot()\n\u001b[1;32m----> <a href='vscode-notebook-cell:/c%3A/Users/esteb/OneDrive/Escritorio/DataScience/012-ds-cat-inheritance-Estebanisimo/OOP_2_Inheritance.ipynb#Y200sZmlsZQ%3D%3D?line=1'>2</a>\u001b[0m x\u001b[39m.\u001b[39;49mRobotInstances()\n",
            "\u001b[1;31mTypeError\u001b[0m: Robot.RobotInstances() takes 0 positional arguments but 1 was given"
          ]
        }
      ],
      "source": [
        "x = Robot()\n",
        "x.RobotInstances()"
      ]
    },
    {
      "cell_type": "markdown",
      "metadata": {
        "id": "dPH4uJope_xh"
      },
      "source": [
        "La crida \"x.RobotInstances()\" es tracta com una trucada de mètode d'instància i un mètode d'instància necessita una referència a la instància com a primer paràmetre.\n",
        "\n",
        "Aleshores, què volem? Volem un mètode, que podem cridar mitjançant el nom de la classe o mitjançant el nom de la instància sense la necessitat de passar-hi una referència a una instància.\n",
        "\n",
        "La solució es troba en mètodes estàtics, que no necessiten una referència a una instància. És fàcil convertir un mètode en un mètode estàtic. Tot el que hem de fer és afegir una línia amb `@staticmethod` directament davant de la capçalera del mètode. És la sintaxi del decorador.\n",
        "\n",
        "Podeu veure a l'exemple següent que ara podem utilitzar el nostre mètode RobotInstances de la manera que volem:"
      ]
    },
    {
      "cell_type": "code",
      "execution_count": 52,
      "metadata": {
        "id": "0wh9vNeFe7jV"
      },
      "outputs": [],
      "source": [
        "class Robot:\n",
        "    __counter = 0\n",
        "    def __init__(self):\n",
        "        type(self).__counter += 1\n",
        "    @staticmethod\n",
        "    def RobotInstances():\n",
        "        return Robot.__counter\n",
        "    "
      ]
    },
    {
      "cell_type": "code",
      "execution_count": 53,
      "metadata": {
        "colab": {
          "base_uri": "https://localhost:8080/"
        },
        "id": "XnZKyyR3fLb5",
        "outputId": "a135eefd-f18b-4990-c994-91d17006cf0e"
      },
      "outputs": [
        {
          "name": "stdout",
          "output_type": "stream",
          "text": [
            "0\n",
            "1\n",
            "2\n",
            "2\n"
          ]
        }
      ],
      "source": [
        "print(Robot.RobotInstances())\n",
        "x = Robot()\n",
        "print(x.RobotInstances())\n",
        "y = Robot()\n",
        "print(x.RobotInstances())\n",
        "print(Robot.RobotInstances())"
      ]
    },
    {
      "cell_type": "markdown",
      "metadata": {
        "id": "4x2DZENNfVjd"
      },
      "source": [
        "## Class Methods\n",
        "\n",
        "Els mètodes estàtics no s'han de confondre amb els mètodes de classe. Igual que els mètodes estàtics, els mètodes de classe no estan lligats a instàncies, però a diferència dels mètodes estàtics, els mètodes de classe estan lligats a una classe. El primer paràmetre d'un mètode de classe és una referència a una classe, és a dir, un objecte de classe. Es poden cridar mitjançant una instància o el nom de classe."
      ]
    },
    {
      "cell_type": "code",
      "execution_count": 54,
      "metadata": {
        "id": "3ObZHB5KfNq1"
      },
      "outputs": [],
      "source": [
        "class Robot:\n",
        "    __counter = 0\n",
        "    def __init__(self):\n",
        "        type(self).__counter += 1\n",
        "    @classmethod\n",
        "    def RobotInstances(cls):\n",
        "        return cls, Robot.__counter\n"
      ]
    },
    {
      "cell_type": "code",
      "execution_count": 55,
      "metadata": {
        "colab": {
          "base_uri": "https://localhost:8080/"
        },
        "id": "aWbu2-0xfhxw",
        "outputId": "5af6f226-8294-43b3-f7ed-1af8003ef5d7"
      },
      "outputs": [
        {
          "name": "stdout",
          "output_type": "stream",
          "text": [
            "(<class '__main__.Robot'>, 0)\n",
            "(<class '__main__.Robot'>, 1)\n",
            "(<class '__main__.Robot'>, 2)\n",
            "(<class '__main__.Robot'>, 2)\n"
          ]
        }
      ],
      "source": [
        "print(Robot.RobotInstances())\n",
        "x = Robot()\n",
        "print(x.RobotInstances())\n",
        "y = Robot()\n",
        "print(x.RobotInstances())\n",
        "print(Robot.RobotInstances())"
      ]
    },
    {
      "cell_type": "markdown",
      "metadata": {
        "id": "THHpHdWbfhis"
      },
      "source": [
        "Els casos d'ús dels mètodes de classe:\n",
        "\n",
        "* S'utilitzen en la definició dels anomenats mètodes de fàbrica, que no tractarem aquí. \n",
        "* S'utilitzen sovint, on tenim mètodes estàtics, que han d'cridar a altres mètodes estàtics. Per fer-ho, hauríem de \"hardcodear\" el nom de la classe, si haguéssim d'utilitzar mètodes estàtics. Aquest és un problema, si ens trobem en un cas d'ús, on hem heretat classes.\n",
        "\n",
        "\n",
        "El programa següent conté una classe de fraccions que encara no està completa. Si treballeu amb fraccions, heu de ser capaços de reduir fraccions, per exemple, la fracció 8/24 es pot reduir a 1/3. Podem reduir una fracció als termes més baixos dividint tant el numerador com el denominador pel màxim comú divisor (MCD).\n",
        "\n",
        "Hem definit una funció mcd estàtica per calcular el màxim comú divisor de dos nombres. el màxim comú divisor (MCD) de dos o més nombres enters (almenys un dels quals no és zero), és el nombre enter positiu més gran que divideix els nombres sense resta. Per exemple, el 'MCD de 8 i 24 és 8. El mètode estàtic \"gcd\"(MCD) és anomenat pel nostre mètode de classe \"reduce\" amb \"cls.gcd(n1, n2)\". \"cls\" és una referència a \"fracció\"."
      ]
    },
    {
      "cell_type": "code",
      "execution_count": 56,
      "metadata": {
        "id": "YsdfAFpmgbQq"
      },
      "outputs": [],
      "source": [
        "class fraction(object):\n",
        "    def __init__(self, n, d):\n",
        "        self.numerator, self.denominator = fraction.reduce(n, d)\n",
        "    @staticmethod\n",
        "    def gcd(a,b):\n",
        "        while b != 0:\n",
        "            a, b = b, a%b\n",
        "        return a\n",
        "    \n",
        "    @classmethod\n",
        "    def reduce(cls, n1, n2):\n",
        "        g = cls.gcd(n1, n2)\n",
        "        return (n1 // g, n2 // g)\n",
        "    def __str__(self):\n",
        "        return str(self.numerator)+'/'+str(self.denominator)"
      ]
    },
    {
      "cell_type": "code",
      "execution_count": 57,
      "metadata": {
        "colab": {
          "base_uri": "https://localhost:8080/"
        },
        "id": "7IDbptEThHYc",
        "outputId": "9ecd8fd2-4cfa-4216-d659-ce0bf2bf4366"
      },
      "outputs": [
        {
          "name": "stdout",
          "output_type": "stream",
          "text": [
            "1/3\n"
          ]
        }
      ],
      "source": [
        "x = fraction(8,24)\n",
        "print(x)"
      ]
    },
    {
      "cell_type": "markdown",
      "metadata": {
        "id": "tm3MzGphjHOy"
      },
      "source": [
        "## Properties"
      ]
    },
    {
      "cell_type": "markdown",
      "metadata": {
        "id": "TfaEkHEIjRQu"
      },
      "source": [
        "Els getters (també coneguts com a 'accessors') i els setters (també coneguts com 'mutadors') s'utilitzen en molts llenguatges de programació orientats a objectes per garantir el principi d'encapsulació de dades. L'encapsulació de dades, també coneguda com a ocultació de dades, és el mecanisme pel qual els detalls d'implementació d'una classe es mantenen ocults per a l'usuari.\n",
        "\n",
        "En primer lloc, demostrem en l'exemple següent, com podem dissenyar una classe d'una manera similara \"JAVA\" amb getters i setters per encapsular l'atribut privat self.__x:"
      ]
    },
    {
      "cell_type": "code",
      "execution_count": 58,
      "metadata": {
        "id": "3qVAXeNGhH5y"
      },
      "outputs": [],
      "source": [
        "class P:\n",
        "    def __init__(self, x):\n",
        "        self.__x = x\n",
        "    def get_x(self):\n",
        "        return self.__x\n",
        "    def set_x(self, x):\n",
        "        self.__x = x"
      ]
    },
    {
      "cell_type": "code",
      "execution_count": 59,
      "metadata": {
        "colab": {
          "base_uri": "https://localhost:8080/"
        },
        "id": "gmXojcP5huuI",
        "outputId": "9b1c6a6d-2024-4ed3-80f4-313e73145774"
      },
      "outputs": [
        {
          "data": {
            "text/plain": [
              "42"
            ]
          },
          "execution_count": 59,
          "metadata": {},
          "output_type": "execute_result"
        }
      ],
      "source": [
        "p1 = P(42)\n",
        "p2 = P(4711)\n",
        "p1.get_x()"
      ]
    },
    {
      "cell_type": "code",
      "execution_count": 60,
      "metadata": {
        "colab": {
          "base_uri": "https://localhost:8080/"
        },
        "id": "mkVETXvokaBG",
        "outputId": "d84919da-2dc0-4745-f7e4-373287e8fc0e"
      },
      "outputs": [
        {
          "data": {
            "text/plain": [
              "4758"
            ]
          },
          "execution_count": 60,
          "metadata": {},
          "output_type": "execute_result"
        }
      ],
      "source": [
        "p1.set_x(47)\n",
        "p1.set_x(p1.get_x()+p2.get_x())\n",
        "p1.get_x()"
      ]
    },
    {
      "cell_type": "markdown",
      "metadata": {
        "id": "w-FKMW3Wkca5"
      },
      "source": [
        "Què en penseu de l'expressió \"`p1.set_x(p1.get_x()+p2.get_x())`\"? És lleig, no? És molt més fàcil escriure una expressió com la següent, si tinguéssim un atribut públic x:\n",
        "\n",
        "`p1.x = p1.x + p2.x`\n",
        "\n",
        "Aquesta tasca és més fàcil d'escriure i sobretot de llegir que l'expressió basada en JAVA.\n",
        "\n",
        "Reescriurem la classe P d'una manera \"Pythònica\". Sense getter, cap setter i en comptes de l'atribut privat self.__x en fem servir un de públic:"
      ]
    },
    {
      "cell_type": "code",
      "execution_count": 61,
      "metadata": {
        "id": "6YqCFRe6kXZZ"
      },
      "outputs": [],
      "source": [
        "class P:\n",
        "  def __init__(self,x):\n",
        "      self.x = x"
      ]
    },
    {
      "cell_type": "markdown",
      "metadata": {
        "id": "djygpR9QlOSo"
      },
      "source": [
        "Però què passa si volem canviar la implementació en el futur? Aquest és un argument seriós. Suposem que volem canviar la implementació de la següent manera: \n",
        "* L'atribut x pot tenir valors entre 0 i 1000. \n",
        "* Si s'assigna un valor superior a 1000, x s'hauria d'establir en 1000. \n",
        "* En conseqüència, x s'hauria de posar a 0, si el valor és inferior a 0.\n",
        "\n",
        "És fàcil canviar la nostra primera classe P per cobrir aquest problema. Canviem el mètode set_x en conseqüència:"
      ]
    },
    {
      "cell_type": "code",
      "execution_count": 62,
      "metadata": {
        "id": "axOFF3Z5kXX4"
      },
      "outputs": [],
      "source": [
        "class P:\n",
        "    def __init__(self, x):\n",
        "        self.set_x(x)\n",
        "    def get_x(self):\n",
        "        return self.__x\n",
        "    def set_x(self, x):\n",
        "        if x < 0:\n",
        "            self.__x = 0\n",
        "        elif x > 1000:\n",
        "            self.__x = 1000\n",
        "        else:\n",
        "            self.__x = x"
      ]
    },
    {
      "cell_type": "code",
      "execution_count": 63,
      "metadata": {
        "colab": {
          "base_uri": "https://localhost:8080/"
        },
        "id": "Uo_MSBbfkXUA",
        "outputId": "12e35f9c-b7fa-498e-9010-e441d55fc17f"
      },
      "outputs": [
        {
          "data": {
            "text/plain": [
              "1000"
            ]
          },
          "execution_count": 63,
          "metadata": {},
          "output_type": "execute_result"
        }
      ],
      "source": [
        "p1 = P(1001)\n",
        "p1.get_x()"
      ]
    },
    {
      "cell_type": "code",
      "execution_count": 64,
      "metadata": {
        "colab": {
          "base_uri": "https://localhost:8080/"
        },
        "id": "LXHwxMCokNBm",
        "outputId": "578553fb-dfeb-48e2-8566-1a5c5d467378"
      },
      "outputs": [
        {
          "data": {
            "text/plain": [
              "15"
            ]
          },
          "execution_count": 64,
          "metadata": {},
          "output_type": "execute_result"
        }
      ],
      "source": [
        "p2 = P(15)\n",
        "p2.get_x()"
      ]
    },
    {
      "cell_type": "markdown",
      "metadata": {
        "id": "jVAGqaPSlqhv"
      },
      "source": [
        "Però hi ha un problema: suposem que hem dissenyat la nostra classe amb l'atribut públic i sense mètodes:\n"
      ]
    },
    {
      "cell_type": "code",
      "execution_count": 65,
      "metadata": {
        "id": "q8E5U_Wplmyv"
      },
      "outputs": [],
      "source": [
        "class P2:\n",
        "    def __init__(self, x):\n",
        "        self.x = x"
      ]
    },
    {
      "cell_type": "markdown",
      "metadata": {
        "id": "0QBtrsGGlv1X"
      },
      "source": [
        "La gent ja l'ha fet servir molt i han escrit codi com aquest:\n",
        "\n",
        "```\n",
        "p1 = P2(42)\n",
        "p1.x = 1001\n",
        "p1.x\n",
        "```"
      ]
    },
    {
      "cell_type": "markdown",
      "metadata": {
        "id": "CtUTAlq4l5Kj"
      },
      "source": [
        "Si ara canviéssim P2 a la manera de la classe P, la nostra nova classe trencaria la interfície, perquè l'atribut `x` ja no estarà disponible. És per això que a Java, per exemple, es recomana a les persones que utilitzin només atributs privats amb getters i setters, de manera que puguin canviar la implementació sense haver de canviar la interfície.\n",
        "\n",
        "Però Python ofereix una solució a aquest problema. La solució s'anomena propietats!\n",
        "\n",
        "La classe amb una propietat té aquest aspecte:"
      ]
    },
    {
      "cell_type": "code",
      "execution_count": 66,
      "metadata": {
        "id": "F4XJW-9jluEm"
      },
      "outputs": [],
      "source": [
        "class P:\n",
        "    def __init__(self, x):\n",
        "        self.x = x\n",
        "    @property\n",
        "    def x(self):\n",
        "        return self.__x\n",
        "    @x.setter\n",
        "    def x(self, x):\n",
        "        if x < 0:\n",
        "            self.__x = 0\n",
        "        elif x > 1000:\n",
        "            self.__x = 1000\n",
        "        else:\n",
        "            self.__x = x"
      ]
    },
    {
      "cell_type": "markdown",
      "metadata": {
        "id": "f5f4RVp8mkvb"
      },
      "source": [
        "Un mètode que s'utilitza per obtenir un valor està decorat amb `@property`, és a dir, posem aquesta línia directament davant de la capçalera. \n",
        "\n",
        "El mètode que ha de funcionar com a configurador està decorat amb `@x.setter`. Si la funció s'hagués anomenat `f`, l'hauríem de decorar amb `@f.setter`.\n",
        "\n",
        "Cal destacar dues coses: només posem la línia de codi `self.x = x` al mètode `__init__` i el mètode de propietat `x` s'utilitza per comprovar els límits dels valors. \n",
        "\n",
        "La segona cosa interessant és que vam escriure \"dos\" mètodes amb el mateix nom i un nombre diferent de paràmetres `def x(self)` i `def x(self,x)`. Hem après en abans que això no és possible. Funciona aquí a causa de la decoració:"
      ]
    },
    {
      "cell_type": "code",
      "execution_count": 67,
      "metadata": {
        "colab": {
          "base_uri": "https://localhost:8080/"
        },
        "id": "9OPlSKXVmg_G",
        "outputId": "d7b5149a-8a84-467d-a84e-dbdd0bdd89a5"
      },
      "outputs": [
        {
          "data": {
            "text/plain": [
              "1000"
            ]
          },
          "execution_count": 67,
          "metadata": {},
          "output_type": "execute_result"
        }
      ],
      "source": [
        "p1 = P(1001)\n",
        "p1.x"
      ]
    },
    {
      "cell_type": "code",
      "execution_count": 68,
      "metadata": {
        "colab": {
          "base_uri": "https://localhost:8080/"
        },
        "id": "0fT3JBGPnaw_",
        "outputId": "b5d938e7-5e4c-4fa6-9048-ed25b26ae69e"
      },
      "outputs": [
        {
          "data": {
            "text/plain": [
              "0"
            ]
          },
          "execution_count": 68,
          "metadata": {},
          "output_type": "execute_result"
        }
      ],
      "source": [
        "p1.x = -12\n",
        "p1.x"
      ]
    },
    {
      "cell_type": "markdown",
      "metadata": {
        "id": "xyB46vPdnf5b"
      },
      "source": [
        "Alternativament, podríem haver utilitzat una sintaxi diferent sense decoradors per definir la propietat. Com podeu veure, el codi és definitivament menys elegant i ens hem d'assegurar que tornem a utilitzar la funció getter al mètode `__init__`:"
      ]
    },
    {
      "cell_type": "code",
      "execution_count": 69,
      "metadata": {
        "id": "Od2ZL7uMncN8"
      },
      "outputs": [],
      "source": [
        "class P:\n",
        "    def __init__(self, x):\n",
        "        self.set_x(x)\n",
        "    def get_x(self):\n",
        "        return self.__x\n",
        "    def set_x(self, x):\n",
        "        if x < 0:\n",
        "            self.__x = 0\n",
        "        elif x > 1000:\n",
        "            self.__x = 1000\n",
        "        else:\n",
        "            self.__x = x\n",
        "    \n",
        "    x = property(get_x, set_x)"
      ]
    },
    {
      "cell_type": "markdown",
      "metadata": {
        "id": "MZ7WagHWoM-a"
      },
      "source": [
        "Encara hi ha un altre problema en la versió més recent. Ara tenim dues maneres d'accedir o canviar el valor de x: ja sigui utilitzant `p1.x = 42` o bé amb `p1.set_x(42)`. D'aquesta manera estem violant un dels fonaments de Python: \"Hi hauria d'haver una, i preferiblement només una, manera òbvia de fer-ho\". (Zen de Python)\n",
        "\n",
        "Podem solucionar aquest problema fàcilment convertint els mètodes getter i setter en mètodes privats, als quals ja no poden accedir els usuaris de la nostra classe P:"
      ]
    },
    {
      "cell_type": "code",
      "execution_count": 70,
      "metadata": {
        "id": "RhzmDZdooWYR"
      },
      "outputs": [],
      "source": [
        "class P:\n",
        "    def __init__(self, x):\n",
        "        self.__set_x(x)\n",
        "    def __get_x(self):\n",
        "        return self.__x\n",
        "    def __set_x(self, x):\n",
        "        if x < 0:\n",
        "            self.__x = 0\n",
        "        elif x > 1000:\n",
        "            self.__x = 1000\n",
        "        else:\n",
        "            self.__x = x\n",
        "    x = property(__get_x, __set_x)"
      ]
    },
    {
      "cell_type": "markdown",
      "metadata": {
        "id": "H3-LaLGvoain"
      },
      "source": [
        "Tot i que hem solucionat aquest problema utilitzant un getter i un setter privats, la versió amb el decorador `@property` és la manera Pythònica de fer-ho!\n",
        "\n",
        "Pel que hem escrit fins ara, i pel que també es pot veure en altres llibres i tutorials, podríem tenir fàcilment la impressió que hi ha una connexió un a un entre les propietats (o mètodes mutadors) i els atributs, és a dir, que cada atribut té o hauria de tenir la seva pròpia propietat (o getter-setter-pair) i al revés. Fins i tot en altres llenguatges orientats a objectes que no siguin Python, normalment no és una bona idea implementar una classe com aquesta. La raó principal és que molts atributs només són necessaris internament i la creació d'interfícies per a l'usuari de la classe augmenta innecessàriament la usabilitat de la classe. El possible usuari d'una classe no s'ha de \"ofegar\" amb molts mètodes o propietats, principalment innecessaris!\n",
        "\n",
        "L'exemple següent mostra una classe, que té atributs interns, als quals no es pot accedir des de l'exterior. Aquests són els atributs privats `self.__potential_physical` i `self.__potential_psychic`. A més mostrem que una propietat es pot deduir dels valors de més d'un atribut. \n",
        "\n",
        "La propietat \"condition\" del nostre exemple retorna la condició del robot en una cadena descriptiva. La condició depèn de la suma dels valors del psíquic i de les condicions físiques del robot."
      ]
    },
    {
      "cell_type": "code",
      "execution_count": 71,
      "metadata": {
        "id": "scSIwqJsoX0S"
      },
      "outputs": [],
      "source": [
        "class Robot:\n",
        "    def __init__(self, name, build_year, lk = 0.5, lp = 0.5 ):\n",
        "        self.name = name\n",
        "        self.build_year = build_year\n",
        "        self.__potential_physical = lk\n",
        "        self.__potential_psychic = lp\n",
        "    @property\n",
        "    def condition(self):\n",
        "        s = self.__potential_physical + self.__potential_psychic\n",
        "        if s <= -1:\n",
        "           return \"I feel miserable!\"\n",
        "        elif s <= 0:\n",
        "           return \"I feel bad!\"\n",
        "        elif s <= 0.5:\n",
        "           return \"Could be worse!\"\n",
        "        elif s <= 1:\n",
        "           return \"Seems to be okay!\"\n",
        "        else:\n",
        "           return \"Great!\" \n",
        "    "
      ]
    },
    {
      "cell_type": "code",
      "execution_count": 72,
      "metadata": {
        "colab": {
          "base_uri": "https://localhost:8080/"
        },
        "id": "P13wq5G1pFxs",
        "outputId": "df61b79d-1aff-46ae-f967-859f15329c51"
      },
      "outputs": [
        {
          "name": "stdout",
          "output_type": "stream",
          "text": [
            "Seems to be okay!\n",
            "I feel bad!\n"
          ]
        }
      ],
      "source": [
        "x = Robot(\"Marvin\", 1979, 0.2, 0.4 )\n",
        "y = Robot(\"Caliban\", 1993, -0.4, 0.3)\n",
        "print(x.condition)\n",
        "print(y.condition)"
      ]
    },
    {
      "cell_type": "markdown",
      "metadata": {
        "id": "p_WqHt_wptRr"
      },
      "source": [
        "###  Exemple\n",
        "\n",
        "Suposem que hem definit \"OurAtt\" com un atribut públic. La nostra classe ha estat utilitzada amb èxit per altres usuaris durant força temps."
      ]
    },
    {
      "cell_type": "code",
      "execution_count": 73,
      "metadata": {
        "colab": {
          "base_uri": "https://localhost:8080/"
        },
        "id": "D8-JOJvfpJo5",
        "outputId": "6ba84714-9a45-478a-93c1-2e271d4253f8"
      },
      "outputs": [
        {
          "name": "stdout",
          "output_type": "stream",
          "text": [
            "10\n"
          ]
        }
      ],
      "source": [
        "class OurClass:\n",
        "    def __init__(self, a):\n",
        "        self.OurAtt = a\n",
        "x = OurClass(10)\n",
        "print(x.OurAtt)"
      ]
    },
    {
      "cell_type": "markdown",
      "metadata": {
        "id": "2Bq2Gdmgp0xR"
      },
      "source": [
        "Ara ve el punt que atemoritza alguns OOPistes tradicionals: imagineu que `OurAtt` s'ha utilitzat com un nombre enter. Ara, la nostra classe s'ha d'assegurar que `OurAtt` ha de ser un valor entre 0 i 1000? Sense propietat, aquest és realment un escenari horrible! A causa de les propietats, és fàcil: creem una versió de propietat de `OurAtt`."
      ]
    },
    {
      "cell_type": "code",
      "execution_count": 74,
      "metadata": {
        "colab": {
          "base_uri": "https://localhost:8080/"
        },
        "id": "m8BIe9Z6p0J_",
        "outputId": "3271c91d-28ca-4767-e8e9-f1845f6c0771"
      },
      "outputs": [
        {
          "name": "stdout",
          "output_type": "stream",
          "text": [
            "10\n"
          ]
        }
      ],
      "source": [
        "class OurClass:\n",
        "    def __init__(self, a):\n",
        "        self.OurAtt = a\n",
        "    \n",
        "    @property\n",
        "    def OurAtt(self):\n",
        "        return self.__OurAtt\n",
        "    @OurAtt.setter\n",
        "    def OurAtt(self, val):\n",
        "        if val < 0:\n",
        "            self.__OurAtt = 0\n",
        "        elif val > 1000:\n",
        "            self.__OurAtt = 1000\n",
        "        else:\n",
        "            self.__OurAtt = val\n",
        "x = OurClass(10)\n",
        "print(x.OurAtt)"
      ]
    },
    {
      "cell_type": "markdown",
      "metadata": {
        "id": "wVQREMtRqFRm"
      },
      "source": [
        "Això és genial, no? Podeu començar amb la implementació més senzilla imaginable i podeu migrar més tard a una versió de propietat sense haver de canviar la interfície. Per tant, les propietats no són només un reemplaçament dels getters i setters!\n",
        "\n",
        "Una altra cosa que potser ja heu notat: per als usuaris d'una classe, les propietats són sintàcticament idèntiques als atributs normals."
      ]
    }
  ],
  "metadata": {
    "colab": {
      "collapsed_sections": [],
      "name": "OOP_2_Inheritance.ipynb",
      "provenance": []
    },
    "kernelspec": {
      "display_name": "Python 3 (ipykernel)",
      "language": "python",
      "name": "python3"
    },
    "language_info": {
      "codemirror_mode": {
        "name": "ipython",
        "version": 3
      },
      "file_extension": ".py",
      "mimetype": "text/x-python",
      "name": "python",
      "nbconvert_exporter": "python",
      "pygments_lexer": "ipython3",
      "version": "3.10.0"
    },
    "nbTranslate": {
      "displayLangs": [
        "ca",
        "en"
      ],
      "hotkey": "alt-t",
      "langInMainMenu": true,
      "sourceLang": "en",
      "targetLang": "ca",
      "useGoogleTranslate": true
    }
  },
  "nbformat": 4,
  "nbformat_minor": 0
}
