{
 "cells": [
  {
   "cell_type": "markdown",
   "metadata": {},
   "source": [
    "# Bucles"
   ]
  },
  {
   "cell_type": "markdown",
   "metadata": {},
   "source": [
    "#### only_adults\n",
    "Escriu una funció \"nomes_adults\" que\n",
    "pren com a entrada una llista de números i\n",
    "només retorna els números >= 18"
   ]
  },
  {
   "cell_type": "code",
   "execution_count": 4,
   "metadata": {},
   "outputs": [
    {
     "data": {
      "text/plain": [
       "[18, 21, 49, 60, 81]"
      ]
     },
     "execution_count": 4,
     "metadata": {},
     "output_type": "execute_result"
    }
   ],
   "source": [
    "edats = [12, 16, 18, 21, 49, 60, 81]\n",
    "\n",
    "def nomes_adults(edats):\n",
    "\n",
    "    return list(filter(lambda edat: (edat >=18), edats))\n",
    "\n",
    "nomes_adults(edats)"
   ]
  },
  {
   "cell_type": "markdown",
   "metadata": {},
   "source": [
    "----"
   ]
  },
  {
   "cell_type": "markdown",
   "metadata": {},
   "source": [
    "#### agafa_nomes_adults\n",
    "Escriu una funció \"agafa_nomes_adults\" que\n",
    "té com a entrada una llista de números i\n",
    "només retorna els números >= 18\n",
    "i elimina qualsevol valor de None de la llista"
   ]
  },
  {
   "cell_type": "code",
   "execution_count": 33,
   "metadata": {},
   "outputs": [
    {
     "name": "stdout",
     "output_type": "stream",
     "text": [
      "[18, 21, 39, 60, 81, 99]\n"
     ]
    }
   ],
   "source": [
    "edades = [13, 16, 18, 21, None, 39, 60, None, 81, 99]\n",
    "\n",
    "def agafa_nomes_adults(edats):\n",
    "    adults = list(filter(lambda adult: adult is not None and adult >= 18, edats))\n",
    "    return adults\n",
    "\n",
    "print(agafa_nomes_adults(edades))\n"
   ]
  },
  {
   "cell_type": "markdown",
   "metadata": {},
   "source": [
    "----"
   ]
  },
  {
   "cell_type": "markdown",
   "metadata": {},
   "source": [
    "#### son_tots_adults\n",
    "Escriu una funció \"son_tots_adults\" que\n",
    "té com a entrada una llista de números\n",
    "i retorna True si tots són >= 18,\n",
    "i retorna False en cas contrari\n",
    "\n",
    "És un map, un filter o un reduce?"
   ]
  },
  {
   "cell_type": "code",
   "execution_count": 31,
   "metadata": {},
   "outputs": [
    {
     "data": {
      "text/plain": [
       "False"
      ]
     },
     "execution_count": 31,
     "metadata": {},
     "output_type": "execute_result"
    }
   ],
   "source": [
    "def son_tots_adults(ages):\n",
    "    for age in ages:\n",
    "        if age < 18:\n",
    "            return False\n",
    "    else:\n",
    "        return True\n",
    "\n",
    "\n",
    "son_tots_adults(edats)\n",
    "    "
   ]
  },
  {
   "cell_type": "markdown",
   "metadata": {},
   "source": [
    "----"
   ]
  },
  {
   "cell_type": "markdown",
   "metadata": {},
   "source": [
    "#### comptar_nones\n",
    "Escriu una funció \"comptar_nones\" que\n",
    "té com a entrada una llista de qualsevol tipus d'element\n",
    "i retorna un recompte de quants d'aquests\n",
    "els elements són de tipus None.\n",
    "\n",
    "És un map, un filter o un reduce?"
   ]
  },
  {
   "cell_type": "code",
   "execution_count": 40,
   "metadata": {},
   "outputs": [
    {
     "data": {
      "text/plain": [
       "2"
      ]
     },
     "execution_count": 40,
     "metadata": {},
     "output_type": "execute_result"
    }
   ],
   "source": [
    "def comptar_nones(lista):\n",
    "    num_nones = 0\n",
    "    for number in lista:\n",
    "        if number is None:\n",
    "            num_nones +=1\n",
    "    return num_nones\n",
    "\n",
    "comptar_nones(edades)\n",
    "\n"
   ]
  },
  {
   "cell_type": "markdown",
   "metadata": {},
   "source": [
    "----"
   ]
  },
  {
   "cell_type": "markdown",
   "metadata": {},
   "source": [
    "#### paraula_mes_llarga\n",
    "Escriu una funció \"paraula_mes_llarga\" que\n",
    "té com a entrada una llista de strings\n",
    "i retorna el string més llarg del fitxer\n",
    "llista.\n",
    "Consell: haureu d'utilitzar dos \"acumuladors\""
   ]
  },
  {
   "cell_type": "code",
   "execution_count": 42,
   "metadata": {},
   "outputs": [
    {
     "data": {
      "text/plain": [
       "'supercalifragilisticoespialidoso'"
      ]
     },
     "execution_count": 42,
     "metadata": {},
     "output_type": "execute_result"
    }
   ],
   "source": [
    "words = ['hola', 'adios', 'hasta luego', 'hasta mañana', \"supercalifragilisticoespialidoso\",\"en\"]\n",
    "\n",
    "def palabra_mas_larga(palabras):\n",
    "    current_longest_word = \"\"\n",
    "    for palabra in palabras:\n",
    "        if len(palabra) > len(current_longest_word):\n",
    "            current_longest_word = palabra\n",
    "    return current_longest_word\n",
    "\n",
    "palabra_mas_larga(words)"
   ]
  },
  {
   "cell_type": "markdown",
   "metadata": {},
   "source": [
    "#### factorial\n",
    "Escriu una funció \"factorial\"\n",
    "\n",
    "Agafa un nombre i retorna el\n",
    "factorial d'aquest nombre.\n",
    "\n",
    "El factorial de n és el producte de tot\n",
    "nombres enters positius menors o iguals a n\n",
    "\n",
    "CONSELL: utilitzeu rang()\n",
    "https://docs.python.org/3/library/stdtypes.html#typesseq-range\n",
    "\n",
    "range(n) produeix un iterable de longitud n:\n",
    "[0,1,2,...,n-1]"
   ]
  },
  {
   "cell_type": "code",
   "execution_count": 49,
   "metadata": {},
   "outputs": [
    {
     "data": {
      "text/plain": [
       "120"
      ]
     },
     "execution_count": 49,
     "metadata": {},
     "output_type": "execute_result"
    }
   ],
   "source": [
    "def factorial( n ):\n",
    "    result = 1\n",
    "    for i in range(1, n+1):\n",
    "        result *= i\n",
    "    return result\n",
    "\n",
    "factorial(5)"
   ]
  },
  {
   "cell_type": "markdown",
   "metadata": {},
   "source": [
    "#### n_nombre_mes_alt\n",
    "Escriu una funció \"n_nombre_mes_alt\"\n",
    "amb dos paràmetres:\n",
    "1. una llista de nombres\n",
    "2. un integer\n",
    "\n",
    "\"n_nombre_mes_alt\" hauria de retornar l'enèsim\n",
    "nombre més alt de la llista, on n és el\n",
    "segon paràmetre de la funció.\n",
    "\n",
    "Suposem\n",
    "que els números seran únics (sense duplicats).\n",
    "Suposem també que n <= el nombre d'elements\n",
    "a la llista.\n",
    "\n",
    "NOTA: Utilitzeu només les operacions i funcions\n",
    "hem après fins ara! Sense trampes!\n",
    "\n",
    "CONSELL: es pot reutilitzar alguna cosa de l'anterior\n",
    "exercici? Això pot funcionar o no, segons\n",
    "com l'has implementat.\n",
    "\n",
    "CONSELL CONSELL: utilitzeu la funció \"rang\"!"
   ]
  },
  {
   "cell_type": "code",
   "execution_count": 53,
   "metadata": {},
   "outputs": [
    {
     "data": {
      "text/plain": [
       "45"
      ]
     },
     "execution_count": 53,
     "metadata": {},
     "output_type": "execute_result"
    }
   ],
   "source": [
    "numeros = [1, 2, 45, 12, 21, 41, 81]\n",
    "\n",
    "def n_numero_mas_alto(lista, n):\n",
    "    for numero in lista:\n",
    "        if numero > n:\n",
    "            return numero\n",
    "    \n",
    "\n",
    "n_numero_mas_alto(numeros, 5)"
   ]
  }
 ],
 "metadata": {
  "kernelspec": {
   "display_name": "Python 3",
   "language": "python",
   "name": "python3"
  },
  "language_info": {
   "codemirror_mode": {
    "name": "ipython",
    "version": 3
   },
   "file_extension": ".py",
   "mimetype": "text/x-python",
   "name": "python",
   "nbconvert_exporter": "python",
   "pygments_lexer": "ipython3",
   "version": "3.10.0"
  },
  "vscode": {
   "interpreter": {
    "hash": "b02646c2acf2880c24eece31917d6bae663a5484fc466adbcfd30a4b011917d2"
   }
  }
 },
 "nbformat": 4,
 "nbformat_minor": 4
}
